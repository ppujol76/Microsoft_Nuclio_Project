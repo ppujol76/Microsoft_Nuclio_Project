{
  "nbformat": 4,
  "nbformat_minor": 0,
  "metadata": {
    "colab": {
      "provenance": [],
      "mount_file_id": "1kZSCs6AWZmWTEvoq2Ue6OqOINpfdzouv",
      "authorship_tag": "ABX9TyOrk03ZuefxjzoWRrI9tjv6",
      "include_colab_link": true
    },
    "kernelspec": {
      "name": "python3",
      "display_name": "Python 3"
    },
    "language_info": {
      "name": "python"
    }
  },
  "cells": [
    {
      "cell_type": "markdown",
      "metadata": {
        "id": "view-in-github",
        "colab_type": "text"
      },
      "source": [
        "<a href=\"https://colab.research.google.com/github/ppujol76/Microsoft_Nuclio_Project/blob/main/Ejercicio_Microsoft_Malware_Prediction.ipynb\" target=\"_parent\"><img src=\"https://colab.research.google.com/assets/colab-badge.svg\" alt=\"Open In Colab\"/></a>"
      ]
    },
    {
      "cell_type": "markdown",
      "source": [
        "SOBRE EL CANVAS:\n",
        "- No sé molt bé com li hem d'enviar.... a dins del Notebook? Amb una hora que hi dediquem en tenim prou.\n",
        "\n",
        "DUBTES, TEMES PENDENTS:\n",
        "\n",
        "- PEr on vaig: volia carregar-me variables tenint en compte la seva variancia....\n",
        "- A la part de Limpieza de atributos, temim algunes variables categoriques, amb bastantes categoríes, de les cuals, només unes poques tenen suficients registres.... amb les demés, es agruparíem en una categoría OTROS.\n",
        "\n",
        "- En els primers punts ens demana que detectem aquelles variables que són categóriques de les que no, per fer análisis per separat. Y també ens fa separar per categóriques per veure'n la distribució. El que passa, és que hi ha variables que ha agafact con a numériques que haurien de ser categóriques, i aleshores no estem fent els anàlisis correctament.\n",
        "\n",
        "- Quan faig anàlisi de les variables que per exemple tenen dispersió 0, és a dir, tenen el mateix valor en totes les files?\n",
        "\n",
        "- la var RtpStateBitfield té números, uns pocs. Tenen sentit d'ordre per mantenir-la com a numérica? Jo crec que no. A més, n'hi ha molt pocs exemples d'alguns valors. Jo l'eliminaria....\n",
        "\n",
        "- És un problema quan tenim categóriques amb un munt de valors únics (p.e. 5.000?) Pel Decision tree no és un problema.\n",
        "\n",
        "- Las variables OSBuilt y OSSuite, que son categóricas pero se hab cogido como númericas, dan información de cuan antiguo es el OS. ¿Más nuevo significa más protegido? Debería de haber sufrido mejoras.... Hay también algunas\n",
        "\n",
        "- La var PuaMode agafa només un valor. La eliminarem.\n",
        "- La var \"Unnamed: 0\" té tots els seus valors diferents. La podem eliminar.\n",
        "\n",
        "- Com es faria la identificació de dades erroenees? FEnt histogrtames i countplots?\n",
        "\n",
        "- A qué es refereix en el punt 2.1.10 de la checklist \"correlacion de variables con la clase (unidimensional)\" ? En el punt anterior ja hi ha la correlacion de variables con el TARGET....\n",
        "\n",
        "- Podéis seguir explorando las variables de manera univariante o multivariante cogiendo ejemplo de los muchos NoteBooks disponibles en Kaggle, como por ejemplo este NoteBook de Titanic: https://www.kaggle.com/ash316/eda-to-prediction-dietanic. Exemples de analisis:\n",
        " - Fa uns gràfics semblants als que jo havia fet, en un grafic de barrer, posem la probabilitat del target per a cada valor de la variable categòrica que estiguem analitzant.\n",
        "\n",
        " - **he d'acabar de mirar-m'ho**\n",
        "- Hem detectat algunes variables que poden ser importants pel model:\n",
        "Census_PrimaryDiskTotalCapacity, Census_PrimaryDiskTotalCapacity i AVProductsInstalled\n",
        "\n",
        "\n",
        "# Consells del Nico:\n",
        "- Métrica: AUC.\n",
        "- Buscar un prunto de partida con pocas vaiabrles, sólo las numéricas quizás o las que en un primer examen veo que són interesantes. Será nuestro benchmarc.\n",
        "\n",
        "# Consells del profe:\n",
        "- En la limpieza de nulos, tira para alante con todas las numéricas por un lado y las categóricas por otro. Luego se puede ir variable. Pero el análisis mejor antes de meter los nulos.... creo yo, aunque el profe ha dit algo una mica diferent.. deia que si tractem abans els nuls, no posem una valors massa extrems en les numériques perque no ens variin\n",
        "- Sistematizar el tratamiento de nulos. Lo haríamos después de los análisis para que no nos haga cosas rars con las ditribuciones.\n",
        "- Los analisis mejor hacerlos con los Nulos... quizás si tenemos muchos ya les ponemos una etiqueta a parte. Si tenemos poquitos podemos hacer primer el análisis y luego\n",
        "- Si tenemos una columna con muchos Nans, del orden del 95%, mejor no cargarnoslas, y podemos crear dos etiquetasa, \"informado\" y \"no informado\"\n",
        "- potser en el cas dde les versions, tenim algunes variables que tenen versions més genériques, (ex 1, 2, 3) i altres variables amb subversions d'aquests versions (1.2.2, 1.2.3, 2.1.1, 3.1.3). En aquest cas seria com el el exercici de Google amb la info  geogràfica...\n",
        "\n",
        "- VErsiones en string: hay a veces información sobre versiones \"windos10\", \"Windows8\", que llevan informació nde orden implicita. Deberíamos cambiarlas a  numéricas.\n",
        "- En Microsoft, nos podemos mirar más si correlacionan unas con otras, y si se se correlacionan, pues las podemos eliminar para no generar tantisimas columnas en este dataset.\n",
        "\n",
        "- Esmpre temnir en comtpa aljora de fer els analisis, el % del target de la problació total.\n",
        "- Variable categórica con pocas etiquetas: Una etiqueta amb menys de 1000 observacions, és poc fiable!!\n",
        "- Como automatizar el hecho de poner valores/quitar nulos.\n",
        "- Com saber ràpidament quines variables analitzarem mésprofundament? No podem fer-ho amb totes! Jo vaig fer unes gràfiques dels % de has detections, però la volumetria no la pillava.... lo millor un pivot_table.\n",
        "- El profe va començar per una variable que la va trobar més senzilleta, i va veure qu\n",
        "- En el decision tree, no cal analitzar molt el fet de carregarnos variables, perquè no li afecta molt.\n",
        "- Evitar escollir el dataset de validacion aleatoriament.\n",
        "- Si tenim moltes variables a la base de dades, podríem divir-les segons variables que coneixem i les que no, perquè en aquesta base de dades hi hqa varies variables que és difícil saber què són.\n",
        "\n",
        "# IMPORTANT!!!  Al notebook de Google hi ha codi i explicacions per a poder automatitzar aquest estudi.\n",
        "\n",
        "# IMPORTANT: m'he de fer millor un Excel amb la informació que vaig agafant de cada variable.\n",
        "\n",
        "# TAmbé interessant que ha dit el profor:\n",
        "- Tot dependrà del temps que tinguem, alhora de netejar i transformar les vars.\n",
        " - Per exemple, si tenim variables amb moltíssims nuls, la podríem eliminar directament. I si després tenim temps, doncs ja les analitzaríem.\n",
        " - Això pot passar també amb categòriques, que té una variable amb una categoria amb moltes observacions i les altres molt poquetes... en aquest cas, si no ens treuen temps (no s'ha de netejar per exemples, no té nuls, etc.), com que el decision tree no pateix psi to moltes variables, la podem deixar. Això passa perquè el decision tree fa els talls tenint en compte si separa bé els grups i també quantes mostres queden a cada grup. Si en un grup queden poquetes mostres, pel decision tree aquella variable no la tindrà en compte. **crec**\n",
        "\n",
        "El profe ens donarà un mínim d'observacions quque ha de tneir una varibale.\n",
        "\n",
        "- Si tenim um 0,5% de valors d'una variable de amb Nuls, li pots posar qualsevol valor que no t'afectarà, no posaràs molt soroll.\n",
        "\n",
        "- Alhora de concer una categòrica a numérica, hi ha variables que poden tenir un ordre implicit, com la versió del sistema operatiu, per exemples Windows10 - Windows 7, ...\n",
        "\n",
        "- Dividir el dataset en bool, num i categ, i així poder sistematitzar analisis.\n",
        "\n",
        "- Si es numérica, per saber si és rellevant o no, hem de mirar si hi ha correlació amb el target. Si en el grup de tgarget== 0 la edat és molt alta i en canvi el target==1 la mitjana és baixa, és important.\n",
        "\n",
        "- Si la correlacion entro dos vars és mayor que un treshold nos la cargamos.\n",
        " - Això és fàcil de veure en numèriques\n",
        "\n",
        "- Cas categòriques:\n",
        " - Aquí mirem per cada etiqueta el % de target. Si hi ha diferències, doncs és important.\n",
        "\n",
        " - La correlació en categòriques es veuria amb una cross_tab. És una técnica més rudimentària i complicada o tediosa. Com que en un decision tree no li afecten les correlacions, ho podem deixar de banda.\n",
        "\n",
        "- Categoricas vs Numericas\n",
        " - Les numeriques han de tenir un ordre, sinó, categóriques.\n",
        "  - Si dubtem, la posem categórica."
      ],
      "metadata": {
        "id": "3Akcyuu0TWdt"
      }
    },
    {
      "cell_type": "code",
      "source": [
        "def setOthers(dataframe, column, num_values):\n",
        "    top_categories = dataframe[column].value_counts().head(num_values)\n",
        "    top_categories_list = top_categories.index.to_list()\n",
        "    top_categories_list.append('Others')\n",
        "    dataframe[column] = pd.Categorical(dataframe[column], categories=top_categories_list)\n",
        "    return dataframe[column].fillna('Others')\n",
        "\n",
        "def setOthersPataNegra(dataframe, column, target_column, num_rows_min, top_n):\n",
        "    results_by_category = explore_cat_values(dataframe, column, target_column)\n",
        "    last_categories = results_by_category[results_by_category[(\"len\",\"HasDetections\")] > num_rows_min].sort_values(by=(\"mean\",\"HasDetections\")).head(top_n).index.to_list()\n",
        "    first_categories = results_by_category[results_by_category[(\"len\",\"HasDetections\")] > num_rows_min].sort_values(by=(\"mean\",\"HasDetections\")).tail(top_n).index.to_list()\n",
        "    top_categories_list = list(set(first_categories + last_categories))\n",
        "    top_categories_list.append('Others')\n",
        "    dataframe[column] = pd.Categorical(dataframe[column], categories=top_categories_list)\n",
        "    return dataframe[column].fillna('Others')\n",
        "\n",
        "def explore_cat_values(dataframe, column, target_column):\n",
        "  _results_df = dataframe.pivot_table(index=column, values=target_column, aggfunc=[len, sum, np.mean]).sort_values(by=[('mean',target_column)], ascending = False)\n",
        "  _results_df[\"pct_rows\"] = _results_df[('len', target_column)]/len(dataframe)\n",
        "  _results_df = _results_df[[('len', target_column), ('pct_rows',''), ('sum', target_column), ('mean', target_column)]]\n",
        "  #_results_df['pct_rows'] = _results_df[('sum']\n",
        "  #print(df.pivot_table(index=column, values=target_column, aggfunc=[len, sum, np.mean]).sort_values(by=[('mean',target_column)], ascending = False), \"\\n\")\n",
        "  return _results_df\n",
        "\n",
        "def plot_cat_values_GOOGLE(dataframe, column, target_column):\n",
        "    plt.figure(figsize=(15,8))\n",
        "    #en una única grafica de 2x1 en el primer slot\n",
        "    ax1 = plt.subplot(2,1,1)\n",
        "    ## Graficamos el conteo de cada uno de los valores\n",
        "    ax1 = sns.countplot(\n",
        "        dataframe[column],\n",
        "        order = list(dataframe[column].unique())\n",
        "    )\n",
        "    ax2 = plt.subplot(2,1,2) # share ax1 para que me pinte el axis en el mismo orden\n",
        "    ## Graficamos la distribución del target sólo para aquellos casos con target > 0 (para que no se chafe el BP)\n",
        "    ax2 = sns.boxenplot(\n",
        "        data = dataframe[dataframe[target_column] > 0],\n",
        "        x = column,\n",
        "        y = target_column,\n",
        "        order = list(dataframe[column].unique())\n",
        "    )\n",
        "    plt.show()\n",
        "\n",
        "\n",
        "def generate_dummies(dataframe, column_name):\n",
        "    _dummy_dataset = pd.get_dummies(dataframe[column_name], prefix=column_name)\n",
        "    dataframe = pd.concat([dataframe, _dummy_dataset], axis=1)\n",
        "    return dataframe.drop(column_name, axis=1)"
      ],
      "metadata": {
        "id": "GOp7roSoIjin"
      },
      "execution_count": null,
      "outputs": []
    },
    {
      "cell_type": "markdown",
      "source": [
        "# Microsoft Malware Prediction\n"
      ],
      "metadata": {
        "id": "LDWY9P53-nkn"
      }
    },
    {
      "cell_type": "markdown",
      "source": [
        "Nuestro objetivo es crear un modelo que nos estime la probabilidad de que una máquina con Sistema Operativo Windows se vea infectada por algún tipo de malware. Para ello contamos con un dataset en formato tabla (información sobre el dataset se puede encontrar en [Kaggle](https://www.kaggle.com/c/microsoft-malware-prediction)  ), donde cada fila corresponde a una màquina única y para cada una tenemos su identificcador así como información de varias característiscas de la máquina. Tambén disponenos de una columna Target, que indica si la máquina se ha infectado o no.\n",
        "\n"
      ],
      "metadata": {
        "id": "GTtVuHoOC08x"
      }
    },
    {
      "cell_type": "code",
      "source": [
        "## Imports\n",
        "\n",
        "import pandas as pd\n",
        "import numpy as np\n",
        "\n",
        "# import libraries for plotting\n",
        "import matplotlib.pyplot as plt\n",
        "import seaborn as sns\n",
        "\n",
        "# Configuramos varias cosas\n",
        "%matplotlib inline\n",
        "plt.style.use('ggplot')\n",
        "pd.set_option('display.max_rows', 500)\n",
        "pd.options.display.float_format = '{:,.2f}'.format\n",
        "\n",
        "# Cargamos la libreria que contiene las funciones de preprocesamiento de scikit Learn.\n",
        "from sklearn import preprocessing"
      ],
      "metadata": {
        "id": "acc15JL3Jeao"
      },
      "execution_count": null,
      "outputs": []
    },
    {
      "cell_type": "markdown",
      "source": [
        "# Importación de datos"
      ],
      "metadata": {
        "id": "ElUWXfH_OvHd"
      }
    },
    {
      "cell_type": "markdown",
      "source": [
        "Cargamos el fichero que contiene nuestro dataset. Lo tenemos guardado en una carpeta de Google Drive"
      ],
      "metadata": {
        "id": "HCSkkQ4zKAZI"
      }
    },
    {
      "cell_type": "code",
      "source": [
        "#from google.colab import drive\n",
        "#drive.mount('/content/drive')"
      ],
      "metadata": {
        "id": "C22BSszSDO04"
      },
      "execution_count": null,
      "outputs": []
    },
    {
      "cell_type": "code",
      "source": [
        "ruta_archivo = \"/content/drive/MyDrive/Formació/MASTER NUCLIO/Aprendizaje Supervisado/Ejercicio Obligatorio - Microsoft/sample_mmp.csv\""
      ],
      "metadata": {
        "id": "ffLv897SI1nw"
      },
      "execution_count": null,
      "outputs": []
    },
    {
      "cell_type": "code",
      "source": [
        "df = pd.read_csv(ruta_archivo)"
      ],
      "metadata": {
        "colab": {
          "base_uri": "https://localhost:8080/"
        },
        "id": "mjCXrFCRJWPz",
        "outputId": "2a8f335c-1c38-4f77-b731-68f169d414a6"
      },
      "execution_count": null,
      "outputs": [
        {
          "output_type": "stream",
          "name": "stderr",
          "text": [
            "/usr/local/lib/python3.7/dist-packages/IPython/core/interactiveshell.py:2718: DtypeWarning: Columns (29,42) have mixed types.Specify dtype option on import or set low_memory=False.\n",
            "  interactivity=interactivity, compiler=compiler, result=result)\n"
          ]
        }
      ]
    },
    {
      "cell_type": "markdown",
      "source": [
        "### Comprobamos que se ha cargado bien, visualizando las primeras lineas de la base de datos"
      ],
      "metadata": {
        "id": "R2f3JPRxE8M3"
      }
    },
    {
      "cell_type": "code",
      "source": [
        "df.head().T"
      ],
      "metadata": {
        "colab": {
          "base_uri": "https://localhost:8080/",
          "height": 1000
        },
        "id": "nJPcCBIC8D-C",
        "outputId": "7d398c4b-f5b9-4d7f-a0ee-037f9b14466d"
      },
      "execution_count": null,
      "outputs": [
        {
          "output_type": "execute_result",
          "data": {
            "text/html": [
              "\n",
              "  <div id=\"df-bce3d180-4def-40e0-abb4-0af00d6132ae\">\n",
              "    <div class=\"colab-df-container\">\n",
              "      <div>\n",
              "<style scoped>\n",
              "    .dataframe tbody tr th:only-of-type {\n",
              "        vertical-align: middle;\n",
              "    }\n",
              "\n",
              "    .dataframe tbody tr th {\n",
              "        vertical-align: top;\n",
              "    }\n",
              "\n",
              "    .dataframe thead th {\n",
              "        text-align: right;\n",
              "    }\n",
              "</style>\n",
              "<table border=\"1\" class=\"dataframe\">\n",
              "  <thead>\n",
              "    <tr style=\"text-align: right;\">\n",
              "      <th></th>\n",
              "      <th>0</th>\n",
              "      <th>1</th>\n",
              "      <th>2</th>\n",
              "      <th>3</th>\n",
              "      <th>4</th>\n",
              "    </tr>\n",
              "  </thead>\n",
              "  <tbody>\n",
              "    <tr>\n",
              "      <th>Unnamed: 0</th>\n",
              "      <td>8427007</td>\n",
              "      <td>8829090</td>\n",
              "      <td>2731904</td>\n",
              "      <td>1359513</td>\n",
              "      <td>236059</td>\n",
              "    </tr>\n",
              "    <tr>\n",
              "      <th>MachineIdentifier</th>\n",
              "      <td>f1cd864e97bae82bdf96523e1a539121</td>\n",
              "      <td>fd5ba6f5b75325ec0423a6c67cc75942</td>\n",
              "      <td>4e628391e7cc7c482fb3286f486dbd25</td>\n",
              "      <td>270a2e9d028144a4df12a9e3da79fba5</td>\n",
              "      <td>06ca8fa8d32c2abdc5b3577d676b3269</td>\n",
              "    </tr>\n",
              "    <tr>\n",
              "      <th>ProductName</th>\n",
              "      <td>win8defender</td>\n",
              "      <td>win8defender</td>\n",
              "      <td>win8defender</td>\n",
              "      <td>win8defender</td>\n",
              "      <td>win8defender</td>\n",
              "    </tr>\n",
              "    <tr>\n",
              "      <th>EngineVersion</th>\n",
              "      <td>1.1.15100.1</td>\n",
              "      <td>1.1.15100.1</td>\n",
              "      <td>1.1.15100.1</td>\n",
              "      <td>1.1.15200.1</td>\n",
              "      <td>1.1.15200.1</td>\n",
              "    </tr>\n",
              "    <tr>\n",
              "      <th>AppVersion</th>\n",
              "      <td>4.18.1807.18075</td>\n",
              "      <td>4.18.1807.18075</td>\n",
              "      <td>4.9.10586.1106</td>\n",
              "      <td>4.18.1807.18075</td>\n",
              "      <td>4.18.1807.18075</td>\n",
              "    </tr>\n",
              "    <tr>\n",
              "      <th>AvSigVersion</th>\n",
              "      <td>1.273.1234.0</td>\n",
              "      <td>1.273.1282.0</td>\n",
              "      <td>1.273.781.0</td>\n",
              "      <td>1.275.1639.0</td>\n",
              "      <td>1.275.511.0</td>\n",
              "    </tr>\n",
              "    <tr>\n",
              "      <th>IsBeta</th>\n",
              "      <td>0</td>\n",
              "      <td>0</td>\n",
              "      <td>0</td>\n",
              "      <td>0</td>\n",
              "      <td>0</td>\n",
              "    </tr>\n",
              "    <tr>\n",
              "      <th>RtpStateBitfield</th>\n",
              "      <td>7.00</td>\n",
              "      <td>7.00</td>\n",
              "      <td>7.00</td>\n",
              "      <td>7.00</td>\n",
              "      <td>7.00</td>\n",
              "    </tr>\n",
              "    <tr>\n",
              "      <th>IsSxsPassiveMode</th>\n",
              "      <td>0</td>\n",
              "      <td>0</td>\n",
              "      <td>0</td>\n",
              "      <td>0</td>\n",
              "      <td>0</td>\n",
              "    </tr>\n",
              "    <tr>\n",
              "      <th>DefaultBrowsersIdentifier</th>\n",
              "      <td>NaN</td>\n",
              "      <td>NaN</td>\n",
              "      <td>NaN</td>\n",
              "      <td>NaN</td>\n",
              "      <td>NaN</td>\n",
              "    </tr>\n",
              "    <tr>\n",
              "      <th>AVProductStatesIdentifier</th>\n",
              "      <td>53,447.00</td>\n",
              "      <td>53,447.00</td>\n",
              "      <td>46,781.00</td>\n",
              "      <td>53,447.00</td>\n",
              "      <td>47,238.00</td>\n",
              "    </tr>\n",
              "    <tr>\n",
              "      <th>AVProductsInstalled</th>\n",
              "      <td>1.00</td>\n",
              "      <td>1.00</td>\n",
              "      <td>2.00</td>\n",
              "      <td>1.00</td>\n",
              "      <td>2.00</td>\n",
              "    </tr>\n",
              "    <tr>\n",
              "      <th>AVProductsEnabled</th>\n",
              "      <td>1.00</td>\n",
              "      <td>1.00</td>\n",
              "      <td>1.00</td>\n",
              "      <td>1.00</td>\n",
              "      <td>1.00</td>\n",
              "    </tr>\n",
              "    <tr>\n",
              "      <th>HasTpm</th>\n",
              "      <td>1</td>\n",
              "      <td>1</td>\n",
              "      <td>1</td>\n",
              "      <td>1</td>\n",
              "      <td>1</td>\n",
              "    </tr>\n",
              "    <tr>\n",
              "      <th>CountryIdentifier</th>\n",
              "      <td>8</td>\n",
              "      <td>129</td>\n",
              "      <td>149</td>\n",
              "      <td>164</td>\n",
              "      <td>207</td>\n",
              "    </tr>\n",
              "    <tr>\n",
              "      <th>CityIdentifier</th>\n",
              "      <td>85,219.00</td>\n",
              "      <td>54,198.00</td>\n",
              "      <td>122,689.00</td>\n",
              "      <td>114,587.00</td>\n",
              "      <td>72,421.00</td>\n",
              "    </tr>\n",
              "    <tr>\n",
              "      <th>OrganizationIdentifier</th>\n",
              "      <td>NaN</td>\n",
              "      <td>NaN</td>\n",
              "      <td>27.00</td>\n",
              "      <td>27.00</td>\n",
              "      <td>27.00</td>\n",
              "    </tr>\n",
              "    <tr>\n",
              "      <th>GeoNameIdentifier</th>\n",
              "      <td>205.00</td>\n",
              "      <td>126.00</td>\n",
              "      <td>181.00</td>\n",
              "      <td>205.00</td>\n",
              "      <td>277.00</td>\n",
              "    </tr>\n",
              "    <tr>\n",
              "      <th>LocaleEnglishNameIdentifier</th>\n",
              "      <td>172</td>\n",
              "      <td>124</td>\n",
              "      <td>56</td>\n",
              "      <td>172</td>\n",
              "      <td>75</td>\n",
              "    </tr>\n",
              "    <tr>\n",
              "      <th>Platform</th>\n",
              "      <td>windows10</td>\n",
              "      <td>windows10</td>\n",
              "      <td>windows10</td>\n",
              "      <td>windows10</td>\n",
              "      <td>windows10</td>\n",
              "    </tr>\n",
              "    <tr>\n",
              "      <th>Processor</th>\n",
              "      <td>x64</td>\n",
              "      <td>x64</td>\n",
              "      <td>x64</td>\n",
              "      <td>x64</td>\n",
              "      <td>x64</td>\n",
              "    </tr>\n",
              "    <tr>\n",
              "      <th>OsVer</th>\n",
              "      <td>10.0.0.0</td>\n",
              "      <td>10.0.0.0</td>\n",
              "      <td>10.0.0.0</td>\n",
              "      <td>10.0.0.0</td>\n",
              "      <td>10.0.0.0</td>\n",
              "    </tr>\n",
              "    <tr>\n",
              "      <th>OsBuild</th>\n",
              "      <td>17134</td>\n",
              "      <td>17134</td>\n",
              "      <td>10586</td>\n",
              "      <td>17134</td>\n",
              "      <td>17134</td>\n",
              "    </tr>\n",
              "    <tr>\n",
              "      <th>OsSuite</th>\n",
              "      <td>256</td>\n",
              "      <td>256</td>\n",
              "      <td>768</td>\n",
              "      <td>768</td>\n",
              "      <td>256</td>\n",
              "    </tr>\n",
              "    <tr>\n",
              "      <th>OsPlatformSubRelease</th>\n",
              "      <td>rs4</td>\n",
              "      <td>rs4</td>\n",
              "      <td>th2</td>\n",
              "      <td>rs4</td>\n",
              "      <td>rs4</td>\n",
              "    </tr>\n",
              "    <tr>\n",
              "      <th>OsBuildLab</th>\n",
              "      <td>17134.1.amd64fre.rs4_release.180410-1804</td>\n",
              "      <td>17134.1.amd64fre.rs4_release.180410-1804</td>\n",
              "      <td>10586.1176.amd64fre.th2_release_sec.170913-1848</td>\n",
              "      <td>17134.1.amd64fre.rs4_release.180410-1804</td>\n",
              "      <td>17134.1.amd64fre.rs4_release.180410-1804</td>\n",
              "    </tr>\n",
              "    <tr>\n",
              "      <th>SkuEdition</th>\n",
              "      <td>Pro</td>\n",
              "      <td>Pro</td>\n",
              "      <td>Home</td>\n",
              "      <td>Home</td>\n",
              "      <td>Pro</td>\n",
              "    </tr>\n",
              "    <tr>\n",
              "      <th>IsProtected</th>\n",
              "      <td>1.00</td>\n",
              "      <td>1.00</td>\n",
              "      <td>1.00</td>\n",
              "      <td>1.00</td>\n",
              "      <td>1.00</td>\n",
              "    </tr>\n",
              "    <tr>\n",
              "      <th>AutoSampleOptIn</th>\n",
              "      <td>0</td>\n",
              "      <td>0</td>\n",
              "      <td>0</td>\n",
              "      <td>0</td>\n",
              "      <td>0</td>\n",
              "    </tr>\n",
              "    <tr>\n",
              "      <th>PuaMode</th>\n",
              "      <td>NaN</td>\n",
              "      <td>NaN</td>\n",
              "      <td>NaN</td>\n",
              "      <td>NaN</td>\n",
              "      <td>NaN</td>\n",
              "    </tr>\n",
              "    <tr>\n",
              "      <th>SMode</th>\n",
              "      <td>0.00</td>\n",
              "      <td>0.00</td>\n",
              "      <td>0.00</td>\n",
              "      <td>0.00</td>\n",
              "      <td>0.00</td>\n",
              "    </tr>\n",
              "    <tr>\n",
              "      <th>IeVerIdentifier</th>\n",
              "      <td>137.00</td>\n",
              "      <td>137.00</td>\n",
              "      <td>74.00</td>\n",
              "      <td>137.00</td>\n",
              "      <td>137.00</td>\n",
              "    </tr>\n",
              "    <tr>\n",
              "      <th>SmartScreen</th>\n",
              "      <td>RequireAdmin</td>\n",
              "      <td>RequireAdmin</td>\n",
              "      <td>RequireAdmin</td>\n",
              "      <td>NaN</td>\n",
              "      <td>RequireAdmin</td>\n",
              "    </tr>\n",
              "    <tr>\n",
              "      <th>Firewall</th>\n",
              "      <td>1.00</td>\n",
              "      <td>1.00</td>\n",
              "      <td>1.00</td>\n",
              "      <td>1.00</td>\n",
              "      <td>1.00</td>\n",
              "    </tr>\n",
              "    <tr>\n",
              "      <th>UacLuaenable</th>\n",
              "      <td>1.00</td>\n",
              "      <td>1.00</td>\n",
              "      <td>1.00</td>\n",
              "      <td>1.00</td>\n",
              "      <td>1.00</td>\n",
              "    </tr>\n",
              "    <tr>\n",
              "      <th>Census_MDC2FormFactor</th>\n",
              "      <td>Desktop</td>\n",
              "      <td>Notebook</td>\n",
              "      <td>Convertible</td>\n",
              "      <td>Notebook</td>\n",
              "      <td>Notebook</td>\n",
              "    </tr>\n",
              "    <tr>\n",
              "      <th>Census_DeviceFamily</th>\n",
              "      <td>Windows.Desktop</td>\n",
              "      <td>Windows.Desktop</td>\n",
              "      <td>Windows.Desktop</td>\n",
              "      <td>Windows.Desktop</td>\n",
              "      <td>Windows.Desktop</td>\n",
              "    </tr>\n",
              "    <tr>\n",
              "      <th>Census_OEMNameIdentifier</th>\n",
              "      <td>1,443.00</td>\n",
              "      <td>2,102.00</td>\n",
              "      <td>2,206.00</td>\n",
              "      <td>525.00</td>\n",
              "      <td>1,443.00</td>\n",
              "    </tr>\n",
              "    <tr>\n",
              "      <th>Census_OEMModelIdentifier</th>\n",
              "      <td>275,891.00</td>\n",
              "      <td>248,850.00</td>\n",
              "      <td>238,234.00</td>\n",
              "      <td>265,410.00</td>\n",
              "      <td>256,478.00</td>\n",
              "    </tr>\n",
              "    <tr>\n",
              "      <th>Census_ProcessorCoreCount</th>\n",
              "      <td>4.00</td>\n",
              "      <td>4.00</td>\n",
              "      <td>4.00</td>\n",
              "      <td>8.00</td>\n",
              "      <td>4.00</td>\n",
              "    </tr>\n",
              "    <tr>\n",
              "      <th>Census_ProcessorManufacturerIdentifier</th>\n",
              "      <td>5.00</td>\n",
              "      <td>5.00</td>\n",
              "      <td>5.00</td>\n",
              "      <td>5.00</td>\n",
              "      <td>1.00</td>\n",
              "    </tr>\n",
              "    <tr>\n",
              "      <th>Census_ProcessorModelIdentifier</th>\n",
              "      <td>2,273.00</td>\n",
              "      <td>2,660.00</td>\n",
              "      <td>2,998.00</td>\n",
              "      <td>2,880.00</td>\n",
              "      <td>198.00</td>\n",
              "    </tr>\n",
              "    <tr>\n",
              "      <th>Census_ProcessorClass</th>\n",
              "      <td>NaN</td>\n",
              "      <td>NaN</td>\n",
              "      <td>NaN</td>\n",
              "      <td>NaN</td>\n",
              "      <td>NaN</td>\n",
              "    </tr>\n",
              "    <tr>\n",
              "      <th>Census_PrimaryDiskTotalCapacity</th>\n",
              "      <td>953,869.00</td>\n",
              "      <td>476,940.00</td>\n",
              "      <td>244,198.00</td>\n",
              "      <td>228,936.00</td>\n",
              "      <td>476,940.00</td>\n",
              "    </tr>\n",
              "    <tr>\n",
              "      <th>Census_PrimaryDiskTypeName</th>\n",
              "      <td>HDD</td>\n",
              "      <td>HDD</td>\n",
              "      <td>SSD</td>\n",
              "      <td>SSD</td>\n",
              "      <td>HDD</td>\n",
              "    </tr>\n",
              "    <tr>\n",
              "      <th>Census_SystemVolumeTotalCapacity</th>\n",
              "      <td>952,838.00</td>\n",
              "      <td>457,600.00</td>\n",
              "      <td>221,251.00</td>\n",
              "      <td>228,321.00</td>\n",
              "      <td>464,374.00</td>\n",
              "    </tr>\n",
              "    <tr>\n",
              "      <th>Census_HasOpticalDiskDrive</th>\n",
              "      <td>0</td>\n",
              "      <td>0</td>\n",
              "      <td>0</td>\n",
              "      <td>0</td>\n",
              "      <td>0</td>\n",
              "    </tr>\n",
              "    <tr>\n",
              "      <th>Census_TotalPhysicalRAM</th>\n",
              "      <td>8,192.00</td>\n",
              "      <td>8,192.00</td>\n",
              "      <td>8,192.00</td>\n",
              "      <td>8,192.00</td>\n",
              "      <td>4,096.00</td>\n",
              "    </tr>\n",
              "    <tr>\n",
              "      <th>Census_ChassisTypeName</th>\n",
              "      <td>AllinOne</td>\n",
              "      <td>Notebook</td>\n",
              "      <td>Notebook</td>\n",
              "      <td>Notebook</td>\n",
              "      <td>Portable</td>\n",
              "    </tr>\n",
              "    <tr>\n",
              "      <th>Census_InternalPrimaryDiagonalDisplaySizeInInches</th>\n",
              "      <td>23.00</td>\n",
              "      <td>13.20</td>\n",
              "      <td>15.50</td>\n",
              "      <td>15.50</td>\n",
              "      <td>15.50</td>\n",
              "    </tr>\n",
              "    <tr>\n",
              "      <th>Census_InternalPrimaryDisplayResolutionHorizontal</th>\n",
              "      <td>1,920.00</td>\n",
              "      <td>1,280.00</td>\n",
              "      <td>1,920.00</td>\n",
              "      <td>1,920.00</td>\n",
              "      <td>1,366.00</td>\n",
              "    </tr>\n",
              "    <tr>\n",
              "      <th>Census_InternalPrimaryDisplayResolutionVertical</th>\n",
              "      <td>1,080.00</td>\n",
              "      <td>720.00</td>\n",
              "      <td>1,080.00</td>\n",
              "      <td>1,080.00</td>\n",
              "      <td>768.00</td>\n",
              "    </tr>\n",
              "    <tr>\n",
              "      <th>Census_PowerPlatformRoleName</th>\n",
              "      <td>Desktop</td>\n",
              "      <td>Mobile</td>\n",
              "      <td>Mobile</td>\n",
              "      <td>Mobile</td>\n",
              "      <td>Mobile</td>\n",
              "    </tr>\n",
              "    <tr>\n",
              "      <th>Census_InternalBatteryType</th>\n",
              "      <td>NaN</td>\n",
              "      <td>lion</td>\n",
              "      <td>lion</td>\n",
              "      <td>NaN</td>\n",
              "      <td>NaN</td>\n",
              "    </tr>\n",
              "    <tr>\n",
              "      <th>Census_InternalBatteryNumberOfCharges</th>\n",
              "      <td>4,294,967,295.00</td>\n",
              "      <td>0.00</td>\n",
              "      <td>0.00</td>\n",
              "      <td>577.00</td>\n",
              "      <td>0.00</td>\n",
              "    </tr>\n",
              "    <tr>\n",
              "      <th>Census_OSVersion</th>\n",
              "      <td>10.0.17134.165</td>\n",
              "      <td>10.0.17134.165</td>\n",
              "      <td>10.0.10586.1176</td>\n",
              "      <td>10.0.17134.286</td>\n",
              "      <td>10.0.17134.228</td>\n",
              "    </tr>\n",
              "    <tr>\n",
              "      <th>Census_OSArchitecture</th>\n",
              "      <td>amd64</td>\n",
              "      <td>amd64</td>\n",
              "      <td>amd64</td>\n",
              "      <td>amd64</td>\n",
              "      <td>amd64</td>\n",
              "    </tr>\n",
              "    <tr>\n",
              "      <th>Census_OSBranch</th>\n",
              "      <td>rs4_release</td>\n",
              "      <td>rs4_release</td>\n",
              "      <td>th2_release_sec</td>\n",
              "      <td>rs4_release</td>\n",
              "      <td>rs4_release</td>\n",
              "    </tr>\n",
              "    <tr>\n",
              "      <th>Census_OSBuildNumber</th>\n",
              "      <td>17134</td>\n",
              "      <td>17134</td>\n",
              "      <td>10586</td>\n",
              "      <td>17134</td>\n",
              "      <td>17134</td>\n",
              "    </tr>\n",
              "    <tr>\n",
              "      <th>Census_OSBuildRevision</th>\n",
              "      <td>165</td>\n",
              "      <td>165</td>\n",
              "      <td>1176</td>\n",
              "      <td>286</td>\n",
              "      <td>228</td>\n",
              "    </tr>\n",
              "    <tr>\n",
              "      <th>Census_OSEdition</th>\n",
              "      <td>Professional</td>\n",
              "      <td>Professional</td>\n",
              "      <td>Core</td>\n",
              "      <td>Core</td>\n",
              "      <td>Professional</td>\n",
              "    </tr>\n",
              "    <tr>\n",
              "      <th>Census_OSSkuName</th>\n",
              "      <td>PROFESSIONAL</td>\n",
              "      <td>PROFESSIONAL</td>\n",
              "      <td>CORE</td>\n",
              "      <td>CORE</td>\n",
              "      <td>PROFESSIONAL</td>\n",
              "    </tr>\n",
              "    <tr>\n",
              "      <th>Census_OSInstallTypeName</th>\n",
              "      <td>UUPUpgrade</td>\n",
              "      <td>UUPUpgrade</td>\n",
              "      <td>Update</td>\n",
              "      <td>IBSClean</td>\n",
              "      <td>Update</td>\n",
              "    </tr>\n",
              "    <tr>\n",
              "      <th>Census_OSInstallLanguageIdentifier</th>\n",
              "      <td>27.00</td>\n",
              "      <td>18.00</td>\n",
              "      <td>24.00</td>\n",
              "      <td>27.00</td>\n",
              "      <td>8.00</td>\n",
              "    </tr>\n",
              "    <tr>\n",
              "      <th>Census_OSUILocaleIdentifier</th>\n",
              "      <td>120</td>\n",
              "      <td>72</td>\n",
              "      <td>109</td>\n",
              "      <td>120</td>\n",
              "      <td>31</td>\n",
              "    </tr>\n",
              "    <tr>\n",
              "      <th>Census_OSWUAutoUpdateOptionsName</th>\n",
              "      <td>FullAuto</td>\n",
              "      <td>FullAuto</td>\n",
              "      <td>Notify</td>\n",
              "      <td>FullAuto</td>\n",
              "      <td>FullAuto</td>\n",
              "    </tr>\n",
              "    <tr>\n",
              "      <th>Census_IsPortableOperatingSystem</th>\n",
              "      <td>0</td>\n",
              "      <td>0</td>\n",
              "      <td>0</td>\n",
              "      <td>0</td>\n",
              "      <td>0</td>\n",
              "    </tr>\n",
              "    <tr>\n",
              "      <th>Census_GenuineStateName</th>\n",
              "      <td>IS_GENUINE</td>\n",
              "      <td>IS_GENUINE</td>\n",
              "      <td>IS_GENUINE</td>\n",
              "      <td>IS_GENUINE</td>\n",
              "      <td>IS_GENUINE</td>\n",
              "    </tr>\n",
              "    <tr>\n",
              "      <th>Census_ActivationChannel</th>\n",
              "      <td>OEM:DM</td>\n",
              "      <td>OEM:DM</td>\n",
              "      <td>Retail</td>\n",
              "      <td>Retail</td>\n",
              "      <td>OEM:DM</td>\n",
              "    </tr>\n",
              "    <tr>\n",
              "      <th>Census_IsFlightingInternal</th>\n",
              "      <td>NaN</td>\n",
              "      <td>NaN</td>\n",
              "      <td>NaN</td>\n",
              "      <td>NaN</td>\n",
              "      <td>NaN</td>\n",
              "    </tr>\n",
              "    <tr>\n",
              "      <th>Census_IsFlightsDisabled</th>\n",
              "      <td>0.00</td>\n",
              "      <td>0.00</td>\n",
              "      <td>0.00</td>\n",
              "      <td>0.00</td>\n",
              "      <td>0.00</td>\n",
              "    </tr>\n",
              "    <tr>\n",
              "      <th>Census_FlightRing</th>\n",
              "      <td>Retail</td>\n",
              "      <td>Retail</td>\n",
              "      <td>Retail</td>\n",
              "      <td>Retail</td>\n",
              "      <td>Retail</td>\n",
              "    </tr>\n",
              "    <tr>\n",
              "      <th>Census_ThresholdOptIn</th>\n",
              "      <td>NaN</td>\n",
              "      <td>0.00</td>\n",
              "      <td>0.00</td>\n",
              "      <td>NaN</td>\n",
              "      <td>NaN</td>\n",
              "    </tr>\n",
              "    <tr>\n",
              "      <th>Census_FirmwareManufacturerIdentifier</th>\n",
              "      <td>355.00</td>\n",
              "      <td>486.00</td>\n",
              "      <td>554.00</td>\n",
              "      <td>142.00</td>\n",
              "      <td>355.00</td>\n",
              "    </tr>\n",
              "    <tr>\n",
              "      <th>Census_FirmwareVersionIdentifier</th>\n",
              "      <td>19,951.00</td>\n",
              "      <td>48,753.00</td>\n",
              "      <td>33,111.00</td>\n",
              "      <td>48,473.00</td>\n",
              "      <td>4,343.00</td>\n",
              "    </tr>\n",
              "    <tr>\n",
              "      <th>Census_IsSecureBootEnabled</th>\n",
              "      <td>0</td>\n",
              "      <td>0</td>\n",
              "      <td>1</td>\n",
              "      <td>1</td>\n",
              "      <td>1</td>\n",
              "    </tr>\n",
              "    <tr>\n",
              "      <th>Census_IsWIMBootEnabled</th>\n",
              "      <td>NaN</td>\n",
              "      <td>0.00</td>\n",
              "      <td>0.00</td>\n",
              "      <td>NaN</td>\n",
              "      <td>NaN</td>\n",
              "    </tr>\n",
              "    <tr>\n",
              "      <th>Census_IsVirtualDevice</th>\n",
              "      <td>0.00</td>\n",
              "      <td>0.00</td>\n",
              "      <td>0.00</td>\n",
              "      <td>0.00</td>\n",
              "      <td>0.00</td>\n",
              "    </tr>\n",
              "    <tr>\n",
              "      <th>Census_IsTouchEnabled</th>\n",
              "      <td>0</td>\n",
              "      <td>0</td>\n",
              "      <td>1</td>\n",
              "      <td>0</td>\n",
              "      <td>1</td>\n",
              "    </tr>\n",
              "    <tr>\n",
              "      <th>Census_IsPenCapable</th>\n",
              "      <td>0</td>\n",
              "      <td>0</td>\n",
              "      <td>1</td>\n",
              "      <td>0</td>\n",
              "      <td>0</td>\n",
              "    </tr>\n",
              "    <tr>\n",
              "      <th>Census_IsAlwaysOnAlwaysConnectedCapable</th>\n",
              "      <td>0.00</td>\n",
              "      <td>0.00</td>\n",
              "      <td>0.00</td>\n",
              "      <td>0.00</td>\n",
              "      <td>0.00</td>\n",
              "    </tr>\n",
              "    <tr>\n",
              "      <th>Wdft_IsGamer</th>\n",
              "      <td>0.00</td>\n",
              "      <td>1.00</td>\n",
              "      <td>0.00</td>\n",
              "      <td>0.00</td>\n",
              "      <td>1.00</td>\n",
              "    </tr>\n",
              "    <tr>\n",
              "      <th>Wdft_RegionIdentifier</th>\n",
              "      <td>11.00</td>\n",
              "      <td>3.00</td>\n",
              "      <td>15.00</td>\n",
              "      <td>15.00</td>\n",
              "      <td>13.00</td>\n",
              "    </tr>\n",
              "    <tr>\n",
              "      <th>HasDetections</th>\n",
              "      <td>1</td>\n",
              "      <td>0</td>\n",
              "      <td>0</td>\n",
              "      <td>1</td>\n",
              "      <td>1</td>\n",
              "    </tr>\n",
              "  </tbody>\n",
              "</table>\n",
              "</div>\n",
              "      <button class=\"colab-df-convert\" onclick=\"convertToInteractive('df-bce3d180-4def-40e0-abb4-0af00d6132ae')\"\n",
              "              title=\"Convert this dataframe to an interactive table.\"\n",
              "              style=\"display:none;\">\n",
              "        \n",
              "  <svg xmlns=\"http://www.w3.org/2000/svg\" height=\"24px\"viewBox=\"0 0 24 24\"\n",
              "       width=\"24px\">\n",
              "    <path d=\"M0 0h24v24H0V0z\" fill=\"none\"/>\n",
              "    <path d=\"M18.56 5.44l.94 2.06.94-2.06 2.06-.94-2.06-.94-.94-2.06-.94 2.06-2.06.94zm-11 1L8.5 8.5l.94-2.06 2.06-.94-2.06-.94L8.5 2.5l-.94 2.06-2.06.94zm10 10l.94 2.06.94-2.06 2.06-.94-2.06-.94-.94-2.06-.94 2.06-2.06.94z\"/><path d=\"M17.41 7.96l-1.37-1.37c-.4-.4-.92-.59-1.43-.59-.52 0-1.04.2-1.43.59L10.3 9.45l-7.72 7.72c-.78.78-.78 2.05 0 2.83L4 21.41c.39.39.9.59 1.41.59.51 0 1.02-.2 1.41-.59l7.78-7.78 2.81-2.81c.8-.78.8-2.07 0-2.86zM5.41 20L4 18.59l7.72-7.72 1.47 1.35L5.41 20z\"/>\n",
              "  </svg>\n",
              "      </button>\n",
              "      \n",
              "  <style>\n",
              "    .colab-df-container {\n",
              "      display:flex;\n",
              "      flex-wrap:wrap;\n",
              "      gap: 12px;\n",
              "    }\n",
              "\n",
              "    .colab-df-convert {\n",
              "      background-color: #E8F0FE;\n",
              "      border: none;\n",
              "      border-radius: 50%;\n",
              "      cursor: pointer;\n",
              "      display: none;\n",
              "      fill: #1967D2;\n",
              "      height: 32px;\n",
              "      padding: 0 0 0 0;\n",
              "      width: 32px;\n",
              "    }\n",
              "\n",
              "    .colab-df-convert:hover {\n",
              "      background-color: #E2EBFA;\n",
              "      box-shadow: 0px 1px 2px rgba(60, 64, 67, 0.3), 0px 1px 3px 1px rgba(60, 64, 67, 0.15);\n",
              "      fill: #174EA6;\n",
              "    }\n",
              "\n",
              "    [theme=dark] .colab-df-convert {\n",
              "      background-color: #3B4455;\n",
              "      fill: #D2E3FC;\n",
              "    }\n",
              "\n",
              "    [theme=dark] .colab-df-convert:hover {\n",
              "      background-color: #434B5C;\n",
              "      box-shadow: 0px 1px 3px 1px rgba(0, 0, 0, 0.15);\n",
              "      filter: drop-shadow(0px 1px 2px rgba(0, 0, 0, 0.3));\n",
              "      fill: #FFFFFF;\n",
              "    }\n",
              "  </style>\n",
              "\n",
              "      <script>\n",
              "        const buttonEl =\n",
              "          document.querySelector('#df-bce3d180-4def-40e0-abb4-0af00d6132ae button.colab-df-convert');\n",
              "        buttonEl.style.display =\n",
              "          google.colab.kernel.accessAllowed ? 'block' : 'none';\n",
              "\n",
              "        async function convertToInteractive(key) {\n",
              "          const element = document.querySelector('#df-bce3d180-4def-40e0-abb4-0af00d6132ae');\n",
              "          const dataTable =\n",
              "            await google.colab.kernel.invokeFunction('convertToInteractive',\n",
              "                                                     [key], {});\n",
              "          if (!dataTable) return;\n",
              "\n",
              "          const docLinkHtml = 'Like what you see? Visit the ' +\n",
              "            '<a target=\"_blank\" href=https://colab.research.google.com/notebooks/data_table.ipynb>data table notebook</a>'\n",
              "            + ' to learn more about interactive tables.';\n",
              "          element.innerHTML = '';\n",
              "          dataTable['output_type'] = 'display_data';\n",
              "          await google.colab.output.renderOutput(dataTable, element);\n",
              "          const docLink = document.createElement('div');\n",
              "          docLink.innerHTML = docLinkHtml;\n",
              "          element.appendChild(docLink);\n",
              "        }\n",
              "      </script>\n",
              "    </div>\n",
              "  </div>\n",
              "  "
            ],
            "text/plain": [
              "                                                                                          0  ...                                         4\n",
              "Unnamed: 0                                                                          8427007  ...                                    236059\n",
              "MachineIdentifier                                          f1cd864e97bae82bdf96523e1a539121  ...          06ca8fa8d32c2abdc5b3577d676b3269\n",
              "ProductName                                                                    win8defender  ...                              win8defender\n",
              "EngineVersion                                                                   1.1.15100.1  ...                               1.1.15200.1\n",
              "AppVersion                                                                  4.18.1807.18075  ...                           4.18.1807.18075\n",
              "AvSigVersion                                                                   1.273.1234.0  ...                               1.275.511.0\n",
              "IsBeta                                                                                    0  ...                                         0\n",
              "RtpStateBitfield                                                                       7.00  ...                                      7.00\n",
              "IsSxsPassiveMode                                                                          0  ...                                         0\n",
              "DefaultBrowsersIdentifier                                                               NaN  ...                                       NaN\n",
              "AVProductStatesIdentifier                                                         53,447.00  ...                                 47,238.00\n",
              "AVProductsInstalled                                                                    1.00  ...                                      2.00\n",
              "AVProductsEnabled                                                                      1.00  ...                                      1.00\n",
              "HasTpm                                                                                    1  ...                                         1\n",
              "CountryIdentifier                                                                         8  ...                                       207\n",
              "CityIdentifier                                                                    85,219.00  ...                                 72,421.00\n",
              "OrganizationIdentifier                                                                  NaN  ...                                     27.00\n",
              "GeoNameIdentifier                                                                    205.00  ...                                    277.00\n",
              "LocaleEnglishNameIdentifier                                                             172  ...                                        75\n",
              "Platform                                                                          windows10  ...                                 windows10\n",
              "Processor                                                                               x64  ...                                       x64\n",
              "OsVer                                                                              10.0.0.0  ...                                  10.0.0.0\n",
              "OsBuild                                                                               17134  ...                                     17134\n",
              "OsSuite                                                                                 256  ...                                       256\n",
              "OsPlatformSubRelease                                                                    rs4  ...                                       rs4\n",
              "OsBuildLab                                         17134.1.amd64fre.rs4_release.180410-1804  ...  17134.1.amd64fre.rs4_release.180410-1804\n",
              "SkuEdition                                                                              Pro  ...                                       Pro\n",
              "IsProtected                                                                            1.00  ...                                      1.00\n",
              "AutoSampleOptIn                                                                           0  ...                                         0\n",
              "PuaMode                                                                                 NaN  ...                                       NaN\n",
              "SMode                                                                                  0.00  ...                                      0.00\n",
              "IeVerIdentifier                                                                      137.00  ...                                    137.00\n",
              "SmartScreen                                                                    RequireAdmin  ...                              RequireAdmin\n",
              "Firewall                                                                               1.00  ...                                      1.00\n",
              "UacLuaenable                                                                           1.00  ...                                      1.00\n",
              "Census_MDC2FormFactor                                                               Desktop  ...                                  Notebook\n",
              "Census_DeviceFamily                                                         Windows.Desktop  ...                           Windows.Desktop\n",
              "Census_OEMNameIdentifier                                                           1,443.00  ...                                  1,443.00\n",
              "Census_OEMModelIdentifier                                                        275,891.00  ...                                256,478.00\n",
              "Census_ProcessorCoreCount                                                              4.00  ...                                      4.00\n",
              "Census_ProcessorManufacturerIdentifier                                                 5.00  ...                                      1.00\n",
              "Census_ProcessorModelIdentifier                                                    2,273.00  ...                                    198.00\n",
              "Census_ProcessorClass                                                                   NaN  ...                                       NaN\n",
              "Census_PrimaryDiskTotalCapacity                                                  953,869.00  ...                                476,940.00\n",
              "Census_PrimaryDiskTypeName                                                              HDD  ...                                       HDD\n",
              "Census_SystemVolumeTotalCapacity                                                 952,838.00  ...                                464,374.00\n",
              "Census_HasOpticalDiskDrive                                                                0  ...                                         0\n",
              "Census_TotalPhysicalRAM                                                            8,192.00  ...                                  4,096.00\n",
              "Census_ChassisTypeName                                                             AllinOne  ...                                  Portable\n",
              "Census_InternalPrimaryDiagonalDisplaySizeInInches                                     23.00  ...                                     15.50\n",
              "Census_InternalPrimaryDisplayResolutionHorizontal                                  1,920.00  ...                                  1,366.00\n",
              "Census_InternalPrimaryDisplayResolutionVertical                                    1,080.00  ...                                    768.00\n",
              "Census_PowerPlatformRoleName                                                        Desktop  ...                                    Mobile\n",
              "Census_InternalBatteryType                                                              NaN  ...                                       NaN\n",
              "Census_InternalBatteryNumberOfCharges                                      4,294,967,295.00  ...                                      0.00\n",
              "Census_OSVersion                                                             10.0.17134.165  ...                            10.0.17134.228\n",
              "Census_OSArchitecture                                                                 amd64  ...                                     amd64\n",
              "Census_OSBranch                                                                 rs4_release  ...                               rs4_release\n",
              "Census_OSBuildNumber                                                                  17134  ...                                     17134\n",
              "Census_OSBuildRevision                                                                  165  ...                                       228\n",
              "Census_OSEdition                                                               Professional  ...                              Professional\n",
              "Census_OSSkuName                                                               PROFESSIONAL  ...                              PROFESSIONAL\n",
              "Census_OSInstallTypeName                                                         UUPUpgrade  ...                                    Update\n",
              "Census_OSInstallLanguageIdentifier                                                    27.00  ...                                      8.00\n",
              "Census_OSUILocaleIdentifier                                                             120  ...                                        31\n",
              "Census_OSWUAutoUpdateOptionsName                                                   FullAuto  ...                                  FullAuto\n",
              "Census_IsPortableOperatingSystem                                                          0  ...                                         0\n",
              "Census_GenuineStateName                                                          IS_GENUINE  ...                                IS_GENUINE\n",
              "Census_ActivationChannel                                                             OEM:DM  ...                                    OEM:DM\n",
              "Census_IsFlightingInternal                                                              NaN  ...                                       NaN\n",
              "Census_IsFlightsDisabled                                                               0.00  ...                                      0.00\n",
              "Census_FlightRing                                                                    Retail  ...                                    Retail\n",
              "Census_ThresholdOptIn                                                                   NaN  ...                                       NaN\n",
              "Census_FirmwareManufacturerIdentifier                                                355.00  ...                                    355.00\n",
              "Census_FirmwareVersionIdentifier                                                  19,951.00  ...                                  4,343.00\n",
              "Census_IsSecureBootEnabled                                                                0  ...                                         1\n",
              "Census_IsWIMBootEnabled                                                                 NaN  ...                                       NaN\n",
              "Census_IsVirtualDevice                                                                 0.00  ...                                      0.00\n",
              "Census_IsTouchEnabled                                                                     0  ...                                         1\n",
              "Census_IsPenCapable                                                                       0  ...                                         0\n",
              "Census_IsAlwaysOnAlwaysConnectedCapable                                                0.00  ...                                      0.00\n",
              "Wdft_IsGamer                                                                           0.00  ...                                      1.00\n",
              "Wdft_RegionIdentifier                                                                 11.00  ...                                     13.00\n",
              "HasDetections                                                                             1  ...                                         1\n",
              "\n",
              "[84 rows x 5 columns]"
            ]
          },
          "metadata": {},
          "execution_count": 540
        }
      ]
    },
    {
      "cell_type": "markdown",
      "source": [
        "## MLC.2. Data Understanding"
      ],
      "metadata": {
        "id": "7uGgLYSZKPlZ"
      }
    },
    {
      "cell_type": "markdown",
      "source": [
        "## MLC.2.1: Análisis Univariante de datos"
      ],
      "metadata": {
        "id": "iorZDLNL9vxQ"
      }
    },
    {
      "cell_type": "markdown",
      "source": [
        "### Tamaño del dataset\n",
        "Hacemos un primer análisis global del dataset, tamaño, número de registros y atributos. Vemos que disponemos de 500.000 registros, lo que representa un dataset grande, y un total de 84 variables.\n",
        "\n",
        "Son muchas, con lo cual podemos intuir que habrá algunas poco interesantes. Intentaré eliminar inicialmente aquellas que por número de Nulos o Varianza no sean útiles para el modelo, y así ver reducida la lista."
      ],
      "metadata": {
        "id": "8VMH3S5qKgR_"
      }
    },
    {
      "cell_type": "code",
      "source": [
        "df.info(verbose=False)"
      ],
      "metadata": {
        "colab": {
          "base_uri": "https://localhost:8080/"
        },
        "id": "Rw2tWQJtK2fY",
        "outputId": "16dced75-1406-42ad-ca36-7928e78e18a0"
      },
      "execution_count": null,
      "outputs": [
        {
          "output_type": "stream",
          "name": "stdout",
          "text": [
            "<class 'pandas.core.frame.DataFrame'>\n",
            "RangeIndex: 500000 entries, 0 to 499999\n",
            "Columns: 84 entries, Unnamed: 0 to HasDetections\n",
            "dtypes: float64(36), int64(18), object(30)\n",
            "memory usage: 320.4+ MB\n"
          ]
        }
      ]
    },
    {
      "cell_type": "markdown",
      "source": [
        "Disponemos de 500.000 registros y 84 columnas, varias de ellas con nulos.\n",
        "La columna que será nuestro target es la \"HasDetections\".\n",
        "\n",
        "Vemos la primera columna, llamada \"Unamed: 0\". No se habla de ella en Kaggle, y podría ser algún tipo de índice. La marcamos para analizar más adelante.\n",
        "\n",
        "**Unamed: 0**\n",
        "\n",
        "Vemos también que muchas columnas han sido cogidas como numéricas, cuando en realidad tienen nombres de Identificadors o que parecen Boleanas también por le nombre. Lo analizaremos en más profundidad en el siguiente punto del análisis.\n"
      ],
      "metadata": {
        "id": "O2Gfc79sLCIf"
      }
    },
    {
      "cell_type": "markdown",
      "source": [
        "### Visulalizacion directa de los datos"
      ],
      "metadata": {
        "id": "gYtQPm-atxB5"
      }
    },
    {
      "cell_type": "code",
      "source": [
        "df.head().T"
      ],
      "metadata": {
        "colab": {
          "base_uri": "https://localhost:8080/",
          "height": 1000
        },
        "id": "NHtu1kg9LfEn",
        "outputId": "7ccd77d6-5f4d-41d7-aead-df6868f46a29"
      },
      "execution_count": null,
      "outputs": [
        {
          "output_type": "execute_result",
          "data": {
            "text/html": [
              "\n",
              "  <div id=\"df-c8e34f26-6236-43c5-bc1b-8f65fd5b2526\">\n",
              "    <div class=\"colab-df-container\">\n",
              "      <div>\n",
              "<style scoped>\n",
              "    .dataframe tbody tr th:only-of-type {\n",
              "        vertical-align: middle;\n",
              "    }\n",
              "\n",
              "    .dataframe tbody tr th {\n",
              "        vertical-align: top;\n",
              "    }\n",
              "\n",
              "    .dataframe thead th {\n",
              "        text-align: right;\n",
              "    }\n",
              "</style>\n",
              "<table border=\"1\" class=\"dataframe\">\n",
              "  <thead>\n",
              "    <tr style=\"text-align: right;\">\n",
              "      <th></th>\n",
              "      <th>0</th>\n",
              "      <th>1</th>\n",
              "      <th>2</th>\n",
              "      <th>3</th>\n",
              "      <th>4</th>\n",
              "    </tr>\n",
              "  </thead>\n",
              "  <tbody>\n",
              "    <tr>\n",
              "      <th>Unnamed: 0</th>\n",
              "      <td>8427007</td>\n",
              "      <td>8829090</td>\n",
              "      <td>2731904</td>\n",
              "      <td>1359513</td>\n",
              "      <td>236059</td>\n",
              "    </tr>\n",
              "    <tr>\n",
              "      <th>MachineIdentifier</th>\n",
              "      <td>f1cd864e97bae82bdf96523e1a539121</td>\n",
              "      <td>fd5ba6f5b75325ec0423a6c67cc75942</td>\n",
              "      <td>4e628391e7cc7c482fb3286f486dbd25</td>\n",
              "      <td>270a2e9d028144a4df12a9e3da79fba5</td>\n",
              "      <td>06ca8fa8d32c2abdc5b3577d676b3269</td>\n",
              "    </tr>\n",
              "    <tr>\n",
              "      <th>ProductName</th>\n",
              "      <td>win8defender</td>\n",
              "      <td>win8defender</td>\n",
              "      <td>win8defender</td>\n",
              "      <td>win8defender</td>\n",
              "      <td>win8defender</td>\n",
              "    </tr>\n",
              "    <tr>\n",
              "      <th>EngineVersion</th>\n",
              "      <td>1.1.15100.1</td>\n",
              "      <td>1.1.15100.1</td>\n",
              "      <td>1.1.15100.1</td>\n",
              "      <td>1.1.15200.1</td>\n",
              "      <td>1.1.15200.1</td>\n",
              "    </tr>\n",
              "    <tr>\n",
              "      <th>AppVersion</th>\n",
              "      <td>4.18.1807.18075</td>\n",
              "      <td>4.18.1807.18075</td>\n",
              "      <td>4.9.10586.1106</td>\n",
              "      <td>4.18.1807.18075</td>\n",
              "      <td>4.18.1807.18075</td>\n",
              "    </tr>\n",
              "    <tr>\n",
              "      <th>AvSigVersion</th>\n",
              "      <td>1.273.1234.0</td>\n",
              "      <td>1.273.1282.0</td>\n",
              "      <td>1.273.781.0</td>\n",
              "      <td>1.275.1639.0</td>\n",
              "      <td>1.275.511.0</td>\n",
              "    </tr>\n",
              "    <tr>\n",
              "      <th>IsBeta</th>\n",
              "      <td>0</td>\n",
              "      <td>0</td>\n",
              "      <td>0</td>\n",
              "      <td>0</td>\n",
              "      <td>0</td>\n",
              "    </tr>\n",
              "    <tr>\n",
              "      <th>RtpStateBitfield</th>\n",
              "      <td>7.00</td>\n",
              "      <td>7.00</td>\n",
              "      <td>7.00</td>\n",
              "      <td>7.00</td>\n",
              "      <td>7.00</td>\n",
              "    </tr>\n",
              "    <tr>\n",
              "      <th>IsSxsPassiveMode</th>\n",
              "      <td>0</td>\n",
              "      <td>0</td>\n",
              "      <td>0</td>\n",
              "      <td>0</td>\n",
              "      <td>0</td>\n",
              "    </tr>\n",
              "    <tr>\n",
              "      <th>DefaultBrowsersIdentifier</th>\n",
              "      <td>NaN</td>\n",
              "      <td>NaN</td>\n",
              "      <td>NaN</td>\n",
              "      <td>NaN</td>\n",
              "      <td>NaN</td>\n",
              "    </tr>\n",
              "    <tr>\n",
              "      <th>AVProductStatesIdentifier</th>\n",
              "      <td>53,447.00</td>\n",
              "      <td>53,447.00</td>\n",
              "      <td>46,781.00</td>\n",
              "      <td>53,447.00</td>\n",
              "      <td>47,238.00</td>\n",
              "    </tr>\n",
              "    <tr>\n",
              "      <th>AVProductsInstalled</th>\n",
              "      <td>1.00</td>\n",
              "      <td>1.00</td>\n",
              "      <td>2.00</td>\n",
              "      <td>1.00</td>\n",
              "      <td>2.00</td>\n",
              "    </tr>\n",
              "    <tr>\n",
              "      <th>AVProductsEnabled</th>\n",
              "      <td>1.00</td>\n",
              "      <td>1.00</td>\n",
              "      <td>1.00</td>\n",
              "      <td>1.00</td>\n",
              "      <td>1.00</td>\n",
              "    </tr>\n",
              "    <tr>\n",
              "      <th>HasTpm</th>\n",
              "      <td>1</td>\n",
              "      <td>1</td>\n",
              "      <td>1</td>\n",
              "      <td>1</td>\n",
              "      <td>1</td>\n",
              "    </tr>\n",
              "    <tr>\n",
              "      <th>CountryIdentifier</th>\n",
              "      <td>8</td>\n",
              "      <td>129</td>\n",
              "      <td>149</td>\n",
              "      <td>164</td>\n",
              "      <td>207</td>\n",
              "    </tr>\n",
              "    <tr>\n",
              "      <th>CityIdentifier</th>\n",
              "      <td>85,219.00</td>\n",
              "      <td>54,198.00</td>\n",
              "      <td>122,689.00</td>\n",
              "      <td>114,587.00</td>\n",
              "      <td>72,421.00</td>\n",
              "    </tr>\n",
              "    <tr>\n",
              "      <th>OrganizationIdentifier</th>\n",
              "      <td>NaN</td>\n",
              "      <td>NaN</td>\n",
              "      <td>27.00</td>\n",
              "      <td>27.00</td>\n",
              "      <td>27.00</td>\n",
              "    </tr>\n",
              "    <tr>\n",
              "      <th>GeoNameIdentifier</th>\n",
              "      <td>205.00</td>\n",
              "      <td>126.00</td>\n",
              "      <td>181.00</td>\n",
              "      <td>205.00</td>\n",
              "      <td>277.00</td>\n",
              "    </tr>\n",
              "    <tr>\n",
              "      <th>LocaleEnglishNameIdentifier</th>\n",
              "      <td>172</td>\n",
              "      <td>124</td>\n",
              "      <td>56</td>\n",
              "      <td>172</td>\n",
              "      <td>75</td>\n",
              "    </tr>\n",
              "    <tr>\n",
              "      <th>Platform</th>\n",
              "      <td>windows10</td>\n",
              "      <td>windows10</td>\n",
              "      <td>windows10</td>\n",
              "      <td>windows10</td>\n",
              "      <td>windows10</td>\n",
              "    </tr>\n",
              "    <tr>\n",
              "      <th>Processor</th>\n",
              "      <td>x64</td>\n",
              "      <td>x64</td>\n",
              "      <td>x64</td>\n",
              "      <td>x64</td>\n",
              "      <td>x64</td>\n",
              "    </tr>\n",
              "    <tr>\n",
              "      <th>OsVer</th>\n",
              "      <td>10.0.0.0</td>\n",
              "      <td>10.0.0.0</td>\n",
              "      <td>10.0.0.0</td>\n",
              "      <td>10.0.0.0</td>\n",
              "      <td>10.0.0.0</td>\n",
              "    </tr>\n",
              "    <tr>\n",
              "      <th>OsBuild</th>\n",
              "      <td>17134</td>\n",
              "      <td>17134</td>\n",
              "      <td>10586</td>\n",
              "      <td>17134</td>\n",
              "      <td>17134</td>\n",
              "    </tr>\n",
              "    <tr>\n",
              "      <th>OsSuite</th>\n",
              "      <td>256</td>\n",
              "      <td>256</td>\n",
              "      <td>768</td>\n",
              "      <td>768</td>\n",
              "      <td>256</td>\n",
              "    </tr>\n",
              "    <tr>\n",
              "      <th>OsPlatformSubRelease</th>\n",
              "      <td>rs4</td>\n",
              "      <td>rs4</td>\n",
              "      <td>th2</td>\n",
              "      <td>rs4</td>\n",
              "      <td>rs4</td>\n",
              "    </tr>\n",
              "    <tr>\n",
              "      <th>OsBuildLab</th>\n",
              "      <td>17134.1.amd64fre.rs4_release.180410-1804</td>\n",
              "      <td>17134.1.amd64fre.rs4_release.180410-1804</td>\n",
              "      <td>10586.1176.amd64fre.th2_release_sec.170913-1848</td>\n",
              "      <td>17134.1.amd64fre.rs4_release.180410-1804</td>\n",
              "      <td>17134.1.amd64fre.rs4_release.180410-1804</td>\n",
              "    </tr>\n",
              "    <tr>\n",
              "      <th>SkuEdition</th>\n",
              "      <td>Pro</td>\n",
              "      <td>Pro</td>\n",
              "      <td>Home</td>\n",
              "      <td>Home</td>\n",
              "      <td>Pro</td>\n",
              "    </tr>\n",
              "    <tr>\n",
              "      <th>IsProtected</th>\n",
              "      <td>1.00</td>\n",
              "      <td>1.00</td>\n",
              "      <td>1.00</td>\n",
              "      <td>1.00</td>\n",
              "      <td>1.00</td>\n",
              "    </tr>\n",
              "    <tr>\n",
              "      <th>AutoSampleOptIn</th>\n",
              "      <td>0</td>\n",
              "      <td>0</td>\n",
              "      <td>0</td>\n",
              "      <td>0</td>\n",
              "      <td>0</td>\n",
              "    </tr>\n",
              "    <tr>\n",
              "      <th>PuaMode</th>\n",
              "      <td>NaN</td>\n",
              "      <td>NaN</td>\n",
              "      <td>NaN</td>\n",
              "      <td>NaN</td>\n",
              "      <td>NaN</td>\n",
              "    </tr>\n",
              "    <tr>\n",
              "      <th>SMode</th>\n",
              "      <td>0.00</td>\n",
              "      <td>0.00</td>\n",
              "      <td>0.00</td>\n",
              "      <td>0.00</td>\n",
              "      <td>0.00</td>\n",
              "    </tr>\n",
              "    <tr>\n",
              "      <th>IeVerIdentifier</th>\n",
              "      <td>137.00</td>\n",
              "      <td>137.00</td>\n",
              "      <td>74.00</td>\n",
              "      <td>137.00</td>\n",
              "      <td>137.00</td>\n",
              "    </tr>\n",
              "    <tr>\n",
              "      <th>SmartScreen</th>\n",
              "      <td>RequireAdmin</td>\n",
              "      <td>RequireAdmin</td>\n",
              "      <td>RequireAdmin</td>\n",
              "      <td>NaN</td>\n",
              "      <td>RequireAdmin</td>\n",
              "    </tr>\n",
              "    <tr>\n",
              "      <th>Firewall</th>\n",
              "      <td>1.00</td>\n",
              "      <td>1.00</td>\n",
              "      <td>1.00</td>\n",
              "      <td>1.00</td>\n",
              "      <td>1.00</td>\n",
              "    </tr>\n",
              "    <tr>\n",
              "      <th>UacLuaenable</th>\n",
              "      <td>1.00</td>\n",
              "      <td>1.00</td>\n",
              "      <td>1.00</td>\n",
              "      <td>1.00</td>\n",
              "      <td>1.00</td>\n",
              "    </tr>\n",
              "    <tr>\n",
              "      <th>Census_MDC2FormFactor</th>\n",
              "      <td>Desktop</td>\n",
              "      <td>Notebook</td>\n",
              "      <td>Convertible</td>\n",
              "      <td>Notebook</td>\n",
              "      <td>Notebook</td>\n",
              "    </tr>\n",
              "    <tr>\n",
              "      <th>Census_DeviceFamily</th>\n",
              "      <td>Windows.Desktop</td>\n",
              "      <td>Windows.Desktop</td>\n",
              "      <td>Windows.Desktop</td>\n",
              "      <td>Windows.Desktop</td>\n",
              "      <td>Windows.Desktop</td>\n",
              "    </tr>\n",
              "    <tr>\n",
              "      <th>Census_OEMNameIdentifier</th>\n",
              "      <td>1,443.00</td>\n",
              "      <td>2,102.00</td>\n",
              "      <td>2,206.00</td>\n",
              "      <td>525.00</td>\n",
              "      <td>1,443.00</td>\n",
              "    </tr>\n",
              "    <tr>\n",
              "      <th>Census_OEMModelIdentifier</th>\n",
              "      <td>275,891.00</td>\n",
              "      <td>248,850.00</td>\n",
              "      <td>238,234.00</td>\n",
              "      <td>265,410.00</td>\n",
              "      <td>256,478.00</td>\n",
              "    </tr>\n",
              "    <tr>\n",
              "      <th>Census_ProcessorCoreCount</th>\n",
              "      <td>4.00</td>\n",
              "      <td>4.00</td>\n",
              "      <td>4.00</td>\n",
              "      <td>8.00</td>\n",
              "      <td>4.00</td>\n",
              "    </tr>\n",
              "    <tr>\n",
              "      <th>Census_ProcessorManufacturerIdentifier</th>\n",
              "      <td>5.00</td>\n",
              "      <td>5.00</td>\n",
              "      <td>5.00</td>\n",
              "      <td>5.00</td>\n",
              "      <td>1.00</td>\n",
              "    </tr>\n",
              "    <tr>\n",
              "      <th>Census_ProcessorModelIdentifier</th>\n",
              "      <td>2,273.00</td>\n",
              "      <td>2,660.00</td>\n",
              "      <td>2,998.00</td>\n",
              "      <td>2,880.00</td>\n",
              "      <td>198.00</td>\n",
              "    </tr>\n",
              "    <tr>\n",
              "      <th>Census_ProcessorClass</th>\n",
              "      <td>NaN</td>\n",
              "      <td>NaN</td>\n",
              "      <td>NaN</td>\n",
              "      <td>NaN</td>\n",
              "      <td>NaN</td>\n",
              "    </tr>\n",
              "    <tr>\n",
              "      <th>Census_PrimaryDiskTotalCapacity</th>\n",
              "      <td>953,869.00</td>\n",
              "      <td>476,940.00</td>\n",
              "      <td>244,198.00</td>\n",
              "      <td>228,936.00</td>\n",
              "      <td>476,940.00</td>\n",
              "    </tr>\n",
              "    <tr>\n",
              "      <th>Census_PrimaryDiskTypeName</th>\n",
              "      <td>HDD</td>\n",
              "      <td>HDD</td>\n",
              "      <td>SSD</td>\n",
              "      <td>SSD</td>\n",
              "      <td>HDD</td>\n",
              "    </tr>\n",
              "    <tr>\n",
              "      <th>Census_SystemVolumeTotalCapacity</th>\n",
              "      <td>952,838.00</td>\n",
              "      <td>457,600.00</td>\n",
              "      <td>221,251.00</td>\n",
              "      <td>228,321.00</td>\n",
              "      <td>464,374.00</td>\n",
              "    </tr>\n",
              "    <tr>\n",
              "      <th>Census_HasOpticalDiskDrive</th>\n",
              "      <td>0</td>\n",
              "      <td>0</td>\n",
              "      <td>0</td>\n",
              "      <td>0</td>\n",
              "      <td>0</td>\n",
              "    </tr>\n",
              "    <tr>\n",
              "      <th>Census_TotalPhysicalRAM</th>\n",
              "      <td>8,192.00</td>\n",
              "      <td>8,192.00</td>\n",
              "      <td>8,192.00</td>\n",
              "      <td>8,192.00</td>\n",
              "      <td>4,096.00</td>\n",
              "    </tr>\n",
              "    <tr>\n",
              "      <th>Census_ChassisTypeName</th>\n",
              "      <td>AllinOne</td>\n",
              "      <td>Notebook</td>\n",
              "      <td>Notebook</td>\n",
              "      <td>Notebook</td>\n",
              "      <td>Portable</td>\n",
              "    </tr>\n",
              "    <tr>\n",
              "      <th>Census_InternalPrimaryDiagonalDisplaySizeInInches</th>\n",
              "      <td>23.00</td>\n",
              "      <td>13.20</td>\n",
              "      <td>15.50</td>\n",
              "      <td>15.50</td>\n",
              "      <td>15.50</td>\n",
              "    </tr>\n",
              "    <tr>\n",
              "      <th>Census_InternalPrimaryDisplayResolutionHorizontal</th>\n",
              "      <td>1,920.00</td>\n",
              "      <td>1,280.00</td>\n",
              "      <td>1,920.00</td>\n",
              "      <td>1,920.00</td>\n",
              "      <td>1,366.00</td>\n",
              "    </tr>\n",
              "    <tr>\n",
              "      <th>Census_InternalPrimaryDisplayResolutionVertical</th>\n",
              "      <td>1,080.00</td>\n",
              "      <td>720.00</td>\n",
              "      <td>1,080.00</td>\n",
              "      <td>1,080.00</td>\n",
              "      <td>768.00</td>\n",
              "    </tr>\n",
              "    <tr>\n",
              "      <th>Census_PowerPlatformRoleName</th>\n",
              "      <td>Desktop</td>\n",
              "      <td>Mobile</td>\n",
              "      <td>Mobile</td>\n",
              "      <td>Mobile</td>\n",
              "      <td>Mobile</td>\n",
              "    </tr>\n",
              "    <tr>\n",
              "      <th>Census_InternalBatteryType</th>\n",
              "      <td>NaN</td>\n",
              "      <td>lion</td>\n",
              "      <td>lion</td>\n",
              "      <td>NaN</td>\n",
              "      <td>NaN</td>\n",
              "    </tr>\n",
              "    <tr>\n",
              "      <th>Census_InternalBatteryNumberOfCharges</th>\n",
              "      <td>4,294,967,295.00</td>\n",
              "      <td>0.00</td>\n",
              "      <td>0.00</td>\n",
              "      <td>577.00</td>\n",
              "      <td>0.00</td>\n",
              "    </tr>\n",
              "    <tr>\n",
              "      <th>Census_OSVersion</th>\n",
              "      <td>10.0.17134.165</td>\n",
              "      <td>10.0.17134.165</td>\n",
              "      <td>10.0.10586.1176</td>\n",
              "      <td>10.0.17134.286</td>\n",
              "      <td>10.0.17134.228</td>\n",
              "    </tr>\n",
              "    <tr>\n",
              "      <th>Census_OSArchitecture</th>\n",
              "      <td>amd64</td>\n",
              "      <td>amd64</td>\n",
              "      <td>amd64</td>\n",
              "      <td>amd64</td>\n",
              "      <td>amd64</td>\n",
              "    </tr>\n",
              "    <tr>\n",
              "      <th>Census_OSBranch</th>\n",
              "      <td>rs4_release</td>\n",
              "      <td>rs4_release</td>\n",
              "      <td>th2_release_sec</td>\n",
              "      <td>rs4_release</td>\n",
              "      <td>rs4_release</td>\n",
              "    </tr>\n",
              "    <tr>\n",
              "      <th>Census_OSBuildNumber</th>\n",
              "      <td>17134</td>\n",
              "      <td>17134</td>\n",
              "      <td>10586</td>\n",
              "      <td>17134</td>\n",
              "      <td>17134</td>\n",
              "    </tr>\n",
              "    <tr>\n",
              "      <th>Census_OSBuildRevision</th>\n",
              "      <td>165</td>\n",
              "      <td>165</td>\n",
              "      <td>1176</td>\n",
              "      <td>286</td>\n",
              "      <td>228</td>\n",
              "    </tr>\n",
              "    <tr>\n",
              "      <th>Census_OSEdition</th>\n",
              "      <td>Professional</td>\n",
              "      <td>Professional</td>\n",
              "      <td>Core</td>\n",
              "      <td>Core</td>\n",
              "      <td>Professional</td>\n",
              "    </tr>\n",
              "    <tr>\n",
              "      <th>Census_OSSkuName</th>\n",
              "      <td>PROFESSIONAL</td>\n",
              "      <td>PROFESSIONAL</td>\n",
              "      <td>CORE</td>\n",
              "      <td>CORE</td>\n",
              "      <td>PROFESSIONAL</td>\n",
              "    </tr>\n",
              "    <tr>\n",
              "      <th>Census_OSInstallTypeName</th>\n",
              "      <td>UUPUpgrade</td>\n",
              "      <td>UUPUpgrade</td>\n",
              "      <td>Update</td>\n",
              "      <td>IBSClean</td>\n",
              "      <td>Update</td>\n",
              "    </tr>\n",
              "    <tr>\n",
              "      <th>Census_OSInstallLanguageIdentifier</th>\n",
              "      <td>27.00</td>\n",
              "      <td>18.00</td>\n",
              "      <td>24.00</td>\n",
              "      <td>27.00</td>\n",
              "      <td>8.00</td>\n",
              "    </tr>\n",
              "    <tr>\n",
              "      <th>Census_OSUILocaleIdentifier</th>\n",
              "      <td>120</td>\n",
              "      <td>72</td>\n",
              "      <td>109</td>\n",
              "      <td>120</td>\n",
              "      <td>31</td>\n",
              "    </tr>\n",
              "    <tr>\n",
              "      <th>Census_OSWUAutoUpdateOptionsName</th>\n",
              "      <td>FullAuto</td>\n",
              "      <td>FullAuto</td>\n",
              "      <td>Notify</td>\n",
              "      <td>FullAuto</td>\n",
              "      <td>FullAuto</td>\n",
              "    </tr>\n",
              "    <tr>\n",
              "      <th>Census_IsPortableOperatingSystem</th>\n",
              "      <td>0</td>\n",
              "      <td>0</td>\n",
              "      <td>0</td>\n",
              "      <td>0</td>\n",
              "      <td>0</td>\n",
              "    </tr>\n",
              "    <tr>\n",
              "      <th>Census_GenuineStateName</th>\n",
              "      <td>IS_GENUINE</td>\n",
              "      <td>IS_GENUINE</td>\n",
              "      <td>IS_GENUINE</td>\n",
              "      <td>IS_GENUINE</td>\n",
              "      <td>IS_GENUINE</td>\n",
              "    </tr>\n",
              "    <tr>\n",
              "      <th>Census_ActivationChannel</th>\n",
              "      <td>OEM:DM</td>\n",
              "      <td>OEM:DM</td>\n",
              "      <td>Retail</td>\n",
              "      <td>Retail</td>\n",
              "      <td>OEM:DM</td>\n",
              "    </tr>\n",
              "    <tr>\n",
              "      <th>Census_IsFlightingInternal</th>\n",
              "      <td>NaN</td>\n",
              "      <td>NaN</td>\n",
              "      <td>NaN</td>\n",
              "      <td>NaN</td>\n",
              "      <td>NaN</td>\n",
              "    </tr>\n",
              "    <tr>\n",
              "      <th>Census_IsFlightsDisabled</th>\n",
              "      <td>0.00</td>\n",
              "      <td>0.00</td>\n",
              "      <td>0.00</td>\n",
              "      <td>0.00</td>\n",
              "      <td>0.00</td>\n",
              "    </tr>\n",
              "    <tr>\n",
              "      <th>Census_FlightRing</th>\n",
              "      <td>Retail</td>\n",
              "      <td>Retail</td>\n",
              "      <td>Retail</td>\n",
              "      <td>Retail</td>\n",
              "      <td>Retail</td>\n",
              "    </tr>\n",
              "    <tr>\n",
              "      <th>Census_ThresholdOptIn</th>\n",
              "      <td>NaN</td>\n",
              "      <td>0.00</td>\n",
              "      <td>0.00</td>\n",
              "      <td>NaN</td>\n",
              "      <td>NaN</td>\n",
              "    </tr>\n",
              "    <tr>\n",
              "      <th>Census_FirmwareManufacturerIdentifier</th>\n",
              "      <td>355.00</td>\n",
              "      <td>486.00</td>\n",
              "      <td>554.00</td>\n",
              "      <td>142.00</td>\n",
              "      <td>355.00</td>\n",
              "    </tr>\n",
              "    <tr>\n",
              "      <th>Census_FirmwareVersionIdentifier</th>\n",
              "      <td>19,951.00</td>\n",
              "      <td>48,753.00</td>\n",
              "      <td>33,111.00</td>\n",
              "      <td>48,473.00</td>\n",
              "      <td>4,343.00</td>\n",
              "    </tr>\n",
              "    <tr>\n",
              "      <th>Census_IsSecureBootEnabled</th>\n",
              "      <td>0</td>\n",
              "      <td>0</td>\n",
              "      <td>1</td>\n",
              "      <td>1</td>\n",
              "      <td>1</td>\n",
              "    </tr>\n",
              "    <tr>\n",
              "      <th>Census_IsWIMBootEnabled</th>\n",
              "      <td>NaN</td>\n",
              "      <td>0.00</td>\n",
              "      <td>0.00</td>\n",
              "      <td>NaN</td>\n",
              "      <td>NaN</td>\n",
              "    </tr>\n",
              "    <tr>\n",
              "      <th>Census_IsVirtualDevice</th>\n",
              "      <td>0.00</td>\n",
              "      <td>0.00</td>\n",
              "      <td>0.00</td>\n",
              "      <td>0.00</td>\n",
              "      <td>0.00</td>\n",
              "    </tr>\n",
              "    <tr>\n",
              "      <th>Census_IsTouchEnabled</th>\n",
              "      <td>0</td>\n",
              "      <td>0</td>\n",
              "      <td>1</td>\n",
              "      <td>0</td>\n",
              "      <td>1</td>\n",
              "    </tr>\n",
              "    <tr>\n",
              "      <th>Census_IsPenCapable</th>\n",
              "      <td>0</td>\n",
              "      <td>0</td>\n",
              "      <td>1</td>\n",
              "      <td>0</td>\n",
              "      <td>0</td>\n",
              "    </tr>\n",
              "    <tr>\n",
              "      <th>Census_IsAlwaysOnAlwaysConnectedCapable</th>\n",
              "      <td>0.00</td>\n",
              "      <td>0.00</td>\n",
              "      <td>0.00</td>\n",
              "      <td>0.00</td>\n",
              "      <td>0.00</td>\n",
              "    </tr>\n",
              "    <tr>\n",
              "      <th>Wdft_IsGamer</th>\n",
              "      <td>0.00</td>\n",
              "      <td>1.00</td>\n",
              "      <td>0.00</td>\n",
              "      <td>0.00</td>\n",
              "      <td>1.00</td>\n",
              "    </tr>\n",
              "    <tr>\n",
              "      <th>Wdft_RegionIdentifier</th>\n",
              "      <td>11.00</td>\n",
              "      <td>3.00</td>\n",
              "      <td>15.00</td>\n",
              "      <td>15.00</td>\n",
              "      <td>13.00</td>\n",
              "    </tr>\n",
              "    <tr>\n",
              "      <th>HasDetections</th>\n",
              "      <td>1</td>\n",
              "      <td>0</td>\n",
              "      <td>0</td>\n",
              "      <td>1</td>\n",
              "      <td>1</td>\n",
              "    </tr>\n",
              "  </tbody>\n",
              "</table>\n",
              "</div>\n",
              "      <button class=\"colab-df-convert\" onclick=\"convertToInteractive('df-c8e34f26-6236-43c5-bc1b-8f65fd5b2526')\"\n",
              "              title=\"Convert this dataframe to an interactive table.\"\n",
              "              style=\"display:none;\">\n",
              "        \n",
              "  <svg xmlns=\"http://www.w3.org/2000/svg\" height=\"24px\"viewBox=\"0 0 24 24\"\n",
              "       width=\"24px\">\n",
              "    <path d=\"M0 0h24v24H0V0z\" fill=\"none\"/>\n",
              "    <path d=\"M18.56 5.44l.94 2.06.94-2.06 2.06-.94-2.06-.94-.94-2.06-.94 2.06-2.06.94zm-11 1L8.5 8.5l.94-2.06 2.06-.94-2.06-.94L8.5 2.5l-.94 2.06-2.06.94zm10 10l.94 2.06.94-2.06 2.06-.94-2.06-.94-.94-2.06-.94 2.06-2.06.94z\"/><path d=\"M17.41 7.96l-1.37-1.37c-.4-.4-.92-.59-1.43-.59-.52 0-1.04.2-1.43.59L10.3 9.45l-7.72 7.72c-.78.78-.78 2.05 0 2.83L4 21.41c.39.39.9.59 1.41.59.51 0 1.02-.2 1.41-.59l7.78-7.78 2.81-2.81c.8-.78.8-2.07 0-2.86zM5.41 20L4 18.59l7.72-7.72 1.47 1.35L5.41 20z\"/>\n",
              "  </svg>\n",
              "      </button>\n",
              "      \n",
              "  <style>\n",
              "    .colab-df-container {\n",
              "      display:flex;\n",
              "      flex-wrap:wrap;\n",
              "      gap: 12px;\n",
              "    }\n",
              "\n",
              "    .colab-df-convert {\n",
              "      background-color: #E8F0FE;\n",
              "      border: none;\n",
              "      border-radius: 50%;\n",
              "      cursor: pointer;\n",
              "      display: none;\n",
              "      fill: #1967D2;\n",
              "      height: 32px;\n",
              "      padding: 0 0 0 0;\n",
              "      width: 32px;\n",
              "    }\n",
              "\n",
              "    .colab-df-convert:hover {\n",
              "      background-color: #E2EBFA;\n",
              "      box-shadow: 0px 1px 2px rgba(60, 64, 67, 0.3), 0px 1px 3px 1px rgba(60, 64, 67, 0.15);\n",
              "      fill: #174EA6;\n",
              "    }\n",
              "\n",
              "    [theme=dark] .colab-df-convert {\n",
              "      background-color: #3B4455;\n",
              "      fill: #D2E3FC;\n",
              "    }\n",
              "\n",
              "    [theme=dark] .colab-df-convert:hover {\n",
              "      background-color: #434B5C;\n",
              "      box-shadow: 0px 1px 3px 1px rgba(0, 0, 0, 0.15);\n",
              "      filter: drop-shadow(0px 1px 2px rgba(0, 0, 0, 0.3));\n",
              "      fill: #FFFFFF;\n",
              "    }\n",
              "  </style>\n",
              "\n",
              "      <script>\n",
              "        const buttonEl =\n",
              "          document.querySelector('#df-c8e34f26-6236-43c5-bc1b-8f65fd5b2526 button.colab-df-convert');\n",
              "        buttonEl.style.display =\n",
              "          google.colab.kernel.accessAllowed ? 'block' : 'none';\n",
              "\n",
              "        async function convertToInteractive(key) {\n",
              "          const element = document.querySelector('#df-c8e34f26-6236-43c5-bc1b-8f65fd5b2526');\n",
              "          const dataTable =\n",
              "            await google.colab.kernel.invokeFunction('convertToInteractive',\n",
              "                                                     [key], {});\n",
              "          if (!dataTable) return;\n",
              "\n",
              "          const docLinkHtml = 'Like what you see? Visit the ' +\n",
              "            '<a target=\"_blank\" href=https://colab.research.google.com/notebooks/data_table.ipynb>data table notebook</a>'\n",
              "            + ' to learn more about interactive tables.';\n",
              "          element.innerHTML = '';\n",
              "          dataTable['output_type'] = 'display_data';\n",
              "          await google.colab.output.renderOutput(dataTable, element);\n",
              "          const docLink = document.createElement('div');\n",
              "          docLink.innerHTML = docLinkHtml;\n",
              "          element.appendChild(docLink);\n",
              "        }\n",
              "      </script>\n",
              "    </div>\n",
              "  </div>\n",
              "  "
            ],
            "text/plain": [
              "                                                                                          0  ...                                         4\n",
              "Unnamed: 0                                                                          8427007  ...                                    236059\n",
              "MachineIdentifier                                          f1cd864e97bae82bdf96523e1a539121  ...          06ca8fa8d32c2abdc5b3577d676b3269\n",
              "ProductName                                                                    win8defender  ...                              win8defender\n",
              "EngineVersion                                                                   1.1.15100.1  ...                               1.1.15200.1\n",
              "AppVersion                                                                  4.18.1807.18075  ...                           4.18.1807.18075\n",
              "AvSigVersion                                                                   1.273.1234.0  ...                               1.275.511.0\n",
              "IsBeta                                                                                    0  ...                                         0\n",
              "RtpStateBitfield                                                                       7.00  ...                                      7.00\n",
              "IsSxsPassiveMode                                                                          0  ...                                         0\n",
              "DefaultBrowsersIdentifier                                                               NaN  ...                                       NaN\n",
              "AVProductStatesIdentifier                                                         53,447.00  ...                                 47,238.00\n",
              "AVProductsInstalled                                                                    1.00  ...                                      2.00\n",
              "AVProductsEnabled                                                                      1.00  ...                                      1.00\n",
              "HasTpm                                                                                    1  ...                                         1\n",
              "CountryIdentifier                                                                         8  ...                                       207\n",
              "CityIdentifier                                                                    85,219.00  ...                                 72,421.00\n",
              "OrganizationIdentifier                                                                  NaN  ...                                     27.00\n",
              "GeoNameIdentifier                                                                    205.00  ...                                    277.00\n",
              "LocaleEnglishNameIdentifier                                                             172  ...                                        75\n",
              "Platform                                                                          windows10  ...                                 windows10\n",
              "Processor                                                                               x64  ...                                       x64\n",
              "OsVer                                                                              10.0.0.0  ...                                  10.0.0.0\n",
              "OsBuild                                                                               17134  ...                                     17134\n",
              "OsSuite                                                                                 256  ...                                       256\n",
              "OsPlatformSubRelease                                                                    rs4  ...                                       rs4\n",
              "OsBuildLab                                         17134.1.amd64fre.rs4_release.180410-1804  ...  17134.1.amd64fre.rs4_release.180410-1804\n",
              "SkuEdition                                                                              Pro  ...                                       Pro\n",
              "IsProtected                                                                            1.00  ...                                      1.00\n",
              "AutoSampleOptIn                                                                           0  ...                                         0\n",
              "PuaMode                                                                                 NaN  ...                                       NaN\n",
              "SMode                                                                                  0.00  ...                                      0.00\n",
              "IeVerIdentifier                                                                      137.00  ...                                    137.00\n",
              "SmartScreen                                                                    RequireAdmin  ...                              RequireAdmin\n",
              "Firewall                                                                               1.00  ...                                      1.00\n",
              "UacLuaenable                                                                           1.00  ...                                      1.00\n",
              "Census_MDC2FormFactor                                                               Desktop  ...                                  Notebook\n",
              "Census_DeviceFamily                                                         Windows.Desktop  ...                           Windows.Desktop\n",
              "Census_OEMNameIdentifier                                                           1,443.00  ...                                  1,443.00\n",
              "Census_OEMModelIdentifier                                                        275,891.00  ...                                256,478.00\n",
              "Census_ProcessorCoreCount                                                              4.00  ...                                      4.00\n",
              "Census_ProcessorManufacturerIdentifier                                                 5.00  ...                                      1.00\n",
              "Census_ProcessorModelIdentifier                                                    2,273.00  ...                                    198.00\n",
              "Census_ProcessorClass                                                                   NaN  ...                                       NaN\n",
              "Census_PrimaryDiskTotalCapacity                                                  953,869.00  ...                                476,940.00\n",
              "Census_PrimaryDiskTypeName                                                              HDD  ...                                       HDD\n",
              "Census_SystemVolumeTotalCapacity                                                 952,838.00  ...                                464,374.00\n",
              "Census_HasOpticalDiskDrive                                                                0  ...                                         0\n",
              "Census_TotalPhysicalRAM                                                            8,192.00  ...                                  4,096.00\n",
              "Census_ChassisTypeName                                                             AllinOne  ...                                  Portable\n",
              "Census_InternalPrimaryDiagonalDisplaySizeInInches                                     23.00  ...                                     15.50\n",
              "Census_InternalPrimaryDisplayResolutionHorizontal                                  1,920.00  ...                                  1,366.00\n",
              "Census_InternalPrimaryDisplayResolutionVertical                                    1,080.00  ...                                    768.00\n",
              "Census_PowerPlatformRoleName                                                        Desktop  ...                                    Mobile\n",
              "Census_InternalBatteryType                                                              NaN  ...                                       NaN\n",
              "Census_InternalBatteryNumberOfCharges                                      4,294,967,295.00  ...                                      0.00\n",
              "Census_OSVersion                                                             10.0.17134.165  ...                            10.0.17134.228\n",
              "Census_OSArchitecture                                                                 amd64  ...                                     amd64\n",
              "Census_OSBranch                                                                 rs4_release  ...                               rs4_release\n",
              "Census_OSBuildNumber                                                                  17134  ...                                     17134\n",
              "Census_OSBuildRevision                                                                  165  ...                                       228\n",
              "Census_OSEdition                                                               Professional  ...                              Professional\n",
              "Census_OSSkuName                                                               PROFESSIONAL  ...                              PROFESSIONAL\n",
              "Census_OSInstallTypeName                                                         UUPUpgrade  ...                                    Update\n",
              "Census_OSInstallLanguageIdentifier                                                    27.00  ...                                      8.00\n",
              "Census_OSUILocaleIdentifier                                                             120  ...                                        31\n",
              "Census_OSWUAutoUpdateOptionsName                                                   FullAuto  ...                                  FullAuto\n",
              "Census_IsPortableOperatingSystem                                                          0  ...                                         0\n",
              "Census_GenuineStateName                                                          IS_GENUINE  ...                                IS_GENUINE\n",
              "Census_ActivationChannel                                                             OEM:DM  ...                                    OEM:DM\n",
              "Census_IsFlightingInternal                                                              NaN  ...                                       NaN\n",
              "Census_IsFlightsDisabled                                                               0.00  ...                                      0.00\n",
              "Census_FlightRing                                                                    Retail  ...                                    Retail\n",
              "Census_ThresholdOptIn                                                                   NaN  ...                                       NaN\n",
              "Census_FirmwareManufacturerIdentifier                                                355.00  ...                                    355.00\n",
              "Census_FirmwareVersionIdentifier                                                  19,951.00  ...                                  4,343.00\n",
              "Census_IsSecureBootEnabled                                                                0  ...                                         1\n",
              "Census_IsWIMBootEnabled                                                                 NaN  ...                                       NaN\n",
              "Census_IsVirtualDevice                                                                 0.00  ...                                      0.00\n",
              "Census_IsTouchEnabled                                                                     0  ...                                         1\n",
              "Census_IsPenCapable                                                                       0  ...                                         0\n",
              "Census_IsAlwaysOnAlwaysConnectedCapable                                                0.00  ...                                      0.00\n",
              "Wdft_IsGamer                                                                           0.00  ...                                      1.00\n",
              "Wdft_RegionIdentifier                                                                 11.00  ...                                     13.00\n",
              "HasDetections                                                                             1  ...                                         1\n",
              "\n",
              "[84 rows x 5 columns]"
            ]
          },
          "metadata": {},
          "execution_count": 542
        }
      ]
    },
    {
      "cell_type": "markdown",
      "source": [
        "En una primera visualización, vemos una gran cantidad de variables categóricas, y otras que aunque contienen números, su nombre nos indica que son identificadores. Veremos más adelante como los ha leído Pandas y si hay que cambiar su tipo.\n",
        "Tambíen vemos algunas variables que indica versiones, y otras ya se ven con varios Nulos, como las variables \"DefaultBrowsersIdentifier\", \"Census_ProcessorClass\" o \"PuaMode\".\n",
        "\n",
        "También hay varias variables con información sobre el Sistema Operativo, el hardware de la máquina y los accesorios, así como información del navegador.\n",
        "\n",
        "Otras información relevante que podemos ver:\n",
        "\n",
        "**Target**: vemos la variable que será nuestro target. Se trata de la **\"HasDetections\"**\n",
        "\n",
        "**MachineIdentifier**: Esta variable es única para cada registro y es nuestra mejor candidata para que sea el índice del Dataframe.\n",
        "\n",
        "**Fechas**: no vemos a priori ninguna variable con información de fecha o temporal, aunque aparecen variables sobre versiones de hardware y software que nos puden dar alguna noción de la antigüedad de la máquina.\n",
        "\n",
        "**Strings**: hay una vairable susceptible de ser tratada como un string del que obtener información, que es la **\"OsBuildLab\"**. Vemos sin embargo que la informaciones que en ella se almacenan, están por separado en otras variables. En concreto\n",
        "\n",
        "**Información Geográfica**: Encotramos varias variables con información geográfica, por región, país y ciudad.\n",
        "\n",
        "**Variables importantes**: a priori hay algunas variables que parece que puedan ser importantes, como:\n",
        "- **\"Firewall\"** que indica si hay un firewall activado\n",
        "- **\"IsProtected\"**, que indica si tiene antivirus activo.\n",
        "- **\"AVProductsInstalled\"** y **\"AVProductsEnabled\"**, que indican el número de productos relacionados con Antivirus están instalados y activos en la máquina.\n",
        "- **\"SMode\"**: si opera en mode S (modo seguro)\n",
        "- **IsSxsPassiveMode**: si el Defender està en Pasive mode (no resuelve amenazas)\n",
        "\n",
        "**Variable sin nombre**: la primera variable que nos lee Pandas es la \"Unamed 0:\", y parece que sea como un identificador procedente quizás de la base de datos completa."
      ],
      "metadata": {
        "id": "ZuK0KMq5GmnE"
      }
    },
    {
      "cell_type": "markdown",
      "source": [
        "#### Información sobre atributos proporcionada por Kaggle"
      ],
      "metadata": {
        "id": "GFHgxsWrKW9K"
      }
    },
    {
      "cell_type": "markdown",
      "source": [
        "Información sobre atributos en  [Kaggle](https://www.kaggle.com/c/microsoft-malware-prediction/data).\n",
        "\n",
        "Columns\n",
        "Unavailable or self-documenting column names are marked with an \"NA\".\n",
        "\n",
        "MachineIdentifier - Individual machine ID\n",
        "\n",
        "ProductName - Defender state information e.g. win8defender\n",
        "\n",
        "EngineVersion - Defender state information e.g. 1.1.12603.0\n",
        "\n",
        "AppVersion - Defender state information e.g. 4.9.10586.0\n",
        "\n",
        "AvSigVersion - Defender state information e.g. 1.217.1014.0\n",
        "\n",
        "IsBeta - Defender state information e.g. false\n",
        "\n",
        "RtpStateBitfield - NA\n",
        "\n",
        "IsSxsPassiveMode - NA\n",
        "\n",
        "DefaultBrowsersIdentifier - ID for the machine's default browser\n",
        "\n",
        "AVProductStatesIdentifier - ID for the specific configuration of a user's antivirus software\n",
        "\n",
        "AVProductsInstalled - NA\n",
        "\n",
        "AVProductsEnabled - NA\n",
        "\n",
        "HasTpm - True if machine has tpm\n",
        "\n",
        "CountryIdentifier - ID for the country the machine is located in\n",
        "\n",
        "CityIdentifier - ID for the city the machine is located in\n",
        "\n",
        "OrganizationIdentifier - ID for the organization the machine belongs in, organization ID is mapped to both specific companies and broad industries\n",
        "\n",
        "GeoNameIdentifier - ID for the geographic region a machine is located in\n",
        "\n",
        "LocaleEnglishNameIdentifier - English name of Locale ID of the current user\n",
        "\n",
        "Platform - Calculates platform name (of OS related properties and processor property)\n",
        "\n",
        "Processor - This is the process architecture of the installed operating system\n",
        "\n",
        "OsVer - Version of the current operating system\n",
        "\n",
        "OsBuild - Build of the current operating system\n",
        "\n",
        "OsSuite - Product suite mask for the current operating system.\n",
        "\n",
        "OsPlatformSubRelease - Returns the OS Platform sub-release (Windows Vista, Windows 7, Windows 8, TH1, TH2)\n",
        "\n",
        "OsBuildLab - Build lab that generated the current OS. Example: 9600.17630.amd64fre.winblue_r7.150109-2022\n",
        "\n",
        "SkuEdition - The goal of this feature is to use the Product Type defined in the MSDN to map to a 'SKU-Edition' name that is useful in population reporting. The valid Product Type are defined in %sdxroot%\\data\\windowseditions.xml. This API has been used since Vista and Server 2008, so there are many Product Types that do not apply to Windows 10. The 'SKU-Edition' is a string value that is in one of three classes of results. The design must hand each class.\n",
        "\n",
        "IsProtected - This is a calculated field derived from the Spynet Report's AV Products field. Returns: a. TRUE if there is at least one active and up-to-date antivirus product running on this machine. b. FALSE if there is no active AV product on this machine, or if the AV is active, but is not receiving the latest updates. c. null if there are no Anti Virus Products in the report. Returns: Whether a machine is protected.\n",
        "\n",
        "AutoSampleOptIn - This is the SubmitSamplesConsent value passed in from the service, available on CAMP 9+\n",
        "\n",
        "PuaMode - Pua Enabled mode from the service\n",
        "\n",
        "SMode - This field is set to true when the device is known to be in 'S Mode', as in, Windows 10 S mode, where only Microsoft Store apps can be installed\n",
        "\n",
        "IeVerIdentifier - NA\n",
        "\n",
        "SmartScreen - This is the SmartScreen enabled string value from registry. This is obtained by checking in order, HKLM\\SOFTWARE\\Policies\\Microsoft\\Windows\\System\\SmartScreenEnabled and HKLM\\SOFTWARE\\Microsoft\\Windows\\CurrentVersion\\Explorer\\SmartScreenEnabled. If the value exists but is blank, the value \"ExistsNotSet\" is sent in telemetry.\n",
        "\n",
        "Firewall - This attribute is true (1) for Windows 8.1 and above if windows firewall is enabled, as reported by the service.\n",
        "UacLuaenable - This attribute reports whether or not the \"administrator in Admin Approval Mode\" user type is disabled or enabled in UAC. The value reported is obtained by reading the regkey HKLM\\SOFTWARE\\Microsoft\\Windows\\CurrentVersion\\Policies\\System\\EnableLUA.\n",
        "Census_MDC2FormFactor - A grouping based on a combination of Device Census level hardware characteristics. The logic used to define Form Factor is rooted in business and industry standards and aligns with how people think about their device. (Examples: Smartphone, Small Tablet, All in One, Convertible...)\n",
        "Census_DeviceFamily - AKA DeviceClass. Indicates the type of device that an edition of the OS is intended for. Example values: Windows.Desktop, Windows.Mobile, and iOS.Phone\n",
        "\n",
        "Census_OEMNameIdentifier - NA\n",
        "\n",
        "Census_OEMModelIdentifier - NA\n",
        "\n",
        "Census_ProcessorCoreCount - Number of logical cores in the processor\n",
        "\n",
        "Census_ProcessorManufacturerIdentifier - NA\n",
        "\n",
        "Census_ProcessorModelIdentifier - NA\n",
        "\n",
        "Census_ProcessorClass - A classification of processors into high/medium/low. Initially used for Pricing Level SKU. No longer maintained and updated\n",
        "\n",
        "Census_PrimaryDiskTotalCapacity - Amount of disk space on primary disk of the machine in MB\n",
        "\n",
        "Census_PrimaryDiskTypeName - Friendly name of Primary Disk Type - HDD or SSD\n",
        "\n",
        "Census_SystemVolumeTotalCapacity - The size of the partition that the System volume is installed on in MB\n",
        "\n",
        "Census_HasOpticalDiskDrive - True indicates that the machine has an optical disk drive (CD/DVD)\n",
        "\n",
        "Census_TotalPhysicalRAM - Retrieves the physical RAM in MB\n",
        "\n",
        "Census_ChassisTypeName - Retrieves a numeric representation of what type of chassis the machine has. A value of 0 means xx\n",
        "\n",
        "Census_InternalPrimaryDiagonalDisplaySizeInInches - Retrieves the physical diagonal length in inches of the primary display\n",
        "\n",
        "Census_InternalPrimaryDisplayResolutionHorizontal - Retrieves the number of pixels in the horizontal direction of the internal display.\n",
        "\n",
        "Census_InternalPrimaryDisplayResolutionVertical - Retrieves the number of pixels in the vertical direction of the internal display\n",
        "\n",
        "Census_PowerPlatformRoleName - Indicates the OEM preferred power management profile. This value helps identify the basic form factor of the device\n",
        "\n",
        "Census_InternalBatteryType - NA\n",
        "\n",
        "Census_InternalBatteryNumberOfCharges - NA\n",
        "\n",
        "Census_OSVersion - Numeric OS version Example - 10.0.10130.0\n",
        "\n",
        "Census_OSArchitecture - Architecture on which the OS is based. Derived from OSVersionFull. Example - amd64\n",
        "\n",
        "Census_OSBranch - Branch of the OS extracted from the OsVersionFull. Example - OsBranch = fbl_partner_eeap where OsVersion = 6.4.9813.0.amd64fre.fbl_partner_eeap.140810-0005\n",
        "\n",
        "Census_OSBuildNumber - OS Build number extracted from the OsVersionFull. Example - OsBuildNumber = 10512 or 10240\n",
        "\n",
        "Census_OSBuildRevision - OS Build revision extracted from the OsVersionFull. Example - OsBuildRevision = 1000 or 16458\n",
        "\n",
        "Census_OSEdition - Edition of the current OS. Sourced from HKLM\\Software\\Microsoft\\Windows NT\\CurrentVersion@EditionID in registry. Example: Enterprise\n",
        "\n",
        "Census_OSSkuName - OS edition friendly name (currently Windows only)\n",
        "\n",
        "Census_OSInstallTypeName - Friendly description of what install was used on the machine i.e. clean\n",
        "\n",
        "Census_OSInstallLanguageIdentifier - NA\n",
        "\n",
        "Census_OSUILocaleIdentifier - NA\n",
        "\n",
        "Census_OSWUAutoUpdateOptionsName - Friendly name of the WindowsUpdate auto-update settings on the machine.\n",
        "\n",
        "Census_IsPortableOperatingSystem - Indicates whether OS is booted up and running via Windows-To-Go on a USB stick.\n",
        "\n",
        "Census_GenuineStateName - Friendly name of OSGenuineStateID. 0 = Genuine\n",
        "\n",
        "Census_ActivationChannel - Retail license key or Volume license key for a machine.\n",
        "\n",
        "Census_IsFlightingInternal - NA\n",
        "\n",
        "Census_IsFlightsDisabled - Indicates if the machine is participating in flighting.\n",
        "\n",
        "Census_FlightRing - The ring that the device user would like to receive flights for. This might be different from the ring of the OS which is currently installed if the user changes the ring after getting a flight from a different ring.\n",
        "\n",
        "Census_ThresholdOptIn - NA\n",
        "\n",
        "Census_FirmwareManufacturerIdentifier - NA\n",
        "\n",
        "Census_FirmwareVersionIdentifier - NA\n",
        "\n",
        "Census_IsSecureBootEnabled - Indicates if Secure Boot mode is enabled.\n",
        "\n",
        "Census_IsWIMBootEnabled - NA\n",
        "\n",
        "Census_IsVirtualDevice - Identifies a Virtual Machine (machine learning model)\n",
        "\n",
        "Census_IsTouchEnabled - Is this a touch device ?\n",
        "\n",
        "Census_IsPenCapable - Is the device capable of pen input ?\n",
        "\n",
        "Census_IsAlwaysOnAlwaysConnectedCapable - Retreives information about whether the battery enables the device to be AlwaysOnAlwaysConnected .\n",
        "\n",
        "Wdft_IsGamer - Indicates whether the device is a gamer device or not based on its hardware combination.\n",
        "\n",
        "Wdft_RegionIdentifier - NA"
      ],
      "metadata": {
        "id": "2Y7qqBuIiD_R"
      }
    },
    {
      "cell_type": "markdown",
      "source": [
        "#### Información sobre atributos comentada"
      ],
      "metadata": {
        "id": "uRolYy3d37_e"
      }
    },
    {
      "cell_type": "markdown",
      "source": [
        "Información sobre atributods:\n",
        "- Vemos una primera columna que no tiene nombre, que se le ha puesto el nombre \"Unamed\". La ha cogido como numérica. No hay información en Kaggle sobre esta variable y parece que podría ser un tipo de índice. SIn embargo, tenemos la variable \"Machine Identifier\" que también es un identificador única para cada registro.\n",
        "\n",
        "\n",
        "\n",
        "- AVSigVersion: Anti virus signature version. The version of the running antivirus database of known things.\n",
        "\n",
        "- IsSxsPassiveMode: Windows Defender pot treballar en Passive Mode. Aquesta variable deu informar d'això. En aquest cas, el Windows Defendes no fa de antivirus i les amenaces no són gestionades. **Potser es correlaciona amb més infeccions?**\n",
        "\n",
        "- HasTPM:  el TMP es un chip que es un criptoprocesador seguro, que sirve para almacenar las claves de cifrado de Windows y proteger así la privacidad de tus archivos más sensibles\n",
        "\n",
        "- AutoSampleOptIn: indica si el usuario consiente que se envie información a Windows sobre estado de ficheros, para poder analizar errores o problemas ocurridos.\n",
        "\n",
        "- OsBuildLab: string amb molta informació sobre el Sistema operatiu. **altres variables s'han creat a partir de info extreta d'aquest string**  **Crec que es podria eliminar** Pex.\n",
        "Census_OSBuildNumber, Census_OSBranch\t, i altres.\n",
        "\n",
        "- PuaMode:  Potentially Unwanted Applications protection feature.\n",
        "\n",
        "- SMode: Version de Windows 11 optimizada para la seguridad y el rendimiento. Por ejemplo, no permite instalar software que no sea de la tienda de Windows.\n",
        "\n",
        "- IeVerIdentifier: Internet Explorer Identifier. **Es posible que el Explorador nos prevenga de ir a posible páginas peligrosas, ¿verdad?**\n",
        "\n",
        "- Census_MDC2FormFactor: si és notebook, desktop.\n",
        "\n",
        "- Census_OEMNameIdentifier: OEM (fabricant original de equip).\n",
        "\n",
        "- Census_PowerPlatformRoleName: Indica el perfil de gestió de energia preferit pel fabricant de l'equip. Ajuda a identificar el \"Form Factor\". Podem comprovar si està correlat.\n",
        "\n",
        "- A priori sembla que Census_OSEdition i Census_OSSkuName**son el mateix**\n",
        "\n",
        "- Census_OSInstallTypeName:  Friendly description of what install was used on the machine i.e. clean, o UpGRADE\n",
        "\n",
        "- Census_OSInstallLanguageIdentifier: idioma de instalacio. **alguna correlació tindrà amb la localitzacio**\n",
        "\n",
        "-Census_OSUILocaleIdentifier: Té a veure amb un idetificador del User Interface que depen de la zona... **¿?**\n",
        "\n",
        "- Census_OSWUAutoUpdateOptionsName - Indica el tipus d'actualització automàtica que té el OS. Pot ser FullFriendly name of the WindowsUpdate auto-update settings on the machine. Pot ser FullAuto, Notify (suposo que t'avisa abans d'instalar), DownloadNotify (t'avisa abans de descarregar),\n",
        "\n",
        "- Census_FlightRing **i altres relacionades amb flighting**: no ´se molt bé què vol dir.... sembla relacionat amb poder accedir a proves de test de noves funcionalitatsl del sistema operatiu.\n",
        "\n",
        "- Census_ThresholdOptIn: Ni idea...\n",
        "\n",
        "- Variables sobre el Firmware.\n",
        "\n",
        "- Wdft_RegionIdentifier: **està correlat amb info de localitació d'altres variables?**\n",
        "\n",
        "En resum: informació de la localització (pais, regió, organització), del sistema operatiu que té, si està protegit, si opera en mode S (modo seguro), si el Defendes està en Pasive mode (no resol amenaceS), quina versió del IExplorer té. Informació sobre el processador, sobre fabricant del equip, tipus d'equip (portatil, de escriptori), i moltes altres característiques técniques com RAM, si té DVD/CD, pantalla, batería, idioma. Si té actualització automàtica del OS, gamer, tatil, si és una màquina virtual.\n",
        "\n",
        "**En algun punt potser hauríem de pensar quins atributs, a priori sembla que puguin estar relacionats amb el target o la segfuretat d'una màquina.**"
      ],
      "metadata": {
        "id": "NML1m_3ALiOA"
      }
    },
    {
      "cell_type": "markdown",
      "source": [
        "Creamos la variable TARGET"
      ],
      "metadata": {
        "id": "BQ4spNrx7XlZ"
      }
    },
    {
      "cell_type": "code",
      "source": [
        "TARGET = 'HasDetections'"
      ],
      "metadata": {
        "id": "BgkiN1Uj7c8Y"
      },
      "execution_count": null,
      "outputs": []
    },
    {
      "cell_type": "markdown",
      "source": [
        "Comprobamos la integridad de la variable \"MachineIdentifier\" para decidir si la ponemos en el índice. También podríamos poner la \"Unamed 0:\" suponiendo que esta fuera un identificador que pudiera estar en otras bases de datos de la existentes y que nos permitiera cruzar información."
      ],
      "metadata": {
        "id": "48UZkZfu73wY"
      }
    },
    {
      "cell_type": "code",
      "source": [
        "print(\"El número de valores únicos de la variable MachineIdentifier es igual al número de registros del dataset? \", len(df['MachineIdentifier'].unique()) == len(df))\n",
        "print(\"El número de valores únicos de la variable 'Unnamed 0:' es igual al número de registros del dataset? \", len(df['Unnamed: 0'].unique()) == len(df))"
      ],
      "metadata": {
        "colab": {
          "base_uri": "https://localhost:8080/"
        },
        "id": "jipnlNDz9g59",
        "outputId": "a9a01819-2ca3-4468-9267-e57e7e1e2a83"
      },
      "execution_count": null,
      "outputs": [
        {
          "output_type": "stream",
          "name": "stdout",
          "text": [
            "El número de valores únicos de la variable MachineIdentifier es igual al número de registros del dataset?  True\n",
            "El número de valores únicos de la variable 'Unnamed 0:' es igual al número de registros del dataset?  True\n"
          ]
        }
      ]
    },
    {
      "cell_type": "markdown",
      "source": [
        "Ponemos el \"'MachineIdentifier' como índice"
      ],
      "metadata": {
        "id": "KTL6mF_k-1tU"
      }
    },
    {
      "cell_type": "code",
      "source": [
        "df.set_index('MachineIdentifier', inplace=True)"
      ],
      "metadata": {
        "id": "CCSq2DWC_DZ0"
      },
      "execution_count": null,
      "outputs": []
    },
    {
      "cell_type": "markdown",
      "source": [
        "### 2.1.3. Tipos de atributos disponibles (numéricos, Categóricos)"
      ],
      "metadata": {
        "id": "cj_CsGrOtmJO"
      }
    },
    {
      "cell_type": "markdown",
      "source": [
        "En este apartado visualizaremos los nombres y tipos de atributos disponibles e haremos un primer análisis de si el tipo de las variables se corresponde correctamente con el tipo de los datos que contienen.\n",
        "\n",
        "Destacaremos si hay que hacer algún cambio posteriormente.\n",
        "\n"
      ],
      "metadata": {
        "id": "ZKpp7LiFPwrE"
      }
    },
    {
      "cell_type": "code",
      "source": [
        "# Pare ello empezampos con un .info() y mirando los valores que cogen, con por ejemplo un .head() o incluso un describe().\n",
        "df.info(verbose=False)"
      ],
      "metadata": {
        "colab": {
          "base_uri": "https://localhost:8080/"
        },
        "id": "ffLxUeSUQhaf",
        "outputId": "0cdc312d-ebd8-4a7d-e9f7-ff2c3e9c5715"
      },
      "execution_count": null,
      "outputs": [
        {
          "output_type": "stream",
          "name": "stdout",
          "text": [
            "<class 'pandas.core.frame.DataFrame'>\n",
            "Index: 500000 entries, f1cd864e97bae82bdf96523e1a539121 to 7b45dc3537e17f16305c5983ca0a1cb9\n",
            "Columns: 83 entries, Unnamed: 0 to HasDetections\n",
            "dtypes: float64(36), int64(18), object(29)\n",
            "memory usage: 320.4+ MB\n"
          ]
        }
      ]
    },
    {
      "cell_type": "markdown",
      "source": [
        "Tenemos 29 variables de tipo Object, que se tendrán que pasar a numéricas para que las acepte el modelo, y 54 de tipo numérico que inicialmente ya podrían entrar directamente en el modelo. Vamos a hacer un info() sin el verbose para ver más información."
      ],
      "metadata": {
        "id": "PkX2kIDZBETJ"
      }
    },
    {
      "cell_type": "code",
      "source": [
        "df.info()"
      ],
      "metadata": {
        "colab": {
          "base_uri": "https://localhost:8080/"
        },
        "id": "qsMOP9qcB2fa",
        "outputId": "a092cef4-7b72-4c12-bc5d-0d89c44efcfc"
      },
      "execution_count": null,
      "outputs": [
        {
          "output_type": "stream",
          "name": "stdout",
          "text": [
            "<class 'pandas.core.frame.DataFrame'>\n",
            "Index: 500000 entries, f1cd864e97bae82bdf96523e1a539121 to 7b45dc3537e17f16305c5983ca0a1cb9\n",
            "Data columns (total 83 columns):\n",
            " #   Column                                             Non-Null Count   Dtype  \n",
            "---  ------                                             --------------   -----  \n",
            " 0   Unnamed: 0                                         500000 non-null  int64  \n",
            " 1   ProductName                                        500000 non-null  object \n",
            " 2   EngineVersion                                      500000 non-null  object \n",
            " 3   AppVersion                                         500000 non-null  object \n",
            " 4   AvSigVersion                                       500000 non-null  object \n",
            " 5   IsBeta                                             500000 non-null  int64  \n",
            " 6   RtpStateBitfield                                   498168 non-null  float64\n",
            " 7   IsSxsPassiveMode                                   500000 non-null  int64  \n",
            " 8   DefaultBrowsersIdentifier                          24061 non-null   float64\n",
            " 9   AVProductStatesIdentifier                          498062 non-null  float64\n",
            " 10  AVProductsInstalled                                498062 non-null  float64\n",
            " 11  AVProductsEnabled                                  498062 non-null  float64\n",
            " 12  HasTpm                                             500000 non-null  int64  \n",
            " 13  CountryIdentifier                                  500000 non-null  int64  \n",
            " 14  CityIdentifier                                     481760 non-null  float64\n",
            " 15  OrganizationIdentifier                             345437 non-null  float64\n",
            " 16  GeoNameIdentifier                                  499984 non-null  float64\n",
            " 17  LocaleEnglishNameIdentifier                        500000 non-null  int64  \n",
            " 18  Platform                                           500000 non-null  object \n",
            " 19  Processor                                          500000 non-null  object \n",
            " 20  OsVer                                              500000 non-null  object \n",
            " 21  OsBuild                                            500000 non-null  int64  \n",
            " 22  OsSuite                                            500000 non-null  int64  \n",
            " 23  OsPlatformSubRelease                               500000 non-null  object \n",
            " 24  OsBuildLab                                         499999 non-null  object \n",
            " 25  SkuEdition                                         500000 non-null  object \n",
            " 26  IsProtected                                        498074 non-null  float64\n",
            " 27  AutoSampleOptIn                                    500000 non-null  int64  \n",
            " 28  PuaMode                                            126 non-null     object \n",
            " 29  SMode                                              470152 non-null  float64\n",
            " 30  IeVerIdentifier                                    496791 non-null  float64\n",
            " 31  SmartScreen                                        321404 non-null  object \n",
            " 32  Firewall                                           494838 non-null  float64\n",
            " 33  UacLuaenable                                       499377 non-null  float64\n",
            " 34  Census_MDC2FormFactor                              500000 non-null  object \n",
            " 35  Census_DeviceFamily                                500000 non-null  object \n",
            " 36  Census_OEMNameIdentifier                           494619 non-null  float64\n",
            " 37  Census_OEMModelIdentifier                          494236 non-null  float64\n",
            " 38  Census_ProcessorCoreCount                          497653 non-null  float64\n",
            " 39  Census_ProcessorManufacturerIdentifier             497653 non-null  float64\n",
            " 40  Census_ProcessorModelIdentifier                    497651 non-null  float64\n",
            " 41  Census_ProcessorClass                              2082 non-null    object \n",
            " 42  Census_PrimaryDiskTotalCapacity                    497024 non-null  float64\n",
            " 43  Census_PrimaryDiskTypeName                         499291 non-null  object \n",
            " 44  Census_SystemVolumeTotalCapacity                   497024 non-null  float64\n",
            " 45  Census_HasOpticalDiskDrive                         500000 non-null  int64  \n",
            " 46  Census_TotalPhysicalRAM                            495444 non-null  float64\n",
            " 47  Census_ChassisTypeName                             499963 non-null  object \n",
            " 48  Census_InternalPrimaryDiagonalDisplaySizeInInches  497346 non-null  float64\n",
            " 49  Census_InternalPrimaryDisplayResolutionHorizontal  497350 non-null  float64\n",
            " 50  Census_InternalPrimaryDisplayResolutionVertical    497350 non-null  float64\n",
            " 51  Census_PowerPlatformRoleName                       499998 non-null  object \n",
            " 52  Census_InternalBatteryType                         144397 non-null  object \n",
            " 53  Census_InternalBatteryNumberOfCharges              484962 non-null  float64\n",
            " 54  Census_OSVersion                                   500000 non-null  object \n",
            " 55  Census_OSArchitecture                              500000 non-null  object \n",
            " 56  Census_OSBranch                                    500000 non-null  object \n",
            " 57  Census_OSBuildNumber                               500000 non-null  int64  \n",
            " 58  Census_OSBuildRevision                             500000 non-null  int64  \n",
            " 59  Census_OSEdition                                   500000 non-null  object \n",
            " 60  Census_OSSkuName                                   500000 non-null  object \n",
            " 61  Census_OSInstallTypeName                           500000 non-null  object \n",
            " 62  Census_OSInstallLanguageIdentifier                 496668 non-null  float64\n",
            " 63  Census_OSUILocaleIdentifier                        500000 non-null  int64  \n",
            " 64  Census_OSWUAutoUpdateOptionsName                   500000 non-null  object \n",
            " 65  Census_IsPortableOperatingSystem                   500000 non-null  int64  \n",
            " 66  Census_GenuineStateName                            500000 non-null  object \n",
            " 67  Census_ActivationChannel                           500000 non-null  object \n",
            " 68  Census_IsFlightingInternal                         84775 non-null   float64\n",
            " 69  Census_IsFlightsDisabled                           491067 non-null  float64\n",
            " 70  Census_FlightRing                                  500000 non-null  object \n",
            " 71  Census_ThresholdOptIn                              181896 non-null  float64\n",
            " 72  Census_FirmwareManufacturerIdentifier              489651 non-null  float64\n",
            " 73  Census_FirmwareVersionIdentifier                   490939 non-null  float64\n",
            " 74  Census_IsSecureBootEnabled                         500000 non-null  int64  \n",
            " 75  Census_IsWIMBootEnabled                            182334 non-null  float64\n",
            " 76  Census_IsVirtualDevice                             499099 non-null  float64\n",
            " 77  Census_IsTouchEnabled                              500000 non-null  int64  \n",
            " 78  Census_IsPenCapable                                500000 non-null  int64  \n",
            " 79  Census_IsAlwaysOnAlwaysConnectedCapable            495960 non-null  float64\n",
            " 80  Wdft_IsGamer                                       483050 non-null  float64\n",
            " 81  Wdft_RegionIdentifier                              483050 non-null  float64\n",
            " 82  HasDetections                                      500000 non-null  int64  \n",
            "dtypes: float64(36), int64(18), object(29)\n",
            "memory usage: 320.4+ MB\n"
          ]
        }
      ]
    },
    {
      "cell_type": "markdown",
      "source": [
        "Podemos ver que hay bastantes variables Numéricas que tienen nombre de Identifier. Las pondremos en una lista y las transformaremos.\n",
        "\n",
        "De todos modos, primero hacemos una primera división entre numéricas, objects y booleanas"
      ],
      "metadata": {
        "id": "Yx-7Lm5fB7dI"
      }
    },
    {
      "cell_type": "code",
      "source": [
        "def obtener_lista_variables(dataset, target):\n",
        "  \"\"\"\n",
        "  Funcion que separa las variables de un Dataframe por el tipo de datos que contienen. Separamos entre numéricas, booleanas y categóricas\n",
        "  \"\"\"\n",
        "\n",
        "  lista_numericas = []\n",
        "  lista_boolean = []\n",
        "  lista_categoricas = []\n",
        "\n",
        "  for i in dataset:\n",
        "    if ( ( dataset[i].dtype==\"int64\") or (dataset[i].dtype==\"float64\") )  and i not in target and len(dataset[i].unique())!=2:\n",
        "      lista_numericas.append(i)\n",
        "    elif ( ( dataset[i].dtype==\"int64\") or (dataset[i].dtype==\"float64\") )  and i not in target and len(dataset[i].unique())==2:\n",
        "      lista_boolean.append(i)\n",
        "    elif (dataset[i].dtype==\"object\") and i not in target:\n",
        "      lista_categoricas.append(i)\n",
        "  return lista_numericas, lista_boolean, lista_categoricas"
      ],
      "metadata": {
        "id": "Jax7LN7wFKQH"
      },
      "execution_count": null,
      "outputs": []
    },
    {
      "cell_type": "code",
      "source": [
        "l_num, l_bool, l_cat = obtener_lista_variables(df,TARGET)"
      ],
      "metadata": {
        "id": "ck6smuUGFOaF"
      },
      "execution_count": null,
      "outputs": []
    },
    {
      "cell_type": "markdown",
      "source": [
        "Miramos que no hayamos perdido ninguna variable. Tener en cuenta que no ha metido el TARGET en ninguna de las listas que se han creado"
      ],
      "metadata": {
        "id": "vAJYXIEIFqLh"
      }
    },
    {
      "cell_type": "code",
      "source": [
        "# Comparamos el número de columnas de df con la longitud de las listas creadas más el target.\n",
        "\n",
        "df.shape[1] == len(l_num + l_bool + l_cat + [TARGET])\n"
      ],
      "metadata": {
        "colab": {
          "base_uri": "https://localhost:8080/"
        },
        "id": "R0ysL84sGFGS",
        "outputId": "1ad3c928-8cba-426c-80dd-cda9074b3f7b"
      },
      "execution_count": null,
      "outputs": [
        {
          "output_type": "execute_result",
          "data": {
            "text/plain": [
              "True"
            ]
          },
          "metadata": {},
          "execution_count": 550
        }
      ]
    },
    {
      "cell_type": "markdown",
      "source": [
        "**Numéricas**\n",
        "\n"
      ],
      "metadata": {
        "id": "j8VYlzeBKO3R"
      }
    },
    {
      "cell_type": "code",
      "source": [
        "l_num"
      ],
      "metadata": {
        "colab": {
          "base_uri": "https://localhost:8080/"
        },
        "id": "LKHhk2NJiNln",
        "outputId": "1d308017-ebae-4da2-e912-b45386d915f3"
      },
      "execution_count": null,
      "outputs": [
        {
          "output_type": "execute_result",
          "data": {
            "text/plain": [
              "['Unnamed: 0',\n",
              " 'RtpStateBitfield',\n",
              " 'DefaultBrowsersIdentifier',\n",
              " 'AVProductStatesIdentifier',\n",
              " 'AVProductsInstalled',\n",
              " 'AVProductsEnabled',\n",
              " 'CountryIdentifier',\n",
              " 'CityIdentifier',\n",
              " 'OrganizationIdentifier',\n",
              " 'GeoNameIdentifier',\n",
              " 'LocaleEnglishNameIdentifier',\n",
              " 'OsBuild',\n",
              " 'OsSuite',\n",
              " 'IsProtected',\n",
              " 'SMode',\n",
              " 'IeVerIdentifier',\n",
              " 'Firewall',\n",
              " 'UacLuaenable',\n",
              " 'Census_OEMNameIdentifier',\n",
              " 'Census_OEMModelIdentifier',\n",
              " 'Census_ProcessorCoreCount',\n",
              " 'Census_ProcessorManufacturerIdentifier',\n",
              " 'Census_ProcessorModelIdentifier',\n",
              " 'Census_PrimaryDiskTotalCapacity',\n",
              " 'Census_SystemVolumeTotalCapacity',\n",
              " 'Census_TotalPhysicalRAM',\n",
              " 'Census_InternalPrimaryDiagonalDisplaySizeInInches',\n",
              " 'Census_InternalPrimaryDisplayResolutionHorizontal',\n",
              " 'Census_InternalPrimaryDisplayResolutionVertical',\n",
              " 'Census_InternalBatteryNumberOfCharges',\n",
              " 'Census_OSBuildNumber',\n",
              " 'Census_OSBuildRevision',\n",
              " 'Census_OSInstallLanguageIdentifier',\n",
              " 'Census_OSUILocaleIdentifier',\n",
              " 'Census_IsFlightingInternal',\n",
              " 'Census_IsFlightsDisabled',\n",
              " 'Census_ThresholdOptIn',\n",
              " 'Census_FirmwareManufacturerIdentifier',\n",
              " 'Census_FirmwareVersionIdentifier',\n",
              " 'Census_IsVirtualDevice',\n",
              " 'Census_IsAlwaysOnAlwaysConnectedCapable',\n",
              " 'Wdft_IsGamer',\n",
              " 'Wdft_RegionIdentifier']"
            ]
          },
          "metadata": {},
          "execution_count": 551
        }
      ]
    },
    {
      "cell_type": "markdown",
      "source": [
        "En las variables numéricas vemos que hay algunas con nombres que nos pueden indicar que no se han leído con la clase correcta:\n",
        "- Hay identificadores dentro de las variables numéricas (palabra Identifier en el nombre de la var).\n",
        "- Hay nombres de variable que parecen de variables booleanas. (Ejemplo: IsProtected o Wdft_IsGamer)"
      ],
      "metadata": {
        "id": "AD8uIT6VF2zx"
      }
    },
    {
      "cell_type": "markdown",
      "source": [
        "#### Identificadores cogidos como atributos numéricos"
      ],
      "metadata": {
        "id": "xizTNVqROFcj"
      }
    },
    {
      "cell_type": "markdown",
      "source": [
        " Creamos una lista con las variables que contienen en su nombre la palabra \"ID\"."
      ],
      "metadata": {
        "id": "IVvG1mLpiouJ"
      }
    },
    {
      "cell_type": "code",
      "source": [
        "# Hacemos un list comprehension para ello. Pasamos los nombres de columnas a mayúsculas para que no nos afecten.\n",
        "\n",
        "l_num_ids = [col for col in l_num if \"ID\" in col.upper()]\n"
      ],
      "metadata": {
        "id": "BXdZX1ApHP4y"
      },
      "execution_count": null,
      "outputs": []
    },
    {
      "cell_type": "code",
      "source": [
        "l_num_ids"
      ],
      "metadata": {
        "colab": {
          "base_uri": "https://localhost:8080/"
        },
        "id": "lFghgda8H561",
        "outputId": "e0a32627-7d28-4e53-e816-6fe6f3a4078a"
      },
      "execution_count": null,
      "outputs": [
        {
          "output_type": "execute_result",
          "data": {
            "text/plain": [
              "['DefaultBrowsersIdentifier',\n",
              " 'AVProductStatesIdentifier',\n",
              " 'CountryIdentifier',\n",
              " 'CityIdentifier',\n",
              " 'OrganizationIdentifier',\n",
              " 'GeoNameIdentifier',\n",
              " 'LocaleEnglishNameIdentifier',\n",
              " 'IeVerIdentifier',\n",
              " 'Census_OEMNameIdentifier',\n",
              " 'Census_OEMModelIdentifier',\n",
              " 'Census_ProcessorManufacturerIdentifier',\n",
              " 'Census_ProcessorModelIdentifier',\n",
              " 'Census_OSInstallLanguageIdentifier',\n",
              " 'Census_OSUILocaleIdentifier',\n",
              " 'Census_FirmwareManufacturerIdentifier',\n",
              " 'Census_FirmwareVersionIdentifier',\n",
              " 'Wdft_RegionIdentifier']"
            ]
          },
          "metadata": {},
          "execution_count": 553
        }
      ]
    },
    {
      "cell_type": "markdown",
      "source": [
        "Parece haber capturado bien las variables con la palabra \"Identifier\" en el nombre. Bien!\n",
        "\n",
        "Las visualizamos antes de convertirlas:"
      ],
      "metadata": {
        "id": "FNEJ-t1kIVhj"
      }
    },
    {
      "cell_type": "code",
      "source": [
        "df[l_num_ids].head().T"
      ],
      "metadata": {
        "colab": {
          "base_uri": "https://localhost:8080/",
          "height": 646
        },
        "id": "BlX-DvFdJAlN",
        "outputId": "a951bf12-33f5-49f5-e056-795e72f0f875"
      },
      "execution_count": null,
      "outputs": [
        {
          "output_type": "execute_result",
          "data": {
            "text/html": [
              "\n",
              "  <div id=\"df-50639dce-0a44-44be-b20b-fc0169411342\">\n",
              "    <div class=\"colab-df-container\">\n",
              "      <div>\n",
              "<style scoped>\n",
              "    .dataframe tbody tr th:only-of-type {\n",
              "        vertical-align: middle;\n",
              "    }\n",
              "\n",
              "    .dataframe tbody tr th {\n",
              "        vertical-align: top;\n",
              "    }\n",
              "\n",
              "    .dataframe thead th {\n",
              "        text-align: right;\n",
              "    }\n",
              "</style>\n",
              "<table border=\"1\" class=\"dataframe\">\n",
              "  <thead>\n",
              "    <tr style=\"text-align: right;\">\n",
              "      <th>MachineIdentifier</th>\n",
              "      <th>f1cd864e97bae82bdf96523e1a539121</th>\n",
              "      <th>fd5ba6f5b75325ec0423a6c67cc75942</th>\n",
              "      <th>4e628391e7cc7c482fb3286f486dbd25</th>\n",
              "      <th>270a2e9d028144a4df12a9e3da79fba5</th>\n",
              "      <th>06ca8fa8d32c2abdc5b3577d676b3269</th>\n",
              "    </tr>\n",
              "  </thead>\n",
              "  <tbody>\n",
              "    <tr>\n",
              "      <th>DefaultBrowsersIdentifier</th>\n",
              "      <td>nan</td>\n",
              "      <td>nan</td>\n",
              "      <td>nan</td>\n",
              "      <td>nan</td>\n",
              "      <td>nan</td>\n",
              "    </tr>\n",
              "    <tr>\n",
              "      <th>AVProductStatesIdentifier</th>\n",
              "      <td>53,447.00</td>\n",
              "      <td>53,447.00</td>\n",
              "      <td>46,781.00</td>\n",
              "      <td>53,447.00</td>\n",
              "      <td>47,238.00</td>\n",
              "    </tr>\n",
              "    <tr>\n",
              "      <th>CountryIdentifier</th>\n",
              "      <td>8.00</td>\n",
              "      <td>129.00</td>\n",
              "      <td>149.00</td>\n",
              "      <td>164.00</td>\n",
              "      <td>207.00</td>\n",
              "    </tr>\n",
              "    <tr>\n",
              "      <th>CityIdentifier</th>\n",
              "      <td>85,219.00</td>\n",
              "      <td>54,198.00</td>\n",
              "      <td>122,689.00</td>\n",
              "      <td>114,587.00</td>\n",
              "      <td>72,421.00</td>\n",
              "    </tr>\n",
              "    <tr>\n",
              "      <th>OrganizationIdentifier</th>\n",
              "      <td>nan</td>\n",
              "      <td>nan</td>\n",
              "      <td>27.00</td>\n",
              "      <td>27.00</td>\n",
              "      <td>27.00</td>\n",
              "    </tr>\n",
              "    <tr>\n",
              "      <th>GeoNameIdentifier</th>\n",
              "      <td>205.00</td>\n",
              "      <td>126.00</td>\n",
              "      <td>181.00</td>\n",
              "      <td>205.00</td>\n",
              "      <td>277.00</td>\n",
              "    </tr>\n",
              "    <tr>\n",
              "      <th>LocaleEnglishNameIdentifier</th>\n",
              "      <td>172.00</td>\n",
              "      <td>124.00</td>\n",
              "      <td>56.00</td>\n",
              "      <td>172.00</td>\n",
              "      <td>75.00</td>\n",
              "    </tr>\n",
              "    <tr>\n",
              "      <th>IeVerIdentifier</th>\n",
              "      <td>137.00</td>\n",
              "      <td>137.00</td>\n",
              "      <td>74.00</td>\n",
              "      <td>137.00</td>\n",
              "      <td>137.00</td>\n",
              "    </tr>\n",
              "    <tr>\n",
              "      <th>Census_OEMNameIdentifier</th>\n",
              "      <td>1,443.00</td>\n",
              "      <td>2,102.00</td>\n",
              "      <td>2,206.00</td>\n",
              "      <td>525.00</td>\n",
              "      <td>1,443.00</td>\n",
              "    </tr>\n",
              "    <tr>\n",
              "      <th>Census_OEMModelIdentifier</th>\n",
              "      <td>275,891.00</td>\n",
              "      <td>248,850.00</td>\n",
              "      <td>238,234.00</td>\n",
              "      <td>265,410.00</td>\n",
              "      <td>256,478.00</td>\n",
              "    </tr>\n",
              "    <tr>\n",
              "      <th>Census_ProcessorManufacturerIdentifier</th>\n",
              "      <td>5.00</td>\n",
              "      <td>5.00</td>\n",
              "      <td>5.00</td>\n",
              "      <td>5.00</td>\n",
              "      <td>1.00</td>\n",
              "    </tr>\n",
              "    <tr>\n",
              "      <th>Census_ProcessorModelIdentifier</th>\n",
              "      <td>2,273.00</td>\n",
              "      <td>2,660.00</td>\n",
              "      <td>2,998.00</td>\n",
              "      <td>2,880.00</td>\n",
              "      <td>198.00</td>\n",
              "    </tr>\n",
              "    <tr>\n",
              "      <th>Census_OSInstallLanguageIdentifier</th>\n",
              "      <td>27.00</td>\n",
              "      <td>18.00</td>\n",
              "      <td>24.00</td>\n",
              "      <td>27.00</td>\n",
              "      <td>8.00</td>\n",
              "    </tr>\n",
              "    <tr>\n",
              "      <th>Census_OSUILocaleIdentifier</th>\n",
              "      <td>120.00</td>\n",
              "      <td>72.00</td>\n",
              "      <td>109.00</td>\n",
              "      <td>120.00</td>\n",
              "      <td>31.00</td>\n",
              "    </tr>\n",
              "    <tr>\n",
              "      <th>Census_FirmwareManufacturerIdentifier</th>\n",
              "      <td>355.00</td>\n",
              "      <td>486.00</td>\n",
              "      <td>554.00</td>\n",
              "      <td>142.00</td>\n",
              "      <td>355.00</td>\n",
              "    </tr>\n",
              "    <tr>\n",
              "      <th>Census_FirmwareVersionIdentifier</th>\n",
              "      <td>19,951.00</td>\n",
              "      <td>48,753.00</td>\n",
              "      <td>33,111.00</td>\n",
              "      <td>48,473.00</td>\n",
              "      <td>4,343.00</td>\n",
              "    </tr>\n",
              "    <tr>\n",
              "      <th>Wdft_RegionIdentifier</th>\n",
              "      <td>11.00</td>\n",
              "      <td>3.00</td>\n",
              "      <td>15.00</td>\n",
              "      <td>15.00</td>\n",
              "      <td>13.00</td>\n",
              "    </tr>\n",
              "  </tbody>\n",
              "</table>\n",
              "</div>\n",
              "      <button class=\"colab-df-convert\" onclick=\"convertToInteractive('df-50639dce-0a44-44be-b20b-fc0169411342')\"\n",
              "              title=\"Convert this dataframe to an interactive table.\"\n",
              "              style=\"display:none;\">\n",
              "        \n",
              "  <svg xmlns=\"http://www.w3.org/2000/svg\" height=\"24px\"viewBox=\"0 0 24 24\"\n",
              "       width=\"24px\">\n",
              "    <path d=\"M0 0h24v24H0V0z\" fill=\"none\"/>\n",
              "    <path d=\"M18.56 5.44l.94 2.06.94-2.06 2.06-.94-2.06-.94-.94-2.06-.94 2.06-2.06.94zm-11 1L8.5 8.5l.94-2.06 2.06-.94-2.06-.94L8.5 2.5l-.94 2.06-2.06.94zm10 10l.94 2.06.94-2.06 2.06-.94-2.06-.94-.94-2.06-.94 2.06-2.06.94z\"/><path d=\"M17.41 7.96l-1.37-1.37c-.4-.4-.92-.59-1.43-.59-.52 0-1.04.2-1.43.59L10.3 9.45l-7.72 7.72c-.78.78-.78 2.05 0 2.83L4 21.41c.39.39.9.59 1.41.59.51 0 1.02-.2 1.41-.59l7.78-7.78 2.81-2.81c.8-.78.8-2.07 0-2.86zM5.41 20L4 18.59l7.72-7.72 1.47 1.35L5.41 20z\"/>\n",
              "  </svg>\n",
              "      </button>\n",
              "      \n",
              "  <style>\n",
              "    .colab-df-container {\n",
              "      display:flex;\n",
              "      flex-wrap:wrap;\n",
              "      gap: 12px;\n",
              "    }\n",
              "\n",
              "    .colab-df-convert {\n",
              "      background-color: #E8F0FE;\n",
              "      border: none;\n",
              "      border-radius: 50%;\n",
              "      cursor: pointer;\n",
              "      display: none;\n",
              "      fill: #1967D2;\n",
              "      height: 32px;\n",
              "      padding: 0 0 0 0;\n",
              "      width: 32px;\n",
              "    }\n",
              "\n",
              "    .colab-df-convert:hover {\n",
              "      background-color: #E2EBFA;\n",
              "      box-shadow: 0px 1px 2px rgba(60, 64, 67, 0.3), 0px 1px 3px 1px rgba(60, 64, 67, 0.15);\n",
              "      fill: #174EA6;\n",
              "    }\n",
              "\n",
              "    [theme=dark] .colab-df-convert {\n",
              "      background-color: #3B4455;\n",
              "      fill: #D2E3FC;\n",
              "    }\n",
              "\n",
              "    [theme=dark] .colab-df-convert:hover {\n",
              "      background-color: #434B5C;\n",
              "      box-shadow: 0px 1px 3px 1px rgba(0, 0, 0, 0.15);\n",
              "      filter: drop-shadow(0px 1px 2px rgba(0, 0, 0, 0.3));\n",
              "      fill: #FFFFFF;\n",
              "    }\n",
              "  </style>\n",
              "\n",
              "      <script>\n",
              "        const buttonEl =\n",
              "          document.querySelector('#df-50639dce-0a44-44be-b20b-fc0169411342 button.colab-df-convert');\n",
              "        buttonEl.style.display =\n",
              "          google.colab.kernel.accessAllowed ? 'block' : 'none';\n",
              "\n",
              "        async function convertToInteractive(key) {\n",
              "          const element = document.querySelector('#df-50639dce-0a44-44be-b20b-fc0169411342');\n",
              "          const dataTable =\n",
              "            await google.colab.kernel.invokeFunction('convertToInteractive',\n",
              "                                                     [key], {});\n",
              "          if (!dataTable) return;\n",
              "\n",
              "          const docLinkHtml = 'Like what you see? Visit the ' +\n",
              "            '<a target=\"_blank\" href=https://colab.research.google.com/notebooks/data_table.ipynb>data table notebook</a>'\n",
              "            + ' to learn more about interactive tables.';\n",
              "          element.innerHTML = '';\n",
              "          dataTable['output_type'] = 'display_data';\n",
              "          await google.colab.output.renderOutput(dataTable, element);\n",
              "          const docLink = document.createElement('div');\n",
              "          docLink.innerHTML = docLinkHtml;\n",
              "          element.appendChild(docLink);\n",
              "        }\n",
              "      </script>\n",
              "    </div>\n",
              "  </div>\n",
              "  "
            ],
            "text/plain": [
              "MachineIdentifier                       f1cd864e97bae82bdf96523e1a539121  ...  06ca8fa8d32c2abdc5b3577d676b3269\n",
              "DefaultBrowsersIdentifier                                            nan  ...                               nan\n",
              "AVProductStatesIdentifier                                      53,447.00  ...                         47,238.00\n",
              "CountryIdentifier                                                   8.00  ...                            207.00\n",
              "CityIdentifier                                                 85,219.00  ...                         72,421.00\n",
              "OrganizationIdentifier                                               nan  ...                             27.00\n",
              "GeoNameIdentifier                                                 205.00  ...                            277.00\n",
              "LocaleEnglishNameIdentifier                                       172.00  ...                             75.00\n",
              "IeVerIdentifier                                                   137.00  ...                            137.00\n",
              "Census_OEMNameIdentifier                                        1,443.00  ...                          1,443.00\n",
              "Census_OEMModelIdentifier                                     275,891.00  ...                        256,478.00\n",
              "Census_ProcessorManufacturerIdentifier                              5.00  ...                              1.00\n",
              "Census_ProcessorModelIdentifier                                 2,273.00  ...                            198.00\n",
              "Census_OSInstallLanguageIdentifier                                 27.00  ...                              8.00\n",
              "Census_OSUILocaleIdentifier                                       120.00  ...                             31.00\n",
              "Census_FirmwareManufacturerIdentifier                             355.00  ...                            355.00\n",
              "Census_FirmwareVersionIdentifier                               19,951.00  ...                          4,343.00\n",
              "Wdft_RegionIdentifier                                              11.00  ...                             13.00\n",
              "\n",
              "[17 rows x 5 columns]"
            ]
          },
          "metadata": {},
          "execution_count": 554
        }
      ]
    },
    {
      "cell_type": "markdown",
      "source": [
        "Parece que hemos un par de variables que tiene información de versiones. Las quitaremos de la lista porque al ser versiones y ser numéricas, pueden tener un sentido de orden que nos puede interesar."
      ],
      "metadata": {
        "id": "qUwi0_oqJgfw"
      }
    },
    {
      "cell_type": "code",
      "source": [
        "l_num_ids.remove(\"IeVerIdentifier\")\n",
        "l_num_ids.remove(\"Census_FirmwareVersionIdentifier\")\n"
      ],
      "metadata": {
        "id": "0unF1hh-KQu3"
      },
      "execution_count": null,
      "outputs": []
    },
    {
      "cell_type": "markdown",
      "source": [
        "Transformamos las variables a Object"
      ],
      "metadata": {
        "id": "zXWNGv6hLiRQ"
      }
    },
    {
      "cell_type": "code",
      "source": [
        "for col in l_num_ids:\n",
        "  df[col] = df[col].astype(object)"
      ],
      "metadata": {
        "id": "Gwugd7ZRLpD6"
      },
      "execution_count": null,
      "outputs": []
    },
    {
      "cell_type": "markdown",
      "source": [
        "Volvemos a crear listas de colummas por tipo."
      ],
      "metadata": {
        "id": "geYVfo2RRWxc"
      }
    },
    {
      "cell_type": "code",
      "source": [
        "l_num, l_bool, l_cat = obtener_lista_variables(df,TARGET)\n",
        "df.shape[1] == len(l_num + l_bool + l_cat + [TARGET])"
      ],
      "metadata": {
        "colab": {
          "base_uri": "https://localhost:8080/"
        },
        "id": "b7iLHIcARi6-",
        "outputId": "62acdd10-8d32-43eb-ea77-dddfe5d794fd"
      },
      "execution_count": null,
      "outputs": [
        {
          "output_type": "execute_result",
          "data": {
            "text/plain": [
              "True"
            ]
          },
          "metadata": {},
          "execution_count": 557
        }
      ]
    },
    {
      "cell_type": "code",
      "source": [
        "df.info(verbose=False)"
      ],
      "metadata": {
        "colab": {
          "base_uri": "https://localhost:8080/"
        },
        "id": "DNBweJC3Lz3i",
        "outputId": "7d891d8d-00af-49b0-ac4d-ca611f6006fb"
      },
      "execution_count": null,
      "outputs": [
        {
          "output_type": "stream",
          "name": "stdout",
          "text": [
            "<class 'pandas.core.frame.DataFrame'>\n",
            "Index: 500000 entries, f1cd864e97bae82bdf96523e1a539121 to 7b45dc3537e17f16305c5983ca0a1cb9\n",
            "Columns: 83 entries, Unnamed: 0 to HasDetections\n",
            "dtypes: float64(24), int64(15), object(44)\n",
            "memory usage: 320.4+ MB\n"
          ]
        }
      ]
    },
    {
      "cell_type": "markdown",
      "source": [
        "Vemos como se han incrementado el número de varibles de tipo Object.\n",
        "En la sección siguiente trataremos las que están recogidas como numéricas pero que parecen booleanas por el nombre."
      ],
      "metadata": {
        "id": "w8rKIVjiL-Gs"
      }
    },
    {
      "cell_type": "markdown",
      "source": [
        "**Categóricas**"
      ],
      "metadata": {
        "id": "kGKTLj4iJngo"
      }
    },
    {
      "cell_type": "code",
      "source": [
        "l_cat"
      ],
      "metadata": {
        "colab": {
          "base_uri": "https://localhost:8080/"
        },
        "id": "0kfXM6IvK2h5",
        "outputId": "ce0c6e3d-4ebb-48aa-d041-7db6203c9d7e"
      },
      "execution_count": null,
      "outputs": [
        {
          "output_type": "execute_result",
          "data": {
            "text/plain": [
              "['ProductName',\n",
              " 'EngineVersion',\n",
              " 'AppVersion',\n",
              " 'AvSigVersion',\n",
              " 'DefaultBrowsersIdentifier',\n",
              " 'AVProductStatesIdentifier',\n",
              " 'CountryIdentifier',\n",
              " 'CityIdentifier',\n",
              " 'OrganizationIdentifier',\n",
              " 'GeoNameIdentifier',\n",
              " 'LocaleEnglishNameIdentifier',\n",
              " 'Platform',\n",
              " 'Processor',\n",
              " 'OsVer',\n",
              " 'OsPlatformSubRelease',\n",
              " 'OsBuildLab',\n",
              " 'SkuEdition',\n",
              " 'PuaMode',\n",
              " 'SmartScreen',\n",
              " 'Census_MDC2FormFactor',\n",
              " 'Census_DeviceFamily',\n",
              " 'Census_OEMNameIdentifier',\n",
              " 'Census_OEMModelIdentifier',\n",
              " 'Census_ProcessorManufacturerIdentifier',\n",
              " 'Census_ProcessorModelIdentifier',\n",
              " 'Census_ProcessorClass',\n",
              " 'Census_PrimaryDiskTypeName',\n",
              " 'Census_ChassisTypeName',\n",
              " 'Census_PowerPlatformRoleName',\n",
              " 'Census_InternalBatteryType',\n",
              " 'Census_OSVersion',\n",
              " 'Census_OSArchitecture',\n",
              " 'Census_OSBranch',\n",
              " 'Census_OSEdition',\n",
              " 'Census_OSSkuName',\n",
              " 'Census_OSInstallTypeName',\n",
              " 'Census_OSInstallLanguageIdentifier',\n",
              " 'Census_OSUILocaleIdentifier',\n",
              " 'Census_OSWUAutoUpdateOptionsName',\n",
              " 'Census_GenuineStateName',\n",
              " 'Census_ActivationChannel',\n",
              " 'Census_FlightRing',\n",
              " 'Census_FirmwareManufacturerIdentifier',\n",
              " 'Wdft_RegionIdentifier']"
            ]
          },
          "metadata": {},
          "execution_count": 559
        }
      ]
    },
    {
      "cell_type": "markdown",
      "source": [
        "- Hay varios nombres de variables que indican versiones. Habrá que analizar su contenido y distribución para ver si se podrían pasar a numéricas. Las analizaremos cuando hagamos el EDA de las variables.\n",
        "- No vemos ningún nombre de variables que nos haga pensar en variables booleanas."
      ],
      "metadata": {
        "id": "5EirLA6tK2oT"
      }
    },
    {
      "cell_type": "markdown",
      "source": [
        "### Estadísticos descriptivos\n",
        "\n",
        "Como tenemos un dataset muy grande, intentaremos reducir el número de variables a partir de la información que encontremos mediante el descriptivo estadístico, eliminando variables con muy poca varianza o demasiada."
      ],
      "metadata": {
        "id": "GomSjluTME-M"
      }
    },
    {
      "cell_type": "markdown",
      "source": [
        "Objetivo:\n",
        "\n",
        "Buscar la distribución de las variables (máximo/mínimo), para saber luego como imputar los nulos.\n",
        "Identificar las etiquetas diferentes que tengo en las categóricas. --> Ok, pero hay variables que voy a tener que pasar de numéricas a catagóricas!!\n",
        "Comprobamos si hay alguna con Unique = 1, o igual al número total de filas"
      ],
      "metadata": {
        "id": "VlooJnEGSf8f"
      }
    },
    {
      "cell_type": "markdown",
      "source": [
        "#### Booleanos"
      ],
      "metadata": {
        "id": "uPtZbKDYW06E"
      }
    },
    {
      "cell_type": "code",
      "source": [
        "df[l_bool].describe().T"
      ],
      "metadata": {
        "colab": {
          "base_uri": "https://localhost:8080/",
          "height": 363
        },
        "id": "YKBvlprbVVH8",
        "outputId": "bb8c711a-f8c5-438a-9a8f-7a15e974c152"
      },
      "execution_count": null,
      "outputs": [
        {
          "output_type": "execute_result",
          "data": {
            "text/html": [
              "\n",
              "  <div id=\"df-140cc94d-2f4f-4096-af3c-e84b24e37354\">\n",
              "    <div class=\"colab-df-container\">\n",
              "      <div>\n",
              "<style scoped>\n",
              "    .dataframe tbody tr th:only-of-type {\n",
              "        vertical-align: middle;\n",
              "    }\n",
              "\n",
              "    .dataframe tbody tr th {\n",
              "        vertical-align: top;\n",
              "    }\n",
              "\n",
              "    .dataframe thead th {\n",
              "        text-align: right;\n",
              "    }\n",
              "</style>\n",
              "<table border=\"1\" class=\"dataframe\">\n",
              "  <thead>\n",
              "    <tr style=\"text-align: right;\">\n",
              "      <th></th>\n",
              "      <th>count</th>\n",
              "      <th>mean</th>\n",
              "      <th>std</th>\n",
              "      <th>min</th>\n",
              "      <th>25%</th>\n",
              "      <th>50%</th>\n",
              "      <th>75%</th>\n",
              "      <th>max</th>\n",
              "    </tr>\n",
              "  </thead>\n",
              "  <tbody>\n",
              "    <tr>\n",
              "      <th>IsBeta</th>\n",
              "      <td>500,000.00</td>\n",
              "      <td>0.00</td>\n",
              "      <td>0.00</td>\n",
              "      <td>0.00</td>\n",
              "      <td>0.00</td>\n",
              "      <td>0.00</td>\n",
              "      <td>0.00</td>\n",
              "      <td>1.00</td>\n",
              "    </tr>\n",
              "    <tr>\n",
              "      <th>IsSxsPassiveMode</th>\n",
              "      <td>500,000.00</td>\n",
              "      <td>0.02</td>\n",
              "      <td>0.13</td>\n",
              "      <td>0.00</td>\n",
              "      <td>0.00</td>\n",
              "      <td>0.00</td>\n",
              "      <td>0.00</td>\n",
              "      <td>1.00</td>\n",
              "    </tr>\n",
              "    <tr>\n",
              "      <th>HasTpm</th>\n",
              "      <td>500,000.00</td>\n",
              "      <td>0.99</td>\n",
              "      <td>0.11</td>\n",
              "      <td>0.00</td>\n",
              "      <td>1.00</td>\n",
              "      <td>1.00</td>\n",
              "      <td>1.00</td>\n",
              "      <td>1.00</td>\n",
              "    </tr>\n",
              "    <tr>\n",
              "      <th>AutoSampleOptIn</th>\n",
              "      <td>500,000.00</td>\n",
              "      <td>0.00</td>\n",
              "      <td>0.01</td>\n",
              "      <td>0.00</td>\n",
              "      <td>0.00</td>\n",
              "      <td>0.00</td>\n",
              "      <td>0.00</td>\n",
              "      <td>1.00</td>\n",
              "    </tr>\n",
              "    <tr>\n",
              "      <th>Census_HasOpticalDiskDrive</th>\n",
              "      <td>500,000.00</td>\n",
              "      <td>0.08</td>\n",
              "      <td>0.27</td>\n",
              "      <td>0.00</td>\n",
              "      <td>0.00</td>\n",
              "      <td>0.00</td>\n",
              "      <td>0.00</td>\n",
              "      <td>1.00</td>\n",
              "    </tr>\n",
              "    <tr>\n",
              "      <th>Census_IsPortableOperatingSystem</th>\n",
              "      <td>500,000.00</td>\n",
              "      <td>0.00</td>\n",
              "      <td>0.02</td>\n",
              "      <td>0.00</td>\n",
              "      <td>0.00</td>\n",
              "      <td>0.00</td>\n",
              "      <td>0.00</td>\n",
              "      <td>1.00</td>\n",
              "    </tr>\n",
              "    <tr>\n",
              "      <th>Census_IsSecureBootEnabled</th>\n",
              "      <td>500,000.00</td>\n",
              "      <td>0.49</td>\n",
              "      <td>0.50</td>\n",
              "      <td>0.00</td>\n",
              "      <td>0.00</td>\n",
              "      <td>0.00</td>\n",
              "      <td>1.00</td>\n",
              "      <td>1.00</td>\n",
              "    </tr>\n",
              "    <tr>\n",
              "      <th>Census_IsWIMBootEnabled</th>\n",
              "      <td>182,334.00</td>\n",
              "      <td>0.00</td>\n",
              "      <td>0.00</td>\n",
              "      <td>0.00</td>\n",
              "      <td>0.00</td>\n",
              "      <td>0.00</td>\n",
              "      <td>0.00</td>\n",
              "      <td>0.00</td>\n",
              "    </tr>\n",
              "    <tr>\n",
              "      <th>Census_IsTouchEnabled</th>\n",
              "      <td>500,000.00</td>\n",
              "      <td>0.13</td>\n",
              "      <td>0.33</td>\n",
              "      <td>0.00</td>\n",
              "      <td>0.00</td>\n",
              "      <td>0.00</td>\n",
              "      <td>0.00</td>\n",
              "      <td>1.00</td>\n",
              "    </tr>\n",
              "    <tr>\n",
              "      <th>Census_IsPenCapable</th>\n",
              "      <td>500,000.00</td>\n",
              "      <td>0.04</td>\n",
              "      <td>0.19</td>\n",
              "      <td>0.00</td>\n",
              "      <td>0.00</td>\n",
              "      <td>0.00</td>\n",
              "      <td>0.00</td>\n",
              "      <td>1.00</td>\n",
              "    </tr>\n",
              "  </tbody>\n",
              "</table>\n",
              "</div>\n",
              "      <button class=\"colab-df-convert\" onclick=\"convertToInteractive('df-140cc94d-2f4f-4096-af3c-e84b24e37354')\"\n",
              "              title=\"Convert this dataframe to an interactive table.\"\n",
              "              style=\"display:none;\">\n",
              "        \n",
              "  <svg xmlns=\"http://www.w3.org/2000/svg\" height=\"24px\"viewBox=\"0 0 24 24\"\n",
              "       width=\"24px\">\n",
              "    <path d=\"M0 0h24v24H0V0z\" fill=\"none\"/>\n",
              "    <path d=\"M18.56 5.44l.94 2.06.94-2.06 2.06-.94-2.06-.94-.94-2.06-.94 2.06-2.06.94zm-11 1L8.5 8.5l.94-2.06 2.06-.94-2.06-.94L8.5 2.5l-.94 2.06-2.06.94zm10 10l.94 2.06.94-2.06 2.06-.94-2.06-.94-.94-2.06-.94 2.06-2.06.94z\"/><path d=\"M17.41 7.96l-1.37-1.37c-.4-.4-.92-.59-1.43-.59-.52 0-1.04.2-1.43.59L10.3 9.45l-7.72 7.72c-.78.78-.78 2.05 0 2.83L4 21.41c.39.39.9.59 1.41.59.51 0 1.02-.2 1.41-.59l7.78-7.78 2.81-2.81c.8-.78.8-2.07 0-2.86zM5.41 20L4 18.59l7.72-7.72 1.47 1.35L5.41 20z\"/>\n",
              "  </svg>\n",
              "      </button>\n",
              "      \n",
              "  <style>\n",
              "    .colab-df-container {\n",
              "      display:flex;\n",
              "      flex-wrap:wrap;\n",
              "      gap: 12px;\n",
              "    }\n",
              "\n",
              "    .colab-df-convert {\n",
              "      background-color: #E8F0FE;\n",
              "      border: none;\n",
              "      border-radius: 50%;\n",
              "      cursor: pointer;\n",
              "      display: none;\n",
              "      fill: #1967D2;\n",
              "      height: 32px;\n",
              "      padding: 0 0 0 0;\n",
              "      width: 32px;\n",
              "    }\n",
              "\n",
              "    .colab-df-convert:hover {\n",
              "      background-color: #E2EBFA;\n",
              "      box-shadow: 0px 1px 2px rgba(60, 64, 67, 0.3), 0px 1px 3px 1px rgba(60, 64, 67, 0.15);\n",
              "      fill: #174EA6;\n",
              "    }\n",
              "\n",
              "    [theme=dark] .colab-df-convert {\n",
              "      background-color: #3B4455;\n",
              "      fill: #D2E3FC;\n",
              "    }\n",
              "\n",
              "    [theme=dark] .colab-df-convert:hover {\n",
              "      background-color: #434B5C;\n",
              "      box-shadow: 0px 1px 3px 1px rgba(0, 0, 0, 0.15);\n",
              "      filter: drop-shadow(0px 1px 2px rgba(0, 0, 0, 0.3));\n",
              "      fill: #FFFFFF;\n",
              "    }\n",
              "  </style>\n",
              "\n",
              "      <script>\n",
              "        const buttonEl =\n",
              "          document.querySelector('#df-140cc94d-2f4f-4096-af3c-e84b24e37354 button.colab-df-convert');\n",
              "        buttonEl.style.display =\n",
              "          google.colab.kernel.accessAllowed ? 'block' : 'none';\n",
              "\n",
              "        async function convertToInteractive(key) {\n",
              "          const element = document.querySelector('#df-140cc94d-2f4f-4096-af3c-e84b24e37354');\n",
              "          const dataTable =\n",
              "            await google.colab.kernel.invokeFunction('convertToInteractive',\n",
              "                                                     [key], {});\n",
              "          if (!dataTable) return;\n",
              "\n",
              "          const docLinkHtml = 'Like what you see? Visit the ' +\n",
              "            '<a target=\"_blank\" href=https://colab.research.google.com/notebooks/data_table.ipynb>data table notebook</a>'\n",
              "            + ' to learn more about interactive tables.';\n",
              "          element.innerHTML = '';\n",
              "          dataTable['output_type'] = 'display_data';\n",
              "          await google.colab.output.renderOutput(dataTable, element);\n",
              "          const docLink = document.createElement('div');\n",
              "          docLink.innerHTML = docLinkHtml;\n",
              "          element.appendChild(docLink);\n",
              "        }\n",
              "      </script>\n",
              "    </div>\n",
              "  </div>\n",
              "  "
            ],
            "text/plain": [
              "                                      count  mean  std  min  25%  50%  75%  max\n",
              "IsBeta                           500,000.00  0.00 0.00 0.00 0.00 0.00 0.00 1.00\n",
              "IsSxsPassiveMode                 500,000.00  0.02 0.13 0.00 0.00 0.00 0.00 1.00\n",
              "HasTpm                           500,000.00  0.99 0.11 0.00 1.00 1.00 1.00 1.00\n",
              "AutoSampleOptIn                  500,000.00  0.00 0.01 0.00 0.00 0.00 0.00 1.00\n",
              "Census_HasOpticalDiskDrive       500,000.00  0.08 0.27 0.00 0.00 0.00 0.00 1.00\n",
              "Census_IsPortableOperatingSystem 500,000.00  0.00 0.02 0.00 0.00 0.00 0.00 1.00\n",
              "Census_IsSecureBootEnabled       500,000.00  0.49 0.50 0.00 0.00 0.00 1.00 1.00\n",
              "Census_IsWIMBootEnabled          182,334.00  0.00 0.00 0.00 0.00 0.00 0.00 0.00\n",
              "Census_IsTouchEnabled            500,000.00  0.13 0.33 0.00 0.00 0.00 0.00 1.00\n",
              "Census_IsPenCapable              500,000.00  0.04 0.19 0.00 0.00 0.00 0.00 1.00"
            ]
          },
          "metadata": {},
          "execution_count": 560
        }
      ]
    },
    {
      "cell_type": "markdown",
      "source": [
        "Vemos algunas variables con una varianza muy baja. Los analizamos con un value_counts, y creamos una lista de variables que eliminaremos. Prestamos atención a la variable **\"Census_IsWIMBootEnabled\"**, que tiene sólo un valor (el max y el min son iguales), pero tiene muchos nulos, con lo cual podemos atribuir los nulos a la etiqueta faltante, que sería el 1."
      ],
      "metadata": {
        "id": "dWlREHprXYst"
      }
    },
    {
      "cell_type": "markdown",
      "source": [
        "Visualizamos la distribución de las variables con una desviación estándar pequeña, de menos de 0.2, para ver sobre qué rango nos movemos."
      ],
      "metadata": {
        "id": "-Skpzu3XQHRJ"
      }
    },
    {
      "cell_type": "code",
      "source": [
        "aux_df = df[l_bool].describe().T\n",
        "cols = aux_df[aux_df[\"std\"] < 0.2].index\n",
        "print(cols)\n",
        "for col in cols:\n",
        " print(df[col].value_counts())"
      ],
      "metadata": {
        "colab": {
          "base_uri": "https://localhost:8080/"
        },
        "id": "sbdvmlJLXtaH",
        "outputId": "098dd2eb-a431-4e30-c03b-cb89e1b3b35a"
      },
      "execution_count": null,
      "outputs": [
        {
          "output_type": "stream",
          "name": "stdout",
          "text": [
            "Index(['IsBeta', 'IsSxsPassiveMode', 'HasTpm', 'AutoSampleOptIn',\n",
            "       'Census_IsPortableOperatingSystem', 'Census_IsWIMBootEnabled',\n",
            "       'Census_IsPenCapable'],\n",
            "      dtype='object')\n",
            "0    499999\n",
            "1         1\n",
            "Name: IsBeta, dtype: int64\n",
            "0    491379\n",
            "1      8621\n",
            "Name: IsSxsPassiveMode, dtype: int64\n",
            "1    493908\n",
            "0      6092\n",
            "Name: HasTpm, dtype: int64\n",
            "0    499986\n",
            "1        14\n",
            "Name: AutoSampleOptIn, dtype: int64\n",
            "0    499739\n",
            "1       261\n",
            "Name: Census_IsPortableOperatingSystem, dtype: int64\n",
            "0.00    182334\n",
            "Name: Census_IsWIMBootEnabled, dtype: int64\n",
            "0    481128\n",
            "1     18872\n",
            "Name: Census_IsPenCapable, dtype: int64\n"
          ]
        }
      ]
    },
    {
      "cell_type": "markdown",
      "source": [
        "Eliminaremos todas aquellas variables que tienen un mismo valor en más de 495000 registros."
      ],
      "metadata": {
        "id": "ZpUA0KiiQUvo"
      }
    },
    {
      "cell_type": "code",
      "source": [
        "MAX_ETIQ_IGUALES = 495000"
      ],
      "metadata": {
        "id": "IkH293klqhZJ"
      },
      "execution_count": null,
      "outputs": []
    },
    {
      "cell_type": "code",
      "source": [
        "var_to_drop = []\n",
        "aux_df = df[l_bool].describe().T\n",
        "cols = aux_df.index\n",
        "print(cols)\n",
        "for col in cols:\n",
        "  print(df[col].value_counts())\n",
        "  if df[col].value_counts()[0] > MAX_ETIQ_IGUALES:\n",
        "    var_to_drop.append(col)\n",
        "var_to_drop"
      ],
      "metadata": {
        "colab": {
          "base_uri": "https://localhost:8080/"
        },
        "id": "rjJWxSV-PsDG",
        "outputId": "5a6c4d05-c8c1-424b-be8c-fcc96b69a7b6"
      },
      "execution_count": null,
      "outputs": [
        {
          "output_type": "stream",
          "name": "stdout",
          "text": [
            "Index(['IsBeta', 'IsSxsPassiveMode', 'HasTpm', 'AutoSampleOptIn',\n",
            "       'Census_HasOpticalDiskDrive', 'Census_IsPortableOperatingSystem',\n",
            "       'Census_IsSecureBootEnabled', 'Census_IsWIMBootEnabled',\n",
            "       'Census_IsTouchEnabled', 'Census_IsPenCapable'],\n",
            "      dtype='object')\n",
            "0    499999\n",
            "1         1\n",
            "Name: IsBeta, dtype: int64\n",
            "0    491379\n",
            "1      8621\n",
            "Name: IsSxsPassiveMode, dtype: int64\n",
            "1    493908\n",
            "0      6092\n",
            "Name: HasTpm, dtype: int64\n",
            "0    499986\n",
            "1        14\n",
            "Name: AutoSampleOptIn, dtype: int64\n",
            "0    461483\n",
            "1     38517\n",
            "Name: Census_HasOpticalDiskDrive, dtype: int64\n",
            "0    499739\n",
            "1       261\n",
            "Name: Census_IsPortableOperatingSystem, dtype: int64\n",
            "0    257281\n",
            "1    242719\n",
            "Name: Census_IsSecureBootEnabled, dtype: int64\n",
            "0.00    182334\n",
            "Name: Census_IsWIMBootEnabled, dtype: int64\n",
            "0    437283\n",
            "1     62717\n",
            "Name: Census_IsTouchEnabled, dtype: int64\n",
            "0    481128\n",
            "1     18872\n",
            "Name: Census_IsPenCapable, dtype: int64\n"
          ]
        },
        {
          "output_type": "execute_result",
          "data": {
            "text/plain": [
              "['IsBeta', 'AutoSampleOptIn', 'Census_IsPortableOperatingSystem']"
            ]
          },
          "metadata": {},
          "execution_count": 563
        }
      ]
    },
    {
      "cell_type": "markdown",
      "source": [
        "#### Categóricas"
      ],
      "metadata": {
        "id": "MHkEp7Xdc6tZ"
      }
    },
    {
      "cell_type": "code",
      "source": [
        "df.select_dtypes(include=['object']).describe().T"
      ],
      "metadata": {
        "colab": {
          "base_uri": "https://localhost:8080/",
          "height": 1000
        },
        "id": "omWVRv3tqNgU",
        "outputId": "2511532f-0bcb-4ff8-a1c9-4b187a36af98"
      },
      "execution_count": null,
      "outputs": [
        {
          "output_type": "execute_result",
          "data": {
            "text/html": [
              "\n",
              "  <div id=\"df-ebc5526c-7c5e-4cd1-b53e-76efecebcefe\">\n",
              "    <div class=\"colab-df-container\">\n",
              "      <div>\n",
              "<style scoped>\n",
              "    .dataframe tbody tr th:only-of-type {\n",
              "        vertical-align: middle;\n",
              "    }\n",
              "\n",
              "    .dataframe tbody tr th {\n",
              "        vertical-align: top;\n",
              "    }\n",
              "\n",
              "    .dataframe thead th {\n",
              "        text-align: right;\n",
              "    }\n",
              "</style>\n",
              "<table border=\"1\" class=\"dataframe\">\n",
              "  <thead>\n",
              "    <tr style=\"text-align: right;\">\n",
              "      <th></th>\n",
              "      <th>count</th>\n",
              "      <th>unique</th>\n",
              "      <th>top</th>\n",
              "      <th>freq</th>\n",
              "    </tr>\n",
              "  </thead>\n",
              "  <tbody>\n",
              "    <tr>\n",
              "      <th>ProductName</th>\n",
              "      <td>500000</td>\n",
              "      <td>3</td>\n",
              "      <td>win8defender</td>\n",
              "      <td>494604</td>\n",
              "    </tr>\n",
              "    <tr>\n",
              "      <th>EngineVersion</th>\n",
              "      <td>500000</td>\n",
              "      <td>53</td>\n",
              "      <td>1.1.15200.1</td>\n",
              "      <td>216491</td>\n",
              "    </tr>\n",
              "    <tr>\n",
              "      <th>AppVersion</th>\n",
              "      <td>500000</td>\n",
              "      <td>95</td>\n",
              "      <td>4.18.1807.18075</td>\n",
              "      <td>288809</td>\n",
              "    </tr>\n",
              "    <tr>\n",
              "      <th>AvSigVersion</th>\n",
              "      <td>500000</td>\n",
              "      <td>6455</td>\n",
              "      <td>1.273.1420.0</td>\n",
              "      <td>5771</td>\n",
              "    </tr>\n",
              "    <tr>\n",
              "      <th>DefaultBrowsersIdentifier</th>\n",
              "      <td>24,061.00</td>\n",
              "      <td>554.00</td>\n",
              "      <td>239.00</td>\n",
              "      <td>2,589.00</td>\n",
              "    </tr>\n",
              "    <tr>\n",
              "      <th>AVProductStatesIdentifier</th>\n",
              "      <td>498,062.00</td>\n",
              "      <td>5,516.00</td>\n",
              "      <td>53,447.00</td>\n",
              "      <td>326,463.00</td>\n",
              "    </tr>\n",
              "    <tr>\n",
              "      <th>CountryIdentifier</th>\n",
              "      <td>500000</td>\n",
              "      <td>222</td>\n",
              "      <td>43</td>\n",
              "      <td>22339</td>\n",
              "    </tr>\n",
              "    <tr>\n",
              "      <th>CityIdentifier</th>\n",
              "      <td>481,760.00</td>\n",
              "      <td>37,157.00</td>\n",
              "      <td>130,775.00</td>\n",
              "      <td>5,271.00</td>\n",
              "    </tr>\n",
              "    <tr>\n",
              "      <th>OrganizationIdentifier</th>\n",
              "      <td>345,437.00</td>\n",
              "      <td>44.00</td>\n",
              "      <td>27.00</td>\n",
              "      <td>234,885.00</td>\n",
              "    </tr>\n",
              "    <tr>\n",
              "      <th>GeoNameIdentifier</th>\n",
              "      <td>499,984.00</td>\n",
              "      <td>268.00</td>\n",
              "      <td>277.00</td>\n",
              "      <td>86,080.00</td>\n",
              "    </tr>\n",
              "    <tr>\n",
              "      <th>LocaleEnglishNameIdentifier</th>\n",
              "      <td>500000</td>\n",
              "      <td>233</td>\n",
              "      <td>75</td>\n",
              "      <td>117818</td>\n",
              "    </tr>\n",
              "    <tr>\n",
              "      <th>Platform</th>\n",
              "      <td>500000</td>\n",
              "      <td>4</td>\n",
              "      <td>windows10</td>\n",
              "      <td>483048</td>\n",
              "    </tr>\n",
              "    <tr>\n",
              "      <th>Processor</th>\n",
              "      <td>500000</td>\n",
              "      <td>3</td>\n",
              "      <td>x64</td>\n",
              "      <td>454423</td>\n",
              "    </tr>\n",
              "    <tr>\n",
              "      <th>OsVer</th>\n",
              "      <td>500000</td>\n",
              "      <td>21</td>\n",
              "      <td>10.0.0.0</td>\n",
              "      <td>483830</td>\n",
              "    </tr>\n",
              "    <tr>\n",
              "      <th>OsPlatformSubRelease</th>\n",
              "      <td>500000</td>\n",
              "      <td>9</td>\n",
              "      <td>rs4</td>\n",
              "      <td>220779</td>\n",
              "    </tr>\n",
              "    <tr>\n",
              "      <th>OsBuildLab</th>\n",
              "      <td>499999</td>\n",
              "      <td>453</td>\n",
              "      <td>17134.1.amd64fre.rs4_release.180410-1804</td>\n",
              "      <td>206436</td>\n",
              "    </tr>\n",
              "    <tr>\n",
              "      <th>SkuEdition</th>\n",
              "      <td>500000</td>\n",
              "      <td>8</td>\n",
              "      <td>Home</td>\n",
              "      <td>308567</td>\n",
              "    </tr>\n",
              "    <tr>\n",
              "      <th>PuaMode</th>\n",
              "      <td>126</td>\n",
              "      <td>1</td>\n",
              "      <td>on</td>\n",
              "      <td>126</td>\n",
              "    </tr>\n",
              "    <tr>\n",
              "      <th>SmartScreen</th>\n",
              "      <td>321404</td>\n",
              "      <td>12</td>\n",
              "      <td>RequireAdmin</td>\n",
              "      <td>241594</td>\n",
              "    </tr>\n",
              "    <tr>\n",
              "      <th>Census_MDC2FormFactor</th>\n",
              "      <td>500000</td>\n",
              "      <td>12</td>\n",
              "      <td>Notebook</td>\n",
              "      <td>320948</td>\n",
              "    </tr>\n",
              "    <tr>\n",
              "      <th>Census_DeviceFamily</th>\n",
              "      <td>500000</td>\n",
              "      <td>3</td>\n",
              "      <td>Windows.Desktop</td>\n",
              "      <td>499183</td>\n",
              "    </tr>\n",
              "    <tr>\n",
              "      <th>Census_OEMNameIdentifier</th>\n",
              "      <td>494,619.00</td>\n",
              "      <td>1,589.00</td>\n",
              "      <td>2,668.00</td>\n",
              "      <td>72,011.00</td>\n",
              "    </tr>\n",
              "    <tr>\n",
              "      <th>Census_OEMModelIdentifier</th>\n",
              "      <td>494,236.00</td>\n",
              "      <td>40,697.00</td>\n",
              "      <td>313,586.00</td>\n",
              "      <td>17,092.00</td>\n",
              "    </tr>\n",
              "    <tr>\n",
              "      <th>Census_ProcessorManufacturerIdentifier</th>\n",
              "      <td>497,653.00</td>\n",
              "      <td>4.00</td>\n",
              "      <td>5.00</td>\n",
              "      <td>439,028.00</td>\n",
              "    </tr>\n",
              "    <tr>\n",
              "      <th>Census_ProcessorModelIdentifier</th>\n",
              "      <td>497,651.00</td>\n",
              "      <td>2,243.00</td>\n",
              "      <td>2,697.00</td>\n",
              "      <td>16,180.00</td>\n",
              "    </tr>\n",
              "    <tr>\n",
              "      <th>Census_ProcessorClass</th>\n",
              "      <td>2082</td>\n",
              "      <td>3</td>\n",
              "      <td>mid</td>\n",
              "      <td>1196</td>\n",
              "    </tr>\n",
              "    <tr>\n",
              "      <th>Census_PrimaryDiskTypeName</th>\n",
              "      <td>499291</td>\n",
              "      <td>4</td>\n",
              "      <td>HDD</td>\n",
              "      <td>325429</td>\n",
              "    </tr>\n",
              "    <tr>\n",
              "      <th>Census_ChassisTypeName</th>\n",
              "      <td>499963</td>\n",
              "      <td>34</td>\n",
              "      <td>Notebook</td>\n",
              "      <td>294232</td>\n",
              "    </tr>\n",
              "    <tr>\n",
              "      <th>Census_PowerPlatformRoleName</th>\n",
              "      <td>499998</td>\n",
              "      <td>9</td>\n",
              "      <td>Mobile</td>\n",
              "      <td>346378</td>\n",
              "    </tr>\n",
              "    <tr>\n",
              "      <th>Census_InternalBatteryType</th>\n",
              "      <td>144397</td>\n",
              "      <td>28</td>\n",
              "      <td>lion</td>\n",
              "      <td>113500</td>\n",
              "    </tr>\n",
              "    <tr>\n",
              "      <th>Census_OSVersion</th>\n",
              "      <td>500000</td>\n",
              "      <td>305</td>\n",
              "      <td>10.0.17134.228</td>\n",
              "      <td>79975</td>\n",
              "    </tr>\n",
              "    <tr>\n",
              "      <th>Census_OSArchitecture</th>\n",
              "      <td>500000</td>\n",
              "      <td>3</td>\n",
              "      <td>amd64</td>\n",
              "      <td>454435</td>\n",
              "    </tr>\n",
              "    <tr>\n",
              "      <th>Census_OSBranch</th>\n",
              "      <td>500000</td>\n",
              "      <td>15</td>\n",
              "      <td>rs4_release</td>\n",
              "      <td>226001</td>\n",
              "    </tr>\n",
              "    <tr>\n",
              "      <th>Census_OSEdition</th>\n",
              "      <td>500000</td>\n",
              "      <td>22</td>\n",
              "      <td>Core</td>\n",
              "      <td>194469</td>\n",
              "    </tr>\n",
              "    <tr>\n",
              "      <th>Census_OSSkuName</th>\n",
              "      <td>500000</td>\n",
              "      <td>21</td>\n",
              "      <td>CORE</td>\n",
              "      <td>194464</td>\n",
              "    </tr>\n",
              "    <tr>\n",
              "      <th>Census_OSInstallTypeName</th>\n",
              "      <td>500000</td>\n",
              "      <td>9</td>\n",
              "      <td>UUPUpgrade</td>\n",
              "      <td>146780</td>\n",
              "    </tr>\n",
              "    <tr>\n",
              "      <th>Census_OSInstallLanguageIdentifier</th>\n",
              "      <td>496,668.00</td>\n",
              "      <td>39.00</td>\n",
              "      <td>8.00</td>\n",
              "      <td>178,405.00</td>\n",
              "    </tr>\n",
              "    <tr>\n",
              "      <th>Census_OSUILocaleIdentifier</th>\n",
              "      <td>500000</td>\n",
              "      <td>92</td>\n",
              "      <td>31</td>\n",
              "      <td>177983</td>\n",
              "    </tr>\n",
              "    <tr>\n",
              "      <th>Census_OSWUAutoUpdateOptionsName</th>\n",
              "      <td>500000</td>\n",
              "      <td>6</td>\n",
              "      <td>FullAuto</td>\n",
              "      <td>222482</td>\n",
              "    </tr>\n",
              "    <tr>\n",
              "      <th>Census_GenuineStateName</th>\n",
              "      <td>500000</td>\n",
              "      <td>4</td>\n",
              "      <td>IS_GENUINE</td>\n",
              "      <td>441402</td>\n",
              "    </tr>\n",
              "    <tr>\n",
              "      <th>Census_ActivationChannel</th>\n",
              "      <td>500000</td>\n",
              "      <td>6</td>\n",
              "      <td>Retail</td>\n",
              "      <td>264932</td>\n",
              "    </tr>\n",
              "    <tr>\n",
              "      <th>Census_FlightRing</th>\n",
              "      <td>500000</td>\n",
              "      <td>8</td>\n",
              "      <td>Retail</td>\n",
              "      <td>468299</td>\n",
              "    </tr>\n",
              "    <tr>\n",
              "      <th>Census_FirmwareManufacturerIdentifier</th>\n",
              "      <td>489,651.00</td>\n",
              "      <td>303.00</td>\n",
              "      <td>142.00</td>\n",
              "      <td>151,374.00</td>\n",
              "    </tr>\n",
              "    <tr>\n",
              "      <th>Wdft_RegionIdentifier</th>\n",
              "      <td>483,050.00</td>\n",
              "      <td>15.00</td>\n",
              "      <td>10.00</td>\n",
              "      <td>100,392.00</td>\n",
              "    </tr>\n",
              "  </tbody>\n",
              "</table>\n",
              "</div>\n",
              "      <button class=\"colab-df-convert\" onclick=\"convertToInteractive('df-ebc5526c-7c5e-4cd1-b53e-76efecebcefe')\"\n",
              "              title=\"Convert this dataframe to an interactive table.\"\n",
              "              style=\"display:none;\">\n",
              "        \n",
              "  <svg xmlns=\"http://www.w3.org/2000/svg\" height=\"24px\"viewBox=\"0 0 24 24\"\n",
              "       width=\"24px\">\n",
              "    <path d=\"M0 0h24v24H0V0z\" fill=\"none\"/>\n",
              "    <path d=\"M18.56 5.44l.94 2.06.94-2.06 2.06-.94-2.06-.94-.94-2.06-.94 2.06-2.06.94zm-11 1L8.5 8.5l.94-2.06 2.06-.94-2.06-.94L8.5 2.5l-.94 2.06-2.06.94zm10 10l.94 2.06.94-2.06 2.06-.94-2.06-.94-.94-2.06-.94 2.06-2.06.94z\"/><path d=\"M17.41 7.96l-1.37-1.37c-.4-.4-.92-.59-1.43-.59-.52 0-1.04.2-1.43.59L10.3 9.45l-7.72 7.72c-.78.78-.78 2.05 0 2.83L4 21.41c.39.39.9.59 1.41.59.51 0 1.02-.2 1.41-.59l7.78-7.78 2.81-2.81c.8-.78.8-2.07 0-2.86zM5.41 20L4 18.59l7.72-7.72 1.47 1.35L5.41 20z\"/>\n",
              "  </svg>\n",
              "      </button>\n",
              "      \n",
              "  <style>\n",
              "    .colab-df-container {\n",
              "      display:flex;\n",
              "      flex-wrap:wrap;\n",
              "      gap: 12px;\n",
              "    }\n",
              "\n",
              "    .colab-df-convert {\n",
              "      background-color: #E8F0FE;\n",
              "      border: none;\n",
              "      border-radius: 50%;\n",
              "      cursor: pointer;\n",
              "      display: none;\n",
              "      fill: #1967D2;\n",
              "      height: 32px;\n",
              "      padding: 0 0 0 0;\n",
              "      width: 32px;\n",
              "    }\n",
              "\n",
              "    .colab-df-convert:hover {\n",
              "      background-color: #E2EBFA;\n",
              "      box-shadow: 0px 1px 2px rgba(60, 64, 67, 0.3), 0px 1px 3px 1px rgba(60, 64, 67, 0.15);\n",
              "      fill: #174EA6;\n",
              "    }\n",
              "\n",
              "    [theme=dark] .colab-df-convert {\n",
              "      background-color: #3B4455;\n",
              "      fill: #D2E3FC;\n",
              "    }\n",
              "\n",
              "    [theme=dark] .colab-df-convert:hover {\n",
              "      background-color: #434B5C;\n",
              "      box-shadow: 0px 1px 3px 1px rgba(0, 0, 0, 0.15);\n",
              "      filter: drop-shadow(0px 1px 2px rgba(0, 0, 0, 0.3));\n",
              "      fill: #FFFFFF;\n",
              "    }\n",
              "  </style>\n",
              "\n",
              "      <script>\n",
              "        const buttonEl =\n",
              "          document.querySelector('#df-ebc5526c-7c5e-4cd1-b53e-76efecebcefe button.colab-df-convert');\n",
              "        buttonEl.style.display =\n",
              "          google.colab.kernel.accessAllowed ? 'block' : 'none';\n",
              "\n",
              "        async function convertToInteractive(key) {\n",
              "          const element = document.querySelector('#df-ebc5526c-7c5e-4cd1-b53e-76efecebcefe');\n",
              "          const dataTable =\n",
              "            await google.colab.kernel.invokeFunction('convertToInteractive',\n",
              "                                                     [key], {});\n",
              "          if (!dataTable) return;\n",
              "\n",
              "          const docLinkHtml = 'Like what you see? Visit the ' +\n",
              "            '<a target=\"_blank\" href=https://colab.research.google.com/notebooks/data_table.ipynb>data table notebook</a>'\n",
              "            + ' to learn more about interactive tables.';\n",
              "          element.innerHTML = '';\n",
              "          dataTable['output_type'] = 'display_data';\n",
              "          await google.colab.output.renderOutput(dataTable, element);\n",
              "          const docLink = document.createElement('div');\n",
              "          docLink.innerHTML = docLinkHtml;\n",
              "          element.appendChild(docLink);\n",
              "        }\n",
              "      </script>\n",
              "    </div>\n",
              "  </div>\n",
              "  "
            ],
            "text/plain": [
              "                                            count  ...       freq\n",
              "ProductName                                500000  ...     494604\n",
              "EngineVersion                              500000  ...     216491\n",
              "AppVersion                                 500000  ...     288809\n",
              "AvSigVersion                               500000  ...       5771\n",
              "DefaultBrowsersIdentifier               24,061.00  ...   2,589.00\n",
              "AVProductStatesIdentifier              498,062.00  ... 326,463.00\n",
              "CountryIdentifier                          500000  ...      22339\n",
              "CityIdentifier                         481,760.00  ...   5,271.00\n",
              "OrganizationIdentifier                 345,437.00  ... 234,885.00\n",
              "GeoNameIdentifier                      499,984.00  ...  86,080.00\n",
              "LocaleEnglishNameIdentifier                500000  ...     117818\n",
              "Platform                                   500000  ...     483048\n",
              "Processor                                  500000  ...     454423\n",
              "OsVer                                      500000  ...     483830\n",
              "OsPlatformSubRelease                       500000  ...     220779\n",
              "OsBuildLab                                 499999  ...     206436\n",
              "SkuEdition                                 500000  ...     308567\n",
              "PuaMode                                       126  ...        126\n",
              "SmartScreen                                321404  ...     241594\n",
              "Census_MDC2FormFactor                      500000  ...     320948\n",
              "Census_DeviceFamily                        500000  ...     499183\n",
              "Census_OEMNameIdentifier               494,619.00  ...  72,011.00\n",
              "Census_OEMModelIdentifier              494,236.00  ...  17,092.00\n",
              "Census_ProcessorManufacturerIdentifier 497,653.00  ... 439,028.00\n",
              "Census_ProcessorModelIdentifier        497,651.00  ...  16,180.00\n",
              "Census_ProcessorClass                        2082  ...       1196\n",
              "Census_PrimaryDiskTypeName                 499291  ...     325429\n",
              "Census_ChassisTypeName                     499963  ...     294232\n",
              "Census_PowerPlatformRoleName               499998  ...     346378\n",
              "Census_InternalBatteryType                 144397  ...     113500\n",
              "Census_OSVersion                           500000  ...      79975\n",
              "Census_OSArchitecture                      500000  ...     454435\n",
              "Census_OSBranch                            500000  ...     226001\n",
              "Census_OSEdition                           500000  ...     194469\n",
              "Census_OSSkuName                           500000  ...     194464\n",
              "Census_OSInstallTypeName                   500000  ...     146780\n",
              "Census_OSInstallLanguageIdentifier     496,668.00  ... 178,405.00\n",
              "Census_OSUILocaleIdentifier                500000  ...     177983\n",
              "Census_OSWUAutoUpdateOptionsName           500000  ...     222482\n",
              "Census_GenuineStateName                    500000  ...     441402\n",
              "Census_ActivationChannel                   500000  ...     264932\n",
              "Census_FlightRing                          500000  ...     468299\n",
              "Census_FirmwareManufacturerIdentifier  489,651.00  ... 151,374.00\n",
              "Wdft_RegionIdentifier                  483,050.00  ... 100,392.00\n",
              "\n",
              "[44 rows x 4 columns]"
            ]
          },
          "metadata": {},
          "execution_count": 564
        }
      ]
    },
    {
      "cell_type": "markdown",
      "source": [
        "Que vemos:\n",
        "- Tenemos bastantes variables con nulos.\n",
        "- Vemos un pare de variables que toman muchos valores. Lo más probable que tengamos que tratarlas agrupando valores, ya sea agrupando los menos habituales o quedándonos con aquellos más diferentes con respecto al target.\n",
        "- Encontramos un grupo de variables con el válor más frecuente con una frecuencia muy alta, como es el \"ProductName\" o el \"Census_ProcessorManufacturerIdentifier\"\n",
        "- Vemos 2 variables con muchísimos nulos (**Census_ProcessorClass** y **PuaMode**) que las hacen muy poco informativas. Las **eliminaremos** ya de nuestro dataset."
      ],
      "metadata": {
        "id": "GmFqbg45eM8j"
      }
    },
    {
      "cell_type": "code",
      "source": [
        "# Introducimos las variables Census_ProcessorClass y PuaMode en nuestra lista de variables para eliminar.\n",
        "\n",
        "var_to_drop = var_to_drop + [\"Census_ProcessorClass\",\"PuaMode\"]"
      ],
      "metadata": {
        "id": "tki54f2lgIOs"
      },
      "execution_count": null,
      "outputs": []
    },
    {
      "cell_type": "markdown",
      "source": [
        "#### Numéricas"
      ],
      "metadata": {
        "id": "X1CL-TlDgnSH"
      }
    },
    {
      "cell_type": "code",
      "source": [
        "df[l_num].describe().T"
      ],
      "metadata": {
        "id": "6tG9S9_-Sd-N",
        "colab": {
          "base_uri": "https://localhost:8080/",
          "height": 926
        },
        "outputId": "45384411-83aa-41d1-81ce-a9e6bd699892"
      },
      "execution_count": null,
      "outputs": [
        {
          "output_type": "execute_result",
          "data": {
            "text/html": [
              "\n",
              "  <div id=\"df-f9dfe3cf-b72f-4243-bde5-654be99bed38\">\n",
              "    <div class=\"colab-df-container\">\n",
              "      <div>\n",
              "<style scoped>\n",
              "    .dataframe tbody tr th:only-of-type {\n",
              "        vertical-align: middle;\n",
              "    }\n",
              "\n",
              "    .dataframe tbody tr th {\n",
              "        vertical-align: top;\n",
              "    }\n",
              "\n",
              "    .dataframe thead th {\n",
              "        text-align: right;\n",
              "    }\n",
              "</style>\n",
              "<table border=\"1\" class=\"dataframe\">\n",
              "  <thead>\n",
              "    <tr style=\"text-align: right;\">\n",
              "      <th></th>\n",
              "      <th>count</th>\n",
              "      <th>mean</th>\n",
              "      <th>std</th>\n",
              "      <th>min</th>\n",
              "      <th>25%</th>\n",
              "      <th>50%</th>\n",
              "      <th>75%</th>\n",
              "      <th>max</th>\n",
              "    </tr>\n",
              "  </thead>\n",
              "  <tbody>\n",
              "    <tr>\n",
              "      <th>Unnamed: 0</th>\n",
              "      <td>500,000.00</td>\n",
              "      <td>4,458,888.27</td>\n",
              "      <td>2,575,618.62</td>\n",
              "      <td>2.00</td>\n",
              "      <td>2,227,692.50</td>\n",
              "      <td>4,461,367.50</td>\n",
              "      <td>6,690,936.00</td>\n",
              "      <td>8,921,471.00</td>\n",
              "    </tr>\n",
              "    <tr>\n",
              "      <th>RtpStateBitfield</th>\n",
              "      <td>498,168.00</td>\n",
              "      <td>6.85</td>\n",
              "      <td>1.02</td>\n",
              "      <td>0.00</td>\n",
              "      <td>7.00</td>\n",
              "      <td>7.00</td>\n",
              "      <td>7.00</td>\n",
              "      <td>35.00</td>\n",
              "    </tr>\n",
              "    <tr>\n",
              "      <th>AVProductsInstalled</th>\n",
              "      <td>498,062.00</td>\n",
              "      <td>1.33</td>\n",
              "      <td>0.52</td>\n",
              "      <td>1.00</td>\n",
              "      <td>1.00</td>\n",
              "      <td>1.00</td>\n",
              "      <td>2.00</td>\n",
              "      <td>5.00</td>\n",
              "    </tr>\n",
              "    <tr>\n",
              "      <th>AVProductsEnabled</th>\n",
              "      <td>498,062.00</td>\n",
              "      <td>1.02</td>\n",
              "      <td>0.17</td>\n",
              "      <td>0.00</td>\n",
              "      <td>1.00</td>\n",
              "      <td>1.00</td>\n",
              "      <td>1.00</td>\n",
              "      <td>4.00</td>\n",
              "    </tr>\n",
              "    <tr>\n",
              "      <th>OsBuild</th>\n",
              "      <td>500,000.00</td>\n",
              "      <td>15,726.93</td>\n",
              "      <td>2,188.65</td>\n",
              "      <td>7,600.00</td>\n",
              "      <td>15,063.00</td>\n",
              "      <td>16,299.00</td>\n",
              "      <td>17,134.00</td>\n",
              "      <td>18,242.00</td>\n",
              "    </tr>\n",
              "    <tr>\n",
              "      <th>OsSuite</th>\n",
              "      <td>500,000.00</td>\n",
              "      <td>574.72</td>\n",
              "      <td>248.20</td>\n",
              "      <td>16.00</td>\n",
              "      <td>256.00</td>\n",
              "      <td>768.00</td>\n",
              "      <td>768.00</td>\n",
              "      <td>784.00</td>\n",
              "    </tr>\n",
              "    <tr>\n",
              "      <th>IsProtected</th>\n",
              "      <td>498,074.00</td>\n",
              "      <td>0.95</td>\n",
              "      <td>0.23</td>\n",
              "      <td>0.00</td>\n",
              "      <td>1.00</td>\n",
              "      <td>1.00</td>\n",
              "      <td>1.00</td>\n",
              "      <td>1.00</td>\n",
              "    </tr>\n",
              "    <tr>\n",
              "      <th>SMode</th>\n",
              "      <td>470,152.00</td>\n",
              "      <td>0.00</td>\n",
              "      <td>0.02</td>\n",
              "      <td>0.00</td>\n",
              "      <td>0.00</td>\n",
              "      <td>0.00</td>\n",
              "      <td>0.00</td>\n",
              "      <td>1.00</td>\n",
              "    </tr>\n",
              "    <tr>\n",
              "      <th>IeVerIdentifier</th>\n",
              "      <td>496,791.00</td>\n",
              "      <td>126.66</td>\n",
              "      <td>42.63</td>\n",
              "      <td>8.00</td>\n",
              "      <td>111.00</td>\n",
              "      <td>135.00</td>\n",
              "      <td>137.00</td>\n",
              "      <td>429.00</td>\n",
              "    </tr>\n",
              "    <tr>\n",
              "      <th>Firewall</th>\n",
              "      <td>494,838.00</td>\n",
              "      <td>0.98</td>\n",
              "      <td>0.15</td>\n",
              "      <td>0.00</td>\n",
              "      <td>1.00</td>\n",
              "      <td>1.00</td>\n",
              "      <td>1.00</td>\n",
              "      <td>1.00</td>\n",
              "    </tr>\n",
              "    <tr>\n",
              "      <th>UacLuaenable</th>\n",
              "      <td>499,377.00</td>\n",
              "      <td>13.73</td>\n",
              "      <td>8,995.85</td>\n",
              "      <td>0.00</td>\n",
              "      <td>1.00</td>\n",
              "      <td>1.00</td>\n",
              "      <td>1.00</td>\n",
              "      <td>6,357,062.00</td>\n",
              "    </tr>\n",
              "    <tr>\n",
              "      <th>Census_ProcessorCoreCount</th>\n",
              "      <td>497,653.00</td>\n",
              "      <td>3.99</td>\n",
              "      <td>2.07</td>\n",
              "      <td>1.00</td>\n",
              "      <td>2.00</td>\n",
              "      <td>4.00</td>\n",
              "      <td>4.00</td>\n",
              "      <td>88.00</td>\n",
              "    </tr>\n",
              "    <tr>\n",
              "      <th>Census_PrimaryDiskTotalCapacity</th>\n",
              "      <td>497,024.00</td>\n",
              "      <td>514,043.32</td>\n",
              "      <td>370,446.82</td>\n",
              "      <td>10,240.00</td>\n",
              "      <td>239,372.00</td>\n",
              "      <td>476,940.00</td>\n",
              "      <td>953,869.00</td>\n",
              "      <td>47,687,668.00</td>\n",
              "    </tr>\n",
              "    <tr>\n",
              "      <th>Census_SystemVolumeTotalCapacity</th>\n",
              "      <td>497,024.00</td>\n",
              "      <td>378,054.64</td>\n",
              "      <td>338,472.22</td>\n",
              "      <td>9,689.00</td>\n",
              "      <td>120,775.00</td>\n",
              "      <td>249,450.00</td>\n",
              "      <td>475,981.00</td>\n",
              "      <td>47,687,100.00</td>\n",
              "    </tr>\n",
              "    <tr>\n",
              "      <th>Census_TotalPhysicalRAM</th>\n",
              "      <td>495,444.00</td>\n",
              "      <td>6,129.23</td>\n",
              "      <td>4,964.52</td>\n",
              "      <td>512.00</td>\n",
              "      <td>4,096.00</td>\n",
              "      <td>4,096.00</td>\n",
              "      <td>8,192.00</td>\n",
              "      <td>393,216.00</td>\n",
              "    </tr>\n",
              "    <tr>\n",
              "      <th>Census_InternalPrimaryDiagonalDisplaySizeInInches</th>\n",
              "      <td>497,346.00</td>\n",
              "      <td>16.69</td>\n",
              "      <td>5.93</td>\n",
              "      <td>4.90</td>\n",
              "      <td>13.90</td>\n",
              "      <td>15.50</td>\n",
              "      <td>17.20</td>\n",
              "      <td>142.00</td>\n",
              "    </tr>\n",
              "    <tr>\n",
              "      <th>Census_InternalPrimaryDisplayResolutionHorizontal</th>\n",
              "      <td>497,350.00</td>\n",
              "      <td>1,548.30</td>\n",
              "      <td>368.57</td>\n",
              "      <td>-1.00</td>\n",
              "      <td>1,366.00</td>\n",
              "      <td>1,366.00</td>\n",
              "      <td>1,920.00</td>\n",
              "      <td>11,520.00</td>\n",
              "    </tr>\n",
              "    <tr>\n",
              "      <th>Census_InternalPrimaryDisplayResolutionVertical</th>\n",
              "      <td>497,350.00</td>\n",
              "      <td>898.24</td>\n",
              "      <td>214.86</td>\n",
              "      <td>-1.00</td>\n",
              "      <td>768.00</td>\n",
              "      <td>768.00</td>\n",
              "      <td>1,080.00</td>\n",
              "      <td>4,320.00</td>\n",
              "    </tr>\n",
              "    <tr>\n",
              "      <th>Census_InternalBatteryNumberOfCharges</th>\n",
              "      <td>484,962.00</td>\n",
              "      <td>1,125,600,150.21</td>\n",
              "      <td>1,888,768,455.78</td>\n",
              "      <td>0.00</td>\n",
              "      <td>0.00</td>\n",
              "      <td>0.00</td>\n",
              "      <td>4,294,967,295.00</td>\n",
              "      <td>4,294,967,295.00</td>\n",
              "    </tr>\n",
              "    <tr>\n",
              "      <th>Census_OSBuildNumber</th>\n",
              "      <td>500,000.00</td>\n",
              "      <td>15,841.37</td>\n",
              "      <td>1,959.44</td>\n",
              "      <td>9,600.00</td>\n",
              "      <td>15,063.00</td>\n",
              "      <td>16,299.00</td>\n",
              "      <td>17,134.00</td>\n",
              "      <td>18,242.00</td>\n",
              "    </tr>\n",
              "    <tr>\n",
              "      <th>Census_OSBuildRevision</th>\n",
              "      <td>500,000.00</td>\n",
              "      <td>967.22</td>\n",
              "      <td>2,920.63</td>\n",
              "      <td>0.00</td>\n",
              "      <td>165.00</td>\n",
              "      <td>285.00</td>\n",
              "      <td>547.00</td>\n",
              "      <td>19,069.00</td>\n",
              "    </tr>\n",
              "    <tr>\n",
              "      <th>Census_IsFlightingInternal</th>\n",
              "      <td>84,775.00</td>\n",
              "      <td>0.00</td>\n",
              "      <td>0.00</td>\n",
              "      <td>0.00</td>\n",
              "      <td>0.00</td>\n",
              "      <td>0.00</td>\n",
              "      <td>0.00</td>\n",
              "      <td>1.00</td>\n",
              "    </tr>\n",
              "    <tr>\n",
              "      <th>Census_IsFlightsDisabled</th>\n",
              "      <td>491,067.00</td>\n",
              "      <td>0.00</td>\n",
              "      <td>0.00</td>\n",
              "      <td>0.00</td>\n",
              "      <td>0.00</td>\n",
              "      <td>0.00</td>\n",
              "      <td>0.00</td>\n",
              "      <td>1.00</td>\n",
              "    </tr>\n",
              "    <tr>\n",
              "      <th>Census_ThresholdOptIn</th>\n",
              "      <td>181,896.00</td>\n",
              "      <td>0.00</td>\n",
              "      <td>0.02</td>\n",
              "      <td>0.00</td>\n",
              "      <td>0.00</td>\n",
              "      <td>0.00</td>\n",
              "      <td>0.00</td>\n",
              "      <td>1.00</td>\n",
              "    </tr>\n",
              "    <tr>\n",
              "      <th>Census_FirmwareVersionIdentifier</th>\n",
              "      <td>490,939.00</td>\n",
              "      <td>33,030.99</td>\n",
              "      <td>21,220.16</td>\n",
              "      <td>10.00</td>\n",
              "      <td>13,156.00</td>\n",
              "      <td>33,070.00</td>\n",
              "      <td>52,436.00</td>\n",
              "      <td>72,091.00</td>\n",
              "    </tr>\n",
              "    <tr>\n",
              "      <th>Census_IsVirtualDevice</th>\n",
              "      <td>499,099.00</td>\n",
              "      <td>0.01</td>\n",
              "      <td>0.08</td>\n",
              "      <td>0.00</td>\n",
              "      <td>0.00</td>\n",
              "      <td>0.00</td>\n",
              "      <td>0.00</td>\n",
              "      <td>1.00</td>\n",
              "    </tr>\n",
              "    <tr>\n",
              "      <th>Census_IsAlwaysOnAlwaysConnectedCapable</th>\n",
              "      <td>495,960.00</td>\n",
              "      <td>0.06</td>\n",
              "      <td>0.23</td>\n",
              "      <td>0.00</td>\n",
              "      <td>0.00</td>\n",
              "      <td>0.00</td>\n",
              "      <td>0.00</td>\n",
              "      <td>1.00</td>\n",
              "    </tr>\n",
              "    <tr>\n",
              "      <th>Wdft_IsGamer</th>\n",
              "      <td>483,050.00</td>\n",
              "      <td>0.28</td>\n",
              "      <td>0.45</td>\n",
              "      <td>0.00</td>\n",
              "      <td>0.00</td>\n",
              "      <td>0.00</td>\n",
              "      <td>1.00</td>\n",
              "      <td>1.00</td>\n",
              "    </tr>\n",
              "  </tbody>\n",
              "</table>\n",
              "</div>\n",
              "      <button class=\"colab-df-convert\" onclick=\"convertToInteractive('df-f9dfe3cf-b72f-4243-bde5-654be99bed38')\"\n",
              "              title=\"Convert this dataframe to an interactive table.\"\n",
              "              style=\"display:none;\">\n",
              "        \n",
              "  <svg xmlns=\"http://www.w3.org/2000/svg\" height=\"24px\"viewBox=\"0 0 24 24\"\n",
              "       width=\"24px\">\n",
              "    <path d=\"M0 0h24v24H0V0z\" fill=\"none\"/>\n",
              "    <path d=\"M18.56 5.44l.94 2.06.94-2.06 2.06-.94-2.06-.94-.94-2.06-.94 2.06-2.06.94zm-11 1L8.5 8.5l.94-2.06 2.06-.94-2.06-.94L8.5 2.5l-.94 2.06-2.06.94zm10 10l.94 2.06.94-2.06 2.06-.94-2.06-.94-.94-2.06-.94 2.06-2.06.94z\"/><path d=\"M17.41 7.96l-1.37-1.37c-.4-.4-.92-.59-1.43-.59-.52 0-1.04.2-1.43.59L10.3 9.45l-7.72 7.72c-.78.78-.78 2.05 0 2.83L4 21.41c.39.39.9.59 1.41.59.51 0 1.02-.2 1.41-.59l7.78-7.78 2.81-2.81c.8-.78.8-2.07 0-2.86zM5.41 20L4 18.59l7.72-7.72 1.47 1.35L5.41 20z\"/>\n",
              "  </svg>\n",
              "      </button>\n",
              "      \n",
              "  <style>\n",
              "    .colab-df-container {\n",
              "      display:flex;\n",
              "      flex-wrap:wrap;\n",
              "      gap: 12px;\n",
              "    }\n",
              "\n",
              "    .colab-df-convert {\n",
              "      background-color: #E8F0FE;\n",
              "      border: none;\n",
              "      border-radius: 50%;\n",
              "      cursor: pointer;\n",
              "      display: none;\n",
              "      fill: #1967D2;\n",
              "      height: 32px;\n",
              "      padding: 0 0 0 0;\n",
              "      width: 32px;\n",
              "    }\n",
              "\n",
              "    .colab-df-convert:hover {\n",
              "      background-color: #E2EBFA;\n",
              "      box-shadow: 0px 1px 2px rgba(60, 64, 67, 0.3), 0px 1px 3px 1px rgba(60, 64, 67, 0.15);\n",
              "      fill: #174EA6;\n",
              "    }\n",
              "\n",
              "    [theme=dark] .colab-df-convert {\n",
              "      background-color: #3B4455;\n",
              "      fill: #D2E3FC;\n",
              "    }\n",
              "\n",
              "    [theme=dark] .colab-df-convert:hover {\n",
              "      background-color: #434B5C;\n",
              "      box-shadow: 0px 1px 3px 1px rgba(0, 0, 0, 0.15);\n",
              "      filter: drop-shadow(0px 1px 2px rgba(0, 0, 0, 0.3));\n",
              "      fill: #FFFFFF;\n",
              "    }\n",
              "  </style>\n",
              "\n",
              "      <script>\n",
              "        const buttonEl =\n",
              "          document.querySelector('#df-f9dfe3cf-b72f-4243-bde5-654be99bed38 button.colab-df-convert');\n",
              "        buttonEl.style.display =\n",
              "          google.colab.kernel.accessAllowed ? 'block' : 'none';\n",
              "\n",
              "        async function convertToInteractive(key) {\n",
              "          const element = document.querySelector('#df-f9dfe3cf-b72f-4243-bde5-654be99bed38');\n",
              "          const dataTable =\n",
              "            await google.colab.kernel.invokeFunction('convertToInteractive',\n",
              "                                                     [key], {});\n",
              "          if (!dataTable) return;\n",
              "\n",
              "          const docLinkHtml = 'Like what you see? Visit the ' +\n",
              "            '<a target=\"_blank\" href=https://colab.research.google.com/notebooks/data_table.ipynb>data table notebook</a>'\n",
              "            + ' to learn more about interactive tables.';\n",
              "          element.innerHTML = '';\n",
              "          dataTable['output_type'] = 'display_data';\n",
              "          await google.colab.output.renderOutput(dataTable, element);\n",
              "          const docLink = document.createElement('div');\n",
              "          docLink.innerHTML = docLinkHtml;\n",
              "          element.appendChild(docLink);\n",
              "        }\n",
              "      </script>\n",
              "    </div>\n",
              "  </div>\n",
              "  "
            ],
            "text/plain": [
              "                                                       count  ...              max\n",
              "Unnamed: 0                                        500,000.00  ...     8,921,471.00\n",
              "RtpStateBitfield                                  498,168.00  ...            35.00\n",
              "AVProductsInstalled                               498,062.00  ...             5.00\n",
              "AVProductsEnabled                                 498,062.00  ...             4.00\n",
              "OsBuild                                           500,000.00  ...        18,242.00\n",
              "OsSuite                                           500,000.00  ...           784.00\n",
              "IsProtected                                       498,074.00  ...             1.00\n",
              "SMode                                             470,152.00  ...             1.00\n",
              "IeVerIdentifier                                   496,791.00  ...           429.00\n",
              "Firewall                                          494,838.00  ...             1.00\n",
              "UacLuaenable                                      499,377.00  ...     6,357,062.00\n",
              "Census_ProcessorCoreCount                         497,653.00  ...            88.00\n",
              "Census_PrimaryDiskTotalCapacity                   497,024.00  ...    47,687,668.00\n",
              "Census_SystemVolumeTotalCapacity                  497,024.00  ...    47,687,100.00\n",
              "Census_TotalPhysicalRAM                           495,444.00  ...       393,216.00\n",
              "Census_InternalPrimaryDiagonalDisplaySizeInInches 497,346.00  ...           142.00\n",
              "Census_InternalPrimaryDisplayResolutionHorizontal 497,350.00  ...        11,520.00\n",
              "Census_InternalPrimaryDisplayResolutionVertical   497,350.00  ...         4,320.00\n",
              "Census_InternalBatteryNumberOfCharges             484,962.00  ... 4,294,967,295.00\n",
              "Census_OSBuildNumber                              500,000.00  ...        18,242.00\n",
              "Census_OSBuildRevision                            500,000.00  ...        19,069.00\n",
              "Census_IsFlightingInternal                         84,775.00  ...             1.00\n",
              "Census_IsFlightsDisabled                          491,067.00  ...             1.00\n",
              "Census_ThresholdOptIn                             181,896.00  ...             1.00\n",
              "Census_FirmwareVersionIdentifier                  490,939.00  ...        72,091.00\n",
              "Census_IsVirtualDevice                            499,099.00  ...             1.00\n",
              "Census_IsAlwaysOnAlwaysConnectedCapable           495,960.00  ...             1.00\n",
              "Wdft_IsGamer                                      483,050.00  ...             1.00\n",
              "\n",
              "[28 rows x 8 columns]"
            ]
          },
          "metadata": {},
          "execution_count": 566
        }
      ]
    },
    {
      "cell_type": "markdown",
      "source": [
        "- Como habíamos ya anticipado a la vista de un análisis anterior, hay variables con un nombre que hace pensar en que son booleanas, y ahora viendo la distribución de los valores, vemos que seguramente son variables booleanas con nulos y que por ello no están en la lista l_bool. Harémos una lista separada para tratarlas un poco diferente si nos da tiempo.\n",
        "- Vemos una variables con muchos nulos (Census_IsFlightingInternal) y con varianza 0, lo que indica que sólo coge valor 1 y el resto son nulos, que podremos tratar como si fueran 0's."
      ],
      "metadata": {
        "id": "DFDMIpxMjJAq"
      }
    },
    {
      "cell_type": "markdown",
      "source": [
        "Vamos a crearnos nuestra lista de booleanas con nulos"
      ],
      "metadata": {
        "id": "Mk8CQIGmmXXX"
      }
    },
    {
      "cell_type": "code",
      "source": [
        "l_num_bools_con_nulos = []\n",
        "for col in df[l_num].describe().T.index:\n",
        "#  print(col, df[col].nunique())\n",
        "  if df[col].nunique() == 2:\n",
        "    l_num_bools_con_nulos.append(col)\n",
        "\n",
        "l_num_bools_con_nulos\n",
        "\n"
      ],
      "metadata": {
        "colab": {
          "base_uri": "https://localhost:8080/"
        },
        "id": "g7eOU82emfh3",
        "outputId": "34fd2c03-3c7c-4b59-d9c4-502caf37a882"
      },
      "execution_count": null,
      "outputs": [
        {
          "output_type": "execute_result",
          "data": {
            "text/plain": [
              "['IsProtected',\n",
              " 'SMode',\n",
              " 'Firewall',\n",
              " 'Census_IsFlightingInternal',\n",
              " 'Census_IsFlightsDisabled',\n",
              " 'Census_ThresholdOptIn',\n",
              " 'Census_IsVirtualDevice',\n",
              " 'Census_IsAlwaysOnAlwaysConnectedCapable',\n",
              " 'Wdft_IsGamer']"
            ]
          },
          "metadata": {},
          "execution_count": 567
        }
      ]
    },
    {
      "cell_type": "markdown",
      "source": [
        "Tal como hemos hecho antes para las booleanas, miraremos la etiqueta más habitual en estas variables booleanas con nulos, y si vemos que la etiqueta más repetida tiene una frecuencia de más de 495000, la eliminaremos.\n",
        "\n"
      ],
      "metadata": {
        "id": "NP1_NhRNoiwl"
      }
    },
    {
      "cell_type": "code",
      "source": [
        "for col in l_num_bools_con_nulos:\n",
        "  print(df[col].value_counts())\n",
        "  if df[col].value_counts()[0] > MAX_ETIQ_IGUALES:\n",
        "    var_to_drop.append(col)\n",
        "var_to_drop"
      ],
      "metadata": {
        "colab": {
          "base_uri": "https://localhost:8080/"
        },
        "id": "icBjRpr7pzEU",
        "outputId": "5876b745-a2bd-4272-a363-5dec2e4ed250"
      },
      "execution_count": null,
      "outputs": [
        {
          "output_type": "stream",
          "name": "stdout",
          "text": [
            "1.00    471073\n",
            "0.00     27001\n",
            "Name: IsProtected, dtype: int64\n",
            "0.00    469946\n",
            "1.00       206\n",
            "Name: SMode, dtype: int64\n",
            "1.00    484071\n",
            "0.00     10767\n",
            "Name: Firewall, dtype: int64\n",
            "0.00    84773\n",
            "1.00        2\n",
            "Name: Census_IsFlightingInternal, dtype: int64\n",
            "0.00    491060\n",
            "1.00         7\n",
            "Name: Census_IsFlightsDisabled, dtype: int64\n",
            "0.00    181849\n",
            "1.00        47\n",
            "Name: Census_ThresholdOptIn, dtype: int64\n",
            "0.00    495572\n",
            "1.00      3527\n",
            "Name: Census_IsVirtualDevice, dtype: int64\n",
            "0.00    467569\n",
            "1.00     28391\n",
            "Name: Census_IsAlwaysOnAlwaysConnectedCapable, dtype: int64\n",
            "0.00    345835\n",
            "1.00    137215\n",
            "Name: Wdft_IsGamer, dtype: int64\n"
          ]
        },
        {
          "output_type": "execute_result",
          "data": {
            "text/plain": [
              "['IsBeta',\n",
              " 'AutoSampleOptIn',\n",
              " 'Census_IsPortableOperatingSystem',\n",
              " 'Census_ProcessorClass',\n",
              " 'PuaMode',\n",
              " 'Census_IsVirtualDevice']"
            ]
          },
          "metadata": {},
          "execution_count": 568
        }
      ]
    },
    {
      "cell_type": "markdown",
      "source": [
        "Hemos añadido la variable 'Census_IsVirtualDevice' a nuestra lista de variables a eliminar, por tener valor 0.0 en 495572 casos, y que además tine 1000 registros con nulos."
      ],
      "metadata": {
        "id": "2RABGWQmROeD"
      }
    },
    {
      "cell_type": "markdown",
      "source": [
        "Para finalizar nuestra lista de variables a eliminar por temas de varianza, vamos a analizar ahora la variable 'Unnamed: 0' antes de eliminarla.\n",
        "- Es categórica o numérica?\n",
        " - Si es categórica, al tener valores diferentes para cada registro, la eliminamos.\n",
        " - Si es numérica vemos como es su distribución, si tiene alguna forma o parece un índice\n"
      ],
      "metadata": {
        "id": "mz1xNM9z_VgY"
      }
    },
    {
      "cell_type": "code",
      "source": [
        "df['Unnamed: 0'].hist()"
      ],
      "metadata": {
        "colab": {
          "base_uri": "https://localhost:8080/",
          "height": 296
        },
        "id": "YxjhvOGr_GlU",
        "outputId": "d80c1db9-7d9b-4ce7-911d-efa6f172c405"
      },
      "execution_count": null,
      "outputs": [
        {
          "output_type": "execute_result",
          "data": {
            "text/plain": [
              "<matplotlib.axes._subplots.AxesSubplot at 0x7fb458595b10>"
            ]
          },
          "metadata": {},
          "execution_count": 569
        },
        {
          "output_type": "display_data",
          "data": {
            "image/png": "[encoded data removed]",
            "text/plain": [
              "<Figure size 432x288 with 1 Axes>"
            ]
          },
          "metadata": {}
        }
      ]
    },
    {
      "cell_type": "markdown",
      "source": [
        "La variable no sigue ninguna distribución lógica. La añadimos a nuestra lista de variables a eliminar."
      ],
      "metadata": {
        "id": "Qj1FDGVErQxf"
      }
    },
    {
      "cell_type": "code",
      "source": [
        "var_to_drop.append(\"Unnamed: 0\")\n",
        "var_to_drop"
      ],
      "metadata": {
        "colab": {
          "base_uri": "https://localhost:8080/"
        },
        "id": "VyyoInBFrdM3",
        "outputId": "3811b6c7-e1d4-4c34-f1a4-a999ad7890fc"
      },
      "execution_count": null,
      "outputs": [
        {
          "output_type": "execute_result",
          "data": {
            "text/plain": [
              "['IsBeta',\n",
              " 'AutoSampleOptIn',\n",
              " 'Census_IsPortableOperatingSystem',\n",
              " 'Census_ProcessorClass',\n",
              " 'PuaMode',\n",
              " 'Census_IsVirtualDevice',\n",
              " 'Unnamed: 0']"
            ]
          },
          "metadata": {},
          "execution_count": 570
        }
      ]
    },
    {
      "cell_type": "markdown",
      "source": [
        "A continuació borramos las variables que hemos ido selecionando porque no nos dan información debido a su poca varianza o excesiva varianza. No eliminamos variables con poca varianza pero con un número elevado de nulos.\n",
        "\n",
        "Antes, nos creamos un Excel con todas las variables e indicamos en él las variables borradas."
      ],
      "metadata": {
        "id": "p3OEUeBAtIBR"
      }
    },
    {
      "cell_type": "code",
      "source": [
        "# Guardamos un Excel con las variables del dataset y la información descriptiva\n",
        "\n",
        "df_description = df.describe(include='all').T\n",
        "df_description\n",
        "\n",
        "df_description.to_excel('df_Microsoft_description.xlsx')\n",
        "\n",
        "### Creamos un checkpoint y borramos las variables\n",
        "\n",
        "df_checkpoint1 = df.copy()\n",
        "df.drop(var_to_drop, axis=1, inplace=True)\n"
      ],
      "metadata": {
        "id": "c1STCUmly5W9"
      },
      "execution_count": null,
      "outputs": []
    },
    {
      "cell_type": "code",
      "source": [
        "df.info(verbose=False)"
      ],
      "metadata": {
        "colab": {
          "base_uri": "https://localhost:8080/"
        },
        "id": "xd6k7nCnr5wR",
        "outputId": "6b309f36-fbed-4085-adbc-0b8b56f069d0"
      },
      "execution_count": null,
      "outputs": [
        {
          "output_type": "stream",
          "name": "stdout",
          "text": [
            "<class 'pandas.core.frame.DataFrame'>\n",
            "Index: 500000 entries, f1cd864e97bae82bdf96523e1a539121 to 7b45dc3537e17f16305c5983ca0a1cb9\n",
            "Columns: 76 entries, ProductName to HasDetections\n",
            "dtypes: float64(23), int64(11), object(42)\n",
            "memory usage: 293.7+ MB\n"
          ]
        }
      ]
    },
    {
      "cell_type": "code",
      "source": [
        "## Guardo todas mis listas en un diccionario para que me sean de fácil acceso\n",
        "\n",
        "mis_listas = {\n",
        "              \"l_bool\":l_bool,\n",
        "              \"l_num\":l_num,\n",
        "              \"l_cat\":l_cat,\n",
        "              \"l_num_bools_con_nulos\":l_num_bools_con_nulos\n",
        "}\n",
        "mis_listas.keys()\n"
      ],
      "metadata": {
        "colab": {
          "base_uri": "https://localhost:8080/"
        },
        "id": "M-ZjsYf-RCP4",
        "outputId": "e43520fd-4b7a-48e0-80f3-8763d994e753"
      },
      "execution_count": null,
      "outputs": [
        {
          "output_type": "execute_result",
          "data": {
            "text/plain": [
              "dict_keys(['l_bool', 'l_num', 'l_cat', 'l_num_bools_con_nulos'])"
            ]
          },
          "metadata": {},
          "execution_count": 573
        }
      ]
    },
    {
      "cell_type": "markdown",
      "source": [
        "### Nulos"
      ],
      "metadata": {
        "id": "xH_jaZ9ZOZIh"
      }
    },
    {
      "cell_type": "markdown",
      "source": [
        "Visualizamos los nulos de cada variable, según el tipo de variable."
      ],
      "metadata": {
        "id": "TI_7xhq-H7_t"
      }
    },
    {
      "cell_type": "code",
      "source": [
        "df.select_dtypes(include = ['number']).isnull().sum()\n"
      ],
      "metadata": {
        "colab": {
          "base_uri": "https://localhost:8080/"
        },
        "id": "LHFwZZlQObHS",
        "outputId": "357fc100-f5e7-478d-ef3c-5987856af919"
      },
      "execution_count": null,
      "outputs": [
        {
          "output_type": "execute_result",
          "data": {
            "text/plain": [
              "RtpStateBitfield                                       1832\n",
              "IsSxsPassiveMode                                          0\n",
              "AVProductsInstalled                                    1938\n",
              "AVProductsEnabled                                      1938\n",
              "HasTpm                                                    0\n",
              "OsBuild                                                   0\n",
              "OsSuite                                                   0\n",
              "IsProtected                                            1926\n",
              "SMode                                                 29848\n",
              "IeVerIdentifier                                        3209\n",
              "Firewall                                               5162\n",
              "UacLuaenable                                            623\n",
              "Census_ProcessorCoreCount                              2347\n",
              "Census_PrimaryDiskTotalCapacity                        2976\n",
              "Census_SystemVolumeTotalCapacity                       2976\n",
              "Census_HasOpticalDiskDrive                                0\n",
              "Census_TotalPhysicalRAM                                4556\n",
              "Census_InternalPrimaryDiagonalDisplaySizeInInches      2654\n",
              "Census_InternalPrimaryDisplayResolutionHorizontal      2650\n",
              "Census_InternalPrimaryDisplayResolutionVertical        2650\n",
              "Census_InternalBatteryNumberOfCharges                 15038\n",
              "Census_OSBuildNumber                                      0\n",
              "Census_OSBuildRevision                                    0\n",
              "Census_IsFlightingInternal                           415225\n",
              "Census_IsFlightsDisabled                               8933\n",
              "Census_ThresholdOptIn                                318104\n",
              "Census_FirmwareVersionIdentifier                       9061\n",
              "Census_IsSecureBootEnabled                                0\n",
              "Census_IsWIMBootEnabled                              317666\n",
              "Census_IsTouchEnabled                                     0\n",
              "Census_IsPenCapable                                       0\n",
              "Census_IsAlwaysOnAlwaysConnectedCapable                4040\n",
              "Wdft_IsGamer                                          16950\n",
              "HasDetections                                             0\n",
              "dtype: int64"
            ]
          },
          "metadata": {},
          "execution_count": 574
        }
      ]
    },
    {
      "cell_type": "code",
      "source": [
        "df.select_dtypes(exclude = ['number']).isnull().sum()\n"
      ],
      "metadata": {
        "colab": {
          "base_uri": "https://localhost:8080/"
        },
        "id": "HbqqG8FUTpkP",
        "outputId": "ce1077a9-e8f1-4a01-e389-d7688e13cd6f"
      },
      "execution_count": null,
      "outputs": [
        {
          "output_type": "execute_result",
          "data": {
            "text/plain": [
              "ProductName                                    0\n",
              "EngineVersion                                  0\n",
              "AppVersion                                     0\n",
              "AvSigVersion                                   0\n",
              "DefaultBrowsersIdentifier                 475939\n",
              "AVProductStatesIdentifier                   1938\n",
              "CountryIdentifier                              0\n",
              "CityIdentifier                             18240\n",
              "OrganizationIdentifier                    154563\n",
              "GeoNameIdentifier                             16\n",
              "LocaleEnglishNameIdentifier                    0\n",
              "Platform                                       0\n",
              "Processor                                      0\n",
              "OsVer                                          0\n",
              "OsPlatformSubRelease                           0\n",
              "OsBuildLab                                     1\n",
              "SkuEdition                                     0\n",
              "SmartScreen                               178596\n",
              "Census_MDC2FormFactor                          0\n",
              "Census_DeviceFamily                            0\n",
              "Census_OEMNameIdentifier                    5381\n",
              "Census_OEMModelIdentifier                   5764\n",
              "Census_ProcessorManufacturerIdentifier      2347\n",
              "Census_ProcessorModelIdentifier             2349\n",
              "Census_PrimaryDiskTypeName                   709\n",
              "Census_ChassisTypeName                        37\n",
              "Census_PowerPlatformRoleName                   2\n",
              "Census_InternalBatteryType                355603\n",
              "Census_OSVersion                               0\n",
              "Census_OSArchitecture                          0\n",
              "Census_OSBranch                                0\n",
              "Census_OSEdition                               0\n",
              "Census_OSSkuName                               0\n",
              "Census_OSInstallTypeName                       0\n",
              "Census_OSInstallLanguageIdentifier          3332\n",
              "Census_OSUILocaleIdentifier                    0\n",
              "Census_OSWUAutoUpdateOptionsName               0\n",
              "Census_GenuineStateName                        0\n",
              "Census_ActivationChannel                       0\n",
              "Census_FlightRing                              0\n",
              "Census_FirmwareManufacturerIdentifier      10349\n",
              "Wdft_RegionIdentifier                      16950\n",
              "dtype: int64"
            ]
          },
          "metadata": {},
          "execution_count": 575
        }
      ]
    },
    {
      "cell_type": "markdown",
      "source": [
        "Tenemos muchas variables con una cantidad de nulos nada despreciable. Los trataremos más adelante."
      ],
      "metadata": {
        "id": "B3ALrNOZR4vu"
      }
    },
    {
      "cell_type": "markdown",
      "source": [
        "### Distribución / rango de valores del TARGET\n",
        "\n",
        "Sabemos ya que el target es booleano, pero vamos a comprobarlo y a ver cómo está distribuido"
      ],
      "metadata": {
        "id": "cFKcJPyZGRyi"
      }
    },
    {
      "cell_type": "code",
      "source": [
        "df[TARGET].value_counts(normalize=True)"
      ],
      "metadata": {
        "colab": {
          "base_uri": "https://localhost:8080/"
        },
        "id": "3_A8r5zLO5_m",
        "outputId": "7f310579-ff0b-425a-d325-fcaf29c89411"
      },
      "execution_count": null,
      "outputs": [
        {
          "output_type": "execute_result",
          "data": {
            "text/plain": [
              "0   0.50\n",
              "1   0.50\n",
              "Name: HasDetections, dtype: float64"
            ]
          },
          "metadata": {},
          "execution_count": 576
        }
      ]
    },
    {
      "cell_type": "code",
      "source": [
        "sns.countplot(data=df, x=TARGET)"
      ],
      "metadata": {
        "colab": {
          "base_uri": "https://localhost:8080/",
          "height": 300
        },
        "id": "VxsaNnYmU5BU",
        "outputId": "49a83587-b80d-4450-926d-1ab3edb87d4d"
      },
      "execution_count": null,
      "outputs": [
        {
          "output_type": "execute_result",
          "data": {
            "text/plain": [
              "<matplotlib.axes._subplots.AxesSubplot at 0x7fb446488b50>"
            ]
          },
          "metadata": {},
          "execution_count": 577
        },
        {
          "output_type": "display_data",
          "data": {
            "image/png": "[encoded data removed]",
            "text/plain": [
              "<Figure size 432x288 with 1 Axes>"
            ]
          },
          "metadata": {}
        }
      ]
    },
    {
      "cell_type": "markdown",
      "source": [
        "Observaciónes:\n",
        "- Dataset totalmente balanceado con respecto al TARGET. Ello probablemente indica que NO se ha tenido en cuenta la proporción de la población sinó que ha sido manipulado.\n",
        "- No tendremos los problemas habituales que conllevan datasets muy desbalanceados, como la dificultad de que el modelo prediga el TARGET minoritario.\n",
        "- Importante tener siempre en cuenta el ratio que hemos calculado para comprobar cuan importantes son las demás variables con respecto al Target.\n",
        "\n"
      ],
      "metadata": {
        "id": "tTrmDyPTO6Mr"
      }
    },
    {
      "cell_type": "markdown",
      "source": [
        "### EDA"
      ],
      "metadata": {
        "id": "3rei9uiTO6uB"
      }
    },
    {
      "cell_type": "markdown",
      "source": [
        "Iremos variable por variable para ver sus valores, identificar posibles datos erróneos, ver correlación con el target y decidir la forma más adecuada para pasarla a numérica en caso de que no lo sea. No trataremos los outliers porque vamos a usar un Decision Tree, y este algoritmo no se ve afectado por ellos.\n",
        "\n",
        "Tendremos tambíen en cuenta que hay variables categóricas que se podrían pasar a numéricas y a la inversa. Nos debemos fijar en ello.\n"
      ],
      "metadata": {
        "id": "RbnEEErZO6yd"
      }
    },
    {
      "cell_type": "markdown",
      "source": [
        "#### Categóricas"
      ],
      "metadata": {
        "id": "mAnpWspfXFPi"
      }
    },
    {
      "cell_type": "markdown",
      "source": [
        "Definimos una función que nos ayudará a resumir los datos importantes de cada variable con relación al Target."
      ],
      "metadata": {
        "id": "DqXs1VCLOKxn"
      }
    },
    {
      "cell_type": "code",
      "source": [
        "def explore_cat_values(dataframe, column, target_column):\n",
        "  _results_df = dataframe.pivot_table(index=column, values=target_column, aggfunc=[len, sum, np.mean]).sort_values(by=[('mean',target_column)], ascending = False)\n",
        "  _results_df[\"pct_rows\"] = _results_df[('len', target_column)]/len(dataframe)\n",
        "  _results_df = _results_df[[('len', target_column), ('pct_rows',''), ('sum', target_column), ('mean', target_column)]]\n",
        "  #_results_df['pct_rows'] = _results_df[('sum']\n",
        "  #print(df.pivot_table(index=column, values=target_column, aggfunc=[len, sum, np.mean]).sort_values(by=[('mean',target_column)], ascending = False), \"\\n\")\n",
        "  return _results_df\n",
        "\n"
      ],
      "metadata": {
        "id": "B3loSeGkqHzX"
      },
      "execution_count": null,
      "outputs": []
    },
    {
      "cell_type": "markdown",
      "source": [
        "**ProductName**"
      ],
      "metadata": {
        "id": "U3q3RL8rqH3-"
      }
    },
    {
      "cell_type": "code",
      "source": [
        "sns.countplot(data=df, x=\"ProductName\", hue=TARGET)"
      ],
      "metadata": {
        "colab": {
          "base_uri": "https://localhost:8080/",
          "height": 300
        },
        "id": "plopSJslDuuw",
        "outputId": "fb8db6d9-92d2-4788-a6bf-c193ce4ae89d"
      },
      "execution_count": null,
      "outputs": [
        {
          "output_type": "execute_result",
          "data": {
            "text/plain": [
              "<matplotlib.axes._subplots.AxesSubplot at 0x7fb4464e34d0>"
            ]
          },
          "metadata": {},
          "execution_count": 579
        },
        {
          "output_type": "display_data",
          "data": {
            "image/png": "[encoded data removed]",
            "text/plain": [
              "<Figure size 432x288 with 1 Axes>"
            ]
          },
          "metadata": {}
        }
      ]
    },
    {
      "cell_type": "markdown",
      "source": [
        "Sólo se puede observar que hay muchas más etiquetas con Win8defender que de las demás. Y que hay con muy poquitos registros."
      ],
      "metadata": {
        "id": "cb-2TFlJEem7"
      }
    },
    {
      "cell_type": "code",
      "source": [
        "results = explore_cat_values(df,\"ProductName\",TARGET)\n",
        "print(results)"
      ],
      "metadata": {
        "colab": {
          "base_uri": "https://localhost:8080/"
        },
        "id": "wPjzQmHpqIDq",
        "outputId": "67fe4df3-3322-4b01-ae10-2862614d68b9"
      },
      "execution_count": null,
      "outputs": [
        {
          "output_type": "stream",
          "name": "stdout",
          "text": [
            "                        len pct_rows           sum          mean\n",
            "              HasDetections          HasDetections HasDetections\n",
            "ProductName                                                     \n",
            "win8defender         494604     0.99        247367          0.50\n",
            "mse                    5395     0.01          2586          0.48\n",
            "mseprerelease             1     0.00             0          0.00\n"
          ]
        }
      ]
    },
    {
      "cell_type": "markdown",
      "source": [
        "Los usuarios del Antivirus MSE tienen un porcentage de infectados levemente inferior a los de Win8defender, pero podría ser debido a que el MSE sólo tienen poco más de 5000 muestras. No parece que vaya a ser una variable importante.\n",
        "\n",
        "Hay un registro con el valor \"preselease\". En lugar de crear las columnas numéricas y borrar la que corresponde con este Antivirus, le cambiamos la etiqueta a MSE puesot que es un prerelease de MSE. Aunque daría igual al ser sólo un registro.\n",
        "\n"
      ],
      "metadata": {
        "id": "-hB3M7UCqIHY"
      }
    },
    {
      "cell_type": "code",
      "source": [
        "df[\"ProductName\"] = np.where( df[\"ProductName\"] == \"mseprerelease\", \"mse\" ,df[\"ProductName\"] )"
      ],
      "metadata": {
        "id": "-oellmOTqILK"
      },
      "execution_count": null,
      "outputs": []
    },
    {
      "cell_type": "code",
      "source": [
        "results = explore_cat_values(df,\"ProductName\",TARGET)\n",
        "print(results)"
      ],
      "metadata": {
        "colab": {
          "base_uri": "https://localhost:8080/"
        },
        "id": "-TciMsKKXFTa",
        "outputId": "0f868cf4-7f1d-41d9-a74a-4181a1b1e2ee"
      },
      "execution_count": null,
      "outputs": [
        {
          "output_type": "stream",
          "name": "stdout",
          "text": [
            "                       len pct_rows           sum          mean\n",
            "             HasDetections          HasDetections HasDetections\n",
            "ProductName                                                    \n",
            "win8defender        494604     0.99        247367          0.50\n",
            "mse                   5396     0.01          2586          0.48\n"
          ]
        }
      ]
    },
    {
      "cell_type": "markdown",
      "source": [
        "Ha quedado como booleana, con 2 valores. La tendremos que transformar a numérica. Lo hacemos ahora."
      ],
      "metadata": {
        "id": "ajckRUlM6Kkx"
      }
    },
    {
      "cell_type": "code",
      "source": [
        "df[\"ProductName\"] = np.where( df[\"ProductName\"] == \"win8defender\", 1 , 0)"
      ],
      "metadata": {
        "id": "SQH9MUmp6_4R"
      },
      "execution_count": null,
      "outputs": []
    },
    {
      "cell_type": "code",
      "source": [
        "## Quizás hubiera sido mejor crear una nueva columna con nombre \"IsWin8defender\" y borrar la \"ProductName\""
      ],
      "metadata": {
        "id": "tvASw8yN7zVq"
      },
      "execution_count": null,
      "outputs": []
    },
    {
      "cell_type": "code",
      "source": [
        "results = explore_cat_values(df,\"ProductName\",TARGET)\n",
        "print(results)"
      ],
      "metadata": {
        "colab": {
          "base_uri": "https://localhost:8080/"
        },
        "id": "E-kweCiIDAL_",
        "outputId": "310d7a91-9d0f-4f51-eb9f-98aa1822bb38"
      },
      "execution_count": null,
      "outputs": [
        {
          "output_type": "stream",
          "name": "stdout",
          "text": [
            "                      len pct_rows           sum          mean\n",
            "            HasDetections          HasDetections HasDetections\n",
            "ProductName                                                   \n",
            "1                  494604     0.99        247367          0.50\n",
            "0                    5396     0.01          2586          0.48\n"
          ]
        }
      ]
    },
    {
      "cell_type": "code",
      "source": [
        "df[[\"ProductName\"]].info()"
      ],
      "metadata": {
        "colab": {
          "base_uri": "https://localhost:8080/"
        },
        "id": "eOopPpnS7_78",
        "outputId": "a886ef67-c524-43ff-c8d4-307ea61c0a29"
      },
      "execution_count": null,
      "outputs": [
        {
          "output_type": "stream",
          "name": "stdout",
          "text": [
            "<class 'pandas.core.frame.DataFrame'>\n",
            "Index: 500000 entries, f1cd864e97bae82bdf96523e1a539121 to 7b45dc3537e17f16305c5983ca0a1cb9\n",
            "Data columns (total 1 columns):\n",
            " #   Column       Non-Null Count   Dtype\n",
            "---  ------       --------------   -----\n",
            " 0   ProductName  500000 non-null  int64\n",
            "dtypes: int64(1)\n",
            "memory usage: 27.6+ MB\n"
          ]
        }
      ]
    },
    {
      "cell_type": "markdown",
      "source": [
        "Vemos que se ha cambiado el tipo de la variable a numérica."
      ],
      "metadata": {
        "id": "C5zLu_6wPbxy"
      }
    },
    {
      "cell_type": "code",
      "source": [
        "l_bool.append(\"ProductName\")\n",
        "l_cat.remove(\"ProductName\")"
      ],
      "metadata": {
        "id": "7XphKaGuFEZk"
      },
      "execution_count": null,
      "outputs": []
    },
    {
      "cell_type": "code",
      "source": [
        "var_listas_para_modelo = [\"ProductName\"]\n",
        "mis_listas['var_listas_para_modelo'] = var_listas_para_modelo"
      ],
      "metadata": {
        "id": "o5Ity2kaUfBx"
      },
      "execution_count": null,
      "outputs": []
    },
    {
      "cell_type": "markdown",
      "source": [
        "**EngineVersion**\n",
        "\n",
        "Es una versión. Veremos si vale la pena pasarla a numérica.\n"
      ],
      "metadata": {
        "id": "UVhbsjPD5sU-"
      }
    },
    {
      "cell_type": "code",
      "source": [
        "## Visualizamos la variable\n",
        "\n",
        "results = explore_cat_values(df,\"EngineVersion\",TARGET)\n",
        "print(results.sort_values(by=(\"len\",\"HasDetections\"), ascending = False))"
      ],
      "metadata": {
        "colab": {
          "base_uri": "https://localhost:8080/"
        },
        "id": "xew-9nqZ9Pzo",
        "outputId": "5a502efb-fff8-4366-ddd2-615de41d0030"
      },
      "execution_count": null,
      "outputs": [
        {
          "output_type": "stream",
          "name": "stdout",
          "text": [
            "                        len pct_rows           sum          mean\n",
            "              HasDetections          HasDetections HasDetections\n",
            "EngineVersion                                                   \n",
            "1.1.15200.1          216491     0.43        106453          0.49\n",
            "1.1.15100.1          205494     0.41        113557          0.55\n",
            "1.1.15000.2           14752     0.03          5041          0.34\n",
            "1.1.14901.4           11984     0.02          3670          0.31\n",
            "1.1.14600.4            9005     0.02          3986          0.44\n",
            "1.1.14800.3            7548     0.02          2306          0.31\n",
            "1.1.15300.6            6769     0.01          3287          0.49\n",
            "1.1.14104.0            5240     0.01          2298          0.44\n",
            "1.1.15300.5            3883     0.01          2025          0.52\n",
            "1.1.13504.0            3876     0.01          1706          0.44\n",
            "1.1.14700.5            2593     0.01           855          0.33\n",
            "1.1.14500.5            2591     0.01          1032          0.40\n",
            "1.1.14405.2            1972     0.00           775          0.39\n",
            "1.1.14306.0            1329     0.00           510          0.38\n",
            "1.1.14202.0             840     0.00           357          0.42\n",
            "1.1.14003.0             804     0.00           344          0.43\n",
            "1.1.13303.0             516     0.00           169          0.33\n",
            "1.1.13903.0             515     0.00           208          0.40\n",
            "1.1.13804.0             513     0.00           194          0.38\n",
            "1.1.13407.0             479     0.00           174          0.36\n",
            "1.1.13601.0             420     0.00           140          0.33\n",
            "1.1.12902.0             321     0.00           128          0.40\n",
            "1.1.14305.0             270     0.00           114          0.42\n",
            "1.1.13701.0             255     0.00            86          0.34\n",
            "1.1.13704.0             255     0.00            99          0.39\n",
            "1.1.13202.0             245     0.00            85          0.35\n",
            "1.1.13103.0             235     0.00            84          0.36\n",
            "1.1.13000.0             220     0.00            81          0.37\n",
            "1.1.15000.1             138     0.00            33          0.24\n",
            "1.1.12805.0             115     0.00            51          0.44\n",
            "1.1.14901.3              71     0.00            18          0.25\n",
            "1.1.14700.4              65     0.00            24          0.37\n",
            "1.1.14700.3              61     0.00            21          0.34\n",
            "1.1.14800.1              51     0.00            13          0.25\n",
            "1.1.14500.2              19     0.00             5          0.26\n",
            "1.1.14201.0              11     0.00             5          0.45\n",
            "1.1.14303.0              10     0.00             4          0.40\n",
            "1.1.12101.0               7     0.00             4          0.57\n",
            "1.1.14103.0               5     0.00             0          0.00\n",
            "1.1.13802.0               4     0.00             3          0.75\n",
            "1.1.12804.0               4     0.00             1          0.25\n",
            "1.1.13902.0               4     0.00             1          0.25\n",
            "1.1.12603.0               3     0.00             1          0.33\n",
            "1.1.11701.0               3     0.00             2          0.67\n",
            "1.1.13803.0               3     0.00             0          0.00\n",
            "1.1.14001.0               2     0.00             0          0.00\n",
            "1.1.14102.0               2     0.00             0          0.00\n",
            "1.1.14002.0               2     0.00             0          0.00\n",
            "1.1.10401.0               1     0.00             0          0.00\n",
            "1.1.12400.0               1     0.00             1          1.00\n",
            "1.1.13406.0               1     0.00             1          1.00\n",
            "1.1.12706.0               1     0.00             0          0.00\n",
            "1.1.13102.0               1     0.00             1          1.00\n"
          ]
        }
      ]
    },
    {
      "cell_type": "markdown",
      "source": [
        "Vemos que todas empiezan por 1.1. y luego hay como una numérica. Podríamos analizar si tendría sentido pasarla a numérica, por su relación con el Target.\n",
        "\n",
        "Pero de todos modos, hay básicamente unas pocas versiones con suficientes observaciones, así que dejaremos las 9 primeras que tienen bastantes observaciones y además hay alguna que tiene un comportamiento diferente de la media del dataset respecto al target, y las demás las pondremos en \"Other\", porque a partir de la fila 9 vemos que tienen un nivel menos de infecciones.\n",
        "\n",
        "Luego haríamos un One-Hot-Encoding."
      ],
      "metadata": {
        "id": "vTmEMwTy5s3z"
      }
    },
    {
      "cell_type": "markdown",
      "source": [
        "Así pues, agrupamos las 9 primeras etiquetas y dejamos para luego el One-Hot-Encoding, porque lo haremos con todas las variables conjuntamente."
      ],
      "metadata": {
        "id": "-glx8h70QoEA"
      }
    },
    {
      "cell_type": "code",
      "source": [
        "df['EngineVersion'] = setOthers(df, 'EngineVersion', 9)"
      ],
      "metadata": {
        "id": "S43EVSOO5tA-"
      },
      "execution_count": null,
      "outputs": []
    },
    {
      "cell_type": "code",
      "source": [
        "results = explore_cat_values(df,\"EngineVersion\",TARGET)\n",
        "print(results.sort_values(by=(\"len\",\"HasDetections\"), ascending = False))"
      ],
      "metadata": {
        "colab": {
          "base_uri": "https://localhost:8080/"
        },
        "id": "AK9C_XNW5tE5",
        "outputId": "58f39a63-3da8-4af8-d0b5-982c211141bb"
      },
      "execution_count": null,
      "outputs": [
        {
          "output_type": "stream",
          "name": "stdout",
          "text": [
            "                        len pct_rows           sum          mean\n",
            "              HasDetections          HasDetections HasDetections\n",
            "EngineVersion                                                   \n",
            "1.1.15200.1          216491     0.43        106453          0.49\n",
            "1.1.15100.1          205494     0.41        113557          0.55\n",
            "Others                18834     0.04          7330          0.39\n",
            "1.1.15000.2           14752     0.03          5041          0.34\n",
            "1.1.14901.4           11984     0.02          3670          0.31\n",
            "1.1.14600.4            9005     0.02          3986          0.44\n",
            "1.1.14800.3            7548     0.02          2306          0.31\n",
            "1.1.15300.6            6769     0.01          3287          0.49\n",
            "1.1.14104.0            5240     0.01          2298          0.44\n",
            "1.1.15300.5            3883     0.01          2025          0.52\n"
          ]
        }
      ]
    },
    {
      "cell_type": "code",
      "source": [],
      "metadata": {
        "id": "gJCSJ5WIUBKv"
      },
      "execution_count": null,
      "outputs": []
    },
    {
      "cell_type": "markdown",
      "source": [
        "Creamos una lista de variables a las cuales les haremos el OHE."
      ],
      "metadata": {
        "id": "g0z8Ky_jQ1fH"
      }
    },
    {
      "cell_type": "code",
      "source": [
        "l_OHE = ['EngineVersion']"
      ],
      "metadata": {
        "id": "Se_3jKMz5tJX"
      },
      "execution_count": null,
      "outputs": []
    },
    {
      "cell_type": "code",
      "source": [
        "mis_listas['l_OHE'] = l_OHE\n",
        "mis_listas.keys()"
      ],
      "metadata": {
        "colab": {
          "base_uri": "https://localhost:8080/"
        },
        "id": "WSEnfalkMPhb",
        "outputId": "78e2167f-cb47-445f-f029-a6f5328d02d5"
      },
      "execution_count": null,
      "outputs": [
        {
          "output_type": "execute_result",
          "data": {
            "text/plain": [
              "dict_keys(['l_bool', 'l_num', 'l_cat', 'l_num_bools_con_nulos', 'var_listas_para_modelo', 'l_OHE'])"
            ]
          },
          "metadata": {},
          "execution_count": 593
        }
      ]
    },
    {
      "cell_type": "markdown",
      "source": [
        "**Platform**\n",
        "\n",
        "Plataforma del sistema operativo"
      ],
      "metadata": {
        "id": "XK668KILMPr5"
      }
    },
    {
      "cell_type": "code",
      "source": [
        "VAR = \"Platform\""
      ],
      "metadata": {
        "id": "vpX0pGNOMPxB"
      },
      "execution_count": null,
      "outputs": []
    },
    {
      "cell_type": "code",
      "source": [
        "sns.countplot(data=df, x=VAR, hue=TARGET)"
      ],
      "metadata": {
        "colab": {
          "base_uri": "https://localhost:8080/",
          "height": 301
        },
        "id": "rhUPQO-GVts6",
        "outputId": "adead737-4992-4765-f933-d7910e0ca122"
      },
      "execution_count": null,
      "outputs": [
        {
          "output_type": "execute_result",
          "data": {
            "text/plain": [
              "<matplotlib.axes._subplots.AxesSubplot at 0x7fb467a72310>"
            ]
          },
          "metadata": {},
          "execution_count": 595
        },
        {
          "output_type": "display_data",
          "data": {
            "image/png": "[encoded data removed]",
            "text/plain": [
              "<Figure size 432x288 with 1 Axes>"
            ]
          },
          "metadata": {}
        }
      ]
    },
    {
      "cell_type": "code",
      "source": [
        "results = explore_cat_values(df,VAR,TARGET)\n",
        "print(results.sort_values(by=(\"len\",\"HasDetections\"), ascending = False))"
      ],
      "metadata": {
        "colab": {
          "base_uri": "https://localhost:8080/"
        },
        "id": "etHCDPpeVtyQ",
        "outputId": "cbe89609-1375-4ea8-ef41-40f37eff22bc"
      },
      "execution_count": null,
      "outputs": [
        {
          "output_type": "stream",
          "name": "stdout",
          "text": [
            "                      len pct_rows           sum          mean\n",
            "            HasDetections          HasDetections HasDetections\n",
            "Platform                                                      \n",
            "windows10          483048     0.97        241476          0.50\n",
            "windows8            10825     0.02          5614          0.52\n",
            "windows7             5314     0.01          2562          0.48\n",
            "windows2016           813     0.00           301          0.37\n"
          ]
        }
      ]
    },
    {
      "cell_type": "markdown",
      "source": [
        "Observaciones:\n",
        "- Gran mayoría Windows10.\n",
        "- Pocas infecciones en Windows2016. Aunque tiene muy pocas observaciones y no será utilizada por el modelo.\n",
        "- Window 7 y 8 tienen más observaciones y la media de target es ligeramente diferente de Windows10.\n",
        "\n",
        "Aunque se podría transformar a numérica usando el orden en que apareció cada plataforma, vamos a dejarla categórica porque no parece que haya una correlación entre la antiguedad del Sistema Operativo y el Target. O al menos, Windows10 cambia la tendencia.\n",
        "\n",
        "Agruparemos Windows 2016 y Windows7, por ser los más antiguos y tener una media del target más baja. Lo haremos con el setOthers. Luego aplicaremos un OHE.\n",
        "\n",
        "Resumen:\n",
        "- Setothers de 3 categorías\n",
        "- OHE"
      ],
      "metadata": {
        "id": "6t8KGIdfVt3q"
      }
    },
    {
      "cell_type": "code",
      "source": [
        "df[VAR] = setOthers(df, VAR, 2)"
      ],
      "metadata": {
        "id": "WCTT9EjQVt8t"
      },
      "execution_count": null,
      "outputs": []
    },
    {
      "cell_type": "code",
      "source": [
        "results = explore_cat_values(df,VAR,TARGET)\n",
        "print(results.sort_values(by=(\"len\",\"HasDetections\"), ascending = False))"
      ],
      "metadata": {
        "colab": {
          "base_uri": "https://localhost:8080/"
        },
        "id": "zzz3HHH-VuPN",
        "outputId": "aa018183-d5c4-4b9e-82b3-bdf7fce7406b"
      },
      "execution_count": null,
      "outputs": [
        {
          "output_type": "stream",
          "name": "stdout",
          "text": [
            "                    len pct_rows           sum          mean\n",
            "          HasDetections          HasDetections HasDetections\n",
            "Platform                                                    \n",
            "windows10        483048     0.97        241476          0.50\n",
            "windows8          10825     0.02          5614          0.52\n",
            "Others             6127     0.01          2863          0.47\n"
          ]
        }
      ]
    },
    {
      "cell_type": "code",
      "source": [
        "# Incluímos la variable a la lista para el OHE\n",
        "\n",
        "l_OHE.append(VAR)\n",
        "l_OHE"
      ],
      "metadata": {
        "colab": {
          "base_uri": "https://localhost:8080/"
        },
        "id": "OY-eoDRVVu8o",
        "outputId": "f779b784-7a96-46cd-90ea-e9e15861e250"
      },
      "execution_count": null,
      "outputs": [
        {
          "output_type": "execute_result",
          "data": {
            "text/plain": [
              "['EngineVersion', 'Platform']"
            ]
          },
          "metadata": {},
          "execution_count": 599
        }
      ]
    },
    {
      "cell_type": "markdown",
      "source": [
        "**Processor**"
      ],
      "metadata": {
        "id": "JoTWqyG2YyRh"
      }
    },
    {
      "cell_type": "code",
      "source": [
        "VAR = 'Processor'"
      ],
      "metadata": {
        "id": "RbqRC7e7Yyv2"
      },
      "execution_count": null,
      "outputs": []
    },
    {
      "cell_type": "code",
      "source": [
        "sns.countplot(data=df, x=VAR, hue=TARGET)"
      ],
      "metadata": {
        "colab": {
          "base_uri": "https://localhost:8080/",
          "height": 300
        },
        "id": "6icsdY8MYy11",
        "outputId": "43ebd80d-5534-4283-fee1-daae4b183b84"
      },
      "execution_count": null,
      "outputs": [
        {
          "output_type": "execute_result",
          "data": {
            "text/plain": [
              "<matplotlib.axes._subplots.AxesSubplot at 0x7fb45cf53b10>"
            ]
          },
          "metadata": {},
          "execution_count": 601
        },
        {
          "output_type": "display_data",
          "data": {
            "image/png": "[encoded data removed]",
            "text/plain": [
              "<Figure size 432x288 with 1 Axes>"
            ]
          },
          "metadata": {}
        }
      ]
    },
    {
      "cell_type": "code",
      "source": [
        "results = explore_cat_values(df,VAR,TARGET)\n",
        "print(results.sort_values(by=(\"len\",\"HasDetections\"), ascending = False))"
      ],
      "metadata": {
        "colab": {
          "base_uri": "https://localhost:8080/"
        },
        "id": "RwN9FgERYy8A",
        "outputId": "f1511634-8b29-42e8-cae8-8d826c12c39b"
      },
      "execution_count": null,
      "outputs": [
        {
          "output_type": "stream",
          "name": "stdout",
          "text": [
            "                    len pct_rows           sum          mean\n",
            "          HasDetections          HasDetections HasDetections\n",
            "Processor                                                   \n",
            "x64              454423     0.91        232321          0.51\n",
            "x86               45563     0.09         17632          0.39\n",
            "arm64                14     0.00             0          0.00\n"
          ]
        }
      ]
    },
    {
      "cell_type": "markdown",
      "source": [
        "- Esta variable tiene más importancia con relación a la media del target. De todos modos, el porcentage de procesadores x86, más antiguos, es de un 9% del dataset.\n",
        "- La etiqueta \"arm64\" tienen muy pocas observaciones.\n",
        "\n",
        "Colocaremos estas 14 observaciones junto con la etiqueta mayoritária para ser más prácticos."
      ],
      "metadata": {
        "id": "mn9jPsqgYzCs"
      }
    },
    {
      "cell_type": "code",
      "source": [
        "df[VAR] = np.where( df[VAR] == \"x86\", 0 , 1)"
      ],
      "metadata": {
        "id": "1HkMeF4iYzI4"
      },
      "execution_count": null,
      "outputs": []
    },
    {
      "cell_type": "code",
      "source": [
        "results = explore_cat_values(df,VAR,TARGET)\n",
        "print(results.sort_values(by=(\"len\",\"HasDetections\"), ascending = False))"
      ],
      "metadata": {
        "colab": {
          "base_uri": "https://localhost:8080/"
        },
        "id": "f_HxYt-MdP7q",
        "outputId": "943132f0-a7a0-4625-d838-61d890067e8c"
      },
      "execution_count": null,
      "outputs": [
        {
          "output_type": "stream",
          "name": "stdout",
          "text": [
            "                    len pct_rows           sum          mean\n",
            "          HasDetections          HasDetections HasDetections\n",
            "Processor                                                   \n",
            "1                454437     0.91        232321          0.51\n",
            "0                 45563     0.09         17632          0.39\n"
          ]
        }
      ]
    },
    {
      "cell_type": "code",
      "source": [
        "var_listas_para_modelo.append(VAR)\n",
        "var_listas_para_modelo"
      ],
      "metadata": {
        "colab": {
          "base_uri": "https://localhost:8080/"
        },
        "id": "lgA6ocW9dQGV",
        "outputId": "c4b65932-8c81-41a2-df92-06cb8498418e"
      },
      "execution_count": null,
      "outputs": [
        {
          "output_type": "execute_result",
          "data": {
            "text/plain": [
              "['ProductName', 'Processor']"
            ]
          },
          "metadata": {},
          "execution_count": 605
        }
      ]
    },
    {
      "cell_type": "markdown",
      "source": [
        "**CountryIdentifier**"
      ],
      "metadata": {
        "id": "A1epSIQVdQSV"
      }
    },
    {
      "cell_type": "code",
      "source": [
        "VAR = 'CountryIdentifier'"
      ],
      "metadata": {
        "id": "XdIoH2eEexSp"
      },
      "execution_count": null,
      "outputs": []
    },
    {
      "cell_type": "code",
      "source": [
        "sns.countplot(data=df, x=VAR)"
      ],
      "metadata": {
        "colab": {
          "base_uri": "https://localhost:8080/",
          "height": 300
        },
        "id": "Hby-hEzlexcQ",
        "outputId": "7fe12b7d-3897-401a-9daf-7a04846e6d01"
      },
      "execution_count": null,
      "outputs": [
        {
          "output_type": "execute_result",
          "data": {
            "text/plain": [
              "<matplotlib.axes._subplots.AxesSubplot at 0x7fb4679de4d0>"
            ]
          },
          "metadata": {},
          "execution_count": 607
        },
        {
          "output_type": "display_data",
          "data": {
            "image/png": "[encoded data removed]",
            "text/plain": [
              "<Figure size 432x288 with 1 Axes>"
            ]
          },
          "metadata": {}
        }
      ]
    },
    {
      "cell_type": "markdown",
      "source": [
        "La variables está muy distribuida, pero vemos muchos países con pocas observaciones. Veremos qué paises pueden ser más interesantes."
      ],
      "metadata": {
        "id": "w_Tlnkq_exlE"
      }
    },
    {
      "cell_type": "code",
      "source": [
        "results = explore_cat_values(df,VAR,TARGET)\n",
        "print(results.sort_values(by=(\"len\",\"HasDetections\"), ascending = False))"
      ],
      "metadata": {
        "colab": {
          "base_uri": "https://localhost:8080/"
        },
        "id": "C6t248Ahexvz",
        "outputId": "d1688a59-7a61-4051-8be6-a504735a9a86"
      },
      "execution_count": null,
      "outputs": [
        {
          "output_type": "stream",
          "name": "stdout",
          "text": [
            "                            len pct_rows           sum          mean\n",
            "                  HasDetections          HasDetections HasDetections\n",
            "CountryIdentifier                                                   \n",
            "43                        22339     0.04         11511          0.52\n",
            "29                        19273     0.04          9775          0.51\n",
            "141                       18420     0.04          9598          0.52\n",
            "93                        16205     0.03          7947          0.49\n",
            "171                       15743     0.03          7881          0.50\n",
            "60                        13118     0.03          6440          0.49\n",
            "201                       12405     0.02          6363          0.51\n",
            "207                       11981     0.02          5734          0.48\n",
            "66                        11607     0.02          5608          0.48\n",
            "89                        11064     0.02          6491          0.59\n",
            "97                        10883     0.02          5278          0.48\n",
            "214                       10576     0.02          6446          0.61\n",
            "158                       10302     0.02          5330          0.52\n",
            "44                        10159     0.02          5469          0.54\n",
            "9                          9763     0.02          4924          0.50\n",
            "107                        9446     0.02          4621          0.49\n",
            "68                         8950     0.02          4303          0.48\n",
            "41                         8948     0.02          4590          0.51\n",
            "51                         8868     0.02          4298          0.48\n",
            "203                        8785     0.02          4345          0.49\n",
            "35                         7845     0.02          3707          0.47\n",
            "149                        7475     0.01          3694          0.49\n",
            "160                        7456     0.01          3538          0.47\n",
            "195                        7444     0.01          4040          0.54\n",
            "142                        7378     0.01          3631          0.49\n",
            "205                        6547     0.01          3467          0.53\n",
            "155                        6179     0.01          3296          0.53\n",
            "164                        6033     0.01          2892          0.48\n",
            "173                        5269     0.01          2525          0.48\n",
            "88                         5085     0.01          2663          0.52\n",
            "159                        5019     0.01          2781          0.55\n",
            "59                         4950     0.01          2792          0.56\n",
            "101                        4590     0.01          2057          0.45\n",
            "12                         4557     0.01          2067          0.45\n",
            "220                        4551     0.01          2116          0.46\n",
            "91                         4521     0.01          2213          0.49\n",
            "169                        4479     0.01          2126          0.47\n",
            "50                         4215     0.01          1927          0.46\n",
            "80                         4050     0.01          1903          0.47\n",
            "2                          3822     0.01          1822          0.48\n",
            "19                         3678     0.01          1725          0.47\n",
            "57                         3665     0.01          1991          0.54\n",
            "84                         3549     0.01          1624          0.46\n",
            "177                        3415     0.01          1488          0.44\n",
            "11                         3223     0.01          1454          0.45\n",
            "18                         3210     0.01          1736          0.54\n",
            "95                         3179     0.01          1937          0.61\n",
            "21                         3037     0.01          1638          0.54\n",
            "110                        2929     0.01          1480          0.51\n",
            "178                        2704     0.01          1202          0.44\n",
            "45                         2663     0.01          1329          0.50\n",
            "39                         2558     0.01          1124          0.44\n",
            "211                        2380     0.00          1211          0.51\n",
            "53                         2377     0.00          1013          0.43\n",
            "180                        2343     0.00          1005          0.43\n",
            "86                         2297     0.00          1140          0.50\n",
            "94                         2265     0.00          1312          0.58\n",
            "81                         2243     0.00          1180          0.53\n",
            "55                         2191     0.00          1090          0.50\n",
            "147                        2187     0.00          1010          0.46\n",
            "150                        2171     0.00           923          0.43\n",
            "33                         2092     0.00          1108          0.53\n",
            "170                        1981     0.00           907          0.46\n",
            "122                        1973     0.00           934          0.47\n",
            "118                        1925     0.00           899          0.47\n",
            "90                         1868     0.00           772          0.41\n",
            "115                        1848     0.00           887          0.48\n",
            "154                        1838     0.00           908          0.49\n",
            "179                        1834     0.00           957          0.52\n",
            "152                        1757     0.00           711          0.40\n",
            "56                         1677     0.00           780          0.47\n",
            "100                        1654     0.00           886          0.54\n",
            "167                        1623     0.00           803          0.49\n",
            "108                        1608     0.00           772          0.48\n",
            "104                        1584     0.00           999          0.63\n",
            "151                        1578     0.00           823          0.52\n",
            "188                        1556     0.00           852          0.55\n",
            "62                         1514     0.00           588          0.39\n",
            "208                        1441     0.00           676          0.47\n",
            "85                         1412     0.00           779          0.55\n",
            "120                        1411     0.00           620          0.44\n",
            "102                        1383     0.00           595          0.43\n",
            "73                         1360     0.00           644          0.47\n",
            "27                         1359     0.00           759          0.56\n",
            "166                        1332     0.00           694          0.52\n",
            "162                        1259     0.00           529          0.42\n",
            "58                         1210     0.00           506          0.42\n",
            "153                        1190     0.00           535          0.45\n",
            "112                        1136     0.00           559          0.49\n",
            "199                        1128     0.00           521          0.46\n",
            "99                         1101     0.00           511          0.46\n",
            "49                         1024     0.00           426          0.42\n",
            "183                        1012     0.00           530          0.52\n",
            "202                         992     0.00           425          0.43\n",
            "131                         987     0.00           621          0.63\n",
            "16                          885     0.00           383          0.43\n",
            "70                          877     0.00           421          0.48\n",
            "168                         858     0.00           334          0.39\n",
            "7                           814     0.00           461          0.57\n",
            "124                         813     0.00           373          0.46\n",
            "222                         763     0.00           369          0.48\n",
            "148                         757     0.00           424          0.56\n",
            "40                          730     0.00           330          0.45\n",
            "22                          721     0.00           352          0.49\n",
            "138                         687     0.00           308          0.45\n",
            "42                          671     0.00           317          0.47\n",
            "8                           666     0.00           329          0.49\n",
            "137                         639     0.00           265          0.41\n",
            "61                          636     0.00           380          0.60\n",
            "204                         623     0.00           266          0.43\n",
            "133                         609     0.00           327          0.54\n",
            "129                         608     0.00           310          0.51\n",
            "15                          593     0.00           313          0.53\n",
            "144                         590     0.00           265          0.45\n",
            "6                           564     0.00           282          0.50\n",
            "78                          546     0.00           192          0.35\n",
            "163                         542     0.00           294          0.54\n",
            "190                         540     0.00           331          0.61\n",
            "135                         508     0.00           203          0.40\n",
            "132                         481     0.00           283          0.59\n",
            "221                         480     0.00           257          0.54\n",
            "96                          468     0.00           159          0.34\n",
            "87                          441     0.00           186          0.42\n",
            "32                          429     0.00           200          0.47\n",
            "119                         416     0.00           149          0.36\n",
            "26                          394     0.00           198          0.50\n",
            "30                          390     0.00           146          0.37\n",
            "143                         372     0.00           174          0.47\n",
            "83                          356     0.00           167          0.47\n",
            "17                          354     0.00           148          0.42\n",
            "139                         325     0.00           214          0.66\n",
            "176                         311     0.00           171          0.55\n",
            "206                         307     0.00           152          0.50\n",
            "63                          282     0.00           127          0.45\n",
            "121                         281     0.00           129          0.46\n",
            "185                         271     0.00           141          0.52\n",
            "111                         264     0.00           132          0.50\n",
            "184                         263     0.00           136          0.52\n",
            "3                           248     0.00           122          0.49\n",
            "127                         231     0.00           116          0.50\n",
            "34                          228     0.00            99          0.43\n",
            "145                         218     0.00            79          0.36\n",
            "125                         216     0.00           103          0.48\n",
            "36                          214     0.00           104          0.49\n",
            "71                          213     0.00            75          0.35\n",
            "209                         209     0.00           114          0.55\n",
            "24                          209     0.00           112          0.54\n",
            "103                         204     0.00           117          0.57\n",
            "172                         203     0.00           102          0.50\n",
            "156                         188     0.00            77          0.41\n",
            "48                          188     0.00            81          0.43\n",
            "218                         187     0.00           100          0.53\n",
            "130                         187     0.00            82          0.44\n",
            "113                         185     0.00            83          0.45\n",
            "20                          182     0.00           103          0.57\n",
            "140                         161     0.00            71          0.44\n",
            "181                         159     0.00            87          0.55\n",
            "194                         151     0.00            77          0.51\n",
            "219                         151     0.00            43          0.28\n",
            "13                          151     0.00            61          0.40\n",
            "67                          148     0.00            65          0.44\n",
            "82                          139     0.00            49          0.35\n",
            "4                           128     0.00            50          0.39\n",
            "1                           117     0.00            59          0.50\n",
            "31                          114     0.00            71          0.62\n",
            "157                         106     0.00            44          0.42\n",
            "69                          103     0.00            46          0.45\n",
            "46                          101     0.00            36          0.36\n",
            "116                          98     0.00            41          0.42\n",
            "77                           97     0.00            48          0.49\n",
            "109                          95     0.00            35          0.37\n",
            "92                           90     0.00            24          0.27\n",
            "191                          82     0.00            48          0.59\n",
            "210                          81     0.00            38          0.47\n",
            "47                           76     0.00            37          0.49\n",
            "98                           75     0.00            16          0.21\n",
            "117                          74     0.00            32          0.43\n",
            "213                          73     0.00            19          0.26\n",
            "76                           73     0.00            39          0.53\n",
            "146                          68     0.00            40          0.59\n",
            "54                           61     0.00            30          0.49\n",
            "136                          61     0.00            30          0.49\n",
            "38                           60     0.00            36          0.60\n",
            "72                           57     0.00            20          0.35\n",
            "52                           57     0.00            30          0.53\n",
            "106                          56     0.00            28          0.50\n",
            "23                           55     0.00            27          0.49\n",
            "189                          54     0.00            22          0.41\n",
            "25                           53     0.00            15          0.28\n",
            "197                          52     0.00            34          0.65\n",
            "175                          49     0.00            24          0.49\n",
            "182                          46     0.00            27          0.59\n",
            "196                          46     0.00            21          0.46\n",
            "74                           44     0.00             9          0.20\n",
            "192                          44     0.00            18          0.41\n",
            "65                           43     0.00            13          0.30\n",
            "198                          42     0.00            23          0.55\n",
            "174                          37     0.00            23          0.62\n",
            "134                          35     0.00            13          0.37\n",
            "123                          32     0.00            13          0.41\n",
            "75                           32     0.00             9          0.28\n",
            "105                          32     0.00            22          0.69\n",
            "187                          30     0.00            18          0.60\n",
            "14                           30     0.00             9          0.30\n",
            "64                           29     0.00            10          0.34\n",
            "215                          29     0.00            18          0.62\n",
            "28                           28     0.00            10          0.36\n",
            "5                            24     0.00            12          0.50\n",
            "79                           24     0.00            15          0.62\n",
            "114                          23     0.00             5          0.22\n",
            "126                          22     0.00             9          0.41\n",
            "10                           19     0.00            11          0.58\n",
            "216                          18     0.00            11          0.61\n",
            "200                          18     0.00            11          0.61\n",
            "128                          16     0.00             6          0.38\n",
            "186                          16     0.00             8          0.50\n",
            "161                          14     0.00             6          0.43\n",
            "212                          13     0.00             5          0.38\n",
            "37                           12     0.00             6          0.50\n",
            "165                          11     0.00             5          0.45\n",
            "217                          10     0.00             6          0.60\n",
            "193                           9     0.00             5          0.56\n"
          ]
        }
      ]
    },
    {
      "cell_type": "markdown",
      "source": [
        "Tenemos muchas etiquetas con pocas observaciones en su mayoría. Qué podemos hacer? Crearemos 2 grupos (2 etiquetas): paises interesantes y no interesantes.\n",
        "\n",
        "Como?\n",
        "\n",
        "Buscaremos grupos de etiquetas que difieren del target --> etiquetas interesantes.\n",
        "Nos quedaremos con los 10 países más interesantes por su volumen y comportamiento diferenciado respecto al target. Los demás los etiquetaremos como \"Otros\"\n",
        "\n",
        "Así pues, seleccionamos aquellos identificadores de países de los que hayan más de 500 observaciones y los ordenamos según el porcentage de infectados. Nos quedamos los 5 más diferentes por arriba y por abajo.\n",
        "\n",
        "Para ello, usamos la función **setOthersPataNegra()** adaptado a nuestro dataset."
      ],
      "metadata": {
        "id": "YV_c3bPxeyEN"
      }
    },
    {
      "cell_type": "code",
      "source": [
        "df[VAR] = setOthersPataNegra(df, VAR, TARGET, 500, 5)"
      ],
      "metadata": {
        "id": "1N9UlShGpeLo"
      },
      "execution_count": null,
      "outputs": []
    },
    {
      "cell_type": "code",
      "source": [
        "results = explore_cat_values(df,VAR,TARGET)\n",
        "print(results.sort_values(by=(\"len\",\"HasDetections\"), ascending = False))"
      ],
      "metadata": {
        "colab": {
          "base_uri": "https://localhost:8080/"
        },
        "id": "-BZN6tk4rbDb",
        "outputId": "debfcbab-7454-483f-9495-8d07616debbf"
      },
      "execution_count": null,
      "outputs": [
        {
          "output_type": "stream",
          "name": "stdout",
          "text": [
            "                            len pct_rows           sum          mean\n",
            "                  HasDetections          HasDetections HasDetections\n",
            "CountryIdentifier                                                   \n",
            "Others                   477951     0.96        237591          0.50\n",
            "214                       10576     0.02          6446          0.61\n",
            "95                         3179     0.01          1937          0.61\n",
            "152                        1757     0.00           711          0.40\n",
            "104                        1584     0.00           999          0.63\n",
            "62                         1514     0.00           588          0.39\n",
            "131                         987     0.00           621          0.63\n",
            "168                         858     0.00           334          0.39\n",
            "78                          546     0.00           192          0.35\n",
            "190                         540     0.00           331          0.61\n",
            "135                         508     0.00           203          0.40\n"
          ]
        }
      ]
    },
    {
      "cell_type": "code",
      "source": [
        "l_OHE.append(VAR)\n",
        "l_OHE"
      ],
      "metadata": {
        "colab": {
          "base_uri": "https://localhost:8080/"
        },
        "id": "rI0LKD5Gt5r_",
        "outputId": "431990f1-c6c9-401d-90b5-38e78e760b25"
      },
      "execution_count": null,
      "outputs": [
        {
          "output_type": "execute_result",
          "data": {
            "text/plain": [
              "['EngineVersion', 'Platform', 'CountryIdentifier']"
            ]
          },
          "metadata": {},
          "execution_count": 611
        }
      ]
    },
    {
      "cell_type": "markdown",
      "source": [
        "**CityIdentifier**\n",
        "\n"
      ],
      "metadata": {
        "id": "4pKji30hhQrt"
      }
    },
    {
      "cell_type": "code",
      "source": [
        "VAR = \"CityIdentifier\""
      ],
      "metadata": {
        "id": "bUQcMWg1ttJH"
      },
      "execution_count": null,
      "outputs": []
    },
    {
      "cell_type": "code",
      "source": [
        "results = explore_cat_values(df,VAR,TARGET)\n",
        "\n",
        "# Hay tantas etiquetas que vamos a filtrar el dataset de resultados para visualizar sólo aquellas etiquetas que aparecen más de 500 veces\n",
        "\n",
        "results[results[(\"len\",\"HasDetections\")] > 500].sort_values(by=(\"mean\",\"HasDetections\"), ascending = False).head(20)\n"
      ],
      "metadata": {
        "colab": {
          "base_uri": "https://localhost:8080/",
          "height": 738
        },
        "id": "_2Jm-F5TtuPi",
        "outputId": "b7ec76e7-d329-4906-8be6-69c02e33808b"
      },
      "execution_count": null,
      "outputs": [
        {
          "output_type": "execute_result",
          "data": {
            "text/html": [
              "\n",
              "  <div id=\"df-a16a266a-09be-4f85-a8ea-6e424d03e154\">\n",
              "    <div class=\"colab-df-container\">\n",
              "      <div>\n",
              "<style scoped>\n",
              "    .dataframe tbody tr th:only-of-type {\n",
              "        vertical-align: middle;\n",
              "    }\n",
              "\n",
              "    .dataframe tbody tr th {\n",
              "        vertical-align: top;\n",
              "    }\n",
              "\n",
              "    .dataframe thead tr th {\n",
              "        text-align: left;\n",
              "    }\n",
              "\n",
              "    .dataframe thead tr:last-of-type th {\n",
              "        text-align: right;\n",
              "    }\n",
              "</style>\n",
              "<table border=\"1\" class=\"dataframe\">\n",
              "  <thead>\n",
              "    <tr>\n",
              "      <th></th>\n",
              "      <th>len</th>\n",
              "      <th>pct_rows</th>\n",
              "      <th>sum</th>\n",
              "      <th>mean</th>\n",
              "    </tr>\n",
              "    <tr>\n",
              "      <th></th>\n",
              "      <th>HasDetections</th>\n",
              "      <th></th>\n",
              "      <th>HasDetections</th>\n",
              "      <th>HasDetections</th>\n",
              "    </tr>\n",
              "    <tr>\n",
              "      <th>CityIdentifier</th>\n",
              "      <th></th>\n",
              "      <th></th>\n",
              "      <th></th>\n",
              "      <th></th>\n",
              "    </tr>\n",
              "  </thead>\n",
              "  <tbody>\n",
              "    <tr>\n",
              "      <th>10,146.00</th>\n",
              "      <td>623</td>\n",
              "      <td>0.00</td>\n",
              "      <td>405</td>\n",
              "      <td>0.65</td>\n",
              "    </tr>\n",
              "    <tr>\n",
              "      <th>111,347.00</th>\n",
              "      <td>1456</td>\n",
              "      <td>0.00</td>\n",
              "      <td>928</td>\n",
              "      <td>0.64</td>\n",
              "    </tr>\n",
              "    <tr>\n",
              "      <th>164,218.00</th>\n",
              "      <td>807</td>\n",
              "      <td>0.00</td>\n",
              "      <td>513</td>\n",
              "      <td>0.64</td>\n",
              "    </tr>\n",
              "    <tr>\n",
              "      <th>145,168.00</th>\n",
              "      <td>1022</td>\n",
              "      <td>0.00</td>\n",
              "      <td>644</td>\n",
              "      <td>0.63</td>\n",
              "    </tr>\n",
              "    <tr>\n",
              "      <th>61,668.00</th>\n",
              "      <td>3724</td>\n",
              "      <td>0.01</td>\n",
              "      <td>2288</td>\n",
              "      <td>0.61</td>\n",
              "    </tr>\n",
              "    <tr>\n",
              "      <th>58,607.00</th>\n",
              "      <td>3368</td>\n",
              "      <td>0.01</td>\n",
              "      <td>2065</td>\n",
              "      <td>0.61</td>\n",
              "    </tr>\n",
              "    <tr>\n",
              "      <th>923.00</th>\n",
              "      <td>573</td>\n",
              "      <td>0.00</td>\n",
              "      <td>339</td>\n",
              "      <td>0.59</td>\n",
              "    </tr>\n",
              "    <tr>\n",
              "      <th>142,110.00</th>\n",
              "      <td>1263</td>\n",
              "      <td>0.00</td>\n",
              "      <td>734</td>\n",
              "      <td>0.58</td>\n",
              "    </tr>\n",
              "    <tr>\n",
              "      <th>76,894.00</th>\n",
              "      <td>568</td>\n",
              "      <td>0.00</td>\n",
              "      <td>327</td>\n",
              "      <td>0.58</td>\n",
              "    </tr>\n",
              "    <tr>\n",
              "      <th>8,957.00</th>\n",
              "      <td>994</td>\n",
              "      <td>0.00</td>\n",
              "      <td>564</td>\n",
              "      <td>0.57</td>\n",
              "    </tr>\n",
              "    <tr>\n",
              "      <th>87,903.00</th>\n",
              "      <td>635</td>\n",
              "      <td>0.00</td>\n",
              "      <td>360</td>\n",
              "      <td>0.57</td>\n",
              "    </tr>\n",
              "    <tr>\n",
              "      <th>66,953.00</th>\n",
              "      <td>3143</td>\n",
              "      <td>0.01</td>\n",
              "      <td>1776</td>\n",
              "      <td>0.57</td>\n",
              "    </tr>\n",
              "    <tr>\n",
              "      <th>22,656.00</th>\n",
              "      <td>3085</td>\n",
              "      <td>0.01</td>\n",
              "      <td>1734</td>\n",
              "      <td>0.56</td>\n",
              "    </tr>\n",
              "    <tr>\n",
              "      <th>70,124.00</th>\n",
              "      <td>1285</td>\n",
              "      <td>0.00</td>\n",
              "      <td>717</td>\n",
              "      <td>0.56</td>\n",
              "    </tr>\n",
              "    <tr>\n",
              "      <th>117,751.00</th>\n",
              "      <td>1541</td>\n",
              "      <td>0.00</td>\n",
              "      <td>859</td>\n",
              "      <td>0.56</td>\n",
              "    </tr>\n",
              "    <tr>\n",
              "      <th>52,261.00</th>\n",
              "      <td>619</td>\n",
              "      <td>0.00</td>\n",
              "      <td>345</td>\n",
              "      <td>0.56</td>\n",
              "    </tr>\n",
              "    <tr>\n",
              "      <th>13,094.00</th>\n",
              "      <td>530</td>\n",
              "      <td>0.00</td>\n",
              "      <td>295</td>\n",
              "      <td>0.56</td>\n",
              "    </tr>\n",
              "    <tr>\n",
              "      <th>77,866.00</th>\n",
              "      <td>1441</td>\n",
              "      <td>0.00</td>\n",
              "      <td>801</td>\n",
              "      <td>0.56</td>\n",
              "    </tr>\n",
              "    <tr>\n",
              "      <th>164,633.00</th>\n",
              "      <td>727</td>\n",
              "      <td>0.00</td>\n",
              "      <td>404</td>\n",
              "      <td>0.56</td>\n",
              "    </tr>\n",
              "    <tr>\n",
              "      <th>145,160.00</th>\n",
              "      <td>673</td>\n",
              "      <td>0.00</td>\n",
              "      <td>371</td>\n",
              "      <td>0.55</td>\n",
              "    </tr>\n",
              "  </tbody>\n",
              "</table>\n",
              "</div>\n",
              "      <button class=\"colab-df-convert\" onclick=\"convertToInteractive('df-a16a266a-09be-4f85-a8ea-6e424d03e154')\"\n",
              "              title=\"Convert this dataframe to an interactive table.\"\n",
              "              style=\"display:none;\">\n",
              "        \n",
              "  <svg xmlns=\"http://www.w3.org/2000/svg\" height=\"24px\"viewBox=\"0 0 24 24\"\n",
              "       width=\"24px\">\n",
              "    <path d=\"M0 0h24v24H0V0z\" fill=\"none\"/>\n",
              "    <path d=\"M18.56 5.44l.94 2.06.94-2.06 2.06-.94-2.06-.94-.94-2.06-.94 2.06-2.06.94zm-11 1L8.5 8.5l.94-2.06 2.06-.94-2.06-.94L8.5 2.5l-.94 2.06-2.06.94zm10 10l.94 2.06.94-2.06 2.06-.94-2.06-.94-.94-2.06-.94 2.06-2.06.94z\"/><path d=\"M17.41 7.96l-1.37-1.37c-.4-.4-.92-.59-1.43-.59-.52 0-1.04.2-1.43.59L10.3 9.45l-7.72 7.72c-.78.78-.78 2.05 0 2.83L4 21.41c.39.39.9.59 1.41.59.51 0 1.02-.2 1.41-.59l7.78-7.78 2.81-2.81c.8-.78.8-2.07 0-2.86zM5.41 20L4 18.59l7.72-7.72 1.47 1.35L5.41 20z\"/>\n",
              "  </svg>\n",
              "      </button>\n",
              "      \n",
              "  <style>\n",
              "    .colab-df-container {\n",
              "      display:flex;\n",
              "      flex-wrap:wrap;\n",
              "      gap: 12px;\n",
              "    }\n",
              "\n",
              "    .colab-df-convert {\n",
              "      background-color: #E8F0FE;\n",
              "      border: none;\n",
              "      border-radius: 50%;\n",
              "      cursor: pointer;\n",
              "      display: none;\n",
              "      fill: #1967D2;\n",
              "      height: 32px;\n",
              "      padding: 0 0 0 0;\n",
              "      width: 32px;\n",
              "    }\n",
              "\n",
              "    .colab-df-convert:hover {\n",
              "      background-color: #E2EBFA;\n",
              "      box-shadow: 0px 1px 2px rgba(60, 64, 67, 0.3), 0px 1px 3px 1px rgba(60, 64, 67, 0.15);\n",
              "      fill: #174EA6;\n",
              "    }\n",
              "\n",
              "    [theme=dark] .colab-df-convert {\n",
              "      background-color: #3B4455;\n",
              "      fill: #D2E3FC;\n",
              "    }\n",
              "\n",
              "    [theme=dark] .colab-df-convert:hover {\n",
              "      background-color: #434B5C;\n",
              "      box-shadow: 0px 1px 3px 1px rgba(0, 0, 0, 0.15);\n",
              "      filter: drop-shadow(0px 1px 2px rgba(0, 0, 0, 0.3));\n",
              "      fill: #FFFFFF;\n",
              "    }\n",
              "  </style>\n",
              "\n",
              "      <script>\n",
              "        const buttonEl =\n",
              "          document.querySelector('#df-a16a266a-09be-4f85-a8ea-6e424d03e154 button.colab-df-convert');\n",
              "        buttonEl.style.display =\n",
              "          google.colab.kernel.accessAllowed ? 'block' : 'none';\n",
              "\n",
              "        async function convertToInteractive(key) {\n",
              "          const element = document.querySelector('#df-a16a266a-09be-4f85-a8ea-6e424d03e154');\n",
              "          const dataTable =\n",
              "            await google.colab.kernel.invokeFunction('convertToInteractive',\n",
              "                                                     [key], {});\n",
              "          if (!dataTable) return;\n",
              "\n",
              "          const docLinkHtml = 'Like what you see? Visit the ' +\n",
              "            '<a target=\"_blank\" href=https://colab.research.google.com/notebooks/data_table.ipynb>data table notebook</a>'\n",
              "            + ' to learn more about interactive tables.';\n",
              "          element.innerHTML = '';\n",
              "          dataTable['output_type'] = 'display_data';\n",
              "          await google.colab.output.renderOutput(dataTable, element);\n",
              "          const docLink = document.createElement('div');\n",
              "          docLink.innerHTML = docLinkHtml;\n",
              "          element.appendChild(docLink);\n",
              "        }\n",
              "      </script>\n",
              "    </div>\n",
              "  </div>\n",
              "  "
            ],
            "text/plain": [
              "                         len pct_rows           sum          mean\n",
              "               HasDetections          HasDetections HasDetections\n",
              "CityIdentifier                                                   \n",
              "10,146.00                623     0.00           405          0.65\n",
              "111,347.00              1456     0.00           928          0.64\n",
              "164,218.00               807     0.00           513          0.64\n",
              "145,168.00              1022     0.00           644          0.63\n",
              "61,668.00               3724     0.01          2288          0.61\n",
              "58,607.00               3368     0.01          2065          0.61\n",
              "923.00                   573     0.00           339          0.59\n",
              "142,110.00              1263     0.00           734          0.58\n",
              "76,894.00                568     0.00           327          0.58\n",
              "8,957.00                 994     0.00           564          0.57\n",
              "87,903.00                635     0.00           360          0.57\n",
              "66,953.00               3143     0.01          1776          0.57\n",
              "22,656.00               3085     0.01          1734          0.56\n",
              "70,124.00               1285     0.00           717          0.56\n",
              "117,751.00              1541     0.00           859          0.56\n",
              "52,261.00                619     0.00           345          0.56\n",
              "13,094.00                530     0.00           295          0.56\n",
              "77,866.00               1441     0.00           801          0.56\n",
              "164,633.00               727     0.00           404          0.56\n",
              "145,160.00               673     0.00           371          0.55"
            ]
          },
          "metadata": {},
          "execution_count": 613
        }
      ]
    },
    {
      "cell_type": "code",
      "source": [
        "results[results[(\"len\",\"HasDetections\")] > 500].sort_values(by=(\"mean\",\"HasDetections\"), ascending = False).tail(20)"
      ],
      "metadata": {
        "colab": {
          "base_uri": "https://localhost:8080/",
          "height": 738
        },
        "id": "rvw_cWcO038J",
        "outputId": "9c90128a-8c15-4710-a5ff-05ed74ef8bcb"
      },
      "execution_count": null,
      "outputs": [
        {
          "output_type": "execute_result",
          "data": {
            "text/html": [
              "\n",
              "  <div id=\"df-f20f7363-e002-4550-b02e-e58c04e751c3\">\n",
              "    <div class=\"colab-df-container\">\n",
              "      <div>\n",
              "<style scoped>\n",
              "    .dataframe tbody tr th:only-of-type {\n",
              "        vertical-align: middle;\n",
              "    }\n",
              "\n",
              "    .dataframe tbody tr th {\n",
              "        vertical-align: top;\n",
              "    }\n",
              "\n",
              "    .dataframe thead tr th {\n",
              "        text-align: left;\n",
              "    }\n",
              "\n",
              "    .dataframe thead tr:last-of-type th {\n",
              "        text-align: right;\n",
              "    }\n",
              "</style>\n",
              "<table border=\"1\" class=\"dataframe\">\n",
              "  <thead>\n",
              "    <tr>\n",
              "      <th></th>\n",
              "      <th>len</th>\n",
              "      <th>pct_rows</th>\n",
              "      <th>sum</th>\n",
              "      <th>mean</th>\n",
              "    </tr>\n",
              "    <tr>\n",
              "      <th></th>\n",
              "      <th>HasDetections</th>\n",
              "      <th></th>\n",
              "      <th>HasDetections</th>\n",
              "      <th>HasDetections</th>\n",
              "    </tr>\n",
              "    <tr>\n",
              "      <th>CityIdentifier</th>\n",
              "      <th></th>\n",
              "      <th></th>\n",
              "      <th></th>\n",
              "      <th></th>\n",
              "    </tr>\n",
              "  </thead>\n",
              "  <tbody>\n",
              "    <tr>\n",
              "      <th>26,735.00</th>\n",
              "      <td>1407</td>\n",
              "      <td>0.00</td>\n",
              "      <td>628</td>\n",
              "      <td>0.45</td>\n",
              "    </tr>\n",
              "    <tr>\n",
              "      <th>120,697.00</th>\n",
              "      <td>1039</td>\n",
              "      <td>0.00</td>\n",
              "      <td>463</td>\n",
              "      <td>0.45</td>\n",
              "    </tr>\n",
              "    <tr>\n",
              "      <th>136,271.00</th>\n",
              "      <td>2692</td>\n",
              "      <td>0.01</td>\n",
              "      <td>1199</td>\n",
              "      <td>0.45</td>\n",
              "    </tr>\n",
              "    <tr>\n",
              "      <th>110,910.00</th>\n",
              "      <td>942</td>\n",
              "      <td>0.00</td>\n",
              "      <td>418</td>\n",
              "      <td>0.44</td>\n",
              "    </tr>\n",
              "    <tr>\n",
              "      <th>143,155.00</th>\n",
              "      <td>2099</td>\n",
              "      <td>0.00</td>\n",
              "      <td>931</td>\n",
              "      <td>0.44</td>\n",
              "    </tr>\n",
              "    <tr>\n",
              "      <th>120,917.00</th>\n",
              "      <td>1034</td>\n",
              "      <td>0.00</td>\n",
              "      <td>456</td>\n",
              "      <td>0.44</td>\n",
              "    </tr>\n",
              "    <tr>\n",
              "      <th>98,692.00</th>\n",
              "      <td>1173</td>\n",
              "      <td>0.00</td>\n",
              "      <td>517</td>\n",
              "      <td>0.44</td>\n",
              "    </tr>\n",
              "    <tr>\n",
              "      <th>10,653.00</th>\n",
              "      <td>1049</td>\n",
              "      <td>0.00</td>\n",
              "      <td>462</td>\n",
              "      <td>0.44</td>\n",
              "    </tr>\n",
              "    <tr>\n",
              "      <th>7,470.00</th>\n",
              "      <td>746</td>\n",
              "      <td>0.00</td>\n",
              "      <td>324</td>\n",
              "      <td>0.43</td>\n",
              "    </tr>\n",
              "    <tr>\n",
              "      <th>73,478.00</th>\n",
              "      <td>545</td>\n",
              "      <td>0.00</td>\n",
              "      <td>236</td>\n",
              "      <td>0.43</td>\n",
              "    </tr>\n",
              "    <tr>\n",
              "      <th>68,380.00</th>\n",
              "      <td>1145</td>\n",
              "      <td>0.00</td>\n",
              "      <td>493</td>\n",
              "      <td>0.43</td>\n",
              "    </tr>\n",
              "    <tr>\n",
              "      <th>144,018.00</th>\n",
              "      <td>680</td>\n",
              "      <td>0.00</td>\n",
              "      <td>291</td>\n",
              "      <td>0.43</td>\n",
              "    </tr>\n",
              "    <tr>\n",
              "      <th>115,292.00</th>\n",
              "      <td>959</td>\n",
              "      <td>0.00</td>\n",
              "      <td>410</td>\n",
              "      <td>0.43</td>\n",
              "    </tr>\n",
              "    <tr>\n",
              "      <th>115,637.00</th>\n",
              "      <td>672</td>\n",
              "      <td>0.00</td>\n",
              "      <td>286</td>\n",
              "      <td>0.43</td>\n",
              "    </tr>\n",
              "    <tr>\n",
              "      <th>39,821.00</th>\n",
              "      <td>968</td>\n",
              "      <td>0.00</td>\n",
              "      <td>411</td>\n",
              "      <td>0.42</td>\n",
              "    </tr>\n",
              "    <tr>\n",
              "      <th>92,776.00</th>\n",
              "      <td>875</td>\n",
              "      <td>0.00</td>\n",
              "      <td>371</td>\n",
              "      <td>0.42</td>\n",
              "    </tr>\n",
              "    <tr>\n",
              "      <th>101,182.00</th>\n",
              "      <td>605</td>\n",
              "      <td>0.00</td>\n",
              "      <td>255</td>\n",
              "      <td>0.42</td>\n",
              "    </tr>\n",
              "    <tr>\n",
              "      <th>18,964.00</th>\n",
              "      <td>759</td>\n",
              "      <td>0.00</td>\n",
              "      <td>308</td>\n",
              "      <td>0.41</td>\n",
              "    </tr>\n",
              "    <tr>\n",
              "      <th>140,628.00</th>\n",
              "      <td>547</td>\n",
              "      <td>0.00</td>\n",
              "      <td>221</td>\n",
              "      <td>0.40</td>\n",
              "    </tr>\n",
              "    <tr>\n",
              "      <th>166,872.00</th>\n",
              "      <td>538</td>\n",
              "      <td>0.00</td>\n",
              "      <td>214</td>\n",
              "      <td>0.40</td>\n",
              "    </tr>\n",
              "  </tbody>\n",
              "</table>\n",
              "</div>\n",
              "      <button class=\"colab-df-convert\" onclick=\"convertToInteractive('df-f20f7363-e002-4550-b02e-e58c04e751c3')\"\n",
              "              title=\"Convert this dataframe to an interactive table.\"\n",
              "              style=\"display:none;\">\n",
              "        \n",
              "  <svg xmlns=\"http://www.w3.org/2000/svg\" height=\"24px\"viewBox=\"0 0 24 24\"\n",
              "       width=\"24px\">\n",
              "    <path d=\"M0 0h24v24H0V0z\" fill=\"none\"/>\n",
              "    <path d=\"M18.56 5.44l.94 2.06.94-2.06 2.06-.94-2.06-.94-.94-2.06-.94 2.06-2.06.94zm-11 1L8.5 8.5l.94-2.06 2.06-.94-2.06-.94L8.5 2.5l-.94 2.06-2.06.94zm10 10l.94 2.06.94-2.06 2.06-.94-2.06-.94-.94-2.06-.94 2.06-2.06.94z\"/><path d=\"M17.41 7.96l-1.37-1.37c-.4-.4-.92-.59-1.43-.59-.52 0-1.04.2-1.43.59L10.3 9.45l-7.72 7.72c-.78.78-.78 2.05 0 2.83L4 21.41c.39.39.9.59 1.41.59.51 0 1.02-.2 1.41-.59l7.78-7.78 2.81-2.81c.8-.78.8-2.07 0-2.86zM5.41 20L4 18.59l7.72-7.72 1.47 1.35L5.41 20z\"/>\n",
              "  </svg>\n",
              "      </button>\n",
              "      \n",
              "  <style>\n",
              "    .colab-df-container {\n",
              "      display:flex;\n",
              "      flex-wrap:wrap;\n",
              "      gap: 12px;\n",
              "    }\n",
              "\n",
              "    .colab-df-convert {\n",
              "      background-color: #E8F0FE;\n",
              "      border: none;\n",
              "      border-radius: 50%;\n",
              "      cursor: pointer;\n",
              "      display: none;\n",
              "      fill: #1967D2;\n",
              "      height: 32px;\n",
              "      padding: 0 0 0 0;\n",
              "      width: 32px;\n",
              "    }\n",
              "\n",
              "    .colab-df-convert:hover {\n",
              "      background-color: #E2EBFA;\n",
              "      box-shadow: 0px 1px 2px rgba(60, 64, 67, 0.3), 0px 1px 3px 1px rgba(60, 64, 67, 0.15);\n",
              "      fill: #174EA6;\n",
              "    }\n",
              "\n",
              "    [theme=dark] .colab-df-convert {\n",
              "      background-color: #3B4455;\n",
              "      fill: #D2E3FC;\n",
              "    }\n",
              "\n",
              "    [theme=dark] .colab-df-convert:hover {\n",
              "      background-color: #434B5C;\n",
              "      box-shadow: 0px 1px 3px 1px rgba(0, 0, 0, 0.15);\n",
              "      filter: drop-shadow(0px 1px 2px rgba(0, 0, 0, 0.3));\n",
              "      fill: #FFFFFF;\n",
              "    }\n",
              "  </style>\n",
              "\n",
              "      <script>\n",
              "        const buttonEl =\n",
              "          document.querySelector('#df-f20f7363-e002-4550-b02e-e58c04e751c3 button.colab-df-convert');\n",
              "        buttonEl.style.display =\n",
              "          google.colab.kernel.accessAllowed ? 'block' : 'none';\n",
              "\n",
              "        async function convertToInteractive(key) {\n",
              "          const element = document.querySelector('#df-f20f7363-e002-4550-b02e-e58c04e751c3');\n",
              "          const dataTable =\n",
              "            await google.colab.kernel.invokeFunction('convertToInteractive',\n",
              "                                                     [key], {});\n",
              "          if (!dataTable) return;\n",
              "\n",
              "          const docLinkHtml = 'Like what you see? Visit the ' +\n",
              "            '<a target=\"_blank\" href=https://colab.research.google.com/notebooks/data_table.ipynb>data table notebook</a>'\n",
              "            + ' to learn more about interactive tables.';\n",
              "          element.innerHTML = '';\n",
              "          dataTable['output_type'] = 'display_data';\n",
              "          await google.colab.output.renderOutput(dataTable, element);\n",
              "          const docLink = document.createElement('div');\n",
              "          docLink.innerHTML = docLinkHtml;\n",
              "          element.appendChild(docLink);\n",
              "        }\n",
              "      </script>\n",
              "    </div>\n",
              "  </div>\n",
              "  "
            ],
            "text/plain": [
              "                         len pct_rows           sum          mean\n",
              "               HasDetections          HasDetections HasDetections\n",
              "CityIdentifier                                                   \n",
              "26,735.00               1407     0.00           628          0.45\n",
              "120,697.00              1039     0.00           463          0.45\n",
              "136,271.00              2692     0.01          1199          0.45\n",
              "110,910.00               942     0.00           418          0.44\n",
              "143,155.00              2099     0.00           931          0.44\n",
              "120,917.00              1034     0.00           456          0.44\n",
              "98,692.00               1173     0.00           517          0.44\n",
              "10,653.00               1049     0.00           462          0.44\n",
              "7,470.00                 746     0.00           324          0.43\n",
              "73,478.00                545     0.00           236          0.43\n",
              "68,380.00               1145     0.00           493          0.43\n",
              "144,018.00               680     0.00           291          0.43\n",
              "115,292.00               959     0.00           410          0.43\n",
              "115,637.00               672     0.00           286          0.43\n",
              "39,821.00                968     0.00           411          0.42\n",
              "92,776.00                875     0.00           371          0.42\n",
              "101,182.00               605     0.00           255          0.42\n",
              "18,964.00                759     0.00           308          0.41\n",
              "140,628.00               547     0.00           221          0.40\n",
              "166,872.00               538     0.00           214          0.40"
            ]
          },
          "metadata": {},
          "execution_count": 614
        }
      ]
    },
    {
      "cell_type": "markdown",
      "source": [
        "De nuevo tenemos una variables con muchísimas etiquetas con número similar de apariciones y suficientes para ser informativas.\n",
        "\n",
        "Haremos uso de la función SetOthersPataNegra()."
      ],
      "metadata": {
        "id": "2xMR5OdNtui5"
      }
    },
    {
      "cell_type": "markdown",
      "source": [
        "Esta vez nos quedaremos con la 6 mejores para poder incluir la etiqueta 58,607.00, que tiene más de 3.000 apariciones y un porcentage de target de 0.61"
      ],
      "metadata": {
        "id": "u7FrtOsyx_uh"
      }
    },
    {
      "cell_type": "code",
      "source": [
        "df[VAR] = setOthersPataNegra(df, VAR, TARGET, 500, 6)"
      ],
      "metadata": {
        "id": "-I_F2wWIzy3s"
      },
      "execution_count": null,
      "outputs": []
    },
    {
      "cell_type": "code",
      "source": [
        "results = explore_cat_values(df,VAR,TARGET)\n",
        "print(results.sort_values(by=(\"len\",\"HasDetections\"), ascending = False))"
      ],
      "metadata": {
        "colab": {
          "base_uri": "https://localhost:8080/"
        },
        "outputId": "568b0783-db90-4939-e1e2-6929a11ea888",
        "id": "6Xk4GIK1zy3v"
      },
      "execution_count": null,
      "outputs": [
        {
          "output_type": "stream",
          "name": "stdout",
          "text": [
            "                         len pct_rows           sum          mean\n",
            "               HasDetections          HasDetections HasDetections\n",
            "CityIdentifier                                                   \n",
            "Others                484708     0.97        241330          0.50\n",
            "61668.0                 3724     0.01          2288          0.61\n",
            "58607.0                 3368     0.01          2065          0.61\n",
            "111347.0                1456     0.00           928          0.64\n",
            "145168.0                1022     0.00           644          0.63\n",
            "39821.0                  968     0.00           411          0.42\n",
            "92776.0                  875     0.00           371          0.42\n",
            "164218.0                 807     0.00           513          0.64\n",
            "18964.0                  759     0.00           308          0.41\n",
            "10146.0                  623     0.00           405          0.65\n",
            "101182.0                 605     0.00           255          0.42\n",
            "140628.0                 547     0.00           221          0.40\n",
            "166872.0                 538     0.00           214          0.40\n"
          ]
        }
      ]
    },
    {
      "cell_type": "code",
      "source": [
        "l_OHE.append(VAR)\n",
        "l_OHE"
      ],
      "metadata": {
        "colab": {
          "base_uri": "https://localhost:8080/"
        },
        "outputId": "4ad76ea9-c07a-4ca6-f88d-fce40fe8ced5",
        "id": "h6p9X6wGzy3w"
      },
      "execution_count": null,
      "outputs": [
        {
          "output_type": "execute_result",
          "data": {
            "text/plain": [
              "['EngineVersion', 'Platform', 'CountryIdentifier', 'CityIdentifier']"
            ]
          },
          "metadata": {},
          "execution_count": 617
        }
      ]
    },
    {
      "cell_type": "code",
      "source": [],
      "metadata": {
        "id": "4NNEuufg3A5W"
      },
      "execution_count": null,
      "outputs": []
    },
    {
      "cell_type": "markdown",
      "source": [
        "**SmartScreen**\n",
        "\n"
      ],
      "metadata": {
        "id": "PeI4iXY13BQz"
      }
    },
    {
      "cell_type": "code",
      "source": [
        "VAR = 'SmartScreen'"
      ],
      "metadata": {
        "id": "h35hMy3R3BQx"
      },
      "execution_count": null,
      "outputs": []
    },
    {
      "cell_type": "code",
      "source": [
        "sns.countplot(data=df, x=VAR)"
      ],
      "metadata": {
        "colab": {
          "base_uri": "https://localhost:8080/",
          "height": 301
        },
        "outputId": "3df2f211-2135-4b5d-f583-a0cf88ff12f3",
        "id": "WvQhfw_m3BQy"
      },
      "execution_count": null,
      "outputs": [
        {
          "output_type": "execute_result",
          "data": {
            "text/plain": [
              "<matplotlib.axes._subplots.AxesSubplot at 0x7fb467476590>"
            ]
          },
          "metadata": {},
          "execution_count": 619
        },
        {
          "output_type": "display_data",
          "data": {
            "image/png": "[encoded data removed]",
            "text/plain": [
              "<Figure size 432x288 with 1 Axes>"
            ]
          },
          "metadata": {}
        }
      ]
    },
    {
      "cell_type": "code",
      "source": [
        "results = explore_cat_values(df,VAR,TARGET)\n",
        "print(results.sort_values(by=(\"len\",\"HasDetections\"), ascending = False))"
      ],
      "metadata": {
        "colab": {
          "base_uri": "https://localhost:8080/"
        },
        "outputId": "56d1fef8-796c-4074-f89b-a1eb6de3e21d",
        "id": "u0rizysL3BQy"
      },
      "execution_count": null,
      "outputs": [
        {
          "output_type": "stream",
          "name": "stdout",
          "text": [
            "                       len pct_rows           sum          mean\n",
            "             HasDetections          HasDetections HasDetections\n",
            "SmartScreen                                                    \n",
            "RequireAdmin        241594     0.48        105890          0.44\n",
            "ExistsNotSet         58497     0.12         47115          0.81\n",
            "Off                  10388     0.02          5055          0.49\n",
            "Warn                  7530     0.02          4306          0.57\n",
            "Prompt                1950     0.00           928          0.48\n",
            "Block                 1274     0.00           640          0.50\n",
            "off                     75     0.00            43          0.57\n",
            "On                      53     0.00            36          0.68\n",
            "&#x02;                  20     0.00            11          0.55\n",
            "&#x01;                  14     0.00             6          0.43\n",
            "on                       8     0.00             4          0.50\n",
            "requireadmin             1     0.00             0          0.00\n"
          ]
        }
      ]
    },
    {
      "cell_type": "markdown",
      "source": [
        "Vemos que hay una categoría que se corresponde con un número de infecciones muy alto, y además es una categoría muy numerosa, de más del 10%.\n",
        "\n",
        "Nos quedaremos con las 4 primeras y agruparemos las demás. Agrupamos la quinta y sexta porque son muy parecidas entre ellas con respecto al target y juntas tendrán un volúmen más representativo.\n"
      ],
      "metadata": {
        "id": "R9oY7Kso2fmH"
      }
    },
    {
      "cell_type": "code",
      "source": [
        "df[VAR] = setOthers(df, VAR, 4)"
      ],
      "metadata": {
        "id": "NNv3gBR-3oCU"
      },
      "execution_count": null,
      "outputs": []
    },
    {
      "cell_type": "code",
      "source": [
        "results = explore_cat_values(df,VAR,TARGET)\n",
        "print(results.sort_values(by=(\"len\",\"HasDetections\"), ascending = False))"
      ],
      "metadata": {
        "colab": {
          "base_uri": "https://localhost:8080/"
        },
        "outputId": "4ce34059-10c7-454c-c4b8-85538428893d",
        "id": "25172CGm5UZ4"
      },
      "execution_count": null,
      "outputs": [
        {
          "output_type": "stream",
          "name": "stdout",
          "text": [
            "                       len pct_rows           sum          mean\n",
            "             HasDetections          HasDetections HasDetections\n",
            "SmartScreen                                                    \n",
            "RequireAdmin        241594     0.48        105890          0.44\n",
            "Others              181991     0.36         87587          0.48\n",
            "ExistsNotSet         58497     0.12         47115          0.81\n",
            "Off                  10388     0.02          5055          0.49\n",
            "Warn                  7530     0.02          4306          0.57\n"
          ]
        }
      ]
    },
    {
      "cell_type": "code",
      "source": [
        "# Incluímos la variable a la lista para el OHE\n",
        "\n",
        "l_OHE.append(VAR)\n",
        "l_OHE"
      ],
      "metadata": {
        "colab": {
          "base_uri": "https://localhost:8080/"
        },
        "outputId": "0f7ba551-2bc2-4c1c-cb7f-7f8cb836b3f2",
        "id": "bE8K5cqs5UZ_"
      },
      "execution_count": null,
      "outputs": [
        {
          "output_type": "execute_result",
          "data": {
            "text/plain": [
              "['EngineVersion',\n",
              " 'Platform',\n",
              " 'CountryIdentifier',\n",
              " 'CityIdentifier',\n",
              " 'SmartScreen']"
            ]
          },
          "metadata": {},
          "execution_count": 623
        }
      ]
    },
    {
      "cell_type": "markdown",
      "source": [
        "Por falta de tiempo, nos dedicamos a los otros tipos de variables y dejamos las categóricas. Por ahora tenemos guardadas en una lista las variables categóricas que ya han sido tratadas."
      ],
      "metadata": {
        "id": "sAGeye5N14xX"
      }
    },
    {
      "cell_type": "markdown",
      "source": [
        "### Booleanas con nulos"
      ],
      "metadata": {
        "id": "e9KnU61G8_0B"
      }
    },
    {
      "cell_type": "code",
      "source": [
        "l_num_bools_con_nulos"
      ],
      "metadata": {
        "id": "3VJDULYzhQxR",
        "colab": {
          "base_uri": "https://localhost:8080/"
        },
        "outputId": "7505b74d-8f1b-44d2-c8e5-c6f09479f05b"
      },
      "execution_count": null,
      "outputs": [
        {
          "output_type": "execute_result",
          "data": {
            "text/plain": [
              "['IsProtected',\n",
              " 'SMode',\n",
              " 'Firewall',\n",
              " 'Census_IsFlightingInternal',\n",
              " 'Census_IsFlightsDisabled',\n",
              " 'Census_ThresholdOptIn',\n",
              " 'Census_IsVirtualDevice',\n",
              " 'Census_IsAlwaysOnAlwaysConnectedCapable',\n",
              " 'Wdft_IsGamer']"
            ]
          },
          "metadata": {},
          "execution_count": 624
        }
      ]
    },
    {
      "cell_type": "code",
      "source": [],
      "metadata": {
        "id": "_O0YqMH58CGv"
      },
      "execution_count": null,
      "outputs": []
    },
    {
      "cell_type": "markdown",
      "source": [
        "**IsProtected**"
      ],
      "metadata": {
        "id": "D49BImla36qJ"
      }
    },
    {
      "cell_type": "code",
      "source": [
        "results = explore_cat_values(df,'IsProtected',TARGET)\n",
        "print(results.sort_values(by=(\"len\",\"HasDetections\"), ascending = False))"
      ],
      "metadata": {
        "colab": {
          "base_uri": "https://localhost:8080/"
        },
        "id": "seqCFIzD3VA5",
        "outputId": "4008516d-c2b9-4931-af9b-e6136488b6bf"
      },
      "execution_count": null,
      "outputs": [
        {
          "output_type": "stream",
          "name": "stdout",
          "text": [
            "                      len pct_rows           sum          mean\n",
            "            HasDetections          HasDetections HasDetections\n",
            "IsProtected                                                   \n",
            "1.00               471073     0.94        238877          0.51\n",
            "0.00                27001     0.05         10341          0.38\n"
          ]
        }
      ]
    },
    {
      "cell_type": "markdown",
      "source": [
        "No vemos el promedio del target para los nulos. --> los sustituiremos por una etiqueta para que con la función explore_cat_values() los podamos analizar."
      ],
      "metadata": {
        "id": "aAbCYYZG96cb"
      }
    },
    {
      "cell_type": "code",
      "source": [
        "df['IsProtected'].fillna('Nulo', inplace=True)"
      ],
      "metadata": {
        "id": "hd_MyZOW-N6a"
      },
      "execution_count": null,
      "outputs": []
    },
    {
      "cell_type": "code",
      "source": [
        "results = explore_cat_values(df,'IsProtected',TARGET)\n",
        "print(results.sort_values(by=(\"len\",\"HasDetections\"), ascending = False))"
      ],
      "metadata": {
        "colab": {
          "base_uri": "https://localhost:8080/"
        },
        "id": "JBkr0IeN-ZFI",
        "outputId": "58da6e5a-33d0-4069-9a65-7f82c8990047"
      },
      "execution_count": null,
      "outputs": [
        {
          "output_type": "stream",
          "name": "stdout",
          "text": [
            "                      len pct_rows           sum          mean\n",
            "            HasDetections          HasDetections HasDetections\n",
            "IsProtected                                                   \n",
            "1.0                471073     0.94        238877          0.51\n",
            "0.0                 27001     0.05         10341          0.38\n",
            "Nulo                 1926     0.00           735          0.38\n"
          ]
        }
      ]
    },
    {
      "cell_type": "markdown",
      "source": [
        "El porcentage del target para los nulos, es curiosamente igual al correspondiente a la etiqueta de valor 0. --> la trataremos más adelante en el Data Preparation, como a las demás numéricas, sustituyendo poniendo un valor menor al mínimo de la columna, como haremos con ellas."
      ],
      "metadata": {
        "id": "SrJlRWoX4LNk"
      }
    },
    {
      "cell_type": "code",
      "source": [
        "df[\"IsProtected\"] = np.where( df[\"IsProtected\"] == \"Nulo\", -2 ,df[\"IsProtected\"] )"
      ],
      "metadata": {
        "id": "eiuh9eL2_L_w"
      },
      "execution_count": null,
      "outputs": []
    },
    {
      "cell_type": "code",
      "source": [
        "results = explore_cat_values(df,'IsProtected',TARGET)\n",
        "print(results.sort_values(by=(\"len\",\"HasDetections\"), ascending = False))"
      ],
      "metadata": {
        "colab": {
          "base_uri": "https://localhost:8080/"
        },
        "id": "P2d5gucH_eZw",
        "outputId": "e682367d-0c9d-447b-b1c4-4dcbbe2c91b2"
      },
      "execution_count": null,
      "outputs": [
        {
          "output_type": "stream",
          "name": "stdout",
          "text": [
            "                      len pct_rows           sum          mean\n",
            "            HasDetections          HasDetections HasDetections\n",
            "IsProtected                                                   \n",
            "1.00               471073     0.94        238877          0.51\n",
            "0.00                27001     0.05         10341          0.38\n",
            "-2.00                1926     0.00           735          0.38\n"
          ]
        }
      ]
    },
    {
      "cell_type": "markdown",
      "source": [
        "**Firewall**"
      ],
      "metadata": {
        "id": "2yXLsTMQ6j4o"
      }
    },
    {
      "cell_type": "code",
      "source": [
        "results = explore_cat_values(df,'Firewall',TARGET)\n",
        "print(results.sort_values(by=(\"len\",\"HasDetections\"), ascending = False))"
      ],
      "metadata": {
        "colab": {
          "base_uri": "https://localhost:8080/"
        },
        "id": "rooN3vo06nZw",
        "outputId": "4bfd948c-6b83-44fb-c4cb-02d4d09c7d39"
      },
      "execution_count": null,
      "outputs": [
        {
          "output_type": "stream",
          "name": "stdout",
          "text": [
            "                   len pct_rows           sum          mean\n",
            "         HasDetections          HasDetections HasDetections\n",
            "Firewall                                                   \n",
            "1.00            484071     0.97        242106          0.50\n",
            "0.00             10767     0.02          5308          0.49\n"
          ]
        }
      ]
    },
    {
      "cell_type": "markdown",
      "source": [
        "Al igual que la etiqueta \"IsProtected\", no vemos los nulos. Hacemos lo mismo que antes."
      ],
      "metadata": {
        "id": "ZapNTtgz6wtY"
      }
    },
    {
      "cell_type": "markdown",
      "source": [
        "Sustituímos los nulos por una etiqueta para que con la función explore_cat_values() los podamos analizar."
      ],
      "metadata": {
        "id": "wjRLsMWK-0BL"
      }
    },
    {
      "cell_type": "code",
      "source": [
        "df['Firewall'].fillna(-2, inplace=True)"
      ],
      "metadata": {
        "id": "XBgB_Fjk-0BM"
      },
      "execution_count": null,
      "outputs": []
    },
    {
      "cell_type": "code",
      "source": [
        "results = explore_cat_values(df,'Firewall',TARGET)\n",
        "print(results.sort_values(by=(\"len\",\"HasDetections\"), ascending = False))"
      ],
      "metadata": {
        "colab": {
          "base_uri": "https://localhost:8080/"
        },
        "outputId": "dae915fb-ab10-4912-9c1e-57b7878e6a04",
        "id": "ArmMEBib-0BM"
      },
      "execution_count": null,
      "outputs": [
        {
          "output_type": "stream",
          "name": "stdout",
          "text": [
            "                   len pct_rows           sum          mean\n",
            "         HasDetections          HasDetections HasDetections\n",
            "Firewall                                                   \n",
            "1.00            484071     0.97        242106          0.50\n",
            "0.00             10767     0.02          5308          0.49\n",
            "-2.00             5162     0.01          2539          0.49\n"
          ]
        }
      ]
    },
    {
      "cell_type": "markdown",
      "source": [
        "Le habíamos puesto la etiqueta -2, que ya está bien porque no hay prácticamente diferencias entre los porcentajes del TARGET."
      ],
      "metadata": {
        "id": "tRph-aX6_B7f"
      }
    },
    {
      "cell_type": "markdown",
      "source": [
        "**Census_IsAlwaysOnAlwaysConnectedCapable**"
      ],
      "metadata": {
        "id": "NlK4VCp9-E5I"
      }
    },
    {
      "cell_type": "code",
      "source": [
        "results = explore_cat_values(df,'Census_IsAlwaysOnAlwaysConnectedCapable',TARGET)\n",
        "print(results.sort_values(by=(\"len\",\"HasDetections\"), ascending = False))"
      ],
      "metadata": {
        "colab": {
          "base_uri": "https://localhost:8080/"
        },
        "id": "7wfPcs_Q-LhH",
        "outputId": "01c837bb-1222-4a29-fb4c-861c1867bf69"
      },
      "execution_count": null,
      "outputs": [
        {
          "output_type": "stream",
          "name": "stdout",
          "text": [
            "                                                  len  ...          mean\n",
            "                                        HasDetections  ... HasDetections\n",
            "Census_IsAlwaysOnAlwaysConnectedCapable                ...              \n",
            "0.00                                           467569  ...          0.51\n",
            "1.00                                            28391  ...          0.37\n",
            "\n",
            "[2 rows x 4 columns]\n"
          ]
        }
      ]
    },
    {
      "cell_type": "code",
      "source": [
        "df['Census_IsAlwaysOnAlwaysConnectedCapable'].fillna(-2, inplace=True)"
      ],
      "metadata": {
        "id": "hbnDGt3LAlJY"
      },
      "execution_count": null,
      "outputs": []
    },
    {
      "cell_type": "code",
      "source": [
        "results = explore_cat_values(df,'Census_IsAlwaysOnAlwaysConnectedCapable',TARGET)\n",
        "print(results.sort_values(by=(\"len\",\"HasDetections\"), ascending = False))"
      ],
      "metadata": {
        "colab": {
          "base_uri": "https://localhost:8080/"
        },
        "id": "YbHxqH2zApAM",
        "outputId": "3937db28-793b-4ef4-b1e8-958cb85042b6"
      },
      "execution_count": null,
      "outputs": [
        {
          "output_type": "stream",
          "name": "stdout",
          "text": [
            "                                                  len  ...          mean\n",
            "                                        HasDetections  ... HasDetections\n",
            "Census_IsAlwaysOnAlwaysConnectedCapable                ...              \n",
            "0.00                                           467569  ...          0.51\n",
            "1.00                                            28391  ...          0.37\n",
            "-2.00                                            4040  ...          0.52\n",
            "\n",
            "[3 rows x 4 columns]\n"
          ]
        }
      ]
    },
    {
      "cell_type": "markdown",
      "source": [
        "El valor -2 que hemos asignado a los nulos sigue la tendencia del promedio del target cuando disinuye el valor de la variable que estamos tratando. Lo demajos tal y como está."
      ],
      "metadata": {
        "id": "kwRJ-0diAp5-"
      }
    },
    {
      "cell_type": "code",
      "source": [],
      "metadata": {
        "id": "VQ6Q7PI3Ap-R"
      },
      "execution_count": null,
      "outputs": []
    },
    {
      "cell_type": "markdown",
      "source": [
        "**Wdft_IsGamer**"
      ],
      "metadata": {
        "id": "vbYX_xLg_DL5"
      }
    },
    {
      "cell_type": "code",
      "source": [
        "results = explore_cat_values(df,'Wdft_IsGamer',TARGET)\n",
        "print(results.sort_values(by=(\"len\",\"HasDetections\"), ascending = False))"
      ],
      "metadata": {
        "colab": {
          "base_uri": "https://localhost:8080/"
        },
        "id": "HPzY17q-_I8K",
        "outputId": "0e51c0ed-c561-411c-9466-7fd59d40c618"
      },
      "execution_count": null,
      "outputs": [
        {
          "output_type": "stream",
          "name": "stdout",
          "text": [
            "                       len pct_rows           sum          mean\n",
            "             HasDetections          HasDetections HasDetections\n",
            "Wdft_IsGamer                                                   \n",
            "0.00                345835     0.69        166416          0.48\n",
            "1.00                137215     0.27         74678          0.54\n"
          ]
        }
      ]
    },
    {
      "cell_type": "markdown",
      "source": [
        "En este caso, como el % del target de los nulos cae en medio del 0 y el 1, y en realidad hay muy poca diferencia entre ellos, la trataremos como una categórica.\n",
        "Le pondremos la etiqueta \"No especificado\"."
      ],
      "metadata": {
        "id": "0zvF0ajH_hYU"
      }
    },
    {
      "cell_type": "code",
      "source": [
        "df['Wdft_IsGamer'].fillna(-2, inplace=True)"
      ],
      "metadata": {
        "id": "fKJKaXna8CMI"
      },
      "execution_count": null,
      "outputs": []
    },
    {
      "cell_type": "markdown",
      "source": [],
      "metadata": {
        "id": "itxYicyzBNZD"
      }
    },
    {
      "cell_type": "markdown",
      "source": [
        "**SMode**"
      ],
      "metadata": {
        "id": "EuWvNCOY5UVO"
      }
    },
    {
      "cell_type": "markdown",
      "source": [
        "Vemos el número de nulos."
      ],
      "metadata": {
        "id": "YU9H0GLu6wlm"
      }
    },
    {
      "cell_type": "code",
      "source": [
        "df['SMode'].value_counts(dropna=False)"
      ],
      "metadata": {
        "colab": {
          "base_uri": "https://localhost:8080/"
        },
        "id": "vAY6iEbG62aO",
        "outputId": "2de73df2-6927-481a-b022-e7f5258ebc31"
      },
      "execution_count": null,
      "outputs": [
        {
          "output_type": "execute_result",
          "data": {
            "text/plain": [
              "0.00    469946\n",
              "nan      29848\n",
              "1.00       206\n",
              "Name: SMode, dtype: int64"
            ]
          },
          "metadata": {},
          "execution_count": 638
        }
      ]
    },
    {
      "cell_type": "code",
      "source": [
        "results = explore_cat_values(df,'SMode',TARGET)\n",
        "print(results.sort_values(by=(\"len\",\"HasDetections\"), ascending = False))"
      ],
      "metadata": {
        "id": "BxDXYgqp5WOZ",
        "outputId": "515d4f83-61ec-4bec-ea74-6fd291c3d3c8",
        "colab": {
          "base_uri": "https://localhost:8080/"
        }
      },
      "execution_count": null,
      "outputs": [
        {
          "output_type": "stream",
          "name": "stdout",
          "text": [
            "                len pct_rows           sum          mean\n",
            "      HasDetections          HasDetections HasDetections\n",
            "SMode                                                   \n",
            "0.00         469946     0.94        237451          0.51\n",
            "1.00            206     0.00            37          0.18\n"
          ]
        }
      ]
    },
    {
      "cell_type": "markdown",
      "source": [
        "En este caso, como hay muy pocas observaciones de la etiqueta número 1 y la acabaremos eliminando del modelo, podemos sustituir los Nulos tanto por un 2 como por un -2."
      ],
      "metadata": {
        "id": "fPyXz3sS5eBL"
      }
    },
    {
      "cell_type": "code",
      "source": [
        "df['SMode'].fillna('2', inplace=True)"
      ],
      "metadata": {
        "id": "l7YdcLLAhQ2w"
      },
      "execution_count": null,
      "outputs": []
    },
    {
      "cell_type": "code",
      "source": [
        "results = explore_cat_values(df,'SMode',TARGET)\n",
        "print(results.sort_values(by=(\"len\",\"HasDetections\"), ascending = False))"
      ],
      "metadata": {
        "colab": {
          "base_uri": "https://localhost:8080/"
        },
        "id": "N02KLpd76rag",
        "outputId": "3a490c7f-d2dc-490d-ec76-3a2b0f3365b3"
      },
      "execution_count": null,
      "outputs": [
        {
          "output_type": "stream",
          "name": "stdout",
          "text": [
            "                len pct_rows           sum          mean\n",
            "      HasDetections          HasDetections HasDetections\n",
            "SMode                                                   \n",
            "0.0          469946     0.94        237451          0.51\n",
            "2             29848     0.06         12465          0.42\n",
            "1.0             206     0.00            37          0.18\n"
          ]
        }
      ]
    },
    {
      "cell_type": "code",
      "source": [],
      "metadata": {
        "id": "qagU0yY5hQ8L"
      },
      "execution_count": null,
      "outputs": []
    },
    {
      "cell_type": "code",
      "source": [
        "# Es poden veure algunes variables correlacionades, com la Census_OSSkuName i Census_OSEdition, o Census_OSBranch i OsPlatformSubRelease, o Census_OSArchitecture i Processor\n",
        "# La Platform i  OsVer?\n",
        "# Tenim qye Census_DeviceFamily, el 99,8% és d'un tipus i nómés tenim 800 exemples dels altre 2 tipus....  SUPER-BALANCEADO"
      ],
      "metadata": {
        "id": "K2TB1SL6qjJT"
      },
      "execution_count": null,
      "outputs": []
    },
    {
      "cell_type": "code",
      "source": [
        "## He fet la distribució a ma, veient els valors que agafava cada variable i també guiant-me pels noms de les variables\n",
        "\n",
        "# cols booleanas.  La 'UacLuaenable' s'ha d'arreglar, té outliers.\n",
        "#varBools = ['IsBeta', 'IsSxsPassiveMode','HasTpm','IsProtected', 'AutoSampleOptIn', 'SMode', 'Firewall','UacLuaenable','Census_HasOpticalDiskDrive','Census_IsPortableOperatingSystem',\n",
        "#       'Census_IsFlightingInternal', 'Census_IsFlightsDisabled','Census_ThresholdOptIn','Census_IsSecureBootEnabled','Census_IsWIMBootEnabled', 'Census_IsVirtualDevice',\n",
        "#       'Census_IsTouchEnabled', 'Census_IsPenCapable','Census_IsAlwaysOnAlwaysConnectedCapable', 'Wdft_IsGamer']\n",
        "# Col numéricas que deberían ser categóricas (no incluim booleanas)\n",
        "#varToTransformToObject=['RtpStateBitfield', 'DefaultBrowsersIdentifier', 'AVProductStatesIdentifier', 'CountryIdentifier', 'CityIdentifier', 'OrganizationIdentifier',\n",
        "#       'GeoNameIdentifier', 'LocaleEnglishNameIdentifier','Census_OEMNameIdentifier',\n",
        "#       'Census_OEMModelIdentifier',\n",
        "#       'Census_ProcessorManufacturerIdentifier',\n",
        "#       'Census_ProcessorModelIdentifier',\n",
        "#       'Census_OSInstallLanguageIdentifier',\n",
        "#       'Census_OSUILocaleIdentifier', 'Census_FirmwareManufacturerIdentifier','Wdft_RegionIdentifier']\n",
        "\n",
        "# Numériques que ja estan bé com a numériques\n",
        "#var_num = [\"AVProductsInstalled\", \"AVProductsEnabled\",\"OsBuild\", \"OsSuite\",\"Census_ProcessorCoreCount\",\"Census_PrimaryDiskTotalCapacity\", \"Census_SystemVolumeTotalCapacity\",\n",
        "#           \"Census_TotalPhysicalRAM\", \"Census_InternalPrimaryDiagonalDisplaySizeInInches\", \"Census_InternalPrimaryDisplayResolutionHorizontal\",\n",
        "#           \"Census_InternalPrimaryDisplayResolutionVertical\",\"Census_InternalBatteryNumberOfCharges\",\"Census_FirmwareVersionIdentifier\",\"IeVerIdentifier\",\n",
        "#           \"Census_OSBuildNumber\"]\n",
        "\n",
        "#TARGET = 'HasDetections'\n",
        "#  Las variables OSBuilt y OSSuite, nos da información de cuan nuevo es el OS, con lo cual tiene valor de orden. Las podemos dejar numéricas:\n",
        "# ['OsBuild', 'OsSuite', 'Census_OSBuildNumber'\n",
        "# Las variables siguientes, al tener información de versiones, también llevan información de orden y las dejaríamos en numéricas\n",
        "# ['IeVerIdentifier','Census_OSBuildRevision','Census_FirmwareVersionIdentifier']\n",
        "\n",
        " # Hay variables que parecen que van a tener la misma información que otra variable.  Como són numériques les podríem mesurar la correlació.\n",
        "# 'OsBuild' i 'Census_OSBuildNumber'\n"
      ],
      "metadata": {
        "id": "XVHkcTX-Xrfm"
      },
      "execution_count": null,
      "outputs": []
    },
    {
      "cell_type": "code",
      "source": [
        "df[\"RtpStateBitfield\"].value_counts(sort=True)"
      ],
      "metadata": {
        "colab": {
          "base_uri": "https://localhost:8080/"
        },
        "id": "zMV9aMXIYHiQ",
        "outputId": "569201bd-9d2b-4ac2-db0e-e6544e8b0841"
      },
      "execution_count": null,
      "outputs": [
        {
          "output_type": "execute_result",
          "data": {
            "text/plain": [
              "7.00     484841\n",
              "0.00      10610\n",
              "8.00       1277\n",
              "5.00       1158\n",
              "3.00        176\n",
              "1.00        105\n",
              "35.00         1\n",
              "Name: RtpStateBitfield, dtype: int64"
            ]
          },
          "metadata": {},
          "execution_count": 644
        }
      ]
    },
    {
      "cell_type": "markdown",
      "source": [
        "No sé a què es refereix. Sembla categórica. No sé si realment els números tenen algun sentit de ordre. Quasi tots els registres tenen el mateix valor per aquesta variable. Davant del dubte, la passem a categórica. És extrany que agafi tants valors al número 7 i el segon amb més sigui el 0. Entre 7 i 0 pràcticament no hi ha exemples..."
      ],
      "metadata": {
        "id": "bWG_komNYRYu"
      }
    },
    {
      "cell_type": "code",
      "source": [
        "df[\"AVProductStatesIdentifier\"].value_counts(sort=True)"
      ],
      "metadata": {
        "colab": {
          "base_uri": "https://localhost:8080/"
        },
        "id": "yWNS_3csblyz",
        "outputId": "a7d24907-fb02-41b6-f77a-4e322c7c6bef"
      },
      "execution_count": null,
      "outputs": [
        {
          "output_type": "execute_result",
          "data": {
            "text/plain": [
              "53,447.00    326463\n",
              "7,945.00      26642\n",
              "47,238.00     18436\n",
              "62,773.00     14931\n",
              "46,413.00      6343\n",
              "              ...  \n",
              "25,156.00         1\n",
              "51,099.00         1\n",
              "51,114.00         1\n",
              "2,759.00          1\n",
              "3.00              1\n",
              "Name: AVProductStatesIdentifier, Length: 5516, dtype: int64"
            ]
          },
          "metadata": {},
          "execution_count": 645
        }
      ]
    },
    {
      "cell_type": "code",
      "source": [
        "df[\"AVProductStatesIdentifier\"].unique().size"
      ],
      "metadata": {
        "colab": {
          "base_uri": "https://localhost:8080/"
        },
        "id": "IvfPzl0Icjmg",
        "outputId": "18148914-8f95-4819-d823-785d40a5e408"
      },
      "execution_count": null,
      "outputs": [
        {
          "output_type": "execute_result",
          "data": {
            "text/plain": [
              "5517"
            ]
          },
          "metadata": {},
          "execution_count": 646
        }
      ]
    },
    {
      "cell_type": "code",
      "source": [
        "(df[\"AVProductStatesIdentifier\"].value_counts(sort=True)==1).sum()"
      ],
      "metadata": {
        "colab": {
          "base_uri": "https://localhost:8080/"
        },
        "id": "bupr28CjdJxh",
        "outputId": "4af491f9-bed0-4a3f-867f-55d9493b5024"
      },
      "execution_count": null,
      "outputs": [
        {
          "output_type": "execute_result",
          "data": {
            "text/plain": [
              "3277"
            ]
          },
          "metadata": {},
          "execution_count": 647
        }
      ]
    },
    {
      "cell_type": "code",
      "source": [
        "(df[\"AVProductStatesIdentifier\"].value_counts(sort=True)<10).sum()"
      ],
      "metadata": {
        "colab": {
          "base_uri": "https://localhost:8080/"
        },
        "id": "e6PPd2UFdQuP",
        "outputId": "c28bb6fe-039a-4ee4-fefb-6344c59eb989"
      },
      "execution_count": null,
      "outputs": [
        {
          "output_type": "execute_result",
          "data": {
            "text/plain": [
              "4854"
            ]
          },
          "metadata": {},
          "execution_count": 648
        }
      ]
    },
    {
      "cell_type": "markdown",
      "source": [
        "És un identificador, però té un munt de valors únics, 5517. Dels quals 3.000 i pico es repeteixen només una vegada, així que no em donen info. I uns 4854 apareixen menys de 10 vegades...."
      ],
      "metadata": {
        "id": "SIaSWy4UcYfY"
      }
    },
    {
      "cell_type": "code",
      "source": [
        "df[\"IeVerIdentifier\"].value_counts(sort=True)"
      ],
      "metadata": {
        "colab": {
          "base_uri": "https://localhost:8080/"
        },
        "id": "bauVa-7Pi1-G",
        "outputId": "fc4fef0b-07ad-43ad-92be-aeb251035f4e"
      },
      "execution_count": null,
      "outputs": [
        {
          "output_type": "execute_result",
          "data": {
            "text/plain": [
              "137.00    219142\n",
              "117.00     98667\n",
              "108.00     26353\n",
              "111.00     26143\n",
              "98.00      19731\n",
              "135.00     12314\n",
              "74.00      11395\n",
              "53.00      11352\n",
              "94.00       9715\n",
              "105.00      9695\n",
              "333.00      8751\n",
              "107.00      7080\n",
              "103.00      6364\n",
              "96.00       4695\n",
              "76.00       3242\n",
              "71.00       2275\n",
              "41.00       1918\n",
              "114.00      1862\n",
              "323.00      1814\n",
              "335.00      1422\n",
              "334.00      1356\n",
              "87.00        936\n",
              "81.00        809\n",
              "78.00        655\n",
              "73.00        615\n",
              "82.00        571\n",
              "337.00       540\n",
              "42.00        502\n",
              "302.00       413\n",
              "85.00        399\n",
              "84.00        355\n",
              "91.00        310\n",
              "72.00        263\n",
              "92.00        262\n",
              "86.00        258\n",
              "68.00        258\n",
              "332.00       254\n",
              "88.00        246\n",
              "90.00        228\n",
              "44.00        181\n",
              "327.00       150\n",
              "163.00       135\n",
              "180.00       131\n",
              "295.00       128\n",
              "185.00       126\n",
              "331.00       107\n",
              "325.00       106\n",
              "64.00        103\n",
              "49.00         92\n",
              "65.00         84\n",
              "199.00        83\n",
              "45.00         77\n",
              "288.00        77\n",
              "52.00         73\n",
              "322.00        71\n",
              "307.00        68\n",
              "311.00        63\n",
              "186.00        62\n",
              "169.00        59\n",
              "194.00        56\n",
              "50.00         53\n",
              "190.00        52\n",
              "182.00        50\n",
              "47.00         50\n",
              "51.00         48\n",
              "308.00        47\n",
              "326.00        46\n",
              "102.00        43\n",
              "309.00        43\n",
              "196.00        42\n",
              "63.00         40\n",
              "178.00        37\n",
              "158.00        36\n",
              "336.00        36\n",
              "77.00         35\n",
              "176.00        34\n",
              "48.00         34\n",
              "315.00        34\n",
              "280.00        32\n",
              "205.00        32\n",
              "282.00        31\n",
              "312.00        30\n",
              "201.00        28\n",
              "324.00        27\n",
              "66.00         26\n",
              "321.00        26\n",
              "305.00        25\n",
              "39.00         25\n",
              "329.00        22\n",
              "318.00        21\n",
              "156.00        20\n",
              "364.00        18\n",
              "383.00        18\n",
              "347.00        17\n",
              "162.00        17\n",
              "154.00        17\n",
              "313.00        17\n",
              "306.00        17\n",
              "218.00        15\n",
              "153.00        15\n",
              "284.00        14\n",
              "316.00        14\n",
              "304.00        14\n",
              "320.00        13\n",
              "46.00         13\n",
              "275.00        13\n",
              "62.00         12\n",
              "317.00        12\n",
              "429.00        12\n",
              "224.00        12\n",
              "220.00        11\n",
              "61.00         11\n",
              "319.00        11\n",
              "314.00        10\n",
              "151.00         9\n",
              "398.00         8\n",
              "152.00         8\n",
              "388.00         8\n",
              "59.00          7\n",
              "303.00         7\n",
              "287.00         7\n",
              "57.00          6\n",
              "60.00          5\n",
              "143.00         4\n",
              "298.00         4\n",
              "297.00         4\n",
              "171.00         4\n",
              "296.00         4\n",
              "328.00         4\n",
              "300.00         4\n",
              "58.00          4\n",
              "187.00         3\n",
              "140.00         3\n",
              "285.00         3\n",
              "290.00         3\n",
              "174.00         3\n",
              "145.00         3\n",
              "293.00         3\n",
              "294.00         3\n",
              "56.00          3\n",
              "150.00         2\n",
              "147.00         2\n",
              "299.00         2\n",
              "408.00         2\n",
              "362.00         2\n",
              "283.00         2\n",
              "55.00          2\n",
              "384.00         2\n",
              "338.00         1\n",
              "277.00         1\n",
              "139.00         1\n",
              "15.00          1\n",
              "75.00          1\n",
              "109.00         1\n",
              "281.00         1\n",
              "17.00          1\n",
              "54.00          1\n",
              "166.00         1\n",
              "292.00         1\n",
              "212.00         1\n",
              "427.00         1\n",
              "79.00          1\n",
              "428.00         1\n",
              "330.00         1\n",
              "192.00         1\n",
              "110.00         1\n",
              "348.00         1\n",
              "141.00         1\n",
              "378.00         1\n",
              "274.00         1\n",
              "211.00         1\n",
              "390.00         1\n",
              "391.00         1\n",
              "291.00         1\n",
              "188.00         1\n",
              "395.00         1\n",
              "8.00           1\n",
              "168.00         1\n",
              "407.00         1\n",
              "Name: IeVerIdentifier, dtype: int64"
            ]
          },
          "metadata": {},
          "execution_count": 649
        }
      ]
    },
    {
      "cell_type": "code",
      "source": [
        "df[\"IeVerIdentifier\"].hist(bins=200)"
      ],
      "metadata": {
        "colab": {
          "base_uri": "https://localhost:8080/",
          "height": 283
        },
        "id": "QsTon4QgjVHK",
        "outputId": "bd23b134-40da-4504-9d40-5ae8775c8a8b"
      },
      "execution_count": null,
      "outputs": [
        {
          "output_type": "execute_result",
          "data": {
            "text/plain": [
              "<matplotlib.axes._subplots.AxesSubplot at 0x7fb444dc3910>"
            ]
          },
          "metadata": {},
          "execution_count": 650
        },
        {
          "output_type": "display_data",
          "data": {
            "image/png": "[encoded data removed]",
            "text/plain": [
              "<Figure size 432x288 with 1 Axes>"
            ]
          },
          "metadata": {}
        }
      ]
    },
    {
      "cell_type": "markdown",
      "source": [
        "Parece que nos esté dando algún tipo de distribución, que a parte de algún outlier, nos indica quizás cuan nuevo es els Internet Explorer. La dejaría como numérica."
      ],
      "metadata": {
        "id": "5iULA0TqjrFm"
      }
    },
    {
      "cell_type": "code",
      "source": [
        "df[\"UacLuaenable\"].value_counts(sort=True)"
      ],
      "metadata": {
        "colab": {
          "base_uri": "https://localhost:8080/"
        },
        "id": "rF4nAh3Jkg1o",
        "outputId": "c158c0af-7350-4db3-e442-da9f9b7cacf4"
      },
      "execution_count": null,
      "outputs": [
        {
          "output_type": "execute_result",
          "data": {
            "text/plain": [
              "1.00            496276\n",
              "0.00              3086\n",
              "48.00               13\n",
              "6,357,062.00         1\n",
              "2.00                 1\n",
              "Name: UacLuaenable, dtype: int64"
            ]
          },
          "metadata": {},
          "execution_count": 651
        }
      ]
    },
    {
      "cell_type": "markdown",
      "source": [
        "Sembla que hi ha alguns outliers i que es podria considerar booleana. Més del 99% pren el valor 1. Està massa balanceada jo crec, tot i això, encara hi ha forces valors amb 0 per a poder entrenar. Uns 2400 assumint un 80% per entrenament.\n",
        "**Hauríem d'arregalar els outliers.**"
      ],
      "metadata": {
        "id": "wcZM1CFPkrch"
      }
    },
    {
      "cell_type": "code",
      "source": [
        "(df['Census_OEMNameIdentifier'].value_counts(sort=True)>1000).sum()"
      ],
      "metadata": {
        "colab": {
          "base_uri": "https://localhost:8080/"
        },
        "id": "GjtUxyOtltRs",
        "outputId": "c5e72479-e8fc-41de-e24b-01cf4bfa893f"
      },
      "execution_count": null,
      "outputs": [
        {
          "output_type": "execute_result",
          "data": {
            "text/plain": [
              "29"
            ]
          },
          "metadata": {},
          "execution_count": 652
        }
      ]
    },
    {
      "cell_type": "code",
      "source": [
        "df[\"Census_OSWUAutoUpdateOptionsName\"].value_counts(sort=True)"
      ],
      "metadata": {
        "colab": {
          "base_uri": "https://localhost:8080/"
        },
        "id": "k3awvGofiJL6",
        "outputId": "55a4f75e-9b00-463a-a8b1-fc2f12e6f7d9"
      },
      "execution_count": null,
      "outputs": [
        {
          "output_type": "execute_result",
          "data": {
            "text/plain": [
              "FullAuto                                 222482\n",
              "UNKNOWN                                  140961\n",
              "Notify                                   113507\n",
              "AutoInstallAndRebootAtMaintenanceTime     20731\n",
              "Off                                        1506\n",
              "DownloadNotify                              813\n",
              "Name: Census_OSWUAutoUpdateOptionsName, dtype: int64"
            ]
          },
          "metadata": {},
          "execution_count": 653
        }
      ]
    },
    {
      "cell_type": "code",
      "source": [
        "df[\"Census_GenuineStateName\"].value_counts(sort=True)\n"
      ],
      "metadata": {
        "colab": {
          "base_uri": "https://localhost:8080/"
        },
        "id": "Ipi4WP-0jds0",
        "outputId": "f585a3ff-74b0-4bfd-8ba0-c0472ec2c7f2"
      },
      "execution_count": null,
      "outputs": [
        {
          "output_type": "execute_result",
          "data": {
            "text/plain": [
              "IS_GENUINE         441402\n",
              "INVALID_LICENSE     44990\n",
              "OFFLINE             12834\n",
              "UNKNOWN               774\n",
              "Name: Census_GenuineStateName, dtype: int64"
            ]
          },
          "metadata": {},
          "execution_count": 654
        }
      ]
    },
    {
      "cell_type": "code",
      "source": [
        "df[\"Census_FlightRing\"].value_counts(sort=True)\n"
      ],
      "metadata": {
        "colab": {
          "base_uri": "https://localhost:8080/"
        },
        "id": "mOGXUTcHjhK6",
        "outputId": "dfd621a2-7bd8-441d-c4b5-067070486c4f"
      },
      "execution_count": null,
      "outputs": [
        {
          "output_type": "execute_result",
          "data": {
            "text/plain": [
              "Retail      468299\n",
              "NOT_SET      16044\n",
              "Unknown      13701\n",
              "WIS            606\n",
              "RP             583\n",
              "WIF            549\n",
              "Disabled       217\n",
              "OSG              1\n",
              "Name: Census_FlightRing, dtype: int64"
            ]
          },
          "metadata": {},
          "execution_count": 655
        }
      ]
    },
    {
      "cell_type": "markdown",
      "source": [
        "Analitzem la variable \"Wdft_RegionIdentifier\". Sembla identificador d'una regió. Vull veure quina relació té amb la variable \"countryIdentifier\".\n",
        "\n",
        "Veurem que en una mateixa regió, hi ha com 136 paisos."
      ],
      "metadata": {
        "id": "VyBzFpQAp_c8"
      }
    },
    {
      "cell_type": "code",
      "source": [
        "df[\"Wdft_RegionIdentifier\"].value_counts()"
      ],
      "metadata": {
        "colab": {
          "base_uri": "https://localhost:8080/"
        },
        "id": "p8pRjuUTqZ9O",
        "outputId": "a90e0a84-ea27-49cf-fe13-cd537b8addde"
      },
      "execution_count": null,
      "outputs": [
        {
          "output_type": "execute_result",
          "data": {
            "text/plain": [
              "10.00    100392\n",
              "11.00     75612\n",
              "3.00      73069\n",
              "1.00      68692\n",
              "15.00     57346\n",
              "7.00      33362\n",
              "8.00      15761\n",
              "13.00     12681\n",
              "5.00      11466\n",
              "12.00      9115\n",
              "6.00       8750\n",
              "4.00       7586\n",
              "9.00       4521\n",
              "2.00       4470\n",
              "14.00       227\n",
              "Name: Wdft_RegionIdentifier, dtype: int64"
            ]
          },
          "metadata": {},
          "execution_count": 656
        }
      ]
    },
    {
      "cell_type": "code",
      "source": [
        "df[df[\"Wdft_RegionIdentifier\"]==11][\"CountryIdentifier\"].value_counts()"
      ],
      "metadata": {
        "colab": {
          "base_uri": "https://localhost:8080/"
        },
        "id": "WzfuhxLCpJs5",
        "outputId": "76d74b2c-5ccc-4e97-b05c-78f790c6524d"
      },
      "execution_count": null,
      "outputs": [
        {
          "output_type": "execute_result",
          "data": {
            "text/plain": [
              "Others    71276\n",
              "95         2981\n",
              "168         837\n",
              "190         512\n",
              "152           2\n",
              "62            2\n",
              "214           2\n",
              "78            0\n",
              "104           0\n",
              "135           0\n",
              "131           0\n",
              "Name: CountryIdentifier, dtype: int64"
            ]
          },
          "metadata": {},
          "execution_count": 657
        }
      ]
    },
    {
      "cell_type": "code",
      "source": [
        "df[df[\"CountryIdentifier\"]==201][\"Wdft_RegionIdentifier\"].value_counts()"
      ],
      "metadata": {
        "colab": {
          "base_uri": "https://localhost:8080/"
        },
        "id": "eoE2HsiRqVOo",
        "outputId": "6bc275f0-7456-4f0f-cf5e-4d1a89fcb9a8"
      },
      "execution_count": null,
      "outputs": [
        {
          "output_type": "execute_result",
          "data": {
            "text/plain": [
              "Series([], Name: Wdft_RegionIdentifier, dtype: int64)"
            ]
          },
          "metadata": {},
          "execution_count": 658
        }
      ]
    },
    {
      "cell_type": "markdown",
      "source": [
        "Sembla que per un deterinat \"CountryIdentifier\" hi ha la mateixa Regio, a part de unes poques excepcions."
      ],
      "metadata": {
        "id": "55mfcAPRq37r"
      }
    },
    {
      "cell_type": "markdown",
      "source": [
        "### EDA (Exploratory Data Analisis). Puntos del 2.1.7 al 2.1.11. de la ML Checklist"
      ],
      "metadata": {
        "id": "tt6T2WgZf4YL"
      }
    },
    {
      "cell_type": "markdown",
      "source": [
        "Nos ahorraremos la identificación de Outliers porque al Decision Tree le da lo mismo, y este será el algoritmo que usaremos por ser un dataset tabulado."
      ],
      "metadata": {
        "id": "LFqQ-rX5gHms"
      }
    },
    {
      "cell_type": "markdown",
      "source": [
        "#### Datos de fechas\n",
        "\n",
        "En este caso no tenemos información sobre fechas."
      ],
      "metadata": {
        "id": "1SXXTUVA9eR0"
      }
    },
    {
      "cell_type": "markdown",
      "source": [
        "Exploración de las fechas.\n",
        "Aunque en nuestro dataset no tenemos información de fechas, hay algunas características que si nos pueden indicar de alguna forma información temporal, como número de procesadores, aunque también depende de más factores además del tiempo. Lo mismo para la RAM. Pero en el value_counts() podemos ver que la mayoría tienen 2 y 4 procesadores. Los de 2 podrían ser más viejos... TAmbién por el sistema operativo... Pero no creo que vaya a ser relevante."
      ],
      "metadata": {
        "id": "5oLiYV78gZCf"
      }
    },
    {
      "cell_type": "markdown",
      "source": [
        "#### Variables numéricas"
      ],
      "metadata": {
        "id": "DPMHtgtG91CM"
      }
    },
    {
      "cell_type": "markdown",
      "source": [
        "l_num"
      ],
      "metadata": {
        "id": "7mvMPbIOCTHV"
      }
    },
    {
      "cell_type": "code",
      "source": [
        "df.Census_ProcessorCoreCount.hist(bins=100)"
      ],
      "metadata": {
        "colab": {
          "base_uri": "https://localhost:8080/",
          "height": 283
        },
        "id": "pH-jXSTrhp7K",
        "outputId": "eed4adc6-bb78-4158-f962-1f13454cdb87"
      },
      "execution_count": null,
      "outputs": [
        {
          "output_type": "execute_result",
          "data": {
            "text/plain": [
              "<matplotlib.axes._subplots.AxesSubplot at 0x7fb444b835d0>"
            ]
          },
          "metadata": {},
          "execution_count": 659
        },
        {
          "output_type": "display_data",
          "data": {
            "image/png": "[encoded data removed]",
            "text/plain": [
              "<Figure size 432x288 with 1 Axes>"
            ]
          },
          "metadata": {}
        }
      ]
    },
    {
      "cell_type": "code",
      "source": [
        "# Intentant analitzar el número de processados segons la edició del Sistema Operatiu\n",
        "\n",
        "df.groupby(\"SkuEdition\")[\"Census_ProcessorCoreCount\"].value_counts()"
      ],
      "metadata": {
        "colab": {
          "base_uri": "https://localhost:8080/"
        },
        "id": "J7x3xRX-h_9i",
        "outputId": "dc48790a-0614-48f0-cafc-2d2450d6de6f"
      },
      "execution_count": null,
      "outputs": [
        {
          "output_type": "execute_result",
          "data": {
            "text/plain": [
              "SkuEdition       Census_ProcessorCoreCount\n",
              "Cloud            2.00                            194\n",
              "                 4.00                            109\n",
              "                 8.00                              4\n",
              "Education        4.00                           1272\n",
              "                 8.00                            461\n",
              "                 2.00                            302\n",
              "                 12.00                           123\n",
              "                 6.00                             82\n",
              "                 1.00                             39\n",
              "                 16.00                            32\n",
              "                 3.00                              6\n",
              "                 14.00                             1\n",
              "                 24.00                             1\n",
              "                 32.00                             1\n",
              "                 44.00                             1\n",
              "Enterprise       4.00                           1098\n",
              "                 2.00                            747\n",
              "                 8.00                             72\n",
              "                 1.00                             71\n",
              "                 6.00                              6\n",
              "                 3.00                              4\n",
              "                 12.00                             1\n",
              "Enterprise LTSB  4.00                            698\n",
              "                 2.00                            293\n",
              "                 8.00                             80\n",
              "                 1.00                             26\n",
              "                 6.00                             14\n",
              "                 12.00                             9\n",
              "                 3.00                              5\n",
              "                 16.00                             5\n",
              "                 40.00                             3\n",
              "                 10.00                             1\n",
              "                 28.00                             1\n",
              "                 80.00                             1\n",
              "Home             4.00                         192440\n",
              "                 2.00                          81379\n",
              "                 8.00                          28021\n",
              "                 12.00                          2411\n",
              "                 6.00                           1521\n",
              "                 1.00                           1221\n",
              "                 16.00                           271\n",
              "                 3.00                            234\n",
              "                 20.00                            17\n",
              "                 32.00                            10\n",
              "                 24.00                             6\n",
              "                 10.00                             3\n",
              "                 5.00                              2\n",
              "                 28.00                             2\n",
              "                 36.00                             2\n",
              "Invalid          4.00                           1941\n",
              "                 2.00                           1730\n",
              "                 8.00                            358\n",
              "                 1.00                            137\n",
              "                 16.00                            68\n",
              "                 6.00                             41\n",
              "                 12.00                            27\n",
              "                 32.00                            21\n",
              "                 3.00                             16\n",
              "                 40.00                            12\n",
              "                 24.00                            10\n",
              "                 20.00                             9\n",
              "                 48.00                             3\n",
              "                 56.00                             2\n",
              "                 10.00                             1\n",
              "                 88.00                             1\n",
              "Pro              4.00                         106485\n",
              "                 2.00                          44490\n",
              "                 8.00                          19969\n",
              "                 12.00                          2609\n",
              "                 1.00                           2460\n",
              "                 6.00                           2352\n",
              "                 16.00                           620\n",
              "                 3.00                            486\n",
              "                 32.00                            76\n",
              "                 24.00                            73\n",
              "                 20.00                            70\n",
              "                 40.00                            22\n",
              "                 28.00                            14\n",
              "                 36.00                            14\n",
              "                 48.00                            10\n",
              "                 5.00                              8\n",
              "                 10.00                             5\n",
              "                 56.00                             5\n",
              "                 7.00                              2\n",
              "                 64.00                             2\n",
              "                 11.00                             1\n",
              "                 46.00                             1\n",
              "                 52.00                             1\n",
              "Server           4.00                             59\n",
              "                 2.00                             43\n",
              "                 8.00                             30\n",
              "                 1.00                             26\n",
              "                 16.00                            10\n",
              "                 6.00                              7\n",
              "                 24.00                             5\n",
              "                 32.00                             5\n",
              "                 12.00                             4\n",
              "                 40.00                             2\n",
              "                 48.00                             2\n",
              "                 3.00                              1\n",
              "                 7.00                              1\n",
              "                 11.00                             1\n",
              "                 20.00                             1\n",
              "                 56.00                             1\n",
              "Name: Census_ProcessorCoreCount, dtype: int64"
            ]
          },
          "metadata": {},
          "execution_count": 660
        }
      ]
    },
    {
      "cell_type": "markdown",
      "source": [
        "Lo que si podemos analizar el el target con respecto a varias variables que creemos relevantes."
      ],
      "metadata": {
        "id": "ShDS6GZYlVjq"
      }
    },
    {
      "cell_type": "markdown",
      "source": [
        "Empezamos con las numéricas\n",
        "Primero: podemos analizar los valores que coge esta variable\n",
        "Segundo: ver le correlación con el target,"
      ],
      "metadata": {
        "id": "lqTV341ulxya"
      }
    },
    {
      "cell_type": "code",
      "source": [
        "var_num"
      ],
      "metadata": {
        "colab": {
          "base_uri": "https://localhost:8080/",
          "height": 172
        },
        "id": "053tin9Al2Dh",
        "outputId": "c9539f26-5882-4726-a978-92b85cc631de"
      },
      "execution_count": null,
      "outputs": [
        {
          "output_type": "error",
          "ename": "NameError",
          "evalue": "ignored",
          "traceback": [
            "\u001b[0;31m---------------------------------------------------------------------------\u001b[0m",
            "\u001b[0;31mNameError\u001b[0m                                 Traceback (most recent call last)",
            "\u001b[0;32m<ipython-input-661-a664817fb118>\u001b[0m in \u001b[0;36m<module>\u001b[0;34m()\u001b[0m\n\u001b[0;32m----> 1\u001b[0;31m \u001b[0mvar_num\u001b[0m\u001b[0;34m\u001b[0m\u001b[0;34m\u001b[0m\u001b[0m\n\u001b[0m",
            "\u001b[0;31mNameError\u001b[0m: name 'var_num' is not defined"
          ]
        }
      ]
    },
    {
      "cell_type": "code",
      "source": [
        "df[\"OsBuild\"].isnull().sum()"
      ],
      "metadata": {
        "id": "qjAOoHXAoDu_"
      },
      "execution_count": null,
      "outputs": []
    },
    {
      "cell_type": "code",
      "source": [
        "df[\"OsBuild\"].value_counts()"
      ],
      "metadata": {
        "id": "2NCs0ZSgr8rY"
      },
      "execution_count": null,
      "outputs": []
    },
    {
      "cell_type": "code",
      "source": [
        "df[\"OsBuild\"].plot(kind='hist',bins=100)"
      ],
      "metadata": {
        "id": "qM_nmA6mo6jl"
      },
      "execution_count": null,
      "outputs": []
    },
    {
      "cell_type": "markdown",
      "source": [
        "A la vista del resultado anterior podríamos pensar que la mayoría de las máquinas tienen el sistema operativo con una versión muy reciente."
      ],
      "metadata": {
        "id": "1y-KAG2FpJwF"
      }
    },
    {
      "cell_type": "markdown",
      "source": [],
      "metadata": {
        "id": "GNBnAlgV9RKv"
      }
    },
    {
      "cell_type": "code",
      "source": [
        "sns.boxplot(data = df, x = TARGET, y = \"OsBuild\")"
      ],
      "metadata": {
        "id": "lUfdCsFTpT28"
      },
      "execution_count": null,
      "outputs": []
    },
    {
      "cell_type": "code",
      "source": [
        "sns.violinplot(data = df, x = TARGET, y = \"OsBuild\")"
      ],
      "metadata": {
        "id": "GqNAg1w2qlit"
      },
      "execution_count": null,
      "outputs": []
    },
    {
      "cell_type": "code",
      "source": [
        "df['OsSuite'].value_counts()"
      ],
      "metadata": {
        "id": "OwBvholNrrGR"
      },
      "execution_count": null,
      "outputs": []
    },
    {
      "cell_type": "markdown",
      "source": [
        "Parece más una categórica. Aunque algún valor de orden tiene."
      ],
      "metadata": {
        "id": "xX7dbb9lsK5m"
      }
    },
    {
      "cell_type": "code",
      "source": [
        "df['OsSuite'].plot(kind='hist',bins=100)"
      ],
      "metadata": {
        "id": "IBQB1VOWrVGu"
      },
      "execution_count": null,
      "outputs": []
    },
    {
      "cell_type": "code",
      "source": [
        "var_num"
      ],
      "metadata": {
        "id": "Sd70URr3uDKJ"
      },
      "execution_count": null,
      "outputs": []
    },
    {
      "cell_type": "code",
      "source": [
        "for myVar in var_num:\n",
        "  print(myVar)\n",
        "  plt.figure(figsize=(12,8))\n",
        "  sns.boxplot(data = df, x = TARGET, y = myVar)\n",
        "  plt.show()"
      ],
      "metadata": {
        "id": "_hjbaazXsZ6y"
      },
      "execution_count": null,
      "outputs": []
    },
    {
      "cell_type": "markdown",
      "source": [
        "Està clar que la variable AVProductsInstalled és molt important!!\n",
        "\n",
        "Sembla que si el ProcessorCoreCount és different de 4, hi ha més possibilitats de que no s'hagi infectat. Quasi tots els infectatst tenen 4 processardors. Mirarem tant la variable AVProductsInstalled com la ProcessorCoreCount"
      ],
      "metadata": {
        "id": "QvyiDTu0_OOb"
      }
    },
    {
      "cell_type": "markdown",
      "source": [
        "Anem a fer una petita comparació amb la variable AVProductsInstalled. Quin a proporció de detections té si aquesta variable és >1 ?"
      ],
      "metadata": {
        "id": "LLOots0oR8IL"
      }
    },
    {
      "cell_type": "markdown",
      "source": [
        "**AVProductsInstalled**"
      ],
      "metadata": {
        "id": "I-cCoxTViGcf"
      }
    },
    {
      "cell_type": "code",
      "source": [
        "df[ df[\"AVProductsInstalled\"]>1][TARGET].mean()"
      ],
      "metadata": {
        "id": "YoNncdOxSKnV"
      },
      "execution_count": null,
      "outputs": []
    },
    {
      "cell_type": "code",
      "source": [
        "df[ df[\"AVProductsInstalled\"]==1][TARGET].mean()"
      ],
      "metadata": {
        "id": "wUNQ22yqdrBE"
      },
      "execution_count": null,
      "outputs": []
    },
    {
      "cell_type": "markdown",
      "source": [
        "Miramos los valores que puede coger la variable por si la podemos tratar como una categòrica."
      ],
      "metadata": {
        "id": "OSNJXjFsezRy"
      }
    },
    {
      "cell_type": "code",
      "source": [
        "df[\"AVProductsInstalled\"].value_counts()"
      ],
      "metadata": {
        "id": "N-aQl6dbex8k"
      },
      "execution_count": null,
      "outputs": []
    },
    {
      "cell_type": "code",
      "source": [
        "df.pivot_table(index=\"AVProductsInstalled\", values=TARGET, aggfunc=[len, sum, np.mean]).sort_values(by=[('mean',TARGET)], ascending = False)"
      ],
      "metadata": {
        "id": "lrjANWw3bkOq"
      },
      "execution_count": null,
      "outputs": []
    },
    {
      "cell_type": "markdown",
      "source": [
        "De la tabla anterior vemos una clara diferencia en la proporción del TARGET según el número de productos instalados.\n",
        "\n",
        "Vemos ahora la variable AVProductsEnabled, que también está relacionada."
      ],
      "metadata": {
        "id": "HNSizd6Bdipa"
      }
    },
    {
      "cell_type": "code",
      "source": [
        "df.AVProductsEnabled.value_counts()"
      ],
      "metadata": {
        "id": "FimFD6D1fShI"
      },
      "execution_count": null,
      "outputs": []
    },
    {
      "cell_type": "code",
      "source": [
        "df.groupby(by=[\"AVProductsInstalled\",\"AVProductsEnabled\"])[\"HasDetections\"].agg([len,np.mean])"
      ],
      "metadata": {
        "id": "E98H_ZVVTAM0"
      },
      "execution_count": null,
      "outputs": []
    },
    {
      "cell_type": "markdown",
      "source": [
        "No acabo de ver claro el efecto de la variable AVProductsEnabled. Cuando vale 0, parece que es cuando menos malware tiene, pero realmente hay muy poco ejemplos.... Cuando si tenemos más ejemplos, parece que da resultados más acorde a lo esperado."
      ],
      "metadata": {
        "id": "zP7kvDNMhR8z"
      }
    },
    {
      "cell_type": "code",
      "source": [
        "df[ df[\"HasDetections\"]==1][\"AVProductsInstalled\"].plot(kind='hist', alpha=.5)\n",
        "df[ df[\"HasDetections\"]==0][\"AVProductsInstalled\"].plot(kind='hist', alpha=.5)\n",
        "plt.legend([\"1\",\"0\"])"
      ],
      "metadata": {
        "id": "PbTS4gAiTLO0"
      },
      "execution_count": null,
      "outputs": []
    },
    {
      "cell_type": "code",
      "source": [
        "sns.violinplot(data = df, x = TARGET, y = \"AVProductsInstalled\")"
      ],
      "metadata": {
        "id": "JJ9evP31T1Zz"
      },
      "execution_count": null,
      "outputs": []
    },
    {
      "cell_type": "markdown",
      "source": [
        "**Census_ProcessorCoreCount**"
      ],
      "metadata": {
        "id": "4JWcaf6iiTlf"
      }
    },
    {
      "cell_type": "code",
      "source": [
        "df[df[TARGET]==1][\"Census_ProcessorCoreCount\"].mean()"
      ],
      "metadata": {
        "id": "_sHoAS-VuKgx"
      },
      "execution_count": null,
      "outputs": []
    },
    {
      "cell_type": "code",
      "source": [
        "df[df[TARGET]==0][\"Census_ProcessorCoreCount\"].mean()"
      ],
      "metadata": {
        "id": "EcG1yI7bwd-i"
      },
      "execution_count": null,
      "outputs": []
    },
    {
      "cell_type": "markdown",
      "source": [
        "Els número de sobre indiquen una propensió a estar infectat més gran quan tenim més Processadors. Però quan fem la mediana es queda igual."
      ],
      "metadata": {
        "id": "HUZf1g9WkNJy"
      }
    },
    {
      "cell_type": "code",
      "source": [
        "df[df[TARGET]==1][\"Census_ProcessorCoreCount\"].median()"
      ],
      "metadata": {
        "id": "DtfM12nXwiSC"
      },
      "execution_count": null,
      "outputs": []
    },
    {
      "cell_type": "code",
      "source": [
        "df[df[TARGET]==0][\"Census_ProcessorCoreCount\"].median()"
      ],
      "metadata": {
        "id": "79XfGXI6wn1K"
      },
      "execution_count": null,
      "outputs": []
    },
    {
      "cell_type": "code",
      "source": [
        "sns.violinplot(data = df, x = TARGET, y = \"Census_ProcessorCoreCount\")"
      ],
      "metadata": {
        "id": "zunmpFs5kemO"
      },
      "execution_count": null,
      "outputs": []
    },
    {
      "cell_type": "markdown",
      "source": [
        "Tractarem la variable com si fos categòrica. Es veuen resultats més interessants!"
      ],
      "metadata": {
        "id": "fros6g0BjW-v"
      }
    },
    {
      "cell_type": "code",
      "source": [
        "df.pivot_table(index=\"Census_ProcessorCoreCount\", values=TARGET, aggfunc=[len, sum, np.mean]).sort_values(by=[('mean',TARGET)], ascending = False)"
      ],
      "metadata": {
        "id": "qhmusDWMidjh"
      },
      "execution_count": null,
      "outputs": []
    },
    {
      "cell_type": "markdown",
      "source": [
        "A més número de processadors, més risc d'infecció. Els que menys tenen un processador."
      ],
      "metadata": {
        "id": "ezt-IWxwjFkN"
      }
    },
    {
      "cell_type": "markdown",
      "source": [
        "**Census_PrimaryDiskTotalCapacity**"
      ],
      "metadata": {
        "id": "oJNuKYmyj-WY"
      }
    },
    {
      "cell_type": "code",
      "source": [
        "sns.violinplot(data = df, x = TARGET, y = \"Census_PrimaryDiskTotalCapacity\")"
      ],
      "metadata": {
        "id": "8Bwz89sFkBS6"
      },
      "execution_count": null,
      "outputs": []
    },
    {
      "cell_type": "code",
      "source": [
        "df[ df[\"HasDetections\"]==1][\"Census_PrimaryDiskTotalCapacity\"].plot(kind='hist', alpha=.5)\n",
        "df[ df[\"HasDetections\"]==0][\"Census_PrimaryDiskTotalCapacity\"].plot(kind='hist', alpha=.5)\n",
        "plt.legend([\"1\",\"0\"])"
      ],
      "metadata": {
        "id": "xOHe0i1fqBTs"
      },
      "execution_count": null,
      "outputs": []
    },
    {
      "cell_type": "markdown",
      "source": [
        "El Histograma no acaba de quedar bien debido a que hay algunos outliers. Vamos a cuantificarlos"
      ],
      "metadata": {
        "id": "rewD8Fzvrd67"
      }
    },
    {
      "cell_type": "code",
      "source": [
        "df[df[\"Census_PrimaryDiskTotalCapacity\"]>0.2e7][\"Census_PrimaryDiskTotalCapacity\"].count()"
      ],
      "metadata": {
        "id": "_loan3LIqSHF"
      },
      "execution_count": null,
      "outputs": []
    },
    {
      "cell_type": "markdown",
      "source": [
        "Hay 7 valores que nos impiden ver bien el histograma. Los vamos a filtrar."
      ],
      "metadata": {
        "id": "uBpl3whIroLl"
      }
    },
    {
      "cell_type": "code",
      "source": [
        "df_PrimaryDiskTotalCap_filtered = df[df[\"Census_PrimaryDiskTotalCapacity\"]<0.2e7]"
      ],
      "metadata": {
        "id": "ycGJCeJHrv3I"
      },
      "execution_count": null,
      "outputs": []
    },
    {
      "cell_type": "code",
      "source": [
        "df2 = df_PrimaryDiskTotalCap_filtered.copy()\n",
        "plt.figure(figsize=(20,10))\n",
        "df2[ df2[\"HasDetections\"]==1][\"Census_PrimaryDiskTotalCapacity\"].plot(kind='hist', alpha=.5)\n",
        "df2[ df2[\"HasDetections\"]==0][\"Census_PrimaryDiskTotalCapacity\"].plot(kind='hist', alpha=.5)\n",
        "\n",
        "plt.legend([\"1\",\"0\"])\n"
      ],
      "metadata": {
        "id": "4caZ_Eh0r5N-"
      },
      "execution_count": null,
      "outputs": []
    },
    {
      "cell_type": "markdown",
      "source": [
        "VEmos que para capaidad de disco menor, hay menos  probabilidad de infección. Y a partir de un cierto volumen, hay más probabilidad de infección."
      ],
      "metadata": {
        "id": "hABnKXYAskuL"
      }
    },
    {
      "cell_type": "markdown",
      "source": [
        "**IeVerIdentifier**"
      ],
      "metadata": {
        "id": "DG0llNs2utK-"
      }
    },
    {
      "cell_type": "code",
      "source": [
        "plt.figure(figsize=(20,10))\n",
        "df[ df[\"HasDetections\"]==1][\"IeVerIdentifier\"].plot(kind='hist', alpha=.5, bins=50)\n",
        "df[ df[\"HasDetections\"]==0][\"IeVerIdentifier\"].plot(kind='hist', alpha=.5,  bins=50)\n",
        "plt.legend([\"1\",\"0\"])"
      ],
      "metadata": {
        "id": "a3MJKcXyuvld"
      },
      "execution_count": null,
      "outputs": []
    },
    {
      "cell_type": "code",
      "source": [
        "versions = df[\"IeVerIdentifier\"].value_counts().head(15).index"
      ],
      "metadata": {
        "id": "hC-ILm4TvkLC"
      },
      "execution_count": null,
      "outputs": []
    },
    {
      "cell_type": "code",
      "source": [
        "df_filt_ieversions = df[ df[\"IeVerIdentifier\"].isin(versions)==True]"
      ],
      "metadata": {
        "id": "80z7_0MswOSX"
      },
      "execution_count": null,
      "outputs": []
    },
    {
      "cell_type": "code",
      "source": [
        "plt.figure(figsize=(20,10))\n",
        "df_filt_ieversions[ df_filt_ieversions[\"HasDetections\"]==1][\"IeVerIdentifier\"].plot(kind='hist', alpha=.5, bins=100)\n",
        "df_filt_ieversions[ df_filt_ieversions[\"HasDetections\"]==0][\"IeVerIdentifier\"].plot(kind='hist', alpha=.5,  bins=100)\n",
        "plt.legend([\"1\",\"0\"])"
      ],
      "metadata": {
        "id": "ncRdhs5qwpDQ"
      },
      "execution_count": null,
      "outputs": []
    },
    {
      "cell_type": "markdown",
      "source": [
        "Parece que hay alguna version que dá más problemas. Como hemos reducido el número de versiones, vamos a tratarlas com una categórica a ver si podemos ver algo más."
      ],
      "metadata": {
        "id": "1jaGJLuEw_Ri"
      }
    },
    {
      "cell_type": "code",
      "source": [
        "df_filt_ieversions.pivot_table(index=\"IeVerIdentifier\", values=TARGET, aggfunc=[len, sum, np.mean]).sort_values(by=[('mean',TARGET)], ascending = False)"
      ],
      "metadata": {
        "id": "HE8hDOc1w6EZ"
      },
      "execution_count": null,
      "outputs": []
    },
    {
      "cell_type": "markdown",
      "source": [
        "Definitivamente hay versiones que dan algo menos de problemas. Parece además que son de las antiguas."
      ],
      "metadata": {
        "id": "KD_K3g3Oxfb0"
      }
    },
    {
      "cell_type": "markdown",
      "source": [
        "#### Variables categóricas"
      ],
      "metadata": {
        "id": "tQceu-3sDPMP"
      }
    },
    {
      "cell_type": "markdown",
      "source": [
        "Aquestes les he fet jo.\n",
        "\n",
        "varBools, var_ToTransformToObject  (numèriques que transformaria a Ojbect, var_num (numèriques que ja estan bé com a numériques)\n",
        "\n",
        "Aquestes automàticament\n",
        "\n",
        "l_num, l_bool, l_cat"
      ],
      "metadata": {
        "id": "6EysjZPIDTUg"
      }
    },
    {
      "cell_type": "code",
      "source": [
        "l_cat"
      ],
      "metadata": {
        "id": "eKtCy07tpVW4"
      },
      "execution_count": null,
      "outputs": []
    },
    {
      "cell_type": "code",
      "source": [
        "\n",
        "for varName in l_cat:\n",
        "  plt.figure(figsize=(20,10))\n",
        "  a = df.pivot_table(index=varName, values=TARGET, aggfunc=[len, sum, np.mean]).sort_values(by=[('mean',TARGET)], ascending = False)\n",
        "  # b = a[a[( 'len', 'HasDetections')]>2000][('len', 'HasDetections')]\n",
        "  a[a[( 'len', 'HasDetections')]>2000][('mean', 'HasDetections')].plot(kind=\"bar\")\n",
        "  plt.show()"
      ],
      "metadata": {
        "id": "YnfsU43Srdh9"
      },
      "execution_count": null,
      "outputs": []
    },
    {
      "cell_type": "code",
      "source": [
        "l_num, l_bool, l_cat = obtener_lista_variables(df,TARGET)"
      ],
      "metadata": {
        "id": "4O05cZa4nkHX"
      },
      "execution_count": null,
      "outputs": []
    },
    {
      "cell_type": "code",
      "source": [
        "df[l_bool].columns"
      ],
      "metadata": {
        "id": "DcpJQQIzmgIi"
      },
      "execution_count": null,
      "outputs": []
    },
    {
      "cell_type": "code",
      "source": [
        "for varName in l_bool:\n",
        "  print(varName)\n",
        "  plt.figure(figsize=(20,10))\n",
        "  a = df.pivot_table(index=varName, values=TARGET, aggfunc=[len, sum, np.mean]).sort_values(by=[('mean',TARGET)], ascending = False)\n",
        "  # b = a[a[( 'len', 'HasDetections')]>2000][('len', 'HasDetections')]\n",
        "  a[a[( 'len', 'HasDetections')]>2000][('mean', 'HasDetections')].plot(kind=\"bar\")\n",
        "  plt.show()"
      ],
      "metadata": {
        "id": "NvqbFHUJmU-a"
      },
      "execution_count": null,
      "outputs": []
    },
    {
      "cell_type": "code",
      "source": [
        "new_l_num_bools_con_nulos = list(l_num_bools_con_nulos)\n",
        "new_l_num_bools_con_nulos.remove(\"Census_IsVirtualDevice\")\n",
        "for varName in new_l_num_bools_con_nulos:\n",
        "  print(varName)\n",
        "  plt.figure(figsize=(20,10))\n",
        "  a = df.pivot_table(index=varName, values=TARGET, aggfunc=[len, sum, np.mean]).sort_values(by=[('mean',TARGET)], ascending = False)\n",
        "  # b = a[a[( 'len', 'HasDetections')]>2000][('len', 'HasDetections')]\n",
        "  a[a[( 'len', 'HasDetections')]>2000][('mean', 'HasDetections')].plot(kind=\"bar\")\n",
        "  plt.show()"
      ],
      "metadata": {
        "id": "L_E1V6t-n_Pw"
      },
      "execution_count": null,
      "outputs": []
    },
    {
      "cell_type": "markdown",
      "source": [
        "## MLC.2.2:  Analisis Multi-variante\n"
      ],
      "metadata": {
        "id": "uV_y5wlRv5nc"
      }
    },
    {
      "cell_type": "markdown",
      "source": [
        "La idea es filtrar el dataframe por el valor de una variable, y analizar las demás variables usando ese dataframe."
      ],
      "metadata": {
        "id": "XqU7QWblwKGD"
      }
    },
    {
      "cell_type": "markdown",
      "source": [
        "# MLC. 3.  DATA PREPARATION"
      ],
      "metadata": {
        "id": "4POC_WSesXIQ"
      }
    },
    {
      "cell_type": "markdown",
      "source": [
        "- Parte del Data Preparation se ha ido haciendo en el apartado anterior. Hemos dejado para este apartado, sin embargo, la imputación de valores nulos en numéricas y booleanas, así como los One-Hot-Encodings."
      ],
      "metadata": {
        "id": "MNLcYcbQuVQV"
      }
    },
    {
      "cell_type": "markdown",
      "source": [
        "# PONEMOS NULOS A LAS BOOLEANAS"
      ],
      "metadata": {
        "id": "yrj2O1Crh1Yw"
      }
    },
    {
      "cell_type": "code",
      "source": [
        "\n",
        "# PERE\n",
        "## Les booleanes es poden fer molt ràpid. Les tractem totes juntes."
      ],
      "metadata": {
        "id": "LGmimqv0YzOz"
      },
      "execution_count": null,
      "outputs": []
    },
    {
      "cell_type": "code",
      "source": [
        "l_num, l_bool, l_cat = obtener_lista_variables(df,TARGET)"
      ],
      "metadata": {
        "id": "GNq_dsgJfZ__"
      },
      "execution_count": null,
      "outputs": []
    },
    {
      "cell_type": "code",
      "source": [
        "df[l_bool].isnull().sum()"
      ],
      "metadata": {
        "colab": {
          "base_uri": "https://localhost:8080/"
        },
        "id": "6WJ6UWsUfaQU",
        "outputId": "c2a5cd67-9731-4888-a633-84624ec218fd"
      },
      "execution_count": null,
      "outputs": [
        {
          "output_type": "execute_result",
          "data": {
            "text/plain": [
              "ProductName                        0\n",
              "IsSxsPassiveMode                   0\n",
              "HasTpm                             0\n",
              "Processor                          0\n",
              "Census_HasOpticalDiskDrive         0\n",
              "Census_IsSecureBootEnabled         0\n",
              "Census_IsWIMBootEnabled       317666\n",
              "Census_IsTouchEnabled              0\n",
              "Census_IsPenCapable                0\n",
              "dtype: int64"
            ]
          },
          "metadata": {},
          "execution_count": 663
        }
      ]
    },
    {
      "cell_type": "markdown",
      "source": [
        "Tenemos una booleana con valores nulos. En realidad la mayoría de boolenanas con valores nulos, nuestra función de \"obtener_lista_variables()\" las pone como nunéricas, y la booleanan con nulos que nos encontramoes en la lista l_bool es porque sólo tiene un valor y el resto nulos.\n",
        "\n",
        "Vamos a comprobar el valor que tiene, y asignamos otro valor a los Nulos."
      ],
      "metadata": {
        "id": "75eXcUZkvOyY"
      }
    },
    {
      "cell_type": "code",
      "source": [
        "df[\"Census_IsWIMBootEnabled\"].value_counts()"
      ],
      "metadata": {
        "colab": {
          "base_uri": "https://localhost:8080/"
        },
        "id": "gh35yiP9fadU",
        "outputId": "525688a8-a2f0-4d07-c568-1bdc9d03ca6d"
      },
      "execution_count": null,
      "outputs": [
        {
          "output_type": "execute_result",
          "data": {
            "text/plain": [
              "0.00    182334\n",
              "Name: Census_IsWIMBootEnabled, dtype: int64"
            ]
          },
          "metadata": {},
          "execution_count": 664
        }
      ]
    },
    {
      "cell_type": "markdown",
      "source": [
        "El valor que tiene es 0, así que sustituiremos los nulos por 1's."
      ],
      "metadata": {
        "id": "hcPeeMgavuDw"
      }
    },
    {
      "cell_type": "code",
      "source": [
        "df[\"Census_IsWIMBootEnabled\"].fillna('1', inplace=True)"
      ],
      "metadata": {
        "id": "AHXsM6oigc0G"
      },
      "execution_count": null,
      "outputs": []
    },
    {
      "cell_type": "code",
      "source": [
        "df[\"Census_IsWIMBootEnabled\"].value_counts()"
      ],
      "metadata": {
        "colab": {
          "base_uri": "https://localhost:8080/"
        },
        "id": "sFVadJR9gzVT",
        "outputId": "9cae343b-2ca6-4149-ecd2-a18f2422ab2c"
      },
      "execution_count": null,
      "outputs": [
        {
          "output_type": "execute_result",
          "data": {
            "text/plain": [
              "1      317666\n",
              "0.0    182334\n",
              "Name: Census_IsWIMBootEnabled, dtype: int64"
            ]
          },
          "metadata": {},
          "execution_count": 666
        }
      ]
    },
    {
      "cell_type": "code",
      "source": [
        "df[l_bool].isnull().sum()"
      ],
      "metadata": {
        "colab": {
          "base_uri": "https://localhost:8080/"
        },
        "id": "_BZmr1_lg47L",
        "outputId": "afe7eac6-77d8-4e10-da75-5c4bdcf55800"
      },
      "execution_count": null,
      "outputs": [
        {
          "output_type": "execute_result",
          "data": {
            "text/plain": [
              "ProductName                   0\n",
              "IsSxsPassiveMode              0\n",
              "HasTpm                        0\n",
              "Processor                     0\n",
              "Census_HasOpticalDiskDrive    0\n",
              "Census_IsSecureBootEnabled    0\n",
              "Census_IsWIMBootEnabled       0\n",
              "Census_IsTouchEnabled         0\n",
              "Census_IsPenCapable           0\n",
              "dtype: int64"
            ]
          },
          "metadata": {},
          "execution_count": 667
        }
      ]
    },
    {
      "cell_type": "code",
      "source": [
        "var_listas_para_modelo = var_listas_para_modelo + l_bool\n",
        "var_listas_para_modelo"
      ],
      "metadata": {
        "colab": {
          "base_uri": "https://localhost:8080/"
        },
        "id": "t1CwsLC8hCCA",
        "outputId": "831d00d0-0546-46a0-8a08-dfd0eb1faaf3"
      },
      "execution_count": null,
      "outputs": [
        {
          "output_type": "execute_result",
          "data": {
            "text/plain": [
              "['ProductName',\n",
              " 'Processor',\n",
              " 'ProductName',\n",
              " 'IsSxsPassiveMode',\n",
              " 'HasTpm',\n",
              " 'Processor',\n",
              " 'Census_HasOpticalDiskDrive',\n",
              " 'Census_IsSecureBootEnabled',\n",
              " 'Census_IsWIMBootEnabled',\n",
              " 'Census_IsTouchEnabled',\n",
              " 'Census_IsPenCapable']"
            ]
          },
          "metadata": {},
          "execution_count": 668
        }
      ]
    },
    {
      "cell_type": "markdown",
      "source": [
        "# PONEMOS NULOS A LAS NUMÉRICAS\n"
      ],
      "metadata": {
        "id": "fV33Pr7mNhxW"
      }
    },
    {
      "cell_type": "markdown",
      "source": [
        "Vamos a buscar un valor extremo que nos pueda servir para todas las variables numéricas.\n",
        "\n",
        "Hay numéricas que son boolenanas, y se podría en estos casos asignar un valor de -1 o 2 según la tendencia que se vea del promedio del target.\n",
        "\n",
        "Para ir rápido, trataresmos a todas las numéricas de la misma forma."
      ],
      "metadata": {
        "id": "lBFwimwzv95e"
      }
    },
    {
      "cell_type": "markdown",
      "source": [
        "#### Booleanas con nulos"
      ],
      "metadata": {
        "id": "rne17rv94FqE"
      }
    },
    {
      "cell_type": "code",
      "source": [
        "l_num_bools_con_nulos = []\n",
        "for col in df[l_num].describe().T.index:\n",
        "#  print(col, df[col].nunique())\n",
        "  if df[col].nunique() == 2:\n",
        "    l_num_bools_con_nulos.append(col)\n",
        "\n",
        "l_num_bools_con_nulos"
      ],
      "metadata": {
        "colab": {
          "base_uri": "https://localhost:8080/"
        },
        "id": "Bc6RiqlHCEEa",
        "outputId": "2a69feab-22fd-44f6-c99d-3566bd2bc3da"
      },
      "execution_count": null,
      "outputs": [
        {
          "output_type": "execute_result",
          "data": {
            "text/plain": [
              "['Census_IsFlightingInternal',\n",
              " 'Census_IsFlightsDisabled',\n",
              " 'Census_ThresholdOptIn']"
            ]
          },
          "metadata": {},
          "execution_count": 669
        }
      ]
    },
    {
      "cell_type": "markdown",
      "source": [
        "Por falta de tiempo, las trataremos como categóricas. Les añadiremos una etiqueta \"Otros\" y las pondremos en la lista de variables para hacerles el OHE."
      ],
      "metadata": {
        "id": "X_nWFUWc3MF8"
      }
    },
    {
      "cell_type": "code",
      "source": [
        "for col in l_num_bools_con_nulos:\n",
        "  print(col)\n",
        "  df[col].fillna(\"Others\", inplace=True)"
      ],
      "metadata": {
        "colab": {
          "base_uri": "https://localhost:8080/"
        },
        "id": "6_20JLF0Cc0q",
        "outputId": "7f2b0abc-e3e7-4465-e551-8af704083ebf"
      },
      "execution_count": null,
      "outputs": [
        {
          "output_type": "stream",
          "name": "stdout",
          "text": [
            "Census_IsFlightingInternal\n",
            "Census_IsFlightsDisabled\n",
            "Census_ThresholdOptIn\n"
          ]
        }
      ]
    },
    {
      "cell_type": "code",
      "source": [
        "l_OHE = l_OHE + l_num_bools_con_nulos"
      ],
      "metadata": {
        "id": "vgH4YFEZFH3c"
      },
      "execution_count": null,
      "outputs": []
    },
    {
      "cell_type": "markdown",
      "source": [
        "Comprobamos que no queda ninguna variables booleana con nulos."
      ],
      "metadata": {
        "id": "rcPqqnkkCqdB"
      }
    },
    {
      "cell_type": "code",
      "source": [
        "l_num_bools_con_nulos = []\n",
        "for col in df[l_num].describe().T.index:\n",
        "#  print(col, df[col].nunique())\n",
        "  if df[col].nunique() == 2:\n",
        "    l_num_bools_con_nulos.append(col)\n",
        "\n",
        "l_num_bools_con_nulos"
      ],
      "metadata": {
        "colab": {
          "base_uri": "https://localhost:8080/"
        },
        "id": "oNkZuaS5Cm8Z",
        "outputId": "705f31d2-a1a5-4816-ca33-76813157cc0b"
      },
      "execution_count": null,
      "outputs": [
        {
          "output_type": "execute_result",
          "data": {
            "text/plain": [
              "[]"
            ]
          },
          "metadata": {},
          "execution_count": 672
        }
      ]
    },
    {
      "cell_type": "markdown",
      "source": [
        "### Asignamos nulos al resto de las numéricas"
      ],
      "metadata": {
        "id": "vznuVWP19qGs"
      }
    },
    {
      "cell_type": "code",
      "source": [
        "# Detectamos las variables numéricas con nulos\n",
        "\n",
        "aux_df = df.select_dtypes(np.number).isnull().sum()\n",
        "list_num_nulls = aux_df[aux_df > 0].index.to_list()\n",
        "df[list_num_nulls].describe().T"
      ],
      "metadata": {
        "colab": {
          "base_uri": "https://localhost:8080/",
          "height": 487
        },
        "id": "Wa8TtvQLNpht",
        "outputId": "defc7711-1b89-43b9-e65e-dcebcc4479df"
      },
      "execution_count": null,
      "outputs": [
        {
          "output_type": "execute_result",
          "data": {
            "text/html": [
              "\n",
              "  <div id=\"df-e773c8aa-83a3-4ace-b4c9-8843f86d3e7e\">\n",
              "    <div class=\"colab-df-container\">\n",
              "      <div>\n",
              "<style scoped>\n",
              "    .dataframe tbody tr th:only-of-type {\n",
              "        vertical-align: middle;\n",
              "    }\n",
              "\n",
              "    .dataframe tbody tr th {\n",
              "        vertical-align: top;\n",
              "    }\n",
              "\n",
              "    .dataframe thead th {\n",
              "        text-align: right;\n",
              "    }\n",
              "</style>\n",
              "<table border=\"1\" class=\"dataframe\">\n",
              "  <thead>\n",
              "    <tr style=\"text-align: right;\">\n",
              "      <th></th>\n",
              "      <th>count</th>\n",
              "      <th>mean</th>\n",
              "      <th>std</th>\n",
              "      <th>min</th>\n",
              "      <th>25%</th>\n",
              "      <th>50%</th>\n",
              "      <th>75%</th>\n",
              "      <th>max</th>\n",
              "    </tr>\n",
              "  </thead>\n",
              "  <tbody>\n",
              "    <tr>\n",
              "      <th>RtpStateBitfield</th>\n",
              "      <td>498,168.00</td>\n",
              "      <td>6.85</td>\n",
              "      <td>1.02</td>\n",
              "      <td>0.00</td>\n",
              "      <td>7.00</td>\n",
              "      <td>7.00</td>\n",
              "      <td>7.00</td>\n",
              "      <td>35.00</td>\n",
              "    </tr>\n",
              "    <tr>\n",
              "      <th>AVProductsInstalled</th>\n",
              "      <td>498,062.00</td>\n",
              "      <td>1.33</td>\n",
              "      <td>0.52</td>\n",
              "      <td>1.00</td>\n",
              "      <td>1.00</td>\n",
              "      <td>1.00</td>\n",
              "      <td>2.00</td>\n",
              "      <td>5.00</td>\n",
              "    </tr>\n",
              "    <tr>\n",
              "      <th>AVProductsEnabled</th>\n",
              "      <td>498,062.00</td>\n",
              "      <td>1.02</td>\n",
              "      <td>0.17</td>\n",
              "      <td>0.00</td>\n",
              "      <td>1.00</td>\n",
              "      <td>1.00</td>\n",
              "      <td>1.00</td>\n",
              "      <td>4.00</td>\n",
              "    </tr>\n",
              "    <tr>\n",
              "      <th>IeVerIdentifier</th>\n",
              "      <td>496,791.00</td>\n",
              "      <td>126.66</td>\n",
              "      <td>42.63</td>\n",
              "      <td>8.00</td>\n",
              "      <td>111.00</td>\n",
              "      <td>135.00</td>\n",
              "      <td>137.00</td>\n",
              "      <td>429.00</td>\n",
              "    </tr>\n",
              "    <tr>\n",
              "      <th>UacLuaenable</th>\n",
              "      <td>499,377.00</td>\n",
              "      <td>13.73</td>\n",
              "      <td>8,995.85</td>\n",
              "      <td>0.00</td>\n",
              "      <td>1.00</td>\n",
              "      <td>1.00</td>\n",
              "      <td>1.00</td>\n",
              "      <td>6,357,062.00</td>\n",
              "    </tr>\n",
              "    <tr>\n",
              "      <th>Census_ProcessorCoreCount</th>\n",
              "      <td>497,653.00</td>\n",
              "      <td>3.99</td>\n",
              "      <td>2.07</td>\n",
              "      <td>1.00</td>\n",
              "      <td>2.00</td>\n",
              "      <td>4.00</td>\n",
              "      <td>4.00</td>\n",
              "      <td>88.00</td>\n",
              "    </tr>\n",
              "    <tr>\n",
              "      <th>Census_PrimaryDiskTotalCapacity</th>\n",
              "      <td>497,024.00</td>\n",
              "      <td>514,043.32</td>\n",
              "      <td>370,446.82</td>\n",
              "      <td>10,240.00</td>\n",
              "      <td>239,372.00</td>\n",
              "      <td>476,940.00</td>\n",
              "      <td>953,869.00</td>\n",
              "      <td>47,687,668.00</td>\n",
              "    </tr>\n",
              "    <tr>\n",
              "      <th>Census_SystemVolumeTotalCapacity</th>\n",
              "      <td>497,024.00</td>\n",
              "      <td>378,054.64</td>\n",
              "      <td>338,472.22</td>\n",
              "      <td>9,689.00</td>\n",
              "      <td>120,775.00</td>\n",
              "      <td>249,450.00</td>\n",
              "      <td>475,981.00</td>\n",
              "      <td>47,687,100.00</td>\n",
              "    </tr>\n",
              "    <tr>\n",
              "      <th>Census_TotalPhysicalRAM</th>\n",
              "      <td>495,444.00</td>\n",
              "      <td>6,129.23</td>\n",
              "      <td>4,964.52</td>\n",
              "      <td>512.00</td>\n",
              "      <td>4,096.00</td>\n",
              "      <td>4,096.00</td>\n",
              "      <td>8,192.00</td>\n",
              "      <td>393,216.00</td>\n",
              "    </tr>\n",
              "    <tr>\n",
              "      <th>Census_InternalPrimaryDiagonalDisplaySizeInInches</th>\n",
              "      <td>497,346.00</td>\n",
              "      <td>16.69</td>\n",
              "      <td>5.93</td>\n",
              "      <td>4.90</td>\n",
              "      <td>13.90</td>\n",
              "      <td>15.50</td>\n",
              "      <td>17.20</td>\n",
              "      <td>142.00</td>\n",
              "    </tr>\n",
              "    <tr>\n",
              "      <th>Census_InternalPrimaryDisplayResolutionHorizontal</th>\n",
              "      <td>497,350.00</td>\n",
              "      <td>1,548.30</td>\n",
              "      <td>368.57</td>\n",
              "      <td>-1.00</td>\n",
              "      <td>1,366.00</td>\n",
              "      <td>1,366.00</td>\n",
              "      <td>1,920.00</td>\n",
              "      <td>11,520.00</td>\n",
              "    </tr>\n",
              "    <tr>\n",
              "      <th>Census_InternalPrimaryDisplayResolutionVertical</th>\n",
              "      <td>497,350.00</td>\n",
              "      <td>898.24</td>\n",
              "      <td>214.86</td>\n",
              "      <td>-1.00</td>\n",
              "      <td>768.00</td>\n",
              "      <td>768.00</td>\n",
              "      <td>1,080.00</td>\n",
              "      <td>4,320.00</td>\n",
              "    </tr>\n",
              "    <tr>\n",
              "      <th>Census_InternalBatteryNumberOfCharges</th>\n",
              "      <td>484,962.00</td>\n",
              "      <td>1,125,600,150.21</td>\n",
              "      <td>1,888,768,455.78</td>\n",
              "      <td>0.00</td>\n",
              "      <td>0.00</td>\n",
              "      <td>0.00</td>\n",
              "      <td>4,294,967,295.00</td>\n",
              "      <td>4,294,967,295.00</td>\n",
              "    </tr>\n",
              "    <tr>\n",
              "      <th>Census_FirmwareVersionIdentifier</th>\n",
              "      <td>490,939.00</td>\n",
              "      <td>33,030.99</td>\n",
              "      <td>21,220.16</td>\n",
              "      <td>10.00</td>\n",
              "      <td>13,156.00</td>\n",
              "      <td>33,070.00</td>\n",
              "      <td>52,436.00</td>\n",
              "      <td>72,091.00</td>\n",
              "    </tr>\n",
              "  </tbody>\n",
              "</table>\n",
              "</div>\n",
              "      <button class=\"colab-df-convert\" onclick=\"convertToInteractive('df-e773c8aa-83a3-4ace-b4c9-8843f86d3e7e')\"\n",
              "              title=\"Convert this dataframe to an interactive table.\"\n",
              "              style=\"display:none;\">\n",
              "        \n",
              "  <svg xmlns=\"http://www.w3.org/2000/svg\" height=\"24px\"viewBox=\"0 0 24 24\"\n",
              "       width=\"24px\">\n",
              "    <path d=\"M0 0h24v24H0V0z\" fill=\"none\"/>\n",
              "    <path d=\"M18.56 5.44l.94 2.06.94-2.06 2.06-.94-2.06-.94-.94-2.06-.94 2.06-2.06.94zm-11 1L8.5 8.5l.94-2.06 2.06-.94-2.06-.94L8.5 2.5l-.94 2.06-2.06.94zm10 10l.94 2.06.94-2.06 2.06-.94-2.06-.94-.94-2.06-.94 2.06-2.06.94z\"/><path d=\"M17.41 7.96l-1.37-1.37c-.4-.4-.92-.59-1.43-.59-.52 0-1.04.2-1.43.59L10.3 9.45l-7.72 7.72c-.78.78-.78 2.05 0 2.83L4 21.41c.39.39.9.59 1.41.59.51 0 1.02-.2 1.41-.59l7.78-7.78 2.81-2.81c.8-.78.8-2.07 0-2.86zM5.41 20L4 18.59l7.72-7.72 1.47 1.35L5.41 20z\"/>\n",
              "  </svg>\n",
              "      </button>\n",
              "      \n",
              "  <style>\n",
              "    .colab-df-container {\n",
              "      display:flex;\n",
              "      flex-wrap:wrap;\n",
              "      gap: 12px;\n",
              "    }\n",
              "\n",
              "    .colab-df-convert {\n",
              "      background-color: #E8F0FE;\n",
              "      border: none;\n",
              "      border-radius: 50%;\n",
              "      cursor: pointer;\n",
              "      display: none;\n",
              "      fill: #1967D2;\n",
              "      height: 32px;\n",
              "      padding: 0 0 0 0;\n",
              "      width: 32px;\n",
              "    }\n",
              "\n",
              "    .colab-df-convert:hover {\n",
              "      background-color: #E2EBFA;\n",
              "      box-shadow: 0px 1px 2px rgba(60, 64, 67, 0.3), 0px 1px 3px 1px rgba(60, 64, 67, 0.15);\n",
              "      fill: #174EA6;\n",
              "    }\n",
              "\n",
              "    [theme=dark] .colab-df-convert {\n",
              "      background-color: #3B4455;\n",
              "      fill: #D2E3FC;\n",
              "    }\n",
              "\n",
              "    [theme=dark] .colab-df-convert:hover {\n",
              "      background-color: #434B5C;\n",
              "      box-shadow: 0px 1px 3px 1px rgba(0, 0, 0, 0.15);\n",
              "      filter: drop-shadow(0px 1px 2px rgba(0, 0, 0, 0.3));\n",
              "      fill: #FFFFFF;\n",
              "    }\n",
              "  </style>\n",
              "\n",
              "      <script>\n",
              "        const buttonEl =\n",
              "          document.querySelector('#df-e773c8aa-83a3-4ace-b4c9-8843f86d3e7e button.colab-df-convert');\n",
              "        buttonEl.style.display =\n",
              "          google.colab.kernel.accessAllowed ? 'block' : 'none';\n",
              "\n",
              "        async function convertToInteractive(key) {\n",
              "          const element = document.querySelector('#df-e773c8aa-83a3-4ace-b4c9-8843f86d3e7e');\n",
              "          const dataTable =\n",
              "            await google.colab.kernel.invokeFunction('convertToInteractive',\n",
              "                                                     [key], {});\n",
              "          if (!dataTable) return;\n",
              "\n",
              "          const docLinkHtml = 'Like what you see? Visit the ' +\n",
              "            '<a target=\"_blank\" href=https://colab.research.google.com/notebooks/data_table.ipynb>data table notebook</a>'\n",
              "            + ' to learn more about interactive tables.';\n",
              "          element.innerHTML = '';\n",
              "          dataTable['output_type'] = 'display_data';\n",
              "          await google.colab.output.renderOutput(dataTable, element);\n",
              "          const docLink = document.createElement('div');\n",
              "          docLink.innerHTML = docLinkHtml;\n",
              "          element.appendChild(docLink);\n",
              "        }\n",
              "      </script>\n",
              "    </div>\n",
              "  </div>\n",
              "  "
            ],
            "text/plain": [
              "                                                       count  ...              max\n",
              "RtpStateBitfield                                  498,168.00  ...            35.00\n",
              "AVProductsInstalled                               498,062.00  ...             5.00\n",
              "AVProductsEnabled                                 498,062.00  ...             4.00\n",
              "IeVerIdentifier                                   496,791.00  ...           429.00\n",
              "UacLuaenable                                      499,377.00  ...     6,357,062.00\n",
              "Census_ProcessorCoreCount                         497,653.00  ...            88.00\n",
              "Census_PrimaryDiskTotalCapacity                   497,024.00  ...    47,687,668.00\n",
              "Census_SystemVolumeTotalCapacity                  497,024.00  ...    47,687,100.00\n",
              "Census_TotalPhysicalRAM                           495,444.00  ...       393,216.00\n",
              "Census_InternalPrimaryDiagonalDisplaySizeInInches 497,346.00  ...           142.00\n",
              "Census_InternalPrimaryDisplayResolutionHorizontal 497,350.00  ...        11,520.00\n",
              "Census_InternalPrimaryDisplayResolutionVertical   497,350.00  ...         4,320.00\n",
              "Census_InternalBatteryNumberOfCharges             484,962.00  ... 4,294,967,295.00\n",
              "Census_FirmwareVersionIdentifier                  490,939.00  ...        72,091.00\n",
              "\n",
              "[14 rows x 8 columns]"
            ]
          },
          "metadata": {},
          "execution_count": 673
        }
      ]
    },
    {
      "cell_type": "markdown",
      "source": [
        "Vemos que podríamos usar el valor -2 para todos las variables, puesto que ninguna variable coge un valor menor que este."
      ],
      "metadata": {
        "id": "s3AJT80rRLzc"
      }
    },
    {
      "cell_type": "code",
      "source": [
        "import pickle\n"
      ],
      "metadata": {
        "id": "IrmUOU9RSYd4"
      },
      "execution_count": null,
      "outputs": []
    },
    {
      "cell_type": "code",
      "source": [
        "## save the dataframe to\n",
        "df.to_pickle(\"Dataframe_checkpoint1.pkl\")\n",
        "\n",
        "## Para recuperarlo:   df = pd.read_pickle(\"Dataframe_checkpoint1.pkl\")"
      ],
      "metadata": {
        "id": "cVu5XtgyyF2c"
      },
      "execution_count": null,
      "outputs": []
    },
    {
      "cell_type": "code",
      "source": [
        "# He tenido que ejecutar un for loop para sustituir los nulos porque la siguiente instruccuón me daba error.\n",
        "#  df[list_num_nulls].fillna(-2, inplace=True)\n",
        "#   Error: A value is trying to be set on a copy of a slice from a DataFrame\n",
        "\n",
        "for col in list_num_nulls:\n",
        "  print(col)\n",
        "  df[col].fillna(-2, inplace=True)"
      ],
      "metadata": {
        "colab": {
          "base_uri": "https://localhost:8080/"
        },
        "id": "NY_ixc_n0cuu",
        "outputId": "bed25c30-eec5-45f9-eb87-acd0c4d344e9"
      },
      "execution_count": null,
      "outputs": [
        {
          "output_type": "stream",
          "name": "stdout",
          "text": [
            "RtpStateBitfield\n",
            "AVProductsInstalled\n",
            "AVProductsEnabled\n",
            "IeVerIdentifier\n",
            "UacLuaenable\n",
            "Census_ProcessorCoreCount\n",
            "Census_PrimaryDiskTotalCapacity\n",
            "Census_SystemVolumeTotalCapacity\n",
            "Census_TotalPhysicalRAM\n",
            "Census_InternalPrimaryDiagonalDisplaySizeInInches\n",
            "Census_InternalPrimaryDisplayResolutionHorizontal\n",
            "Census_InternalPrimaryDisplayResolutionVertical\n",
            "Census_InternalBatteryNumberOfCharges\n",
            "Census_FirmwareVersionIdentifier\n"
          ]
        }
      ]
    },
    {
      "cell_type": "code",
      "source": [
        "df.describe().T"
      ],
      "metadata": {
        "colab": {
          "base_uri": "https://localhost:8080/",
          "height": 990
        },
        "id": "RLAgyo26T_WE",
        "outputId": "17f6de49-7326-41ad-a642-d7f20551b35b"
      },
      "execution_count": null,
      "outputs": [
        {
          "output_type": "execute_result",
          "data": {
            "text/html": [
              "\n",
              "  <div id=\"df-1caea99c-335a-442d-8257-19f5134fd45d\">\n",
              "    <div class=\"colab-df-container\">\n",
              "      <div>\n",
              "<style scoped>\n",
              "    .dataframe tbody tr th:only-of-type {\n",
              "        vertical-align: middle;\n",
              "    }\n",
              "\n",
              "    .dataframe tbody tr th {\n",
              "        vertical-align: top;\n",
              "    }\n",
              "\n",
              "    .dataframe thead th {\n",
              "        text-align: right;\n",
              "    }\n",
              "</style>\n",
              "<table border=\"1\" class=\"dataframe\">\n",
              "  <thead>\n",
              "    <tr style=\"text-align: right;\">\n",
              "      <th></th>\n",
              "      <th>count</th>\n",
              "      <th>mean</th>\n",
              "      <th>std</th>\n",
              "      <th>min</th>\n",
              "      <th>25%</th>\n",
              "      <th>50%</th>\n",
              "      <th>75%</th>\n",
              "      <th>max</th>\n",
              "    </tr>\n",
              "  </thead>\n",
              "  <tbody>\n",
              "    <tr>\n",
              "      <th>ProductName</th>\n",
              "      <td>500,000.00</td>\n",
              "      <td>0.99</td>\n",
              "      <td>0.10</td>\n",
              "      <td>0.00</td>\n",
              "      <td>1.00</td>\n",
              "      <td>1.00</td>\n",
              "      <td>1.00</td>\n",
              "      <td>1.00</td>\n",
              "    </tr>\n",
              "    <tr>\n",
              "      <th>RtpStateBitfield</th>\n",
              "      <td>500,000.00</td>\n",
              "      <td>6.81</td>\n",
              "      <td>1.15</td>\n",
              "      <td>-2.00</td>\n",
              "      <td>7.00</td>\n",
              "      <td>7.00</td>\n",
              "      <td>7.00</td>\n",
              "      <td>35.00</td>\n",
              "    </tr>\n",
              "    <tr>\n",
              "      <th>IsSxsPassiveMode</th>\n",
              "      <td>500,000.00</td>\n",
              "      <td>0.02</td>\n",
              "      <td>0.13</td>\n",
              "      <td>0.00</td>\n",
              "      <td>0.00</td>\n",
              "      <td>0.00</td>\n",
              "      <td>0.00</td>\n",
              "      <td>1.00</td>\n",
              "    </tr>\n",
              "    <tr>\n",
              "      <th>AVProductsInstalled</th>\n",
              "      <td>500,000.00</td>\n",
              "      <td>1.31</td>\n",
              "      <td>0.56</td>\n",
              "      <td>-2.00</td>\n",
              "      <td>1.00</td>\n",
              "      <td>1.00</td>\n",
              "      <td>2.00</td>\n",
              "      <td>5.00</td>\n",
              "    </tr>\n",
              "    <tr>\n",
              "      <th>AVProductsEnabled</th>\n",
              "      <td>500,000.00</td>\n",
              "      <td>1.01</td>\n",
              "      <td>0.25</td>\n",
              "      <td>-2.00</td>\n",
              "      <td>1.00</td>\n",
              "      <td>1.00</td>\n",
              "      <td>1.00</td>\n",
              "      <td>4.00</td>\n",
              "    </tr>\n",
              "    <tr>\n",
              "      <th>HasTpm</th>\n",
              "      <td>500,000.00</td>\n",
              "      <td>0.99</td>\n",
              "      <td>0.11</td>\n",
              "      <td>0.00</td>\n",
              "      <td>1.00</td>\n",
              "      <td>1.00</td>\n",
              "      <td>1.00</td>\n",
              "      <td>1.00</td>\n",
              "    </tr>\n",
              "    <tr>\n",
              "      <th>Processor</th>\n",
              "      <td>500,000.00</td>\n",
              "      <td>0.91</td>\n",
              "      <td>0.29</td>\n",
              "      <td>0.00</td>\n",
              "      <td>1.00</td>\n",
              "      <td>1.00</td>\n",
              "      <td>1.00</td>\n",
              "      <td>1.00</td>\n",
              "    </tr>\n",
              "    <tr>\n",
              "      <th>OsBuild</th>\n",
              "      <td>500,000.00</td>\n",
              "      <td>15,726.93</td>\n",
              "      <td>2,188.65</td>\n",
              "      <td>7,600.00</td>\n",
              "      <td>15,063.00</td>\n",
              "      <td>16,299.00</td>\n",
              "      <td>17,134.00</td>\n",
              "      <td>18,242.00</td>\n",
              "    </tr>\n",
              "    <tr>\n",
              "      <th>OsSuite</th>\n",
              "      <td>500,000.00</td>\n",
              "      <td>574.72</td>\n",
              "      <td>248.20</td>\n",
              "      <td>16.00</td>\n",
              "      <td>256.00</td>\n",
              "      <td>768.00</td>\n",
              "      <td>768.00</td>\n",
              "      <td>784.00</td>\n",
              "    </tr>\n",
              "    <tr>\n",
              "      <th>IeVerIdentifier</th>\n",
              "      <td>500,000.00</td>\n",
              "      <td>125.84</td>\n",
              "      <td>43.72</td>\n",
              "      <td>-2.00</td>\n",
              "      <td>111.00</td>\n",
              "      <td>117.00</td>\n",
              "      <td>137.00</td>\n",
              "      <td>429.00</td>\n",
              "    </tr>\n",
              "    <tr>\n",
              "      <th>Firewall</th>\n",
              "      <td>500,000.00</td>\n",
              "      <td>0.95</td>\n",
              "      <td>0.33</td>\n",
              "      <td>-2.00</td>\n",
              "      <td>1.00</td>\n",
              "      <td>1.00</td>\n",
              "      <td>1.00</td>\n",
              "      <td>1.00</td>\n",
              "    </tr>\n",
              "    <tr>\n",
              "      <th>UacLuaenable</th>\n",
              "      <td>500,000.00</td>\n",
              "      <td>13.71</td>\n",
              "      <td>8,990.24</td>\n",
              "      <td>-2.00</td>\n",
              "      <td>1.00</td>\n",
              "      <td>1.00</td>\n",
              "      <td>1.00</td>\n",
              "      <td>6,357,062.00</td>\n",
              "    </tr>\n",
              "    <tr>\n",
              "      <th>Census_ProcessorCoreCount</th>\n",
              "      <td>500,000.00</td>\n",
              "      <td>3.97</td>\n",
              "      <td>2.11</td>\n",
              "      <td>-2.00</td>\n",
              "      <td>2.00</td>\n",
              "      <td>4.00</td>\n",
              "      <td>4.00</td>\n",
              "      <td>88.00</td>\n",
              "    </tr>\n",
              "    <tr>\n",
              "      <th>Census_PrimaryDiskTotalCapacity</th>\n",
              "      <td>500,000.00</td>\n",
              "      <td>510,983.72</td>\n",
              "      <td>371,453.17</td>\n",
              "      <td>-2.00</td>\n",
              "      <td>238,475.00</td>\n",
              "      <td>476,940.00</td>\n",
              "      <td>953,869.00</td>\n",
              "      <td>47,687,668.00</td>\n",
              "    </tr>\n",
              "    <tr>\n",
              "      <th>Census_SystemVolumeTotalCapacity</th>\n",
              "      <td>500,000.00</td>\n",
              "      <td>375,804.45</td>\n",
              "      <td>338,714.04</td>\n",
              "      <td>-2.00</td>\n",
              "      <td>120,539.75</td>\n",
              "      <td>248,585.50</td>\n",
              "      <td>475,968.00</td>\n",
              "      <td>47,687,100.00</td>\n",
              "    </tr>\n",
              "    <tr>\n",
              "      <th>Census_HasOpticalDiskDrive</th>\n",
              "      <td>500,000.00</td>\n",
              "      <td>0.08</td>\n",
              "      <td>0.27</td>\n",
              "      <td>0.00</td>\n",
              "      <td>0.00</td>\n",
              "      <td>0.00</td>\n",
              "      <td>0.00</td>\n",
              "      <td>1.00</td>\n",
              "    </tr>\n",
              "    <tr>\n",
              "      <th>Census_TotalPhysicalRAM</th>\n",
              "      <td>500,000.00</td>\n",
              "      <td>6,073.36</td>\n",
              "      <td>4,976.07</td>\n",
              "      <td>-2.00</td>\n",
              "      <td>4,096.00</td>\n",
              "      <td>4,096.00</td>\n",
              "      <td>8,192.00</td>\n",
              "      <td>393,216.00</td>\n",
              "    </tr>\n",
              "    <tr>\n",
              "      <th>Census_InternalPrimaryDiagonalDisplaySizeInInches</th>\n",
              "      <td>500,000.00</td>\n",
              "      <td>16.59</td>\n",
              "      <td>6.07</td>\n",
              "      <td>-2.00</td>\n",
              "      <td>13.90</td>\n",
              "      <td>15.50</td>\n",
              "      <td>17.20</td>\n",
              "      <td>142.00</td>\n",
              "    </tr>\n",
              "    <tr>\n",
              "      <th>Census_InternalPrimaryDisplayResolutionHorizontal</th>\n",
              "      <td>500,000.00</td>\n",
              "      <td>1,540.09</td>\n",
              "      <td>384.44</td>\n",
              "      <td>-2.00</td>\n",
              "      <td>1,366.00</td>\n",
              "      <td>1,366.00</td>\n",
              "      <td>1,920.00</td>\n",
              "      <td>11,520.00</td>\n",
              "    </tr>\n",
              "    <tr>\n",
              "      <th>Census_InternalPrimaryDisplayResolutionVertical</th>\n",
              "      <td>500,000.00</td>\n",
              "      <td>893.47</td>\n",
              "      <td>224.04</td>\n",
              "      <td>-2.00</td>\n",
              "      <td>768.00</td>\n",
              "      <td>768.00</td>\n",
              "      <td>1,080.00</td>\n",
              "      <td>4,320.00</td>\n",
              "    </tr>\n",
              "    <tr>\n",
              "      <th>Census_InternalBatteryNumberOfCharges</th>\n",
              "      <td>500,000.00</td>\n",
              "      <td>1,091,746,600.03</td>\n",
              "      <td>1,870,056,449.14</td>\n",
              "      <td>-2.00</td>\n",
              "      <td>0.00</td>\n",
              "      <td>0.00</td>\n",
              "      <td>4,294,967,295.00</td>\n",
              "      <td>4,294,967,295.00</td>\n",
              "    </tr>\n",
              "    <tr>\n",
              "      <th>Census_OSBuildNumber</th>\n",
              "      <td>500,000.00</td>\n",
              "      <td>15,841.37</td>\n",
              "      <td>1,959.44</td>\n",
              "      <td>9,600.00</td>\n",
              "      <td>15,063.00</td>\n",
              "      <td>16,299.00</td>\n",
              "      <td>17,134.00</td>\n",
              "      <td>18,242.00</td>\n",
              "    </tr>\n",
              "    <tr>\n",
              "      <th>Census_OSBuildRevision</th>\n",
              "      <td>500,000.00</td>\n",
              "      <td>967.22</td>\n",
              "      <td>2,920.63</td>\n",
              "      <td>0.00</td>\n",
              "      <td>165.00</td>\n",
              "      <td>285.00</td>\n",
              "      <td>547.00</td>\n",
              "      <td>19,069.00</td>\n",
              "    </tr>\n",
              "    <tr>\n",
              "      <th>Census_FirmwareVersionIdentifier</th>\n",
              "      <td>500,000.00</td>\n",
              "      <td>32,432.37</td>\n",
              "      <td>21,483.74</td>\n",
              "      <td>-2.00</td>\n",
              "      <td>12,463.00</td>\n",
              "      <td>33,060.00</td>\n",
              "      <td>52,250.00</td>\n",
              "      <td>72,091.00</td>\n",
              "    </tr>\n",
              "    <tr>\n",
              "      <th>Census_IsSecureBootEnabled</th>\n",
              "      <td>500,000.00</td>\n",
              "      <td>0.49</td>\n",
              "      <td>0.50</td>\n",
              "      <td>0.00</td>\n",
              "      <td>0.00</td>\n",
              "      <td>0.00</td>\n",
              "      <td>1.00</td>\n",
              "      <td>1.00</td>\n",
              "    </tr>\n",
              "    <tr>\n",
              "      <th>Census_IsTouchEnabled</th>\n",
              "      <td>500,000.00</td>\n",
              "      <td>0.13</td>\n",
              "      <td>0.33</td>\n",
              "      <td>0.00</td>\n",
              "      <td>0.00</td>\n",
              "      <td>0.00</td>\n",
              "      <td>0.00</td>\n",
              "      <td>1.00</td>\n",
              "    </tr>\n",
              "    <tr>\n",
              "      <th>Census_IsPenCapable</th>\n",
              "      <td>500,000.00</td>\n",
              "      <td>0.04</td>\n",
              "      <td>0.19</td>\n",
              "      <td>0.00</td>\n",
              "      <td>0.00</td>\n",
              "      <td>0.00</td>\n",
              "      <td>0.00</td>\n",
              "      <td>1.00</td>\n",
              "    </tr>\n",
              "    <tr>\n",
              "      <th>Census_IsAlwaysOnAlwaysConnectedCapable</th>\n",
              "      <td>500,000.00</td>\n",
              "      <td>0.04</td>\n",
              "      <td>0.30</td>\n",
              "      <td>-2.00</td>\n",
              "      <td>0.00</td>\n",
              "      <td>0.00</td>\n",
              "      <td>0.00</td>\n",
              "      <td>1.00</td>\n",
              "    </tr>\n",
              "    <tr>\n",
              "      <th>Wdft_IsGamer</th>\n",
              "      <td>500,000.00</td>\n",
              "      <td>0.21</td>\n",
              "      <td>0.61</td>\n",
              "      <td>-2.00</td>\n",
              "      <td>0.00</td>\n",
              "      <td>0.00</td>\n",
              "      <td>1.00</td>\n",
              "      <td>1.00</td>\n",
              "    </tr>\n",
              "    <tr>\n",
              "      <th>HasDetections</th>\n",
              "      <td>500,000.00</td>\n",
              "      <td>0.50</td>\n",
              "      <td>0.50</td>\n",
              "      <td>0.00</td>\n",
              "      <td>0.00</td>\n",
              "      <td>0.00</td>\n",
              "      <td>1.00</td>\n",
              "      <td>1.00</td>\n",
              "    </tr>\n",
              "  </tbody>\n",
              "</table>\n",
              "</div>\n",
              "      <button class=\"colab-df-convert\" onclick=\"convertToInteractive('df-1caea99c-335a-442d-8257-19f5134fd45d')\"\n",
              "              title=\"Convert this dataframe to an interactive table.\"\n",
              "              style=\"display:none;\">\n",
              "        \n",
              "  <svg xmlns=\"http://www.w3.org/2000/svg\" height=\"24px\"viewBox=\"0 0 24 24\"\n",
              "       width=\"24px\">\n",
              "    <path d=\"M0 0h24v24H0V0z\" fill=\"none\"/>\n",
              "    <path d=\"M18.56 5.44l.94 2.06.94-2.06 2.06-.94-2.06-.94-.94-2.06-.94 2.06-2.06.94zm-11 1L8.5 8.5l.94-2.06 2.06-.94-2.06-.94L8.5 2.5l-.94 2.06-2.06.94zm10 10l.94 2.06.94-2.06 2.06-.94-2.06-.94-.94-2.06-.94 2.06-2.06.94z\"/><path d=\"M17.41 7.96l-1.37-1.37c-.4-.4-.92-.59-1.43-.59-.52 0-1.04.2-1.43.59L10.3 9.45l-7.72 7.72c-.78.78-.78 2.05 0 2.83L4 21.41c.39.39.9.59 1.41.59.51 0 1.02-.2 1.41-.59l7.78-7.78 2.81-2.81c.8-.78.8-2.07 0-2.86zM5.41 20L4 18.59l7.72-7.72 1.47 1.35L5.41 20z\"/>\n",
              "  </svg>\n",
              "      </button>\n",
              "      \n",
              "  <style>\n",
              "    .colab-df-container {\n",
              "      display:flex;\n",
              "      flex-wrap:wrap;\n",
              "      gap: 12px;\n",
              "    }\n",
              "\n",
              "    .colab-df-convert {\n",
              "      background-color: #E8F0FE;\n",
              "      border: none;\n",
              "      border-radius: 50%;\n",
              "      cursor: pointer;\n",
              "      display: none;\n",
              "      fill: #1967D2;\n",
              "      height: 32px;\n",
              "      padding: 0 0 0 0;\n",
              "      width: 32px;\n",
              "    }\n",
              "\n",
              "    .colab-df-convert:hover {\n",
              "      background-color: #E2EBFA;\n",
              "      box-shadow: 0px 1px 2px rgba(60, 64, 67, 0.3), 0px 1px 3px 1px rgba(60, 64, 67, 0.15);\n",
              "      fill: #174EA6;\n",
              "    }\n",
              "\n",
              "    [theme=dark] .colab-df-convert {\n",
              "      background-color: #3B4455;\n",
              "      fill: #D2E3FC;\n",
              "    }\n",
              "\n",
              "    [theme=dark] .colab-df-convert:hover {\n",
              "      background-color: #434B5C;\n",
              "      box-shadow: 0px 1px 3px 1px rgba(0, 0, 0, 0.15);\n",
              "      filter: drop-shadow(0px 1px 2px rgba(0, 0, 0, 0.3));\n",
              "      fill: #FFFFFF;\n",
              "    }\n",
              "  </style>\n",
              "\n",
              "      <script>\n",
              "        const buttonEl =\n",
              "          document.querySelector('#df-1caea99c-335a-442d-8257-19f5134fd45d button.colab-df-convert');\n",
              "        buttonEl.style.display =\n",
              "          google.colab.kernel.accessAllowed ? 'block' : 'none';\n",
              "\n",
              "        async function convertToInteractive(key) {\n",
              "          const element = document.querySelector('#df-1caea99c-335a-442d-8257-19f5134fd45d');\n",
              "          const dataTable =\n",
              "            await google.colab.kernel.invokeFunction('convertToInteractive',\n",
              "                                                     [key], {});\n",
              "          if (!dataTable) return;\n",
              "\n",
              "          const docLinkHtml = 'Like what you see? Visit the ' +\n",
              "            '<a target=\"_blank\" href=https://colab.research.google.com/notebooks/data_table.ipynb>data table notebook</a>'\n",
              "            + ' to learn more about interactive tables.';\n",
              "          element.innerHTML = '';\n",
              "          dataTable['output_type'] = 'display_data';\n",
              "          await google.colab.output.renderOutput(dataTable, element);\n",
              "          const docLink = document.createElement('div');\n",
              "          docLink.innerHTML = docLinkHtml;\n",
              "          element.appendChild(docLink);\n",
              "        }\n",
              "      </script>\n",
              "    </div>\n",
              "  </div>\n",
              "  "
            ],
            "text/plain": [
              "                                                       count  ...              max\n",
              "ProductName                                       500,000.00  ...             1.00\n",
              "RtpStateBitfield                                  500,000.00  ...            35.00\n",
              "IsSxsPassiveMode                                  500,000.00  ...             1.00\n",
              "AVProductsInstalled                               500,000.00  ...             5.00\n",
              "AVProductsEnabled                                 500,000.00  ...             4.00\n",
              "HasTpm                                            500,000.00  ...             1.00\n",
              "Processor                                         500,000.00  ...             1.00\n",
              "OsBuild                                           500,000.00  ...        18,242.00\n",
              "OsSuite                                           500,000.00  ...           784.00\n",
              "IeVerIdentifier                                   500,000.00  ...           429.00\n",
              "Firewall                                          500,000.00  ...             1.00\n",
              "UacLuaenable                                      500,000.00  ...     6,357,062.00\n",
              "Census_ProcessorCoreCount                         500,000.00  ...            88.00\n",
              "Census_PrimaryDiskTotalCapacity                   500,000.00  ...    47,687,668.00\n",
              "Census_SystemVolumeTotalCapacity                  500,000.00  ...    47,687,100.00\n",
              "Census_HasOpticalDiskDrive                        500,000.00  ...             1.00\n",
              "Census_TotalPhysicalRAM                           500,000.00  ...       393,216.00\n",
              "Census_InternalPrimaryDiagonalDisplaySizeInInches 500,000.00  ...           142.00\n",
              "Census_InternalPrimaryDisplayResolutionHorizontal 500,000.00  ...        11,520.00\n",
              "Census_InternalPrimaryDisplayResolutionVertical   500,000.00  ...         4,320.00\n",
              "Census_InternalBatteryNumberOfCharges             500,000.00  ... 4,294,967,295.00\n",
              "Census_OSBuildNumber                              500,000.00  ...        18,242.00\n",
              "Census_OSBuildRevision                            500,000.00  ...        19,069.00\n",
              "Census_FirmwareVersionIdentifier                  500,000.00  ...        72,091.00\n",
              "Census_IsSecureBootEnabled                        500,000.00  ...             1.00\n",
              "Census_IsTouchEnabled                             500,000.00  ...             1.00\n",
              "Census_IsPenCapable                               500,000.00  ...             1.00\n",
              "Census_IsAlwaysOnAlwaysConnectedCapable           500,000.00  ...             1.00\n",
              "Wdft_IsGamer                                      500,000.00  ...             1.00\n",
              "HasDetections                                     500,000.00  ...             1.00\n",
              "\n",
              "[30 rows x 8 columns]"
            ]
          },
          "metadata": {},
          "execution_count": 677
        }
      ]
    },
    {
      "cell_type": "markdown",
      "source": [
        "# HACEMOS LOS ONE HOT ENCODING"
      ],
      "metadata": {
        "id": "ASSP75HXUPtM"
      }
    },
    {
      "cell_type": "code",
      "source": [
        "l_OHE"
      ],
      "metadata": {
        "colab": {
          "base_uri": "https://localhost:8080/"
        },
        "id": "eUiTD5-dkSwh",
        "outputId": "bce47bfa-563c-4e26-c288-2a1098ec4f98"
      },
      "execution_count": null,
      "outputs": [
        {
          "output_type": "execute_result",
          "data": {
            "text/plain": [
              "['EngineVersion',\n",
              " 'Platform',\n",
              " 'CountryIdentifier',\n",
              " 'CityIdentifier',\n",
              " 'SmartScreen',\n",
              " 'Census_IsFlightingInternal',\n",
              " 'Census_IsFlightsDisabled',\n",
              " 'Census_ThresholdOptIn']"
            ]
          },
          "metadata": {},
          "execution_count": 678
        }
      ]
    },
    {
      "cell_type": "code",
      "source": [],
      "metadata": {
        "id": "ziY6xB14EQx2"
      },
      "execution_count": null,
      "outputs": []
    },
    {
      "cell_type": "code",
      "source": [
        "# La funció següent la podem fer si totes les categòriques les volem passar a OHE, que vol dir que no faríem cam Freq.Encoding. Em sembla bé, però ara per ara tenim moltíssimes variables i hem de fer agrupacions.\n",
        "\n",
        "#for column in df.select_dtypes(exclude=np.number).columns:\n",
        "#    df = generate_dummies(df, column)"
      ],
      "metadata": {
        "id": "6c2g7Z_bkhSS"
      },
      "execution_count": null,
      "outputs": []
    },
    {
      "cell_type": "code",
      "source": [
        "for column in l_OHE:\n",
        "   df = generate_dummies(df, column)"
      ],
      "metadata": {
        "id": "RV6WPNaTkglt"
      },
      "execution_count": null,
      "outputs": []
    },
    {
      "cell_type": "code",
      "source": [
        "df.info(verbose=False)"
      ],
      "metadata": {
        "colab": {
          "base_uri": "https://localhost:8080/"
        },
        "id": "28BlPWn-lICG",
        "outputId": "168d8ace-abbf-40ad-87d2-8fa8d7cf75e5"
      },
      "execution_count": null,
      "outputs": [
        {
          "output_type": "stream",
          "name": "stdout",
          "text": [
            "<class 'pandas.core.frame.DataFrame'>\n",
            "Index: 500000 entries, f1cd864e97bae82bdf96523e1a539121 to 7b45dc3537e17f16305c5983ca0a1cb9\n",
            "Columns: 119 entries, ProductName to Census_ThresholdOptIn_Others\n",
            "dtypes: float64(17), int64(13), object(38), uint8(51)\n",
            "memory usage: 307.5+ MB\n"
          ]
        }
      ]
    },
    {
      "cell_type": "code",
      "source": [
        "df.head()"
      ],
      "metadata": {
        "colab": {
          "base_uri": "https://localhost:8080/",
          "height": 347
        },
        "id": "AB-7-psS1xO-",
        "outputId": "8a9121d6-e941-4d3b-ff58-9522117e5551"
      },
      "execution_count": null,
      "outputs": [
        {
          "output_type": "execute_result",
          "data": {
            "text/html": [
              "\n",
              "  <div id=\"df-4fa8d267-4069-480c-92df-75b0d0424b3f\">\n",
              "    <div class=\"colab-df-container\">\n",
              "      <div>\n",
              "<style scoped>\n",
              "    .dataframe tbody tr th:only-of-type {\n",
              "        vertical-align: middle;\n",
              "    }\n",
              "\n",
              "    .dataframe tbody tr th {\n",
              "        vertical-align: top;\n",
              "    }\n",
              "\n",
              "    .dataframe thead th {\n",
              "        text-align: right;\n",
              "    }\n",
              "</style>\n",
              "<table border=\"1\" class=\"dataframe\">\n",
              "  <thead>\n",
              "    <tr style=\"text-align: right;\">\n",
              "      <th></th>\n",
              "      <th>ProductName</th>\n",
              "      <th>AppVersion</th>\n",
              "      <th>AvSigVersion</th>\n",
              "      <th>RtpStateBitfield</th>\n",
              "      <th>IsSxsPassiveMode</th>\n",
              "      <th>DefaultBrowsersIdentifier</th>\n",
              "      <th>AVProductStatesIdentifier</th>\n",
              "      <th>AVProductsInstalled</th>\n",
              "      <th>AVProductsEnabled</th>\n",
              "      <th>HasTpm</th>\n",
              "      <th>OrganizationIdentifier</th>\n",
              "      <th>GeoNameIdentifier</th>\n",
              "      <th>LocaleEnglishNameIdentifier</th>\n",
              "      <th>Processor</th>\n",
              "      <th>OsVer</th>\n",
              "      <th>OsBuild</th>\n",
              "      <th>OsSuite</th>\n",
              "      <th>OsPlatformSubRelease</th>\n",
              "      <th>OsBuildLab</th>\n",
              "      <th>SkuEdition</th>\n",
              "      <th>IsProtected</th>\n",
              "      <th>SMode</th>\n",
              "      <th>IeVerIdentifier</th>\n",
              "      <th>Firewall</th>\n",
              "      <th>UacLuaenable</th>\n",
              "      <th>Census_MDC2FormFactor</th>\n",
              "      <th>Census_DeviceFamily</th>\n",
              "      <th>Census_OEMNameIdentifier</th>\n",
              "      <th>Census_OEMModelIdentifier</th>\n",
              "      <th>Census_ProcessorCoreCount</th>\n",
              "      <th>Census_ProcessorManufacturerIdentifier</th>\n",
              "      <th>Census_ProcessorModelIdentifier</th>\n",
              "      <th>Census_PrimaryDiskTotalCapacity</th>\n",
              "      <th>Census_PrimaryDiskTypeName</th>\n",
              "      <th>Census_SystemVolumeTotalCapacity</th>\n",
              "      <th>Census_HasOpticalDiskDrive</th>\n",
              "      <th>Census_TotalPhysicalRAM</th>\n",
              "      <th>Census_ChassisTypeName</th>\n",
              "      <th>Census_InternalPrimaryDiagonalDisplaySizeInInches</th>\n",
              "      <th>Census_InternalPrimaryDisplayResolutionHorizontal</th>\n",
              "      <th>...</th>\n",
              "      <th>Platform_windows8</th>\n",
              "      <th>Platform_Others</th>\n",
              "      <th>CountryIdentifier_131</th>\n",
              "      <th>CountryIdentifier_135</th>\n",
              "      <th>CountryIdentifier_104</th>\n",
              "      <th>CountryIdentifier_168</th>\n",
              "      <th>CountryIdentifier_78</th>\n",
              "      <th>CountryIdentifier_214</th>\n",
              "      <th>CountryIdentifier_62</th>\n",
              "      <th>CountryIdentifier_152</th>\n",
              "      <th>CountryIdentifier_190</th>\n",
              "      <th>CountryIdentifier_95</th>\n",
              "      <th>CountryIdentifier_Others</th>\n",
              "      <th>CityIdentifier_10146.0</th>\n",
              "      <th>CityIdentifier_61668.0</th>\n",
              "      <th>CityIdentifier_92776.0</th>\n",
              "      <th>CityIdentifier_39821.0</th>\n",
              "      <th>CityIdentifier_58607.0</th>\n",
              "      <th>CityIdentifier_145168.0</th>\n",
              "      <th>CityIdentifier_111347.0</th>\n",
              "      <th>CityIdentifier_140628.0</th>\n",
              "      <th>CityIdentifier_18964.0</th>\n",
              "      <th>CityIdentifier_166872.0</th>\n",
              "      <th>CityIdentifier_164218.0</th>\n",
              "      <th>CityIdentifier_101182.0</th>\n",
              "      <th>CityIdentifier_Others</th>\n",
              "      <th>SmartScreen_RequireAdmin</th>\n",
              "      <th>SmartScreen_ExistsNotSet</th>\n",
              "      <th>SmartScreen_Off</th>\n",
              "      <th>SmartScreen_Warn</th>\n",
              "      <th>SmartScreen_Others</th>\n",
              "      <th>Census_IsFlightingInternal_0.0</th>\n",
              "      <th>Census_IsFlightingInternal_1.0</th>\n",
              "      <th>Census_IsFlightingInternal_Others</th>\n",
              "      <th>Census_IsFlightsDisabled_0.0</th>\n",
              "      <th>Census_IsFlightsDisabled_1.0</th>\n",
              "      <th>Census_IsFlightsDisabled_Others</th>\n",
              "      <th>Census_ThresholdOptIn_0.0</th>\n",
              "      <th>Census_ThresholdOptIn_1.0</th>\n",
              "      <th>Census_ThresholdOptIn_Others</th>\n",
              "    </tr>\n",
              "    <tr>\n",
              "      <th>MachineIdentifier</th>\n",
              "      <th></th>\n",
              "      <th></th>\n",
              "      <th></th>\n",
              "      <th></th>\n",
              "      <th></th>\n",
              "      <th></th>\n",
              "      <th></th>\n",
              "      <th></th>\n",
              "      <th></th>\n",
              "      <th></th>\n",
              "      <th></th>\n",
              "      <th></th>\n",
              "      <th></th>\n",
              "      <th></th>\n",
              "      <th></th>\n",
              "      <th></th>\n",
              "      <th></th>\n",
              "      <th></th>\n",
              "      <th></th>\n",
              "      <th></th>\n",
              "      <th></th>\n",
              "      <th></th>\n",
              "      <th></th>\n",
              "      <th></th>\n",
              "      <th></th>\n",
              "      <th></th>\n",
              "      <th></th>\n",
              "      <th></th>\n",
              "      <th></th>\n",
              "      <th></th>\n",
              "      <th></th>\n",
              "      <th></th>\n",
              "      <th></th>\n",
              "      <th></th>\n",
              "      <th></th>\n",
              "      <th></th>\n",
              "      <th></th>\n",
              "      <th></th>\n",
              "      <th></th>\n",
              "      <th></th>\n",
              "      <th></th>\n",
              "      <th></th>\n",
              "      <th></th>\n",
              "      <th></th>\n",
              "      <th></th>\n",
              "      <th></th>\n",
              "      <th></th>\n",
              "      <th></th>\n",
              "      <th></th>\n",
              "      <th></th>\n",
              "      <th></th>\n",
              "      <th></th>\n",
              "      <th></th>\n",
              "      <th></th>\n",
              "      <th></th>\n",
              "      <th></th>\n",
              "      <th></th>\n",
              "      <th></th>\n",
              "      <th></th>\n",
              "      <th></th>\n",
              "      <th></th>\n",
              "      <th></th>\n",
              "      <th></th>\n",
              "      <th></th>\n",
              "      <th></th>\n",
              "      <th></th>\n",
              "      <th></th>\n",
              "      <th></th>\n",
              "      <th></th>\n",
              "      <th></th>\n",
              "      <th></th>\n",
              "      <th></th>\n",
              "      <th></th>\n",
              "      <th></th>\n",
              "      <th></th>\n",
              "      <th></th>\n",
              "      <th></th>\n",
              "      <th></th>\n",
              "      <th></th>\n",
              "      <th></th>\n",
              "      <th></th>\n",
              "    </tr>\n",
              "  </thead>\n",
              "  <tbody>\n",
              "    <tr>\n",
              "      <th>f1cd864e97bae82bdf96523e1a539121</th>\n",
              "      <td>1</td>\n",
              "      <td>4.18.1807.18075</td>\n",
              "      <td>1.273.1234.0</td>\n",
              "      <td>7.00</td>\n",
              "      <td>0</td>\n",
              "      <td>NaN</td>\n",
              "      <td>53,447.00</td>\n",
              "      <td>1.00</td>\n",
              "      <td>1.00</td>\n",
              "      <td>1</td>\n",
              "      <td>NaN</td>\n",
              "      <td>205.00</td>\n",
              "      <td>172</td>\n",
              "      <td>1</td>\n",
              "      <td>10.0.0.0</td>\n",
              "      <td>17134</td>\n",
              "      <td>256</td>\n",
              "      <td>rs4</td>\n",
              "      <td>17134.1.amd64fre.rs4_release.180410-1804</td>\n",
              "      <td>Pro</td>\n",
              "      <td>1.00</td>\n",
              "      <td>0.00</td>\n",
              "      <td>137.00</td>\n",
              "      <td>1.00</td>\n",
              "      <td>1.00</td>\n",
              "      <td>Desktop</td>\n",
              "      <td>Windows.Desktop</td>\n",
              "      <td>1,443.00</td>\n",
              "      <td>275,891.00</td>\n",
              "      <td>4.00</td>\n",
              "      <td>5.00</td>\n",
              "      <td>2,273.00</td>\n",
              "      <td>953,869.00</td>\n",
              "      <td>HDD</td>\n",
              "      <td>952,838.00</td>\n",
              "      <td>0</td>\n",
              "      <td>8,192.00</td>\n",
              "      <td>AllinOne</td>\n",
              "      <td>23.00</td>\n",
              "      <td>1,920.00</td>\n",
              "      <td>...</td>\n",
              "      <td>0</td>\n",
              "      <td>0</td>\n",
              "      <td>0</td>\n",
              "      <td>0</td>\n",
              "      <td>0</td>\n",
              "      <td>0</td>\n",
              "      <td>0</td>\n",
              "      <td>0</td>\n",
              "      <td>0</td>\n",
              "      <td>0</td>\n",
              "      <td>0</td>\n",
              "      <td>0</td>\n",
              "      <td>1</td>\n",
              "      <td>0</td>\n",
              "      <td>0</td>\n",
              "      <td>0</td>\n",
              "      <td>0</td>\n",
              "      <td>0</td>\n",
              "      <td>0</td>\n",
              "      <td>0</td>\n",
              "      <td>0</td>\n",
              "      <td>0</td>\n",
              "      <td>0</td>\n",
              "      <td>0</td>\n",
              "      <td>0</td>\n",
              "      <td>1</td>\n",
              "      <td>1</td>\n",
              "      <td>0</td>\n",
              "      <td>0</td>\n",
              "      <td>0</td>\n",
              "      <td>0</td>\n",
              "      <td>0</td>\n",
              "      <td>0</td>\n",
              "      <td>1</td>\n",
              "      <td>1</td>\n",
              "      <td>0</td>\n",
              "      <td>0</td>\n",
              "      <td>0</td>\n",
              "      <td>0</td>\n",
              "      <td>1</td>\n",
              "    </tr>\n",
              "    <tr>\n",
              "      <th>fd5ba6f5b75325ec0423a6c67cc75942</th>\n",
              "      <td>1</td>\n",
              "      <td>4.18.1807.18075</td>\n",
              "      <td>1.273.1282.0</td>\n",
              "      <td>7.00</td>\n",
              "      <td>0</td>\n",
              "      <td>NaN</td>\n",
              "      <td>53,447.00</td>\n",
              "      <td>1.00</td>\n",
              "      <td>1.00</td>\n",
              "      <td>1</td>\n",
              "      <td>NaN</td>\n",
              "      <td>126.00</td>\n",
              "      <td>124</td>\n",
              "      <td>1</td>\n",
              "      <td>10.0.0.0</td>\n",
              "      <td>17134</td>\n",
              "      <td>256</td>\n",
              "      <td>rs4</td>\n",
              "      <td>17134.1.amd64fre.rs4_release.180410-1804</td>\n",
              "      <td>Pro</td>\n",
              "      <td>1.00</td>\n",
              "      <td>0.00</td>\n",
              "      <td>137.00</td>\n",
              "      <td>1.00</td>\n",
              "      <td>1.00</td>\n",
              "      <td>Notebook</td>\n",
              "      <td>Windows.Desktop</td>\n",
              "      <td>2,102.00</td>\n",
              "      <td>248,850.00</td>\n",
              "      <td>4.00</td>\n",
              "      <td>5.00</td>\n",
              "      <td>2,660.00</td>\n",
              "      <td>476,940.00</td>\n",
              "      <td>HDD</td>\n",
              "      <td>457,600.00</td>\n",
              "      <td>0</td>\n",
              "      <td>8,192.00</td>\n",
              "      <td>Notebook</td>\n",
              "      <td>13.20</td>\n",
              "      <td>1,280.00</td>\n",
              "      <td>...</td>\n",
              "      <td>0</td>\n",
              "      <td>0</td>\n",
              "      <td>0</td>\n",
              "      <td>0</td>\n",
              "      <td>0</td>\n",
              "      <td>0</td>\n",
              "      <td>0</td>\n",
              "      <td>0</td>\n",
              "      <td>0</td>\n",
              "      <td>0</td>\n",
              "      <td>0</td>\n",
              "      <td>0</td>\n",
              "      <td>1</td>\n",
              "      <td>0</td>\n",
              "      <td>0</td>\n",
              "      <td>0</td>\n",
              "      <td>0</td>\n",
              "      <td>0</td>\n",
              "      <td>0</td>\n",
              "      <td>0</td>\n",
              "      <td>0</td>\n",
              "      <td>0</td>\n",
              "      <td>0</td>\n",
              "      <td>0</td>\n",
              "      <td>0</td>\n",
              "      <td>1</td>\n",
              "      <td>1</td>\n",
              "      <td>0</td>\n",
              "      <td>0</td>\n",
              "      <td>0</td>\n",
              "      <td>0</td>\n",
              "      <td>0</td>\n",
              "      <td>0</td>\n",
              "      <td>1</td>\n",
              "      <td>1</td>\n",
              "      <td>0</td>\n",
              "      <td>0</td>\n",
              "      <td>1</td>\n",
              "      <td>0</td>\n",
              "      <td>0</td>\n",
              "    </tr>\n",
              "    <tr>\n",
              "      <th>4e628391e7cc7c482fb3286f486dbd25</th>\n",
              "      <td>1</td>\n",
              "      <td>4.9.10586.1106</td>\n",
              "      <td>1.273.781.0</td>\n",
              "      <td>7.00</td>\n",
              "      <td>0</td>\n",
              "      <td>NaN</td>\n",
              "      <td>46,781.00</td>\n",
              "      <td>2.00</td>\n",
              "      <td>1.00</td>\n",
              "      <td>1</td>\n",
              "      <td>27.00</td>\n",
              "      <td>181.00</td>\n",
              "      <td>56</td>\n",
              "      <td>1</td>\n",
              "      <td>10.0.0.0</td>\n",
              "      <td>10586</td>\n",
              "      <td>768</td>\n",
              "      <td>th2</td>\n",
              "      <td>10586.1176.amd64fre.th2_release_sec.170913-1848</td>\n",
              "      <td>Home</td>\n",
              "      <td>1.00</td>\n",
              "      <td>0.00</td>\n",
              "      <td>74.00</td>\n",
              "      <td>1.00</td>\n",
              "      <td>1.00</td>\n",
              "      <td>Convertible</td>\n",
              "      <td>Windows.Desktop</td>\n",
              "      <td>2,206.00</td>\n",
              "      <td>238,234.00</td>\n",
              "      <td>4.00</td>\n",
              "      <td>5.00</td>\n",
              "      <td>2,998.00</td>\n",
              "      <td>244,198.00</td>\n",
              "      <td>SSD</td>\n",
              "      <td>221,251.00</td>\n",
              "      <td>0</td>\n",
              "      <td>8,192.00</td>\n",
              "      <td>Notebook</td>\n",
              "      <td>15.50</td>\n",
              "      <td>1,920.00</td>\n",
              "      <td>...</td>\n",
              "      <td>0</td>\n",
              "      <td>0</td>\n",
              "      <td>0</td>\n",
              "      <td>0</td>\n",
              "      <td>0</td>\n",
              "      <td>0</td>\n",
              "      <td>0</td>\n",
              "      <td>0</td>\n",
              "      <td>0</td>\n",
              "      <td>0</td>\n",
              "      <td>0</td>\n",
              "      <td>0</td>\n",
              "      <td>1</td>\n",
              "      <td>0</td>\n",
              "      <td>0</td>\n",
              "      <td>0</td>\n",
              "      <td>0</td>\n",
              "      <td>0</td>\n",
              "      <td>0</td>\n",
              "      <td>0</td>\n",
              "      <td>0</td>\n",
              "      <td>0</td>\n",
              "      <td>0</td>\n",
              "      <td>0</td>\n",
              "      <td>0</td>\n",
              "      <td>1</td>\n",
              "      <td>1</td>\n",
              "      <td>0</td>\n",
              "      <td>0</td>\n",
              "      <td>0</td>\n",
              "      <td>0</td>\n",
              "      <td>0</td>\n",
              "      <td>0</td>\n",
              "      <td>1</td>\n",
              "      <td>1</td>\n",
              "      <td>0</td>\n",
              "      <td>0</td>\n",
              "      <td>1</td>\n",
              "      <td>0</td>\n",
              "      <td>0</td>\n",
              "    </tr>\n",
              "    <tr>\n",
              "      <th>270a2e9d028144a4df12a9e3da79fba5</th>\n",
              "      <td>1</td>\n",
              "      <td>4.18.1807.18075</td>\n",
              "      <td>1.275.1639.0</td>\n",
              "      <td>7.00</td>\n",
              "      <td>0</td>\n",
              "      <td>NaN</td>\n",
              "      <td>53,447.00</td>\n",
              "      <td>1.00</td>\n",
              "      <td>1.00</td>\n",
              "      <td>1</td>\n",
              "      <td>27.00</td>\n",
              "      <td>205.00</td>\n",
              "      <td>172</td>\n",
              "      <td>1</td>\n",
              "      <td>10.0.0.0</td>\n",
              "      <td>17134</td>\n",
              "      <td>768</td>\n",
              "      <td>rs4</td>\n",
              "      <td>17134.1.amd64fre.rs4_release.180410-1804</td>\n",
              "      <td>Home</td>\n",
              "      <td>1.00</td>\n",
              "      <td>0.00</td>\n",
              "      <td>137.00</td>\n",
              "      <td>1.00</td>\n",
              "      <td>1.00</td>\n",
              "      <td>Notebook</td>\n",
              "      <td>Windows.Desktop</td>\n",
              "      <td>525.00</td>\n",
              "      <td>265,410.00</td>\n",
              "      <td>8.00</td>\n",
              "      <td>5.00</td>\n",
              "      <td>2,880.00</td>\n",
              "      <td>228,936.00</td>\n",
              "      <td>SSD</td>\n",
              "      <td>228,321.00</td>\n",
              "      <td>0</td>\n",
              "      <td>8,192.00</td>\n",
              "      <td>Notebook</td>\n",
              "      <td>15.50</td>\n",
              "      <td>1,920.00</td>\n",
              "      <td>...</td>\n",
              "      <td>0</td>\n",
              "      <td>0</td>\n",
              "      <td>0</td>\n",
              "      <td>0</td>\n",
              "      <td>0</td>\n",
              "      <td>0</td>\n",
              "      <td>0</td>\n",
              "      <td>0</td>\n",
              "      <td>0</td>\n",
              "      <td>0</td>\n",
              "      <td>0</td>\n",
              "      <td>0</td>\n",
              "      <td>1</td>\n",
              "      <td>0</td>\n",
              "      <td>0</td>\n",
              "      <td>0</td>\n",
              "      <td>0</td>\n",
              "      <td>0</td>\n",
              "      <td>0</td>\n",
              "      <td>0</td>\n",
              "      <td>0</td>\n",
              "      <td>0</td>\n",
              "      <td>0</td>\n",
              "      <td>0</td>\n",
              "      <td>0</td>\n",
              "      <td>1</td>\n",
              "      <td>0</td>\n",
              "      <td>0</td>\n",
              "      <td>0</td>\n",
              "      <td>0</td>\n",
              "      <td>1</td>\n",
              "      <td>0</td>\n",
              "      <td>0</td>\n",
              "      <td>1</td>\n",
              "      <td>1</td>\n",
              "      <td>0</td>\n",
              "      <td>0</td>\n",
              "      <td>0</td>\n",
              "      <td>0</td>\n",
              "      <td>1</td>\n",
              "    </tr>\n",
              "    <tr>\n",
              "      <th>06ca8fa8d32c2abdc5b3577d676b3269</th>\n",
              "      <td>1</td>\n",
              "      <td>4.18.1807.18075</td>\n",
              "      <td>1.275.511.0</td>\n",
              "      <td>7.00</td>\n",
              "      <td>0</td>\n",
              "      <td>NaN</td>\n",
              "      <td>47,238.00</td>\n",
              "      <td>2.00</td>\n",
              "      <td>1.00</td>\n",
              "      <td>1</td>\n",
              "      <td>27.00</td>\n",
              "      <td>277.00</td>\n",
              "      <td>75</td>\n",
              "      <td>1</td>\n",
              "      <td>10.0.0.0</td>\n",
              "      <td>17134</td>\n",
              "      <td>256</td>\n",
              "      <td>rs4</td>\n",
              "      <td>17134.1.amd64fre.rs4_release.180410-1804</td>\n",
              "      <td>Pro</td>\n",
              "      <td>1.00</td>\n",
              "      <td>0.00</td>\n",
              "      <td>137.00</td>\n",
              "      <td>1.00</td>\n",
              "      <td>1.00</td>\n",
              "      <td>Notebook</td>\n",
              "      <td>Windows.Desktop</td>\n",
              "      <td>1,443.00</td>\n",
              "      <td>256,478.00</td>\n",
              "      <td>4.00</td>\n",
              "      <td>1.00</td>\n",
              "      <td>198.00</td>\n",
              "      <td>476,940.00</td>\n",
              "      <td>HDD</td>\n",
              "      <td>464,374.00</td>\n",
              "      <td>0</td>\n",
              "      <td>4,096.00</td>\n",
              "      <td>Portable</td>\n",
              "      <td>15.50</td>\n",
              "      <td>1,366.00</td>\n",
              "      <td>...</td>\n",
              "      <td>0</td>\n",
              "      <td>0</td>\n",
              "      <td>0</td>\n",
              "      <td>0</td>\n",
              "      <td>0</td>\n",
              "      <td>0</td>\n",
              "      <td>0</td>\n",
              "      <td>0</td>\n",
              "      <td>0</td>\n",
              "      <td>0</td>\n",
              "      <td>0</td>\n",
              "      <td>0</td>\n",
              "      <td>1</td>\n",
              "      <td>0</td>\n",
              "      <td>0</td>\n",
              "      <td>0</td>\n",
              "      <td>0</td>\n",
              "      <td>0</td>\n",
              "      <td>0</td>\n",
              "      <td>0</td>\n",
              "      <td>0</td>\n",
              "      <td>0</td>\n",
              "      <td>0</td>\n",
              "      <td>0</td>\n",
              "      <td>0</td>\n",
              "      <td>1</td>\n",
              "      <td>1</td>\n",
              "      <td>0</td>\n",
              "      <td>0</td>\n",
              "      <td>0</td>\n",
              "      <td>0</td>\n",
              "      <td>0</td>\n",
              "      <td>0</td>\n",
              "      <td>1</td>\n",
              "      <td>1</td>\n",
              "      <td>0</td>\n",
              "      <td>0</td>\n",
              "      <td>0</td>\n",
              "      <td>0</td>\n",
              "      <td>1</td>\n",
              "    </tr>\n",
              "  </tbody>\n",
              "</table>\n",
              "<p>5 rows × 119 columns</p>\n",
              "</div>\n",
              "      <button class=\"colab-df-convert\" onclick=\"convertToInteractive('df-4fa8d267-4069-480c-92df-75b0d0424b3f')\"\n",
              "              title=\"Convert this dataframe to an interactive table.\"\n",
              "              style=\"display:none;\">\n",
              "        \n",
              "  <svg xmlns=\"http://www.w3.org/2000/svg\" height=\"24px\"viewBox=\"0 0 24 24\"\n",
              "       width=\"24px\">\n",
              "    <path d=\"M0 0h24v24H0V0z\" fill=\"none\"/>\n",
              "    <path d=\"M18.56 5.44l.94 2.06.94-2.06 2.06-.94-2.06-.94-.94-2.06-.94 2.06-2.06.94zm-11 1L8.5 8.5l.94-2.06 2.06-.94-2.06-.94L8.5 2.5l-.94 2.06-2.06.94zm10 10l.94 2.06.94-2.06 2.06-.94-2.06-.94-.94-2.06-.94 2.06-2.06.94z\"/><path d=\"M17.41 7.96l-1.37-1.37c-.4-.4-.92-.59-1.43-.59-.52 0-1.04.2-1.43.59L10.3 9.45l-7.72 7.72c-.78.78-.78 2.05 0 2.83L4 21.41c.39.39.9.59 1.41.59.51 0 1.02-.2 1.41-.59l7.78-7.78 2.81-2.81c.8-.78.8-2.07 0-2.86zM5.41 20L4 18.59l7.72-7.72 1.47 1.35L5.41 20z\"/>\n",
              "  </svg>\n",
              "      </button>\n",
              "      \n",
              "  <style>\n",
              "    .colab-df-container {\n",
              "      display:flex;\n",
              "      flex-wrap:wrap;\n",
              "      gap: 12px;\n",
              "    }\n",
              "\n",
              "    .colab-df-convert {\n",
              "      background-color: #E8F0FE;\n",
              "      border: none;\n",
              "      border-radius: 50%;\n",
              "      cursor: pointer;\n",
              "      display: none;\n",
              "      fill: #1967D2;\n",
              "      height: 32px;\n",
              "      padding: 0 0 0 0;\n",
              "      width: 32px;\n",
              "    }\n",
              "\n",
              "    .colab-df-convert:hover {\n",
              "      background-color: #E2EBFA;\n",
              "      box-shadow: 0px 1px 2px rgba(60, 64, 67, 0.3), 0px 1px 3px 1px rgba(60, 64, 67, 0.15);\n",
              "      fill: #174EA6;\n",
              "    }\n",
              "\n",
              "    [theme=dark] .colab-df-convert {\n",
              "      background-color: #3B4455;\n",
              "      fill: #D2E3FC;\n",
              "    }\n",
              "\n",
              "    [theme=dark] .colab-df-convert:hover {\n",
              "      background-color: #434B5C;\n",
              "      box-shadow: 0px 1px 3px 1px rgba(0, 0, 0, 0.15);\n",
              "      filter: drop-shadow(0px 1px 2px rgba(0, 0, 0, 0.3));\n",
              "      fill: #FFFFFF;\n",
              "    }\n",
              "  </style>\n",
              "\n",
              "      <script>\n",
              "        const buttonEl =\n",
              "          document.querySelector('#df-4fa8d267-4069-480c-92df-75b0d0424b3f button.colab-df-convert');\n",
              "        buttonEl.style.display =\n",
              "          google.colab.kernel.accessAllowed ? 'block' : 'none';\n",
              "\n",
              "        async function convertToInteractive(key) {\n",
              "          const element = document.querySelector('#df-4fa8d267-4069-480c-92df-75b0d0424b3f');\n",
              "          const dataTable =\n",
              "            await google.colab.kernel.invokeFunction('convertToInteractive',\n",
              "                                                     [key], {});\n",
              "          if (!dataTable) return;\n",
              "\n",
              "          const docLinkHtml = 'Like what you see? Visit the ' +\n",
              "            '<a target=\"_blank\" href=https://colab.research.google.com/notebooks/data_table.ipynb>data table notebook</a>'\n",
              "            + ' to learn more about interactive tables.';\n",
              "          element.innerHTML = '';\n",
              "          dataTable['output_type'] = 'display_data';\n",
              "          await google.colab.output.renderOutput(dataTable, element);\n",
              "          const docLink = document.createElement('div');\n",
              "          docLink.innerHTML = docLinkHtml;\n",
              "          element.appendChild(docLink);\n",
              "        }\n",
              "      </script>\n",
              "    </div>\n",
              "  </div>\n",
              "  "
            ],
            "text/plain": [
              "                                  ProductName  ... Census_ThresholdOptIn_Others\n",
              "MachineIdentifier                              ...                             \n",
              "f1cd864e97bae82bdf96523e1a539121            1  ...                            1\n",
              "fd5ba6f5b75325ec0423a6c67cc75942            1  ...                            0\n",
              "4e628391e7cc7c482fb3286f486dbd25            1  ...                            0\n",
              "270a2e9d028144a4df12a9e3da79fba5            1  ...                            1\n",
              "06ca8fa8d32c2abdc5b3577d676b3269            1  ...                            1\n",
              "\n",
              "[5 rows x 119 columns]"
            ]
          },
          "metadata": {},
          "execution_count": 681
        }
      ]
    },
    {
      "cell_type": "code",
      "source": [
        "# Hacemos una última comprobación de la existencia de Nulos.\n",
        "\n",
        "df.isnull().sum()"
      ],
      "metadata": {
        "colab": {
          "base_uri": "https://localhost:8080/"
        },
        "id": "P5RDyGBy7_ad",
        "outputId": "95f6a8e8-f5d3-4955-ed3b-1544e6058fc1"
      },
      "execution_count": null,
      "outputs": [
        {
          "output_type": "execute_result",
          "data": {
            "text/plain": [
              "ProductName                                               0\n",
              "AppVersion                                                0\n",
              "AvSigVersion                                              0\n",
              "RtpStateBitfield                                          0\n",
              "IsSxsPassiveMode                                          0\n",
              "DefaultBrowsersIdentifier                            475939\n",
              "AVProductStatesIdentifier                              1938\n",
              "AVProductsInstalled                                       0\n",
              "AVProductsEnabled                                         0\n",
              "HasTpm                                                    0\n",
              "OrganizationIdentifier                               154563\n",
              "GeoNameIdentifier                                        16\n",
              "LocaleEnglishNameIdentifier                               0\n",
              "Processor                                                 0\n",
              "OsVer                                                     0\n",
              "OsBuild                                                   0\n",
              "OsSuite                                                   0\n",
              "OsPlatformSubRelease                                      0\n",
              "OsBuildLab                                                1\n",
              "SkuEdition                                                0\n",
              "IsProtected                                               0\n",
              "SMode                                                     0\n",
              "IeVerIdentifier                                           0\n",
              "Firewall                                                  0\n",
              "UacLuaenable                                              0\n",
              "Census_MDC2FormFactor                                     0\n",
              "Census_DeviceFamily                                       0\n",
              "Census_OEMNameIdentifier                               5381\n",
              "Census_OEMModelIdentifier                              5764\n",
              "Census_ProcessorCoreCount                                 0\n",
              "Census_ProcessorManufacturerIdentifier                 2347\n",
              "Census_ProcessorModelIdentifier                        2349\n",
              "Census_PrimaryDiskTotalCapacity                           0\n",
              "Census_PrimaryDiskTypeName                              709\n",
              "Census_SystemVolumeTotalCapacity                          0\n",
              "Census_HasOpticalDiskDrive                                0\n",
              "Census_TotalPhysicalRAM                                   0\n",
              "Census_ChassisTypeName                                   37\n",
              "Census_InternalPrimaryDiagonalDisplaySizeInInches         0\n",
              "Census_InternalPrimaryDisplayResolutionHorizontal         0\n",
              "Census_InternalPrimaryDisplayResolutionVertical           0\n",
              "Census_PowerPlatformRoleName                              2\n",
              "Census_InternalBatteryType                           355603\n",
              "Census_InternalBatteryNumberOfCharges                     0\n",
              "Census_OSVersion                                          0\n",
              "Census_OSArchitecture                                     0\n",
              "Census_OSBranch                                           0\n",
              "Census_OSBuildNumber                                      0\n",
              "Census_OSBuildRevision                                    0\n",
              "Census_OSEdition                                          0\n",
              "Census_OSSkuName                                          0\n",
              "Census_OSInstallTypeName                                  0\n",
              "Census_OSInstallLanguageIdentifier                     3332\n",
              "Census_OSUILocaleIdentifier                               0\n",
              "Census_OSWUAutoUpdateOptionsName                          0\n",
              "Census_GenuineStateName                                   0\n",
              "Census_ActivationChannel                                  0\n",
              "Census_FlightRing                                         0\n",
              "Census_FirmwareManufacturerIdentifier                 10349\n",
              "Census_FirmwareVersionIdentifier                          0\n",
              "Census_IsSecureBootEnabled                                0\n",
              "Census_IsWIMBootEnabled                                   0\n",
              "Census_IsTouchEnabled                                     0\n",
              "Census_IsPenCapable                                       0\n",
              "Census_IsAlwaysOnAlwaysConnectedCapable                   0\n",
              "Wdft_IsGamer                                              0\n",
              "Wdft_RegionIdentifier                                 16950\n",
              "HasDetections                                             0\n",
              "EngineVersion_1.1.15200.1                                 0\n",
              "EngineVersion_1.1.15100.1                                 0\n",
              "EngineVersion_1.1.15000.2                                 0\n",
              "EngineVersion_1.1.14901.4                                 0\n",
              "EngineVersion_1.1.14600.4                                 0\n",
              "EngineVersion_1.1.14800.3                                 0\n",
              "EngineVersion_1.1.15300.6                                 0\n",
              "EngineVersion_1.1.14104.0                                 0\n",
              "EngineVersion_1.1.15300.5                                 0\n",
              "EngineVersion_Others                                      0\n",
              "Platform_windows10                                        0\n",
              "Platform_windows8                                         0\n",
              "Platform_Others                                           0\n",
              "CountryIdentifier_131                                     0\n",
              "CountryIdentifier_135                                     0\n",
              "CountryIdentifier_104                                     0\n",
              "CountryIdentifier_168                                     0\n",
              "CountryIdentifier_78                                      0\n",
              "CountryIdentifier_214                                     0\n",
              "CountryIdentifier_62                                      0\n",
              "CountryIdentifier_152                                     0\n",
              "CountryIdentifier_190                                     0\n",
              "CountryIdentifier_95                                      0\n",
              "CountryIdentifier_Others                                  0\n",
              "CityIdentifier_10146.0                                    0\n",
              "CityIdentifier_61668.0                                    0\n",
              "CityIdentifier_92776.0                                    0\n",
              "CityIdentifier_39821.0                                    0\n",
              "CityIdentifier_58607.0                                    0\n",
              "CityIdentifier_145168.0                                   0\n",
              "CityIdentifier_111347.0                                   0\n",
              "CityIdentifier_140628.0                                   0\n",
              "CityIdentifier_18964.0                                    0\n",
              "CityIdentifier_166872.0                                   0\n",
              "CityIdentifier_164218.0                                   0\n",
              "CityIdentifier_101182.0                                   0\n",
              "CityIdentifier_Others                                     0\n",
              "SmartScreen_RequireAdmin                                  0\n",
              "SmartScreen_ExistsNotSet                                  0\n",
              "SmartScreen_Off                                           0\n",
              "SmartScreen_Warn                                          0\n",
              "SmartScreen_Others                                        0\n",
              "Census_IsFlightingInternal_0.0                            0\n",
              "Census_IsFlightingInternal_1.0                            0\n",
              "Census_IsFlightingInternal_Others                         0\n",
              "Census_IsFlightsDisabled_0.0                              0\n",
              "Census_IsFlightsDisabled_1.0                              0\n",
              "Census_IsFlightsDisabled_Others                           0\n",
              "Census_ThresholdOptIn_0.0                                 0\n",
              "Census_ThresholdOptIn_1.0                                 0\n",
              "Census_ThresholdOptIn_Others                              0\n",
              "dtype: int64"
            ]
          },
          "metadata": {},
          "execution_count": 688
        }
      ]
    },
    {
      "cell_type": "markdown",
      "source": [
        "Nos han quedado alguna variables por tratar.... HAREMOS EL MODELO CON LO QUE TENEMOS."
      ],
      "metadata": {
        "id": "br6vmOxJGRyr"
      }
    },
    {
      "cell_type": "markdown",
      "source": [
        "# Modelling"
      ],
      "metadata": {
        "id": "ksae_Mtu6UJa"
      }
    },
    {
      "cell_type": "markdown",
      "source": [
        "## Partición y muestreo del dataset"
      ],
      "metadata": {
        "id": "aK4qMZzY6fwR"
      }
    },
    {
      "cell_type": "code",
      "source": [
        "from sklearn import model_selection # model assesment and model selection strategies\n",
        "from sklearn import metrics # model evaluation metrics"
      ],
      "metadata": {
        "id": "pAfJ7yv_UZB9"
      },
      "execution_count": null,
      "outputs": []
    },
    {
      "cell_type": "markdown",
      "source": [
        "#### **Random Holdout**. Tenemos una base de datos grande, con 500.000 registros, y balanceada respecto al target con lo cual seguiremos una estrategia de Random Holdout.\n",
        "- Validación: 5% de la base de datos (25.000 registros) - Incluso podríamos pasar con menos.\n",
        "- Train: 90%   y Test: 5%\n"
      ],
      "metadata": {
        "id": "uwvaCYOS4ewv"
      }
    },
    {
      "cell_type": "markdown",
      "source": [
        "**Política de partición**: A partir de las versiones del sistema operativo en la variable \"VerBuild\", vemos que el dataset tiene información sobre máquinas  antiguas, ya que actualmente las las versiones de Window10 van por el 19.000, y las 18000 empiezan ya estar fuera de servicio. La realialidad que se va a encontrar el modelo son máquinas del parqué actual. De todos modos, nuestra propuesta es hacer un set de validación con máquinas más actuales, fijándonos en las versiones del Sistema Operativo ya que suponemos que el día en que se ponga en producción el modelo, la gran mayoría de máquinas tendrán ya el último sistema operativo."
      ],
      "metadata": {
        "id": "q3N3UPcW5N1s"
      }
    },
    {
      "cell_type": "markdown",
      "source": [
        "Determinamos el dataset de validación, con 25.000 registros."
      ],
      "metadata": {
        "id": "N_yF6W-N9oS9"
      }
    },
    {
      "cell_type": "code",
      "source": [
        "VALIDATION_SIZE = 25000"
      ],
      "metadata": {
        "id": "Dlm1mpluZeX9"
      },
      "execution_count": null,
      "outputs": []
    },
    {
      "cell_type": "code",
      "source": [
        "df[\"OsBuild\"].value_counts().sort_index(ascending=False)"
      ],
      "metadata": {
        "colab": {
          "base_uri": "https://localhost:8080/"
        },
        "id": "lLMuoaCxCZ8c",
        "outputId": "3799e1b5-74e2-4335-a8f3-092e6507eeb4"
      },
      "execution_count": null,
      "outputs": [
        {
          "output_type": "execute_result",
          "data": {
            "text/plain": [
              "18242        12\n",
              "18237        12\n",
              "18234        16\n",
              "18219         1\n",
              "18214         1\n",
              "17763        33\n",
              "17760        31\n",
              "17758        86\n",
              "17755        45\n",
              "17754        56\n",
              "17753         1\n",
              "17751        53\n",
              "17749         1\n",
              "17747         3\n",
              "17746        62\n",
              "17744       129\n",
              "17741        51\n",
              "17738       134\n",
              "17735        37\n",
              "17733        34\n",
              "17730         3\n",
              "17723         4\n",
              "17713        60\n",
              "17711         1\n",
              "17704         1\n",
              "17692       155\n",
              "17686        36\n",
              "17682        20\n",
              "17677        17\n",
              "17672        15\n",
              "17666         8\n",
              "17661         9\n",
              "17655         2\n",
              "17650         2\n",
              "17639         3\n",
              "17634         4\n",
              "17623         1\n",
              "17618         3\n",
              "17604         1\n",
              "17134    220779\n",
              "16299    139901\n",
              "15063     43352\n",
              "14393     40717\n",
              "10586     22955\n",
              "10240     15014\n",
              "9600      10825\n",
              "7601       5281\n",
              "7600         33\n",
              "Name: OsBuild, dtype: int64"
            ]
          },
          "metadata": {},
          "execution_count": 690
        }
      ]
    },
    {
      "cell_type": "markdown",
      "source": [
        "Vemos que la versión más reciente con un número importante de ejemplos es la 17134. Usaremos registros con esta versión para nuestro set de validación. No cogeremos las más recientes porque por su poco volumen puede que sean veriones de prueba o que daban problemas."
      ],
      "metadata": {
        "id": "TJ5RRsuwXGv7"
      }
    },
    {
      "cell_type": "code",
      "source": [
        "len(df[df['OsBuild'] == 17134])"
      ],
      "metadata": {
        "colab": {
          "base_uri": "https://localhost:8080/"
        },
        "id": "PgliKJJZZwg1",
        "outputId": "1e4f50e8-505d-46f5-97c4-931e93a4dfbc"
      },
      "execution_count": null,
      "outputs": [
        {
          "output_type": "execute_result",
          "data": {
            "text/plain": [
              "220779"
            ]
          },
          "metadata": {},
          "execution_count": 691
        }
      ]
    },
    {
      "cell_type": "code",
      "source": [
        "val_df = df[df['OsBuild'] == 17134].head(VALIDATION_SIZE) # validation\n",
        "\n",
        "DEV_SIZE_OsBuild = len(df[df['OsBuild'] == 17134]) - VALIDATION_SIZE\n",
        "\n",
        "aux1_df = df[df['OsBuild'] == 17134].tail(DEV_SIZE_OsBuild)\n",
        "aux2_df = df[df['OsBuild'] != 17134]\n",
        "\n",
        "dev_df = pd.concat([aux1_df, aux2_df]) # development = train + test\n",
        "\n",
        "# Comprobamos que las cantidades de registros del los datasets son correctos y que son únicos.\n",
        "\n",
        "print(val_df.shape)\n",
        "print(dev_df.shape)\n",
        "print(dev_df.index.nunique())\n"
      ],
      "metadata": {
        "colab": {
          "base_uri": "https://localhost:8080/"
        },
        "id": "jzO_iwz9XGAm",
        "outputId": "5c1c3a70-9df5-428c-ad0d-d51fe7f501b8"
      },
      "execution_count": null,
      "outputs": [
        {
          "output_type": "stream",
          "name": "stdout",
          "text": [
            "(25000, 119)\n",
            "(475000, 119)\n",
            "475000\n"
          ]
        }
      ]
    },
    {
      "cell_type": "markdown",
      "source": [
        "#### A Partir de aquí utilizamos sólo las variables numéricas, que son las que han sido preparadas. Nos ha faltado preparar varias categóricas."
      ],
      "metadata": {
        "id": "-Vt1WOr0cOvA"
      }
    },
    {
      "cell_type": "code",
      "source": [
        "df_prova = df.select_dtypes(include=np.number).copy()"
      ],
      "metadata": {
        "id": "8v8VozTr7BKK"
      },
      "execution_count": null,
      "outputs": []
    },
    {
      "cell_type": "code",
      "source": [
        "df_prova.info()"
      ],
      "metadata": {
        "colab": {
          "base_uri": "https://localhost:8080/"
        },
        "id": "ZNNIlNR78kzq",
        "outputId": "a0027c10-9b67-4c72-a21b-48d1f717de75"
      },
      "execution_count": null,
      "outputs": [
        {
          "output_type": "stream",
          "name": "stdout",
          "text": [
            "<class 'pandas.core.frame.DataFrame'>\n",
            "Index: 500000 entries, f1cd864e97bae82bdf96523e1a539121 to 7b45dc3537e17f16305c5983ca0a1cb9\n",
            "Data columns (total 81 columns):\n",
            " #   Column                                             Non-Null Count   Dtype  \n",
            "---  ------                                             --------------   -----  \n",
            " 0   ProductName                                        500000 non-null  int64  \n",
            " 1   RtpStateBitfield                                   500000 non-null  float64\n",
            " 2   IsSxsPassiveMode                                   500000 non-null  int64  \n",
            " 3   AVProductsInstalled                                500000 non-null  float64\n",
            " 4   AVProductsEnabled                                  500000 non-null  float64\n",
            " 5   HasTpm                                             500000 non-null  int64  \n",
            " 6   Processor                                          500000 non-null  int64  \n",
            " 7   OsBuild                                            500000 non-null  int64  \n",
            " 8   OsSuite                                            500000 non-null  int64  \n",
            " 9   IeVerIdentifier                                    500000 non-null  float64\n",
            " 10  Firewall                                           500000 non-null  float64\n",
            " 11  UacLuaenable                                       500000 non-null  float64\n",
            " 12  Census_ProcessorCoreCount                          500000 non-null  float64\n",
            " 13  Census_PrimaryDiskTotalCapacity                    500000 non-null  float64\n",
            " 14  Census_SystemVolumeTotalCapacity                   500000 non-null  float64\n",
            " 15  Census_HasOpticalDiskDrive                         500000 non-null  int64  \n",
            " 16  Census_TotalPhysicalRAM                            500000 non-null  float64\n",
            " 17  Census_InternalPrimaryDiagonalDisplaySizeInInches  500000 non-null  float64\n",
            " 18  Census_InternalPrimaryDisplayResolutionHorizontal  500000 non-null  float64\n",
            " 19  Census_InternalPrimaryDisplayResolutionVertical    500000 non-null  float64\n",
            " 20  Census_InternalBatteryNumberOfCharges              500000 non-null  float64\n",
            " 21  Census_OSBuildNumber                               500000 non-null  int64  \n",
            " 22  Census_OSBuildRevision                             500000 non-null  int64  \n",
            " 23  Census_FirmwareVersionIdentifier                   500000 non-null  float64\n",
            " 24  Census_IsSecureBootEnabled                         500000 non-null  int64  \n",
            " 25  Census_IsTouchEnabled                              500000 non-null  int64  \n",
            " 26  Census_IsPenCapable                                500000 non-null  int64  \n",
            " 27  Census_IsAlwaysOnAlwaysConnectedCapable            500000 non-null  float64\n",
            " 28  Wdft_IsGamer                                       500000 non-null  float64\n",
            " 29  HasDetections                                      500000 non-null  int64  \n",
            " 30  EngineVersion_1.1.15200.1                          500000 non-null  uint8  \n",
            " 31  EngineVersion_1.1.15100.1                          500000 non-null  uint8  \n",
            " 32  EngineVersion_1.1.15000.2                          500000 non-null  uint8  \n",
            " 33  EngineVersion_1.1.14901.4                          500000 non-null  uint8  \n",
            " 34  EngineVersion_1.1.14600.4                          500000 non-null  uint8  \n",
            " 35  EngineVersion_1.1.14800.3                          500000 non-null  uint8  \n",
            " 36  EngineVersion_1.1.15300.6                          500000 non-null  uint8  \n",
            " 37  EngineVersion_1.1.14104.0                          500000 non-null  uint8  \n",
            " 38  EngineVersion_1.1.15300.5                          500000 non-null  uint8  \n",
            " 39  EngineVersion_Others                               500000 non-null  uint8  \n",
            " 40  Platform_windows10                                 500000 non-null  uint8  \n",
            " 41  Platform_windows8                                  500000 non-null  uint8  \n",
            " 42  Platform_Others                                    500000 non-null  uint8  \n",
            " 43  CountryIdentifier_131                              500000 non-null  uint8  \n",
            " 44  CountryIdentifier_135                              500000 non-null  uint8  \n",
            " 45  CountryIdentifier_104                              500000 non-null  uint8  \n",
            " 46  CountryIdentifier_168                              500000 non-null  uint8  \n",
            " 47  CountryIdentifier_78                               500000 non-null  uint8  \n",
            " 48  CountryIdentifier_214                              500000 non-null  uint8  \n",
            " 49  CountryIdentifier_62                               500000 non-null  uint8  \n",
            " 50  CountryIdentifier_152                              500000 non-null  uint8  \n",
            " 51  CountryIdentifier_190                              500000 non-null  uint8  \n",
            " 52  CountryIdentifier_95                               500000 non-null  uint8  \n",
            " 53  CountryIdentifier_Others                           500000 non-null  uint8  \n",
            " 54  CityIdentifier_10146.0                             500000 non-null  uint8  \n",
            " 55  CityIdentifier_61668.0                             500000 non-null  uint8  \n",
            " 56  CityIdentifier_92776.0                             500000 non-null  uint8  \n",
            " 57  CityIdentifier_39821.0                             500000 non-null  uint8  \n",
            " 58  CityIdentifier_58607.0                             500000 non-null  uint8  \n",
            " 59  CityIdentifier_145168.0                            500000 non-null  uint8  \n",
            " 60  CityIdentifier_111347.0                            500000 non-null  uint8  \n",
            " 61  CityIdentifier_140628.0                            500000 non-null  uint8  \n",
            " 62  CityIdentifier_18964.0                             500000 non-null  uint8  \n",
            " 63  CityIdentifier_166872.0                            500000 non-null  uint8  \n",
            " 64  CityIdentifier_164218.0                            500000 non-null  uint8  \n",
            " 65  CityIdentifier_101182.0                            500000 non-null  uint8  \n",
            " 66  CityIdentifier_Others                              500000 non-null  uint8  \n",
            " 67  SmartScreen_RequireAdmin                           500000 non-null  uint8  \n",
            " 68  SmartScreen_ExistsNotSet                           500000 non-null  uint8  \n",
            " 69  SmartScreen_Off                                    500000 non-null  uint8  \n",
            " 70  SmartScreen_Warn                                   500000 non-null  uint8  \n",
            " 71  SmartScreen_Others                                 500000 non-null  uint8  \n",
            " 72  Census_IsFlightingInternal_0.0                     500000 non-null  uint8  \n",
            " 73  Census_IsFlightingInternal_1.0                     500000 non-null  uint8  \n",
            " 74  Census_IsFlightingInternal_Others                  500000 non-null  uint8  \n",
            " 75  Census_IsFlightsDisabled_0.0                       500000 non-null  uint8  \n",
            " 76  Census_IsFlightsDisabled_1.0                       500000 non-null  uint8  \n",
            " 77  Census_IsFlightsDisabled_Others                    500000 non-null  uint8  \n",
            " 78  Census_ThresholdOptIn_0.0                          500000 non-null  uint8  \n",
            " 79  Census_ThresholdOptIn_1.0                          500000 non-null  uint8  \n",
            " 80  Census_ThresholdOptIn_Others                       500000 non-null  uint8  \n",
            "dtypes: float64(17), int64(13), uint8(51)\n",
            "memory usage: 162.6+ MB\n"
          ]
        }
      ]
    },
    {
      "cell_type": "code",
      "source": [
        "val_df = df_prova[df_prova['OsBuild'] == 17134].head(VALIDATION_SIZE) # validation\n",
        "\n",
        "DEV_SIZE_OsBuild = len(df_prova[df_prova['OsBuild'] == 17134]) - VALIDATION_SIZE\n",
        "\n",
        "aux1_df = df_prova[df_prova['OsBuild'] == 17134].tail(DEV_SIZE_OsBuild)\n",
        "aux2_df = df_prova[df_prova['OsBuild'] != 17134]\n",
        "\n",
        "dev_df = pd.concat([aux1_df, aux2_df]) # development = train + test\n",
        "\n",
        "# Comprobamos que las cantidades de registros del los datasets son correctos y que son únicos.\n",
        "\n",
        "print(val_df.shape)\n",
        "print(dev_df.shape)\n",
        "print(dev_df.index.nunique())"
      ],
      "metadata": {
        "colab": {
          "base_uri": "https://localhost:8080/"
        },
        "id": "E7VeF3wCdXt3",
        "outputId": "6ea4b685-cb19-4b2f-f0bd-06cdccdea870"
      },
      "execution_count": null,
      "outputs": [
        {
          "output_type": "stream",
          "name": "stdout",
          "text": [
            "(25000, 81)\n",
            "(475000, 81)\n",
            "475000\n"
          ]
        }
      ]
    },
    {
      "cell_type": "markdown",
      "source": [
        "### Preparamos los datasets para el entrenamiento"
      ],
      "metadata": {
        "id": "drbaJRJF80pp"
      }
    },
    {
      "cell_type": "code",
      "source": [
        "dev_df_X = dev_df.drop(TARGET, axis=1)\n",
        "dev_df_y = dev_df[[TARGET]]"
      ],
      "metadata": {
        "id": "CHPEqdQOejLM"
      },
      "execution_count": null,
      "outputs": []
    },
    {
      "cell_type": "code",
      "source": [
        "val_df_X = val_df.drop(TARGET, axis=1)\n",
        "val_df_y = val_df[[TARGET]]"
      ],
      "metadata": {
        "id": "rXFTQsbGfH9O"
      },
      "execution_count": null,
      "outputs": []
    },
    {
      "cell_type": "code",
      "source": [
        "print(\"Shape del dataset de development con las vvariables predictoras\", dev_df_X.shape)\n",
        "print(\"Shape del dataset de development con el target\", dev_df_y.shape)"
      ],
      "metadata": {
        "colab": {
          "base_uri": "https://localhost:8080/"
        },
        "id": "ID4z8EM_fW5X",
        "outputId": "7bf80335-5c97-4b85-afc7-41b3937e06c4"
      },
      "execution_count": null,
      "outputs": [
        {
          "output_type": "stream",
          "name": "stdout",
          "text": [
            "Shape del dataset de development con las vvariables predictoras (475000, 80)\n",
            "Shape del dataset de development con el target (475000, 1)\n"
          ]
        }
      ]
    },
    {
      "cell_type": "code",
      "source": [
        "print(\"Shape del dataset de validación con las vvariables predictoras\", val_df_X.shape)\n",
        "print(\"Shape del dataset de validación con el target\", val_df_y.shape)"
      ],
      "metadata": {
        "colab": {
          "base_uri": "https://localhost:8080/"
        },
        "id": "dUtZeNwhfXc5",
        "outputId": "60ebdfd3-5a38-4cb6-cffb-e2ed0364bd33"
      },
      "execution_count": null,
      "outputs": [
        {
          "output_type": "stream",
          "name": "stdout",
          "text": [
            "Shape del dataset de validación con las vvariables predictoras (25000, 80)\n",
            "Shape del dataset de validación con el target (25000, 1)\n"
          ]
        }
      ]
    },
    {
      "cell_type": "code",
      "source": [
        "dev_df_X.head().T"
      ],
      "metadata": {
        "colab": {
          "base_uri": "https://localhost:8080/",
          "height": 1000
        },
        "id": "z8NlZh-WfXj7",
        "outputId": "b8bdaa4a-acff-4f58-e9cc-0bacde86f980"
      },
      "execution_count": null,
      "outputs": [
        {
          "output_type": "execute_result",
          "data": {
            "text/html": [
              "\n",
              "  <div id=\"df-03965322-da36-4f86-8231-5ddd76f7c476\">\n",
              "    <div class=\"colab-df-container\">\n",
              "      <div>\n",
              "<style scoped>\n",
              "    .dataframe tbody tr th:only-of-type {\n",
              "        vertical-align: middle;\n",
              "    }\n",
              "\n",
              "    .dataframe tbody tr th {\n",
              "        vertical-align: top;\n",
              "    }\n",
              "\n",
              "    .dataframe thead th {\n",
              "        text-align: right;\n",
              "    }\n",
              "</style>\n",
              "<table border=\"1\" class=\"dataframe\">\n",
              "  <thead>\n",
              "    <tr style=\"text-align: right;\">\n",
              "      <th>MachineIdentifier</th>\n",
              "      <th>0202d1cce49c171b1c795e30b9b211f1</th>\n",
              "      <th>774a4d3cc9fd3deee2b311c27b55e282</th>\n",
              "      <th>5346e0b5b10e12d3301eb298ccfdc328</th>\n",
              "      <th>84708cf387e444b1f8f9146b1539026b</th>\n",
              "      <th>129b63106bad7e5a881c7cef6c263201</th>\n",
              "    </tr>\n",
              "  </thead>\n",
              "  <tbody>\n",
              "    <tr>\n",
              "      <th>ProductName</th>\n",
              "      <td>1.00</td>\n",
              "      <td>1.00</td>\n",
              "      <td>1.00</td>\n",
              "      <td>1.00</td>\n",
              "      <td>1.00</td>\n",
              "    </tr>\n",
              "    <tr>\n",
              "      <th>RtpStateBitfield</th>\n",
              "      <td>7.00</td>\n",
              "      <td>7.00</td>\n",
              "      <td>7.00</td>\n",
              "      <td>7.00</td>\n",
              "      <td>7.00</td>\n",
              "    </tr>\n",
              "    <tr>\n",
              "      <th>IsSxsPassiveMode</th>\n",
              "      <td>0.00</td>\n",
              "      <td>0.00</td>\n",
              "      <td>0.00</td>\n",
              "      <td>0.00</td>\n",
              "      <td>0.00</td>\n",
              "    </tr>\n",
              "    <tr>\n",
              "      <th>AVProductsInstalled</th>\n",
              "      <td>1.00</td>\n",
              "      <td>1.00</td>\n",
              "      <td>1.00</td>\n",
              "      <td>1.00</td>\n",
              "      <td>1.00</td>\n",
              "    </tr>\n",
              "    <tr>\n",
              "      <th>AVProductsEnabled</th>\n",
              "      <td>1.00</td>\n",
              "      <td>1.00</td>\n",
              "      <td>1.00</td>\n",
              "      <td>1.00</td>\n",
              "      <td>1.00</td>\n",
              "    </tr>\n",
              "    <tr>\n",
              "      <th>HasTpm</th>\n",
              "      <td>1.00</td>\n",
              "      <td>1.00</td>\n",
              "      <td>1.00</td>\n",
              "      <td>1.00</td>\n",
              "      <td>1.00</td>\n",
              "    </tr>\n",
              "    <tr>\n",
              "      <th>Processor</th>\n",
              "      <td>1.00</td>\n",
              "      <td>1.00</td>\n",
              "      <td>1.00</td>\n",
              "      <td>1.00</td>\n",
              "      <td>1.00</td>\n",
              "    </tr>\n",
              "    <tr>\n",
              "      <th>OsBuild</th>\n",
              "      <td>17,134.00</td>\n",
              "      <td>17,134.00</td>\n",
              "      <td>17,134.00</td>\n",
              "      <td>17,134.00</td>\n",
              "      <td>17,134.00</td>\n",
              "    </tr>\n",
              "    <tr>\n",
              "      <th>OsSuite</th>\n",
              "      <td>768.00</td>\n",
              "      <td>768.00</td>\n",
              "      <td>256.00</td>\n",
              "      <td>256.00</td>\n",
              "      <td>256.00</td>\n",
              "    </tr>\n",
              "    <tr>\n",
              "      <th>IeVerIdentifier</th>\n",
              "      <td>137.00</td>\n",
              "      <td>137.00</td>\n",
              "      <td>137.00</td>\n",
              "      <td>137.00</td>\n",
              "      <td>137.00</td>\n",
              "    </tr>\n",
              "    <tr>\n",
              "      <th>Firewall</th>\n",
              "      <td>1.00</td>\n",
              "      <td>1.00</td>\n",
              "      <td>1.00</td>\n",
              "      <td>1.00</td>\n",
              "      <td>1.00</td>\n",
              "    </tr>\n",
              "    <tr>\n",
              "      <th>UacLuaenable</th>\n",
              "      <td>1.00</td>\n",
              "      <td>1.00</td>\n",
              "      <td>1.00</td>\n",
              "      <td>1.00</td>\n",
              "      <td>1.00</td>\n",
              "    </tr>\n",
              "    <tr>\n",
              "      <th>Census_ProcessorCoreCount</th>\n",
              "      <td>4.00</td>\n",
              "      <td>4.00</td>\n",
              "      <td>12.00</td>\n",
              "      <td>4.00</td>\n",
              "      <td>4.00</td>\n",
              "    </tr>\n",
              "    <tr>\n",
              "      <th>Census_PrimaryDiskTotalCapacity</th>\n",
              "      <td>122,104.00</td>\n",
              "      <td>114,473.00</td>\n",
              "      <td>244,198.00</td>\n",
              "      <td>953,869.00</td>\n",
              "      <td>953,869.00</td>\n",
              "    </tr>\n",
              "    <tr>\n",
              "      <th>Census_SystemVolumeTotalCapacity</th>\n",
              "      <td>120,963.00</td>\n",
              "      <td>113,922.00</td>\n",
              "      <td>243,583.00</td>\n",
              "      <td>953,279.00</td>\n",
              "      <td>534,857.00</td>\n",
              "    </tr>\n",
              "    <tr>\n",
              "      <th>Census_HasOpticalDiskDrive</th>\n",
              "      <td>0.00</td>\n",
              "      <td>0.00</td>\n",
              "      <td>0.00</td>\n",
              "      <td>0.00</td>\n",
              "      <td>0.00</td>\n",
              "    </tr>\n",
              "    <tr>\n",
              "      <th>Census_TotalPhysicalRAM</th>\n",
              "      <td>16,384.00</td>\n",
              "      <td>16,384.00</td>\n",
              "      <td>16,384.00</td>\n",
              "      <td>10,240.00</td>\n",
              "      <td>8,192.00</td>\n",
              "    </tr>\n",
              "    <tr>\n",
              "      <th>Census_InternalPrimaryDiagonalDisplaySizeInInches</th>\n",
              "      <td>15.50</td>\n",
              "      <td>14.00</td>\n",
              "      <td>23.00</td>\n",
              "      <td>23.50</td>\n",
              "      <td>18.50</td>\n",
              "    </tr>\n",
              "    <tr>\n",
              "      <th>Census_InternalPrimaryDisplayResolutionHorizontal</th>\n",
              "      <td>1,920.00</td>\n",
              "      <td>1,366.00</td>\n",
              "      <td>1,920.00</td>\n",
              "      <td>1,600.00</td>\n",
              "      <td>1,366.00</td>\n",
              "    </tr>\n",
              "    <tr>\n",
              "      <th>Census_InternalPrimaryDisplayResolutionVertical</th>\n",
              "      <td>1,080.00</td>\n",
              "      <td>768.00</td>\n",
              "      <td>1,080.00</td>\n",
              "      <td>1,080.00</td>\n",
              "      <td>768.00</td>\n",
              "    </tr>\n",
              "    <tr>\n",
              "      <th>Census_InternalBatteryNumberOfCharges</th>\n",
              "      <td>0.00</td>\n",
              "      <td>0.00</td>\n",
              "      <td>4,294,967,295.00</td>\n",
              "      <td>4,294,967,295.00</td>\n",
              "      <td>4,294,967,295.00</td>\n",
              "    </tr>\n",
              "    <tr>\n",
              "      <th>Census_OSBuildNumber</th>\n",
              "      <td>17,134.00</td>\n",
              "      <td>17,134.00</td>\n",
              "      <td>17,134.00</td>\n",
              "      <td>17,134.00</td>\n",
              "      <td>17,134.00</td>\n",
              "    </tr>\n",
              "    <tr>\n",
              "      <th>Census_OSBuildRevision</th>\n",
              "      <td>228.00</td>\n",
              "      <td>191.00</td>\n",
              "      <td>254.00</td>\n",
              "      <td>285.00</td>\n",
              "      <td>285.00</td>\n",
              "    </tr>\n",
              "    <tr>\n",
              "      <th>Census_FirmwareVersionIdentifier</th>\n",
              "      <td>63,269.00</td>\n",
              "      <td>7,145.00</td>\n",
              "      <td>3,847.00</td>\n",
              "      <td>45,159.00</td>\n",
              "      <td>51,360.00</td>\n",
              "    </tr>\n",
              "    <tr>\n",
              "      <th>Census_IsSecureBootEnabled</th>\n",
              "      <td>1.00</td>\n",
              "      <td>0.00</td>\n",
              "      <td>1.00</td>\n",
              "      <td>0.00</td>\n",
              "      <td>1.00</td>\n",
              "    </tr>\n",
              "    <tr>\n",
              "      <th>Census_IsTouchEnabled</th>\n",
              "      <td>0.00</td>\n",
              "      <td>0.00</td>\n",
              "      <td>0.00</td>\n",
              "      <td>0.00</td>\n",
              "      <td>0.00</td>\n",
              "    </tr>\n",
              "    <tr>\n",
              "      <th>Census_IsPenCapable</th>\n",
              "      <td>0.00</td>\n",
              "      <td>0.00</td>\n",
              "      <td>0.00</td>\n",
              "      <td>0.00</td>\n",
              "      <td>0.00</td>\n",
              "    </tr>\n",
              "    <tr>\n",
              "      <th>Census_IsAlwaysOnAlwaysConnectedCapable</th>\n",
              "      <td>0.00</td>\n",
              "      <td>0.00</td>\n",
              "      <td>0.00</td>\n",
              "      <td>0.00</td>\n",
              "      <td>0.00</td>\n",
              "    </tr>\n",
              "    <tr>\n",
              "      <th>Wdft_IsGamer</th>\n",
              "      <td>1.00</td>\n",
              "      <td>-2.00</td>\n",
              "      <td>1.00</td>\n",
              "      <td>1.00</td>\n",
              "      <td>1.00</td>\n",
              "    </tr>\n",
              "    <tr>\n",
              "      <th>EngineVersion_1.1.15200.1</th>\n",
              "      <td>1.00</td>\n",
              "      <td>0.00</td>\n",
              "      <td>1.00</td>\n",
              "      <td>0.00</td>\n",
              "      <td>1.00</td>\n",
              "    </tr>\n",
              "    <tr>\n",
              "      <th>EngineVersion_1.1.15100.1</th>\n",
              "      <td>0.00</td>\n",
              "      <td>1.00</td>\n",
              "      <td>0.00</td>\n",
              "      <td>0.00</td>\n",
              "      <td>0.00</td>\n",
              "    </tr>\n",
              "    <tr>\n",
              "      <th>EngineVersion_1.1.15000.2</th>\n",
              "      <td>0.00</td>\n",
              "      <td>0.00</td>\n",
              "      <td>0.00</td>\n",
              "      <td>0.00</td>\n",
              "      <td>0.00</td>\n",
              "    </tr>\n",
              "    <tr>\n",
              "      <th>EngineVersion_1.1.14901.4</th>\n",
              "      <td>0.00</td>\n",
              "      <td>0.00</td>\n",
              "      <td>0.00</td>\n",
              "      <td>0.00</td>\n",
              "      <td>0.00</td>\n",
              "    </tr>\n",
              "    <tr>\n",
              "      <th>EngineVersion_1.1.14600.4</th>\n",
              "      <td>0.00</td>\n",
              "      <td>0.00</td>\n",
              "      <td>0.00</td>\n",
              "      <td>0.00</td>\n",
              "      <td>0.00</td>\n",
              "    </tr>\n",
              "    <tr>\n",
              "      <th>EngineVersion_1.1.14800.3</th>\n",
              "      <td>0.00</td>\n",
              "      <td>0.00</td>\n",
              "      <td>0.00</td>\n",
              "      <td>0.00</td>\n",
              "      <td>0.00</td>\n",
              "    </tr>\n",
              "    <tr>\n",
              "      <th>EngineVersion_1.1.15300.6</th>\n",
              "      <td>0.00</td>\n",
              "      <td>0.00</td>\n",
              "      <td>0.00</td>\n",
              "      <td>1.00</td>\n",
              "      <td>0.00</td>\n",
              "    </tr>\n",
              "    <tr>\n",
              "      <th>EngineVersion_1.1.14104.0</th>\n",
              "      <td>0.00</td>\n",
              "      <td>0.00</td>\n",
              "      <td>0.00</td>\n",
              "      <td>0.00</td>\n",
              "      <td>0.00</td>\n",
              "    </tr>\n",
              "    <tr>\n",
              "      <th>EngineVersion_1.1.15300.5</th>\n",
              "      <td>0.00</td>\n",
              "      <td>0.00</td>\n",
              "      <td>0.00</td>\n",
              "      <td>0.00</td>\n",
              "      <td>0.00</td>\n",
              "    </tr>\n",
              "    <tr>\n",
              "      <th>EngineVersion_Others</th>\n",
              "      <td>0.00</td>\n",
              "      <td>0.00</td>\n",
              "      <td>0.00</td>\n",
              "      <td>0.00</td>\n",
              "      <td>0.00</td>\n",
              "    </tr>\n",
              "    <tr>\n",
              "      <th>Platform_windows10</th>\n",
              "      <td>1.00</td>\n",
              "      <td>1.00</td>\n",
              "      <td>1.00</td>\n",
              "      <td>1.00</td>\n",
              "      <td>1.00</td>\n",
              "    </tr>\n",
              "    <tr>\n",
              "      <th>Platform_windows8</th>\n",
              "      <td>0.00</td>\n",
              "      <td>0.00</td>\n",
              "      <td>0.00</td>\n",
              "      <td>0.00</td>\n",
              "      <td>0.00</td>\n",
              "    </tr>\n",
              "    <tr>\n",
              "      <th>Platform_Others</th>\n",
              "      <td>0.00</td>\n",
              "      <td>0.00</td>\n",
              "      <td>0.00</td>\n",
              "      <td>0.00</td>\n",
              "      <td>0.00</td>\n",
              "    </tr>\n",
              "    <tr>\n",
              "      <th>CountryIdentifier_131</th>\n",
              "      <td>0.00</td>\n",
              "      <td>0.00</td>\n",
              "      <td>0.00</td>\n",
              "      <td>0.00</td>\n",
              "      <td>0.00</td>\n",
              "    </tr>\n",
              "    <tr>\n",
              "      <th>CountryIdentifier_135</th>\n",
              "      <td>0.00</td>\n",
              "      <td>0.00</td>\n",
              "      <td>0.00</td>\n",
              "      <td>0.00</td>\n",
              "      <td>0.00</td>\n",
              "    </tr>\n",
              "    <tr>\n",
              "      <th>CountryIdentifier_104</th>\n",
              "      <td>0.00</td>\n",
              "      <td>0.00</td>\n",
              "      <td>0.00</td>\n",
              "      <td>0.00</td>\n",
              "      <td>0.00</td>\n",
              "    </tr>\n",
              "    <tr>\n",
              "      <th>CountryIdentifier_168</th>\n",
              "      <td>0.00</td>\n",
              "      <td>0.00</td>\n",
              "      <td>0.00</td>\n",
              "      <td>0.00</td>\n",
              "      <td>0.00</td>\n",
              "    </tr>\n",
              "    <tr>\n",
              "      <th>CountryIdentifier_78</th>\n",
              "      <td>0.00</td>\n",
              "      <td>0.00</td>\n",
              "      <td>0.00</td>\n",
              "      <td>0.00</td>\n",
              "      <td>0.00</td>\n",
              "    </tr>\n",
              "    <tr>\n",
              "      <th>CountryIdentifier_214</th>\n",
              "      <td>0.00</td>\n",
              "      <td>0.00</td>\n",
              "      <td>0.00</td>\n",
              "      <td>0.00</td>\n",
              "      <td>0.00</td>\n",
              "    </tr>\n",
              "    <tr>\n",
              "      <th>CountryIdentifier_62</th>\n",
              "      <td>0.00</td>\n",
              "      <td>0.00</td>\n",
              "      <td>0.00</td>\n",
              "      <td>0.00</td>\n",
              "      <td>0.00</td>\n",
              "    </tr>\n",
              "    <tr>\n",
              "      <th>CountryIdentifier_152</th>\n",
              "      <td>0.00</td>\n",
              "      <td>0.00</td>\n",
              "      <td>0.00</td>\n",
              "      <td>0.00</td>\n",
              "      <td>0.00</td>\n",
              "    </tr>\n",
              "    <tr>\n",
              "      <th>CountryIdentifier_190</th>\n",
              "      <td>0.00</td>\n",
              "      <td>0.00</td>\n",
              "      <td>0.00</td>\n",
              "      <td>0.00</td>\n",
              "      <td>0.00</td>\n",
              "    </tr>\n",
              "    <tr>\n",
              "      <th>CountryIdentifier_95</th>\n",
              "      <td>0.00</td>\n",
              "      <td>0.00</td>\n",
              "      <td>0.00</td>\n",
              "      <td>0.00</td>\n",
              "      <td>0.00</td>\n",
              "    </tr>\n",
              "    <tr>\n",
              "      <th>CountryIdentifier_Others</th>\n",
              "      <td>1.00</td>\n",
              "      <td>1.00</td>\n",
              "      <td>1.00</td>\n",
              "      <td>1.00</td>\n",
              "      <td>1.00</td>\n",
              "    </tr>\n",
              "    <tr>\n",
              "      <th>CityIdentifier_10146.0</th>\n",
              "      <td>0.00</td>\n",
              "      <td>0.00</td>\n",
              "      <td>0.00</td>\n",
              "      <td>0.00</td>\n",
              "      <td>0.00</td>\n",
              "    </tr>\n",
              "    <tr>\n",
              "      <th>CityIdentifier_61668.0</th>\n",
              "      <td>0.00</td>\n",
              "      <td>0.00</td>\n",
              "      <td>0.00</td>\n",
              "      <td>0.00</td>\n",
              "      <td>0.00</td>\n",
              "    </tr>\n",
              "    <tr>\n",
              "      <th>CityIdentifier_92776.0</th>\n",
              "      <td>0.00</td>\n",
              "      <td>0.00</td>\n",
              "      <td>0.00</td>\n",
              "      <td>0.00</td>\n",
              "      <td>0.00</td>\n",
              "    </tr>\n",
              "    <tr>\n",
              "      <th>CityIdentifier_39821.0</th>\n",
              "      <td>1.00</td>\n",
              "      <td>0.00</td>\n",
              "      <td>0.00</td>\n",
              "      <td>0.00</td>\n",
              "      <td>0.00</td>\n",
              "    </tr>\n",
              "    <tr>\n",
              "      <th>CityIdentifier_58607.0</th>\n",
              "      <td>0.00</td>\n",
              "      <td>0.00</td>\n",
              "      <td>0.00</td>\n",
              "      <td>0.00</td>\n",
              "      <td>0.00</td>\n",
              "    </tr>\n",
              "    <tr>\n",
              "      <th>CityIdentifier_145168.0</th>\n",
              "      <td>0.00</td>\n",
              "      <td>0.00</td>\n",
              "      <td>0.00</td>\n",
              "      <td>0.00</td>\n",
              "      <td>0.00</td>\n",
              "    </tr>\n",
              "    <tr>\n",
              "      <th>CityIdentifier_111347.0</th>\n",
              "      <td>0.00</td>\n",
              "      <td>0.00</td>\n",
              "      <td>0.00</td>\n",
              "      <td>0.00</td>\n",
              "      <td>0.00</td>\n",
              "    </tr>\n",
              "    <tr>\n",
              "      <th>CityIdentifier_140628.0</th>\n",
              "      <td>0.00</td>\n",
              "      <td>0.00</td>\n",
              "      <td>0.00</td>\n",
              "      <td>0.00</td>\n",
              "      <td>0.00</td>\n",
              "    </tr>\n",
              "    <tr>\n",
              "      <th>CityIdentifier_18964.0</th>\n",
              "      <td>0.00</td>\n",
              "      <td>0.00</td>\n",
              "      <td>0.00</td>\n",
              "      <td>0.00</td>\n",
              "      <td>0.00</td>\n",
              "    </tr>\n",
              "    <tr>\n",
              "      <th>CityIdentifier_166872.0</th>\n",
              "      <td>0.00</td>\n",
              "      <td>0.00</td>\n",
              "      <td>0.00</td>\n",
              "      <td>0.00</td>\n",
              "      <td>0.00</td>\n",
              "    </tr>\n",
              "    <tr>\n",
              "      <th>CityIdentifier_164218.0</th>\n",
              "      <td>0.00</td>\n",
              "      <td>0.00</td>\n",
              "      <td>0.00</td>\n",
              "      <td>0.00</td>\n",
              "      <td>0.00</td>\n",
              "    </tr>\n",
              "    <tr>\n",
              "      <th>CityIdentifier_101182.0</th>\n",
              "      <td>0.00</td>\n",
              "      <td>0.00</td>\n",
              "      <td>0.00</td>\n",
              "      <td>0.00</td>\n",
              "      <td>0.00</td>\n",
              "    </tr>\n",
              "    <tr>\n",
              "      <th>CityIdentifier_Others</th>\n",
              "      <td>0.00</td>\n",
              "      <td>1.00</td>\n",
              "      <td>1.00</td>\n",
              "      <td>1.00</td>\n",
              "      <td>1.00</td>\n",
              "    </tr>\n",
              "    <tr>\n",
              "      <th>SmartScreen_RequireAdmin</th>\n",
              "      <td>1.00</td>\n",
              "      <td>0.00</td>\n",
              "      <td>0.00</td>\n",
              "      <td>0.00</td>\n",
              "      <td>0.00</td>\n",
              "    </tr>\n",
              "    <tr>\n",
              "      <th>SmartScreen_ExistsNotSet</th>\n",
              "      <td>0.00</td>\n",
              "      <td>0.00</td>\n",
              "      <td>0.00</td>\n",
              "      <td>0.00</td>\n",
              "      <td>0.00</td>\n",
              "    </tr>\n",
              "    <tr>\n",
              "      <th>SmartScreen_Off</th>\n",
              "      <td>0.00</td>\n",
              "      <td>0.00</td>\n",
              "      <td>0.00</td>\n",
              "      <td>0.00</td>\n",
              "      <td>0.00</td>\n",
              "    </tr>\n",
              "    <tr>\n",
              "      <th>SmartScreen_Warn</th>\n",
              "      <td>0.00</td>\n",
              "      <td>0.00</td>\n",
              "      <td>0.00</td>\n",
              "      <td>0.00</td>\n",
              "      <td>0.00</td>\n",
              "    </tr>\n",
              "    <tr>\n",
              "      <th>SmartScreen_Others</th>\n",
              "      <td>0.00</td>\n",
              "      <td>1.00</td>\n",
              "      <td>1.00</td>\n",
              "      <td>1.00</td>\n",
              "      <td>1.00</td>\n",
              "    </tr>\n",
              "    <tr>\n",
              "      <th>Census_IsFlightingInternal_0.0</th>\n",
              "      <td>0.00</td>\n",
              "      <td>0.00</td>\n",
              "      <td>0.00</td>\n",
              "      <td>0.00</td>\n",
              "      <td>0.00</td>\n",
              "    </tr>\n",
              "    <tr>\n",
              "      <th>Census_IsFlightingInternal_1.0</th>\n",
              "      <td>0.00</td>\n",
              "      <td>0.00</td>\n",
              "      <td>0.00</td>\n",
              "      <td>0.00</td>\n",
              "      <td>0.00</td>\n",
              "    </tr>\n",
              "    <tr>\n",
              "      <th>Census_IsFlightingInternal_Others</th>\n",
              "      <td>1.00</td>\n",
              "      <td>1.00</td>\n",
              "      <td>1.00</td>\n",
              "      <td>1.00</td>\n",
              "      <td>1.00</td>\n",
              "    </tr>\n",
              "    <tr>\n",
              "      <th>Census_IsFlightsDisabled_0.0</th>\n",
              "      <td>1.00</td>\n",
              "      <td>1.00</td>\n",
              "      <td>1.00</td>\n",
              "      <td>1.00</td>\n",
              "      <td>1.00</td>\n",
              "    </tr>\n",
              "    <tr>\n",
              "      <th>Census_IsFlightsDisabled_1.0</th>\n",
              "      <td>0.00</td>\n",
              "      <td>0.00</td>\n",
              "      <td>0.00</td>\n",
              "      <td>0.00</td>\n",
              "      <td>0.00</td>\n",
              "    </tr>\n",
              "    <tr>\n",
              "      <th>Census_IsFlightsDisabled_Others</th>\n",
              "      <td>0.00</td>\n",
              "      <td>0.00</td>\n",
              "      <td>0.00</td>\n",
              "      <td>0.00</td>\n",
              "      <td>0.00</td>\n",
              "    </tr>\n",
              "    <tr>\n",
              "      <th>Census_ThresholdOptIn_0.0</th>\n",
              "      <td>0.00</td>\n",
              "      <td>0.00</td>\n",
              "      <td>0.00</td>\n",
              "      <td>0.00</td>\n",
              "      <td>0.00</td>\n",
              "    </tr>\n",
              "    <tr>\n",
              "      <th>Census_ThresholdOptIn_1.0</th>\n",
              "      <td>0.00</td>\n",
              "      <td>0.00</td>\n",
              "      <td>0.00</td>\n",
              "      <td>0.00</td>\n",
              "      <td>0.00</td>\n",
              "    </tr>\n",
              "    <tr>\n",
              "      <th>Census_ThresholdOptIn_Others</th>\n",
              "      <td>1.00</td>\n",
              "      <td>1.00</td>\n",
              "      <td>1.00</td>\n",
              "      <td>1.00</td>\n",
              "      <td>1.00</td>\n",
              "    </tr>\n",
              "  </tbody>\n",
              "</table>\n",
              "</div>\n",
              "      <button class=\"colab-df-convert\" onclick=\"convertToInteractive('df-03965322-da36-4f86-8231-5ddd76f7c476')\"\n",
              "              title=\"Convert this dataframe to an interactive table.\"\n",
              "              style=\"display:none;\">\n",
              "        \n",
              "  <svg xmlns=\"http://www.w3.org/2000/svg\" height=\"24px\"viewBox=\"0 0 24 24\"\n",
              "       width=\"24px\">\n",
              "    <path d=\"M0 0h24v24H0V0z\" fill=\"none\"/>\n",
              "    <path d=\"M18.56 5.44l.94 2.06.94-2.06 2.06-.94-2.06-.94-.94-2.06-.94 2.06-2.06.94zm-11 1L8.5 8.5l.94-2.06 2.06-.94-2.06-.94L8.5 2.5l-.94 2.06-2.06.94zm10 10l.94 2.06.94-2.06 2.06-.94-2.06-.94-.94-2.06-.94 2.06-2.06.94z\"/><path d=\"M17.41 7.96l-1.37-1.37c-.4-.4-.92-.59-1.43-.59-.52 0-1.04.2-1.43.59L10.3 9.45l-7.72 7.72c-.78.78-.78 2.05 0 2.83L4 21.41c.39.39.9.59 1.41.59.51 0 1.02-.2 1.41-.59l7.78-7.78 2.81-2.81c.8-.78.8-2.07 0-2.86zM5.41 20L4 18.59l7.72-7.72 1.47 1.35L5.41 20z\"/>\n",
              "  </svg>\n",
              "      </button>\n",
              "      \n",
              "  <style>\n",
              "    .colab-df-container {\n",
              "      display:flex;\n",
              "      flex-wrap:wrap;\n",
              "      gap: 12px;\n",
              "    }\n",
              "\n",
              "    .colab-df-convert {\n",
              "      background-color: #E8F0FE;\n",
              "      border: none;\n",
              "      border-radius: 50%;\n",
              "      cursor: pointer;\n",
              "      display: none;\n",
              "      fill: #1967D2;\n",
              "      height: 32px;\n",
              "      padding: 0 0 0 0;\n",
              "      width: 32px;\n",
              "    }\n",
              "\n",
              "    .colab-df-convert:hover {\n",
              "      background-color: #E2EBFA;\n",
              "      box-shadow: 0px 1px 2px rgba(60, 64, 67, 0.3), 0px 1px 3px 1px rgba(60, 64, 67, 0.15);\n",
              "      fill: #174EA6;\n",
              "    }\n",
              "\n",
              "    [theme=dark] .colab-df-convert {\n",
              "      background-color: #3B4455;\n",
              "      fill: #D2E3FC;\n",
              "    }\n",
              "\n",
              "    [theme=dark] .colab-df-convert:hover {\n",
              "      background-color: #434B5C;\n",
              "      box-shadow: 0px 1px 3px 1px rgba(0, 0, 0, 0.15);\n",
              "      filter: drop-shadow(0px 1px 2px rgba(0, 0, 0, 0.3));\n",
              "      fill: #FFFFFF;\n",
              "    }\n",
              "  </style>\n",
              "\n",
              "      <script>\n",
              "        const buttonEl =\n",
              "          document.querySelector('#df-03965322-da36-4f86-8231-5ddd76f7c476 button.colab-df-convert');\n",
              "        buttonEl.style.display =\n",
              "          google.colab.kernel.accessAllowed ? 'block' : 'none';\n",
              "\n",
              "        async function convertToInteractive(key) {\n",
              "          const element = document.querySelector('#df-03965322-da36-4f86-8231-5ddd76f7c476');\n",
              "          const dataTable =\n",
              "            await google.colab.kernel.invokeFunction('convertToInteractive',\n",
              "                                                     [key], {});\n",
              "          if (!dataTable) return;\n",
              "\n",
              "          const docLinkHtml = 'Like what you see? Visit the ' +\n",
              "            '<a target=\"_blank\" href=https://colab.research.google.com/notebooks/data_table.ipynb>data table notebook</a>'\n",
              "            + ' to learn more about interactive tables.';\n",
              "          element.innerHTML = '';\n",
              "          dataTable['output_type'] = 'display_data';\n",
              "          await google.colab.output.renderOutput(dataTable, element);\n",
              "          const docLink = document.createElement('div');\n",
              "          docLink.innerHTML = docLinkHtml;\n",
              "          element.appendChild(docLink);\n",
              "        }\n",
              "      </script>\n",
              "    </div>\n",
              "  </div>\n",
              "  "
            ],
            "text/plain": [
              "MachineIdentifier                                  0202d1cce49c171b1c795e30b9b211f1  ...  129b63106bad7e5a881c7cef6c263201\n",
              "ProductName                                                                    1.00  ...                              1.00\n",
              "RtpStateBitfield                                                               7.00  ...                              7.00\n",
              "IsSxsPassiveMode                                                               0.00  ...                              0.00\n",
              "AVProductsInstalled                                                            1.00  ...                              1.00\n",
              "AVProductsEnabled                                                              1.00  ...                              1.00\n",
              "HasTpm                                                                         1.00  ...                              1.00\n",
              "Processor                                                                      1.00  ...                              1.00\n",
              "OsBuild                                                                   17,134.00  ...                         17,134.00\n",
              "OsSuite                                                                      768.00  ...                            256.00\n",
              "IeVerIdentifier                                                              137.00  ...                            137.00\n",
              "Firewall                                                                       1.00  ...                              1.00\n",
              "UacLuaenable                                                                   1.00  ...                              1.00\n",
              "Census_ProcessorCoreCount                                                      4.00  ...                              4.00\n",
              "Census_PrimaryDiskTotalCapacity                                          122,104.00  ...                        953,869.00\n",
              "Census_SystemVolumeTotalCapacity                                         120,963.00  ...                        534,857.00\n",
              "Census_HasOpticalDiskDrive                                                     0.00  ...                              0.00\n",
              "Census_TotalPhysicalRAM                                                   16,384.00  ...                          8,192.00\n",
              "Census_InternalPrimaryDiagonalDisplaySizeInInches                             15.50  ...                             18.50\n",
              "Census_InternalPrimaryDisplayResolutionHorizontal                          1,920.00  ...                          1,366.00\n",
              "Census_InternalPrimaryDisplayResolutionVertical                            1,080.00  ...                            768.00\n",
              "Census_InternalBatteryNumberOfCharges                                          0.00  ...                  4,294,967,295.00\n",
              "Census_OSBuildNumber                                                      17,134.00  ...                         17,134.00\n",
              "Census_OSBuildRevision                                                       228.00  ...                            285.00\n",
              "Census_FirmwareVersionIdentifier                                          63,269.00  ...                         51,360.00\n",
              "Census_IsSecureBootEnabled                                                     1.00  ...                              1.00\n",
              "Census_IsTouchEnabled                                                          0.00  ...                              0.00\n",
              "Census_IsPenCapable                                                            0.00  ...                              0.00\n",
              "Census_IsAlwaysOnAlwaysConnectedCapable                                        0.00  ...                              0.00\n",
              "Wdft_IsGamer                                                                   1.00  ...                              1.00\n",
              "EngineVersion_1.1.15200.1                                                      1.00  ...                              1.00\n",
              "EngineVersion_1.1.15100.1                                                      0.00  ...                              0.00\n",
              "EngineVersion_1.1.15000.2                                                      0.00  ...                              0.00\n",
              "EngineVersion_1.1.14901.4                                                      0.00  ...                              0.00\n",
              "EngineVersion_1.1.14600.4                                                      0.00  ...                              0.00\n",
              "EngineVersion_1.1.14800.3                                                      0.00  ...                              0.00\n",
              "EngineVersion_1.1.15300.6                                                      0.00  ...                              0.00\n",
              "EngineVersion_1.1.14104.0                                                      0.00  ...                              0.00\n",
              "EngineVersion_1.1.15300.5                                                      0.00  ...                              0.00\n",
              "EngineVersion_Others                                                           0.00  ...                              0.00\n",
              "Platform_windows10                                                             1.00  ...                              1.00\n",
              "Platform_windows8                                                              0.00  ...                              0.00\n",
              "Platform_Others                                                                0.00  ...                              0.00\n",
              "CountryIdentifier_131                                                          0.00  ...                              0.00\n",
              "CountryIdentifier_135                                                          0.00  ...                              0.00\n",
              "CountryIdentifier_104                                                          0.00  ...                              0.00\n",
              "CountryIdentifier_168                                                          0.00  ...                              0.00\n",
              "CountryIdentifier_78                                                           0.00  ...                              0.00\n",
              "CountryIdentifier_214                                                          0.00  ...                              0.00\n",
              "CountryIdentifier_62                                                           0.00  ...                              0.00\n",
              "CountryIdentifier_152                                                          0.00  ...                              0.00\n",
              "CountryIdentifier_190                                                          0.00  ...                              0.00\n",
              "CountryIdentifier_95                                                           0.00  ...                              0.00\n",
              "CountryIdentifier_Others                                                       1.00  ...                              1.00\n",
              "CityIdentifier_10146.0                                                         0.00  ...                              0.00\n",
              "CityIdentifier_61668.0                                                         0.00  ...                              0.00\n",
              "CityIdentifier_92776.0                                                         0.00  ...                              0.00\n",
              "CityIdentifier_39821.0                                                         1.00  ...                              0.00\n",
              "CityIdentifier_58607.0                                                         0.00  ...                              0.00\n",
              "CityIdentifier_145168.0                                                        0.00  ...                              0.00\n",
              "CityIdentifier_111347.0                                                        0.00  ...                              0.00\n",
              "CityIdentifier_140628.0                                                        0.00  ...                              0.00\n",
              "CityIdentifier_18964.0                                                         0.00  ...                              0.00\n",
              "CityIdentifier_166872.0                                                        0.00  ...                              0.00\n",
              "CityIdentifier_164218.0                                                        0.00  ...                              0.00\n",
              "CityIdentifier_101182.0                                                        0.00  ...                              0.00\n",
              "CityIdentifier_Others                                                          0.00  ...                              1.00\n",
              "SmartScreen_RequireAdmin                                                       1.00  ...                              0.00\n",
              "SmartScreen_ExistsNotSet                                                       0.00  ...                              0.00\n",
              "SmartScreen_Off                                                                0.00  ...                              0.00\n",
              "SmartScreen_Warn                                                               0.00  ...                              0.00\n",
              "SmartScreen_Others                                                             0.00  ...                              1.00\n",
              "Census_IsFlightingInternal_0.0                                                 0.00  ...                              0.00\n",
              "Census_IsFlightingInternal_1.0                                                 0.00  ...                              0.00\n",
              "Census_IsFlightingInternal_Others                                              1.00  ...                              1.00\n",
              "Census_IsFlightsDisabled_0.0                                                   1.00  ...                              1.00\n",
              "Census_IsFlightsDisabled_1.0                                                   0.00  ...                              0.00\n",
              "Census_IsFlightsDisabled_Others                                                0.00  ...                              0.00\n",
              "Census_ThresholdOptIn_0.0                                                      0.00  ...                              0.00\n",
              "Census_ThresholdOptIn_1.0                                                      0.00  ...                              0.00\n",
              "Census_ThresholdOptIn_Others                                                   1.00  ...                              1.00\n",
              "\n",
              "[80 rows x 5 columns]"
            ]
          },
          "metadata": {},
          "execution_count": 700
        }
      ]
    },
    {
      "cell_type": "code",
      "source": [],
      "metadata": {
        "id": "aCbvINyogLWo"
      },
      "execution_count": null,
      "outputs": []
    },
    {
      "cell_type": "markdown",
      "source": [
        "### Random Holdout"
      ],
      "metadata": {
        "id": "U7N5qfnrgMlH"
      }
    },
    {
      "cell_type": "code",
      "source": [
        "len(dev_df_X)"
      ],
      "metadata": {
        "colab": {
          "base_uri": "https://localhost:8080/"
        },
        "id": "uw5fG75FgMuH",
        "outputId": "0f6dfab0-12df-4fcb-dc82-405583d224e5"
      },
      "execution_count": null,
      "outputs": [
        {
          "output_type": "execute_result",
          "data": {
            "text/plain": [
              "475000"
            ]
          },
          "metadata": {},
          "execution_count": 701
        }
      ]
    },
    {
      "cell_type": "code",
      "source": [
        "X_train, X_test, y_train, y_test = model_selection.train_test_split(\n",
        "                                        dev_df_X, # X\n",
        "                                        dev_df_y, # y\n",
        "                                        test_size = 0.1, # tamaño del split aleatorio\n",
        "                                        random_state = 42\n",
        "                                     )"
      ],
      "metadata": {
        "id": "bSKUbVY0gM3r"
      },
      "execution_count": null,
      "outputs": []
    },
    {
      "cell_type": "code",
      "source": [
        "X_train.info(verbose=False)"
      ],
      "metadata": {
        "colab": {
          "base_uri": "https://localhost:8080/"
        },
        "id": "SVJx8BnFh0rC",
        "outputId": "c668ddc7-4c4a-49b2-dbbd-9bc4ff29fec2"
      },
      "execution_count": null,
      "outputs": [
        {
          "output_type": "stream",
          "name": "stdout",
          "text": [
            "<class 'pandas.core.frame.DataFrame'>\n",
            "Index: 427500 entries, b5b98919ffe7e4817d12ad94421c8e3b to 4a9c6333603ac399948e345af714e048\n",
            "Columns: 80 entries, ProductName to Census_ThresholdOptIn_Others\n",
            "dtypes: float64(17), int64(12), uint8(51)\n",
            "memory usage: 118.6+ MB\n"
          ]
        }
      ]
    },
    {
      "cell_type": "code",
      "source": [
        "X_test.info(verbose=False)"
      ],
      "metadata": {
        "colab": {
          "base_uri": "https://localhost:8080/"
        },
        "id": "vKm3X3lIh55j",
        "outputId": "6c9154de-49a8-4285-e6dd-c9be18ec1b74"
      },
      "execution_count": null,
      "outputs": [
        {
          "output_type": "stream",
          "name": "stdout",
          "text": [
            "<class 'pandas.core.frame.DataFrame'>\n",
            "Index: 47500 entries, b14e937a65094e3daaac80167c3bd8f3 to 44104384ab66c942f621a0ef5628b971\n",
            "Columns: 80 entries, ProductName to Census_ThresholdOptIn_Others\n",
            "dtypes: float64(17), int64(12), uint8(51)\n",
            "memory usage: 13.2+ MB\n"
          ]
        }
      ]
    },
    {
      "cell_type": "markdown",
      "source": [
        "Comprobamos distribuciones de train y test"
      ],
      "metadata": {
        "id": "e6P4duh8iJ4C"
      }
    },
    {
      "cell_type": "code",
      "source": [
        "X_train.describe().T.head(10)"
      ],
      "metadata": {
        "colab": {
          "base_uri": "https://localhost:8080/",
          "height": 363
        },
        "id": "RKyCgGMDiPFC",
        "outputId": "4c7be207-b271-4fbd-fa5b-ab3ad62f1c9e"
      },
      "execution_count": null,
      "outputs": [
        {
          "output_type": "execute_result",
          "data": {
            "text/html": [
              "\n",
              "  <div id=\"df-df10fe53-5d1f-49b8-897e-02cfa2dca0a9\">\n",
              "    <div class=\"colab-df-container\">\n",
              "      <div>\n",
              "<style scoped>\n",
              "    .dataframe tbody tr th:only-of-type {\n",
              "        vertical-align: middle;\n",
              "    }\n",
              "\n",
              "    .dataframe tbody tr th {\n",
              "        vertical-align: top;\n",
              "    }\n",
              "\n",
              "    .dataframe thead th {\n",
              "        text-align: right;\n",
              "    }\n",
              "</style>\n",
              "<table border=\"1\" class=\"dataframe\">\n",
              "  <thead>\n",
              "    <tr style=\"text-align: right;\">\n",
              "      <th></th>\n",
              "      <th>count</th>\n",
              "      <th>mean</th>\n",
              "      <th>std</th>\n",
              "      <th>min</th>\n",
              "      <th>25%</th>\n",
              "      <th>50%</th>\n",
              "      <th>75%</th>\n",
              "      <th>max</th>\n",
              "    </tr>\n",
              "  </thead>\n",
              "  <tbody>\n",
              "    <tr>\n",
              "      <th>ProductName</th>\n",
              "      <td>427,500.00</td>\n",
              "      <td>0.99</td>\n",
              "      <td>0.11</td>\n",
              "      <td>0.00</td>\n",
              "      <td>1.00</td>\n",
              "      <td>1.00</td>\n",
              "      <td>1.00</td>\n",
              "      <td>1.00</td>\n",
              "    </tr>\n",
              "    <tr>\n",
              "      <th>RtpStateBitfield</th>\n",
              "      <td>427,500.00</td>\n",
              "      <td>6.81</td>\n",
              "      <td>1.15</td>\n",
              "      <td>-2.00</td>\n",
              "      <td>7.00</td>\n",
              "      <td>7.00</td>\n",
              "      <td>7.00</td>\n",
              "      <td>35.00</td>\n",
              "    </tr>\n",
              "    <tr>\n",
              "      <th>IsSxsPassiveMode</th>\n",
              "      <td>427,500.00</td>\n",
              "      <td>0.02</td>\n",
              "      <td>0.13</td>\n",
              "      <td>0.00</td>\n",
              "      <td>0.00</td>\n",
              "      <td>0.00</td>\n",
              "      <td>0.00</td>\n",
              "      <td>1.00</td>\n",
              "    </tr>\n",
              "    <tr>\n",
              "      <th>AVProductsInstalled</th>\n",
              "      <td>427,500.00</td>\n",
              "      <td>1.32</td>\n",
              "      <td>0.56</td>\n",
              "      <td>-2.00</td>\n",
              "      <td>1.00</td>\n",
              "      <td>1.00</td>\n",
              "      <td>2.00</td>\n",
              "      <td>5.00</td>\n",
              "    </tr>\n",
              "    <tr>\n",
              "      <th>AVProductsEnabled</th>\n",
              "      <td>427,500.00</td>\n",
              "      <td>1.01</td>\n",
              "      <td>0.25</td>\n",
              "      <td>-2.00</td>\n",
              "      <td>1.00</td>\n",
              "      <td>1.00</td>\n",
              "      <td>1.00</td>\n",
              "      <td>4.00</td>\n",
              "    </tr>\n",
              "    <tr>\n",
              "      <th>HasTpm</th>\n",
              "      <td>427,500.00</td>\n",
              "      <td>0.99</td>\n",
              "      <td>0.11</td>\n",
              "      <td>0.00</td>\n",
              "      <td>1.00</td>\n",
              "      <td>1.00</td>\n",
              "      <td>1.00</td>\n",
              "      <td>1.00</td>\n",
              "    </tr>\n",
              "    <tr>\n",
              "      <th>Processor</th>\n",
              "      <td>427,500.00</td>\n",
              "      <td>0.91</td>\n",
              "      <td>0.29</td>\n",
              "      <td>0.00</td>\n",
              "      <td>1.00</td>\n",
              "      <td>1.00</td>\n",
              "      <td>1.00</td>\n",
              "      <td>1.00</td>\n",
              "    </tr>\n",
              "    <tr>\n",
              "      <th>OsBuild</th>\n",
              "      <td>427,500.00</td>\n",
              "      <td>15,651.37</td>\n",
              "      <td>2,222.10</td>\n",
              "      <td>7,600.00</td>\n",
              "      <td>15,063.00</td>\n",
              "      <td>16,299.00</td>\n",
              "      <td>17,134.00</td>\n",
              "      <td>18,242.00</td>\n",
              "    </tr>\n",
              "    <tr>\n",
              "      <th>OsSuite</th>\n",
              "      <td>427,500.00</td>\n",
              "      <td>576.49</td>\n",
              "      <td>247.75</td>\n",
              "      <td>16.00</td>\n",
              "      <td>256.00</td>\n",
              "      <td>768.00</td>\n",
              "      <td>768.00</td>\n",
              "      <td>784.00</td>\n",
              "    </tr>\n",
              "    <tr>\n",
              "      <th>IeVerIdentifier</th>\n",
              "      <td>427,500.00</td>\n",
              "      <td>125.30</td>\n",
              "      <td>44.70</td>\n",
              "      <td>-2.00</td>\n",
              "      <td>108.00</td>\n",
              "      <td>117.00</td>\n",
              "      <td>137.00</td>\n",
              "      <td>429.00</td>\n",
              "    </tr>\n",
              "  </tbody>\n",
              "</table>\n",
              "</div>\n",
              "      <button class=\"colab-df-convert\" onclick=\"convertToInteractive('df-df10fe53-5d1f-49b8-897e-02cfa2dca0a9')\"\n",
              "              title=\"Convert this dataframe to an interactive table.\"\n",
              "              style=\"display:none;\">\n",
              "        \n",
              "  <svg xmlns=\"http://www.w3.org/2000/svg\" height=\"24px\"viewBox=\"0 0 24 24\"\n",
              "       width=\"24px\">\n",
              "    <path d=\"M0 0h24v24H0V0z\" fill=\"none\"/>\n",
              "    <path d=\"M18.56 5.44l.94 2.06.94-2.06 2.06-.94-2.06-.94-.94-2.06-.94 2.06-2.06.94zm-11 1L8.5 8.5l.94-2.06 2.06-.94-2.06-.94L8.5 2.5l-.94 2.06-2.06.94zm10 10l.94 2.06.94-2.06 2.06-.94-2.06-.94-.94-2.06-.94 2.06-2.06.94z\"/><path d=\"M17.41 7.96l-1.37-1.37c-.4-.4-.92-.59-1.43-.59-.52 0-1.04.2-1.43.59L10.3 9.45l-7.72 7.72c-.78.78-.78 2.05 0 2.83L4 21.41c.39.39.9.59 1.41.59.51 0 1.02-.2 1.41-.59l7.78-7.78 2.81-2.81c.8-.78.8-2.07 0-2.86zM5.41 20L4 18.59l7.72-7.72 1.47 1.35L5.41 20z\"/>\n",
              "  </svg>\n",
              "      </button>\n",
              "      \n",
              "  <style>\n",
              "    .colab-df-container {\n",
              "      display:flex;\n",
              "      flex-wrap:wrap;\n",
              "      gap: 12px;\n",
              "    }\n",
              "\n",
              "    .colab-df-convert {\n",
              "      background-color: #E8F0FE;\n",
              "      border: none;\n",
              "      border-radius: 50%;\n",
              "      cursor: pointer;\n",
              "      display: none;\n",
              "      fill: #1967D2;\n",
              "      height: 32px;\n",
              "      padding: 0 0 0 0;\n",
              "      width: 32px;\n",
              "    }\n",
              "\n",
              "    .colab-df-convert:hover {\n",
              "      background-color: #E2EBFA;\n",
              "      box-shadow: 0px 1px 2px rgba(60, 64, 67, 0.3), 0px 1px 3px 1px rgba(60, 64, 67, 0.15);\n",
              "      fill: #174EA6;\n",
              "    }\n",
              "\n",
              "    [theme=dark] .colab-df-convert {\n",
              "      background-color: #3B4455;\n",
              "      fill: #D2E3FC;\n",
              "    }\n",
              "\n",
              "    [theme=dark] .colab-df-convert:hover {\n",
              "      background-color: #434B5C;\n",
              "      box-shadow: 0px 1px 3px 1px rgba(0, 0, 0, 0.15);\n",
              "      filter: drop-shadow(0px 1px 2px rgba(0, 0, 0, 0.3));\n",
              "      fill: #FFFFFF;\n",
              "    }\n",
              "  </style>\n",
              "\n",
              "      <script>\n",
              "        const buttonEl =\n",
              "          document.querySelector('#df-df10fe53-5d1f-49b8-897e-02cfa2dca0a9 button.colab-df-convert');\n",
              "        buttonEl.style.display =\n",
              "          google.colab.kernel.accessAllowed ? 'block' : 'none';\n",
              "\n",
              "        async function convertToInteractive(key) {\n",
              "          const element = document.querySelector('#df-df10fe53-5d1f-49b8-897e-02cfa2dca0a9');\n",
              "          const dataTable =\n",
              "            await google.colab.kernel.invokeFunction('convertToInteractive',\n",
              "                                                     [key], {});\n",
              "          if (!dataTable) return;\n",
              "\n",
              "          const docLinkHtml = 'Like what you see? Visit the ' +\n",
              "            '<a target=\"_blank\" href=https://colab.research.google.com/notebooks/data_table.ipynb>data table notebook</a>'\n",
              "            + ' to learn more about interactive tables.';\n",
              "          element.innerHTML = '';\n",
              "          dataTable['output_type'] = 'display_data';\n",
              "          await google.colab.output.renderOutput(dataTable, element);\n",
              "          const docLink = document.createElement('div');\n",
              "          docLink.innerHTML = docLinkHtml;\n",
              "          element.appendChild(docLink);\n",
              "        }\n",
              "      </script>\n",
              "    </div>\n",
              "  </div>\n",
              "  "
            ],
            "text/plain": [
              "                         count      mean      std  ...       50%       75%       max\n",
              "ProductName         427,500.00      0.99     0.11  ...      1.00      1.00      1.00\n",
              "RtpStateBitfield    427,500.00      6.81     1.15  ...      7.00      7.00     35.00\n",
              "IsSxsPassiveMode    427,500.00      0.02     0.13  ...      0.00      0.00      1.00\n",
              "AVProductsInstalled 427,500.00      1.32     0.56  ...      1.00      2.00      5.00\n",
              "AVProductsEnabled   427,500.00      1.01     0.25  ...      1.00      1.00      4.00\n",
              "HasTpm              427,500.00      0.99     0.11  ...      1.00      1.00      1.00\n",
              "Processor           427,500.00      0.91     0.29  ...      1.00      1.00      1.00\n",
              "OsBuild             427,500.00 15,651.37 2,222.10  ... 16,299.00 17,134.00 18,242.00\n",
              "OsSuite             427,500.00    576.49   247.75  ...    768.00    768.00    784.00\n",
              "IeVerIdentifier     427,500.00    125.30    44.70  ...    117.00    137.00    429.00\n",
              "\n",
              "[10 rows x 8 columns]"
            ]
          },
          "metadata": {},
          "execution_count": 705
        }
      ]
    },
    {
      "cell_type": "code",
      "source": [
        "X_test.describe().T.head(10)"
      ],
      "metadata": {
        "colab": {
          "base_uri": "https://localhost:8080/",
          "height": 363
        },
        "id": "S3FYUCMCiZWq",
        "outputId": "9514abe9-3677-4329-905e-3227e3bdbe39"
      },
      "execution_count": null,
      "outputs": [
        {
          "output_type": "execute_result",
          "data": {
            "text/html": [
              "\n",
              "  <div id=\"df-518dbffd-71fb-4d0c-aa21-f1665dc9579e\">\n",
              "    <div class=\"colab-df-container\">\n",
              "      <div>\n",
              "<style scoped>\n",
              "    .dataframe tbody tr th:only-of-type {\n",
              "        vertical-align: middle;\n",
              "    }\n",
              "\n",
              "    .dataframe tbody tr th {\n",
              "        vertical-align: top;\n",
              "    }\n",
              "\n",
              "    .dataframe thead th {\n",
              "        text-align: right;\n",
              "    }\n",
              "</style>\n",
              "<table border=\"1\" class=\"dataframe\">\n",
              "  <thead>\n",
              "    <tr style=\"text-align: right;\">\n",
              "      <th></th>\n",
              "      <th>count</th>\n",
              "      <th>mean</th>\n",
              "      <th>std</th>\n",
              "      <th>min</th>\n",
              "      <th>25%</th>\n",
              "      <th>50%</th>\n",
              "      <th>75%</th>\n",
              "      <th>max</th>\n",
              "    </tr>\n",
              "  </thead>\n",
              "  <tbody>\n",
              "    <tr>\n",
              "      <th>ProductName</th>\n",
              "      <td>47,500.00</td>\n",
              "      <td>0.99</td>\n",
              "      <td>0.11</td>\n",
              "      <td>0.00</td>\n",
              "      <td>1.00</td>\n",
              "      <td>1.00</td>\n",
              "      <td>1.00</td>\n",
              "      <td>1.00</td>\n",
              "    </tr>\n",
              "    <tr>\n",
              "      <th>RtpStateBitfield</th>\n",
              "      <td>47,500.00</td>\n",
              "      <td>6.82</td>\n",
              "      <td>1.13</td>\n",
              "      <td>-2.00</td>\n",
              "      <td>7.00</td>\n",
              "      <td>7.00</td>\n",
              "      <td>7.00</td>\n",
              "      <td>8.00</td>\n",
              "    </tr>\n",
              "    <tr>\n",
              "      <th>IsSxsPassiveMode</th>\n",
              "      <td>47,500.00</td>\n",
              "      <td>0.02</td>\n",
              "      <td>0.13</td>\n",
              "      <td>0.00</td>\n",
              "      <td>0.00</td>\n",
              "      <td>0.00</td>\n",
              "      <td>0.00</td>\n",
              "      <td>1.00</td>\n",
              "    </tr>\n",
              "    <tr>\n",
              "      <th>AVProductsInstalled</th>\n",
              "      <td>47,500.00</td>\n",
              "      <td>1.31</td>\n",
              "      <td>0.56</td>\n",
              "      <td>-2.00</td>\n",
              "      <td>1.00</td>\n",
              "      <td>1.00</td>\n",
              "      <td>2.00</td>\n",
              "      <td>5.00</td>\n",
              "    </tr>\n",
              "    <tr>\n",
              "      <th>AVProductsEnabled</th>\n",
              "      <td>47,500.00</td>\n",
              "      <td>1.01</td>\n",
              "      <td>0.26</td>\n",
              "      <td>-2.00</td>\n",
              "      <td>1.00</td>\n",
              "      <td>1.00</td>\n",
              "      <td>1.00</td>\n",
              "      <td>4.00</td>\n",
              "    </tr>\n",
              "    <tr>\n",
              "      <th>HasTpm</th>\n",
              "      <td>47,500.00</td>\n",
              "      <td>0.99</td>\n",
              "      <td>0.11</td>\n",
              "      <td>0.00</td>\n",
              "      <td>1.00</td>\n",
              "      <td>1.00</td>\n",
              "      <td>1.00</td>\n",
              "      <td>1.00</td>\n",
              "    </tr>\n",
              "    <tr>\n",
              "      <th>Processor</th>\n",
              "      <td>47,500.00</td>\n",
              "      <td>0.91</td>\n",
              "      <td>0.29</td>\n",
              "      <td>0.00</td>\n",
              "      <td>1.00</td>\n",
              "      <td>1.00</td>\n",
              "      <td>1.00</td>\n",
              "      <td>1.00</td>\n",
              "    </tr>\n",
              "    <tr>\n",
              "      <th>OsBuild</th>\n",
              "      <td>47,500.00</td>\n",
              "      <td>15,666.41</td>\n",
              "      <td>2,210.54</td>\n",
              "      <td>7,600.00</td>\n",
              "      <td>15,063.00</td>\n",
              "      <td>16,299.00</td>\n",
              "      <td>17,134.00</td>\n",
              "      <td>18,237.00</td>\n",
              "    </tr>\n",
              "    <tr>\n",
              "      <th>OsSuite</th>\n",
              "      <td>47,500.00</td>\n",
              "      <td>576.61</td>\n",
              "      <td>247.70</td>\n",
              "      <td>16.00</td>\n",
              "      <td>256.00</td>\n",
              "      <td>768.00</td>\n",
              "      <td>768.00</td>\n",
              "      <td>784.00</td>\n",
              "    </tr>\n",
              "    <tr>\n",
              "      <th>IeVerIdentifier</th>\n",
              "      <td>47,500.00</td>\n",
              "      <td>125.36</td>\n",
              "      <td>44.70</td>\n",
              "      <td>-2.00</td>\n",
              "      <td>108.00</td>\n",
              "      <td>117.00</td>\n",
              "      <td>137.00</td>\n",
              "      <td>429.00</td>\n",
              "    </tr>\n",
              "  </tbody>\n",
              "</table>\n",
              "</div>\n",
              "      <button class=\"colab-df-convert\" onclick=\"convertToInteractive('df-518dbffd-71fb-4d0c-aa21-f1665dc9579e')\"\n",
              "              title=\"Convert this dataframe to an interactive table.\"\n",
              "              style=\"display:none;\">\n",
              "        \n",
              "  <svg xmlns=\"http://www.w3.org/2000/svg\" height=\"24px\"viewBox=\"0 0 24 24\"\n",
              "       width=\"24px\">\n",
              "    <path d=\"M0 0h24v24H0V0z\" fill=\"none\"/>\n",
              "    <path d=\"M18.56 5.44l.94 2.06.94-2.06 2.06-.94-2.06-.94-.94-2.06-.94 2.06-2.06.94zm-11 1L8.5 8.5l.94-2.06 2.06-.94-2.06-.94L8.5 2.5l-.94 2.06-2.06.94zm10 10l.94 2.06.94-2.06 2.06-.94-2.06-.94-.94-2.06-.94 2.06-2.06.94z\"/><path d=\"M17.41 7.96l-1.37-1.37c-.4-.4-.92-.59-1.43-.59-.52 0-1.04.2-1.43.59L10.3 9.45l-7.72 7.72c-.78.78-.78 2.05 0 2.83L4 21.41c.39.39.9.59 1.41.59.51 0 1.02-.2 1.41-.59l7.78-7.78 2.81-2.81c.8-.78.8-2.07 0-2.86zM5.41 20L4 18.59l7.72-7.72 1.47 1.35L5.41 20z\"/>\n",
              "  </svg>\n",
              "      </button>\n",
              "      \n",
              "  <style>\n",
              "    .colab-df-container {\n",
              "      display:flex;\n",
              "      flex-wrap:wrap;\n",
              "      gap: 12px;\n",
              "    }\n",
              "\n",
              "    .colab-df-convert {\n",
              "      background-color: #E8F0FE;\n",
              "      border: none;\n",
              "      border-radius: 50%;\n",
              "      cursor: pointer;\n",
              "      display: none;\n",
              "      fill: #1967D2;\n",
              "      height: 32px;\n",
              "      padding: 0 0 0 0;\n",
              "      width: 32px;\n",
              "    }\n",
              "\n",
              "    .colab-df-convert:hover {\n",
              "      background-color: #E2EBFA;\n",
              "      box-shadow: 0px 1px 2px rgba(60, 64, 67, 0.3), 0px 1px 3px 1px rgba(60, 64, 67, 0.15);\n",
              "      fill: #174EA6;\n",
              "    }\n",
              "\n",
              "    [theme=dark] .colab-df-convert {\n",
              "      background-color: #3B4455;\n",
              "      fill: #D2E3FC;\n",
              "    }\n",
              "\n",
              "    [theme=dark] .colab-df-convert:hover {\n",
              "      background-color: #434B5C;\n",
              "      box-shadow: 0px 1px 3px 1px rgba(0, 0, 0, 0.15);\n",
              "      filter: drop-shadow(0px 1px 2px rgba(0, 0, 0, 0.3));\n",
              "      fill: #FFFFFF;\n",
              "    }\n",
              "  </style>\n",
              "\n",
              "      <script>\n",
              "        const buttonEl =\n",
              "          document.querySelector('#df-518dbffd-71fb-4d0c-aa21-f1665dc9579e button.colab-df-convert');\n",
              "        buttonEl.style.display =\n",
              "          google.colab.kernel.accessAllowed ? 'block' : 'none';\n",
              "\n",
              "        async function convertToInteractive(key) {\n",
              "          const element = document.querySelector('#df-518dbffd-71fb-4d0c-aa21-f1665dc9579e');\n",
              "          const dataTable =\n",
              "            await google.colab.kernel.invokeFunction('convertToInteractive',\n",
              "                                                     [key], {});\n",
              "          if (!dataTable) return;\n",
              "\n",
              "          const docLinkHtml = 'Like what you see? Visit the ' +\n",
              "            '<a target=\"_blank\" href=https://colab.research.google.com/notebooks/data_table.ipynb>data table notebook</a>'\n",
              "            + ' to learn more about interactive tables.';\n",
              "          element.innerHTML = '';\n",
              "          dataTable['output_type'] = 'display_data';\n",
              "          await google.colab.output.renderOutput(dataTable, element);\n",
              "          const docLink = document.createElement('div');\n",
              "          docLink.innerHTML = docLinkHtml;\n",
              "          element.appendChild(docLink);\n",
              "        }\n",
              "      </script>\n",
              "    </div>\n",
              "  </div>\n",
              "  "
            ],
            "text/plain": [
              "                        count      mean      std  ...       50%       75%       max\n",
              "ProductName         47,500.00      0.99     0.11  ...      1.00      1.00      1.00\n",
              "RtpStateBitfield    47,500.00      6.82     1.13  ...      7.00      7.00      8.00\n",
              "IsSxsPassiveMode    47,500.00      0.02     0.13  ...      0.00      0.00      1.00\n",
              "AVProductsInstalled 47,500.00      1.31     0.56  ...      1.00      2.00      5.00\n",
              "AVProductsEnabled   47,500.00      1.01     0.26  ...      1.00      1.00      4.00\n",
              "HasTpm              47,500.00      0.99     0.11  ...      1.00      1.00      1.00\n",
              "Processor           47,500.00      0.91     0.29  ...      1.00      1.00      1.00\n",
              "OsBuild             47,500.00 15,666.41 2,210.54  ... 16,299.00 17,134.00 18,237.00\n",
              "OsSuite             47,500.00    576.61   247.70  ...    768.00    768.00    784.00\n",
              "IeVerIdentifier     47,500.00    125.36    44.70  ...    117.00    137.00    429.00\n",
              "\n",
              "[10 rows x 8 columns]"
            ]
          },
          "metadata": {},
          "execution_count": 706
        }
      ]
    },
    {
      "cell_type": "code",
      "source": [
        "y_train.describe().T"
      ],
      "metadata": {
        "colab": {
          "base_uri": "https://localhost:8080/",
          "height": 81
        },
        "id": "434omPEritrr",
        "outputId": "40ab81c7-3e77-4956-9bbe-f4e3e0cab2fd"
      },
      "execution_count": null,
      "outputs": [
        {
          "output_type": "execute_result",
          "data": {
            "text/html": [
              "\n",
              "  <div id=\"df-887f15aa-1756-47c4-bfa3-26a6925e12d5\">\n",
              "    <div class=\"colab-df-container\">\n",
              "      <div>\n",
              "<style scoped>\n",
              "    .dataframe tbody tr th:only-of-type {\n",
              "        vertical-align: middle;\n",
              "    }\n",
              "\n",
              "    .dataframe tbody tr th {\n",
              "        vertical-align: top;\n",
              "    }\n",
              "\n",
              "    .dataframe thead th {\n",
              "        text-align: right;\n",
              "    }\n",
              "</style>\n",
              "<table border=\"1\" class=\"dataframe\">\n",
              "  <thead>\n",
              "    <tr style=\"text-align: right;\">\n",
              "      <th></th>\n",
              "      <th>count</th>\n",
              "      <th>mean</th>\n",
              "      <th>std</th>\n",
              "      <th>min</th>\n",
              "      <th>25%</th>\n",
              "      <th>50%</th>\n",
              "      <th>75%</th>\n",
              "      <th>max</th>\n",
              "    </tr>\n",
              "  </thead>\n",
              "  <tbody>\n",
              "    <tr>\n",
              "      <th>HasDetections</th>\n",
              "      <td>427,500.00</td>\n",
              "      <td>0.50</td>\n",
              "      <td>0.50</td>\n",
              "      <td>0.00</td>\n",
              "      <td>0.00</td>\n",
              "      <td>0.00</td>\n",
              "      <td>1.00</td>\n",
              "      <td>1.00</td>\n",
              "    </tr>\n",
              "  </tbody>\n",
              "</table>\n",
              "</div>\n",
              "      <button class=\"colab-df-convert\" onclick=\"convertToInteractive('df-887f15aa-1756-47c4-bfa3-26a6925e12d5')\"\n",
              "              title=\"Convert this dataframe to an interactive table.\"\n",
              "              style=\"display:none;\">\n",
              "        \n",
              "  <svg xmlns=\"http://www.w3.org/2000/svg\" height=\"24px\"viewBox=\"0 0 24 24\"\n",
              "       width=\"24px\">\n",
              "    <path d=\"M0 0h24v24H0V0z\" fill=\"none\"/>\n",
              "    <path d=\"M18.56 5.44l.94 2.06.94-2.06 2.06-.94-2.06-.94-.94-2.06-.94 2.06-2.06.94zm-11 1L8.5 8.5l.94-2.06 2.06-.94-2.06-.94L8.5 2.5l-.94 2.06-2.06.94zm10 10l.94 2.06.94-2.06 2.06-.94-2.06-.94-.94-2.06-.94 2.06-2.06.94z\"/><path d=\"M17.41 7.96l-1.37-1.37c-.4-.4-.92-.59-1.43-.59-.52 0-1.04.2-1.43.59L10.3 9.45l-7.72 7.72c-.78.78-.78 2.05 0 2.83L4 21.41c.39.39.9.59 1.41.59.51 0 1.02-.2 1.41-.59l7.78-7.78 2.81-2.81c.8-.78.8-2.07 0-2.86zM5.41 20L4 18.59l7.72-7.72 1.47 1.35L5.41 20z\"/>\n",
              "  </svg>\n",
              "      </button>\n",
              "      \n",
              "  <style>\n",
              "    .colab-df-container {\n",
              "      display:flex;\n",
              "      flex-wrap:wrap;\n",
              "      gap: 12px;\n",
              "    }\n",
              "\n",
              "    .colab-df-convert {\n",
              "      background-color: #E8F0FE;\n",
              "      border: none;\n",
              "      border-radius: 50%;\n",
              "      cursor: pointer;\n",
              "      display: none;\n",
              "      fill: #1967D2;\n",
              "      height: 32px;\n",
              "      padding: 0 0 0 0;\n",
              "      width: 32px;\n",
              "    }\n",
              "\n",
              "    .colab-df-convert:hover {\n",
              "      background-color: #E2EBFA;\n",
              "      box-shadow: 0px 1px 2px rgba(60, 64, 67, 0.3), 0px 1px 3px 1px rgba(60, 64, 67, 0.15);\n",
              "      fill: #174EA6;\n",
              "    }\n",
              "\n",
              "    [theme=dark] .colab-df-convert {\n",
              "      background-color: #3B4455;\n",
              "      fill: #D2E3FC;\n",
              "    }\n",
              "\n",
              "    [theme=dark] .colab-df-convert:hover {\n",
              "      background-color: #434B5C;\n",
              "      box-shadow: 0px 1px 3px 1px rgba(0, 0, 0, 0.15);\n",
              "      filter: drop-shadow(0px 1px 2px rgba(0, 0, 0, 0.3));\n",
              "      fill: #FFFFFF;\n",
              "    }\n",
              "  </style>\n",
              "\n",
              "      <script>\n",
              "        const buttonEl =\n",
              "          document.querySelector('#df-887f15aa-1756-47c4-bfa3-26a6925e12d5 button.colab-df-convert');\n",
              "        buttonEl.style.display =\n",
              "          google.colab.kernel.accessAllowed ? 'block' : 'none';\n",
              "\n",
              "        async function convertToInteractive(key) {\n",
              "          const element = document.querySelector('#df-887f15aa-1756-47c4-bfa3-26a6925e12d5');\n",
              "          const dataTable =\n",
              "            await google.colab.kernel.invokeFunction('convertToInteractive',\n",
              "                                                     [key], {});\n",
              "          if (!dataTable) return;\n",
              "\n",
              "          const docLinkHtml = 'Like what you see? Visit the ' +\n",
              "            '<a target=\"_blank\" href=https://colab.research.google.com/notebooks/data_table.ipynb>data table notebook</a>'\n",
              "            + ' to learn more about interactive tables.';\n",
              "          element.innerHTML = '';\n",
              "          dataTable['output_type'] = 'display_data';\n",
              "          await google.colab.output.renderOutput(dataTable, element);\n",
              "          const docLink = document.createElement('div');\n",
              "          docLink.innerHTML = docLinkHtml;\n",
              "          element.appendChild(docLink);\n",
              "        }\n",
              "      </script>\n",
              "    </div>\n",
              "  </div>\n",
              "  "
            ],
            "text/plain": [
              "                   count  mean  std  min  25%  50%  75%  max\n",
              "HasDetections 427,500.00  0.50 0.50 0.00 0.00 0.00 1.00 1.00"
            ]
          },
          "metadata": {},
          "execution_count": 707
        }
      ]
    },
    {
      "cell_type": "code",
      "source": [
        "y_test.describe().T"
      ],
      "metadata": {
        "colab": {
          "base_uri": "https://localhost:8080/",
          "height": 81
        },
        "id": "oA1EtwQDizv7",
        "outputId": "ab286e48-361b-4c8a-fa3e-8b262af47942"
      },
      "execution_count": null,
      "outputs": [
        {
          "output_type": "execute_result",
          "data": {
            "text/html": [
              "\n",
              "  <div id=\"df-6fcee905-f708-489e-bee2-cc54e1dcc727\">\n",
              "    <div class=\"colab-df-container\">\n",
              "      <div>\n",
              "<style scoped>\n",
              "    .dataframe tbody tr th:only-of-type {\n",
              "        vertical-align: middle;\n",
              "    }\n",
              "\n",
              "    .dataframe tbody tr th {\n",
              "        vertical-align: top;\n",
              "    }\n",
              "\n",
              "    .dataframe thead th {\n",
              "        text-align: right;\n",
              "    }\n",
              "</style>\n",
              "<table border=\"1\" class=\"dataframe\">\n",
              "  <thead>\n",
              "    <tr style=\"text-align: right;\">\n",
              "      <th></th>\n",
              "      <th>count</th>\n",
              "      <th>mean</th>\n",
              "      <th>std</th>\n",
              "      <th>min</th>\n",
              "      <th>25%</th>\n",
              "      <th>50%</th>\n",
              "      <th>75%</th>\n",
              "      <th>max</th>\n",
              "    </tr>\n",
              "  </thead>\n",
              "  <tbody>\n",
              "    <tr>\n",
              "      <th>HasDetections</th>\n",
              "      <td>47,500.00</td>\n",
              "      <td>0.50</td>\n",
              "      <td>0.50</td>\n",
              "      <td>0.00</td>\n",
              "      <td>0.00</td>\n",
              "      <td>0.00</td>\n",
              "      <td>1.00</td>\n",
              "      <td>1.00</td>\n",
              "    </tr>\n",
              "  </tbody>\n",
              "</table>\n",
              "</div>\n",
              "      <button class=\"colab-df-convert\" onclick=\"convertToInteractive('df-6fcee905-f708-489e-bee2-cc54e1dcc727')\"\n",
              "              title=\"Convert this dataframe to an interactive table.\"\n",
              "              style=\"display:none;\">\n",
              "        \n",
              "  <svg xmlns=\"http://www.w3.org/2000/svg\" height=\"24px\"viewBox=\"0 0 24 24\"\n",
              "       width=\"24px\">\n",
              "    <path d=\"M0 0h24v24H0V0z\" fill=\"none\"/>\n",
              "    <path d=\"M18.56 5.44l.94 2.06.94-2.06 2.06-.94-2.06-.94-.94-2.06-.94 2.06-2.06.94zm-11 1L8.5 8.5l.94-2.06 2.06-.94-2.06-.94L8.5 2.5l-.94 2.06-2.06.94zm10 10l.94 2.06.94-2.06 2.06-.94-2.06-.94-.94-2.06-.94 2.06-2.06.94z\"/><path d=\"M17.41 7.96l-1.37-1.37c-.4-.4-.92-.59-1.43-.59-.52 0-1.04.2-1.43.59L10.3 9.45l-7.72 7.72c-.78.78-.78 2.05 0 2.83L4 21.41c.39.39.9.59 1.41.59.51 0 1.02-.2 1.41-.59l7.78-7.78 2.81-2.81c.8-.78.8-2.07 0-2.86zM5.41 20L4 18.59l7.72-7.72 1.47 1.35L5.41 20z\"/>\n",
              "  </svg>\n",
              "      </button>\n",
              "      \n",
              "  <style>\n",
              "    .colab-df-container {\n",
              "      display:flex;\n",
              "      flex-wrap:wrap;\n",
              "      gap: 12px;\n",
              "    }\n",
              "\n",
              "    .colab-df-convert {\n",
              "      background-color: #E8F0FE;\n",
              "      border: none;\n",
              "      border-radius: 50%;\n",
              "      cursor: pointer;\n",
              "      display: none;\n",
              "      fill: #1967D2;\n",
              "      height: 32px;\n",
              "      padding: 0 0 0 0;\n",
              "      width: 32px;\n",
              "    }\n",
              "\n",
              "    .colab-df-convert:hover {\n",
              "      background-color: #E2EBFA;\n",
              "      box-shadow: 0px 1px 2px rgba(60, 64, 67, 0.3), 0px 1px 3px 1px rgba(60, 64, 67, 0.15);\n",
              "      fill: #174EA6;\n",
              "    }\n",
              "\n",
              "    [theme=dark] .colab-df-convert {\n",
              "      background-color: #3B4455;\n",
              "      fill: #D2E3FC;\n",
              "    }\n",
              "\n",
              "    [theme=dark] .colab-df-convert:hover {\n",
              "      background-color: #434B5C;\n",
              "      box-shadow: 0px 1px 3px 1px rgba(0, 0, 0, 0.15);\n",
              "      filter: drop-shadow(0px 1px 2px rgba(0, 0, 0, 0.3));\n",
              "      fill: #FFFFFF;\n",
              "    }\n",
              "  </style>\n",
              "\n",
              "      <script>\n",
              "        const buttonEl =\n",
              "          document.querySelector('#df-6fcee905-f708-489e-bee2-cc54e1dcc727 button.colab-df-convert');\n",
              "        buttonEl.style.display =\n",
              "          google.colab.kernel.accessAllowed ? 'block' : 'none';\n",
              "\n",
              "        async function convertToInteractive(key) {\n",
              "          const element = document.querySelector('#df-6fcee905-f708-489e-bee2-cc54e1dcc727');\n",
              "          const dataTable =\n",
              "            await google.colab.kernel.invokeFunction('convertToInteractive',\n",
              "                                                     [key], {});\n",
              "          if (!dataTable) return;\n",
              "\n",
              "          const docLinkHtml = 'Like what you see? Visit the ' +\n",
              "            '<a target=\"_blank\" href=https://colab.research.google.com/notebooks/data_table.ipynb>data table notebook</a>'\n",
              "            + ' to learn more about interactive tables.';\n",
              "          element.innerHTML = '';\n",
              "          dataTable['output_type'] = 'display_data';\n",
              "          await google.colab.output.renderOutput(dataTable, element);\n",
              "          const docLink = document.createElement('div');\n",
              "          docLink.innerHTML = docLinkHtml;\n",
              "          element.appendChild(docLink);\n",
              "        }\n",
              "      </script>\n",
              "    </div>\n",
              "  </div>\n",
              "  "
            ],
            "text/plain": [
              "                  count  mean  std  min  25%  50%  75%  max\n",
              "HasDetections 47,500.00  0.50 0.50 0.00 0.00 0.00 1.00 1.00"
            ]
          },
          "metadata": {},
          "execution_count": 708
        }
      ]
    },
    {
      "cell_type": "markdown",
      "source": [
        "Las distribuciones son prácticamentes iguales, tal y como era de esperar en un dataset de development de este tamaño."
      ],
      "metadata": {
        "id": "dQW3yWzQirDO"
      }
    },
    {
      "cell_type": "markdown",
      "source": [
        "### MLC4.2: Model definition\n",
        "Por cuestión de tiempo hemos usado el Decision Tree aunque se hubieran conseguido mejores resultados con algoritmos de ensable como un RandomForest o un XGBoost. Este último es el que consigue mejores resultados."
      ],
      "metadata": {
        "id": "Qf02SFGi83EY"
      }
    },
    {
      "cell_type": "markdown",
      "source": [
        "#### Import scikits"
      ],
      "metadata": {
        "id": "S1sSD23cjeJr"
      }
    },
    {
      "cell_type": "code",
      "source": [
        "!pip install graphviz"
      ],
      "metadata": {
        "colab": {
          "base_uri": "https://localhost:8080/"
        },
        "id": "6W-VkqVvjmQf",
        "outputId": "999133bf-21f7-4627-c2a2-49e30776de6f"
      },
      "execution_count": null,
      "outputs": [
        {
          "output_type": "stream",
          "name": "stdout",
          "text": [
            "Requirement already satisfied: graphviz in /usr/local/lib/python3.7/dist-packages (0.10.1)\n"
          ]
        }
      ]
    },
    {
      "cell_type": "code",
      "source": [
        "!pip install pydot"
      ],
      "metadata": {
        "colab": {
          "base_uri": "https://localhost:8080/"
        },
        "id": "a5FwRunfj2Q8",
        "outputId": "1b1ada3b-81a4-4740-d3cd-de2044ea6e97"
      },
      "execution_count": null,
      "outputs": [
        {
          "output_type": "stream",
          "name": "stdout",
          "text": [
            "Requirement already satisfied: pydot in /usr/local/lib/python3.7/dist-packages (1.3.0)\n",
            "Requirement already satisfied: pyparsing>=2.1.4 in /usr/local/lib/python3.7/dist-packages (from pydot) (3.0.7)\n"
          ]
        }
      ]
    },
    {
      "cell_type": "code",
      "source": [
        "from sklearn.tree import DecisionTreeClassifier\n",
        "from sklearn.tree import export_graphviz\n",
        "import graphviz"
      ],
      "metadata": {
        "id": "uhNzzKFykIXf"
      },
      "execution_count": null,
      "outputs": []
    },
    {
      "cell_type": "markdown",
      "source": [
        "#### Decision Tree\n",
        "\n",
        "Nuestro primer modelo será un árbol de decisión. Lo usaremos para ver qué parámetros identifica como más importantes.\n",
        "\n",
        "Luego pasaremos a hacer la optimización de parámetros.\n",
        "\n",
        "Parámetros del primer modelo de decision tree:\n",
        "- max_depth=5\n",
        "- min_samples_split=500"
      ],
      "metadata": {
        "id": "DJ-2gOeglnVm"
      }
    },
    {
      "cell_type": "code",
      "source": [
        "dt = DecisionTreeClassifier(\n",
        "                        # criterion='gini',    #  Es lala fórmula per a calcular el desorden que se utilizará. Puede ser  el Gini, 2ºgini, la entropia. Son todas parecidas. No os cambiará nada si usáis un u otra.\n",
        "                        # splitter='best',     #  Como decide que atributo quiere utilizar para hacer las preguntas. El \"best\" es el que usa el profe siempre. Escoge aquel que genera más ganancia de información (IG - infprmation Gain) HAy opcion de poner un random.\n",
        "                        max_depth=5, # Importante, regulará el sobreajuste\n",
        "                        min_samples_split=500,   # Número mínimo de observaciones tras pregunta. El profe normalment posa uns 20 o 50 o 500\n",
        "                        # min_samples_leaf=1,   # Numero mínimo de observaciopnes en un nodo terminal.\n",
        "                        # min_weight_fraction_leaf=0.0,   # es lo mismo que el min_samples_leave pero en porcentaje\n",
        "                        # max_features=None,\n",
        "                        random_state=42,\n",
        "                        # max_leaf_nodes=None,\n",
        "                        # min_impurity_decrease=0.0,\n",
        "                        # min_impurity_split=None,\n",
        "                        # class_weight=None,\n",
        "                        # presort=False,\n",
        "                )"
      ],
      "metadata": {
        "id": "4wIMvKd7kQwJ"
      },
      "execution_count": null,
      "outputs": []
    },
    {
      "cell_type": "code",
      "source": [
        "dt.fit(\n",
        "    X=X_train,\n",
        "    y=y_train,\n",
        "    # sample_weight=None,\n",
        "    # check_input=True,\n",
        "    # X_idx_sorted=None\n",
        ")"
      ],
      "metadata": {
        "colab": {
          "base_uri": "https://localhost:8080/"
        },
        "id": "ilJDQTKqmv8h",
        "outputId": "9d72fb79-681b-448d-f4c8-26686d858567"
      },
      "execution_count": null,
      "outputs": [
        {
          "output_type": "execute_result",
          "data": {
            "text/plain": [
              "DecisionTreeClassifier(max_depth=5, min_samples_split=500, random_state=42)"
            ]
          },
          "metadata": {},
          "execution_count": 713
        }
      ]
    },
    {
      "cell_type": "markdown",
      "source": [
        "### Visualizamos el árbol"
      ],
      "metadata": {
        "id": "lOx3D7IAnFjr"
      }
    },
    {
      "cell_type": "code",
      "source": [
        "dot_data = export_graphviz(\n",
        "                        decision_tree = dt,\n",
        "                        out_file=None,\n",
        "                        # max_depth=None,     #  si queremos que nos pinte sólo unas cuantas preguntas.\n",
        "                        feature_names=X_test.columns,      # el nombre de las columnas.\n",
        "                        class_names=['No Malware', 'Malware'],   # el nombre de la clase 0 y 1 respectivamdntge.\n",
        "                        # label='all',\n",
        "                        filled=True,                        # para pintar en diferentes colores\n",
        "                        # leaves_parallel=False,\n",
        "                        impurity=True,                         # para que nos indique el gini\n",
        "                        # node_ids=False,\n",
        "                        proportion=True,\n",
        "                        rotate=True,                          #  para que dibuje el arbol en horizontal\n",
        "                        rounded=True,                   # dibuja las cajitas redondeades\n",
        "                        # special_characters=False,\n",
        "                        precision=4,\n",
        "                        )"
      ],
      "metadata": {
        "id": "lb3zS4eKmwsw"
      },
      "execution_count": null,
      "outputs": []
    },
    {
      "cell_type": "code",
      "source": [
        "graph = graphviz.Source(dot_data)\n",
        "graph"
      ],
      "metadata": {
        "colab": {
          "base_uri": "https://localhost:8080/",
          "height": 1000
        },
        "id": "8OmIEKQimwyr",
        "outputId": "47a5a340-c823-4346-84f9-e2363738608a"
      },
      "execution_count": null,
      "outputs": [
        {
          "output_type": "execute_result",
          "data": {
            "text/plain": [
              "<graphviz.files.Source at 0x7fb44255d450>"
            ],
            "image/svg+xml": "<?xml version=\"1.0\" encoding=\"UTF-8\" standalone=\"no\"?>\n<!DOCTYPE svg PUBLIC \"-//W3C//DTD SVG 1.1//EN\"\n \"http://www.w3.org/Graphics/SVG/1.1/DTD/svg11.dtd\">\n<!-- Generated by graphviz version 2.40.1 (20161225.0304)\n -->\n<!-- Title: Tree Pages: 1 -->\n<svg width=\"1897pt\" height=\"2285pt\"\n viewBox=\"0.00 0.00 1897.00 2285.00\" xmlns=\"http://www.w3.org/2000/svg\" xmlns:xlink=\"http://www.w3.org/1999/xlink\">\n<g id=\"graph0\" class=\"graph\" transform=\"scale(1 1) rotate(0) translate(4 2281)\">\n<title>Tree</title>\n<polygon fill=\"#ffffff\" stroke=\"transparent\" points=\"-4,4 -4,-2281 1893,-2281 1893,4 -4,4\"/>\n<!-- 0 -->\n<g id=\"node1\" class=\"node\">\n<title>0</title>\n<path fill=\"#fffefe\" stroke=\"#000000\" d=\"M225,-1084.5C225,-1084.5 12,-1084.5 12,-1084.5 6,-1084.5 0,-1078.5 0,-1072.5 0,-1072.5 0,-1013.5 0,-1013.5 0,-1007.5 6,-1001.5 12,-1001.5 12,-1001.5 225,-1001.5 225,-1001.5 231,-1001.5 237,-1007.5 237,-1013.5 237,-1013.5 237,-1072.5 237,-1072.5 237,-1078.5 231,-1084.5 225,-1084.5\"/>\n<text text-anchor=\"middle\" x=\"118.5\" y=\"-1069.3\" font-family=\"Helvetica,sans-Serif\" font-size=\"14.00\" fill=\"#000000\">SmartScreen_ExistsNotSet &lt;= 0.5</text>\n<text text-anchor=\"middle\" x=\"118.5\" y=\"-1054.3\" font-family=\"Helvetica,sans-Serif\" font-size=\"14.00\" fill=\"#000000\">gini = 0.5</text>\n<text text-anchor=\"middle\" x=\"118.5\" y=\"-1039.3\" font-family=\"Helvetica,sans-Serif\" font-size=\"14.00\" fill=\"#000000\">samples = 100.0%</text>\n<text text-anchor=\"middle\" x=\"118.5\" y=\"-1024.3\" font-family=\"Helvetica,sans-Serif\" font-size=\"14.00\" fill=\"#000000\">value = [0.5013, 0.4987]</text>\n<text text-anchor=\"middle\" x=\"118.5\" y=\"-1009.3\" font-family=\"Helvetica,sans-Serif\" font-size=\"14.00\" fill=\"#000000\">class = No Malware</text>\n</g>\n<!-- 1 -->\n<g id=\"node2\" class=\"node\">\n<title>1</title>\n<path fill=\"#fbebe0\" stroke=\"#000000\" d=\"M452,-1278.5C452,-1278.5 285,-1278.5 285,-1278.5 279,-1278.5 273,-1272.5 273,-1266.5 273,-1266.5 273,-1207.5 273,-1207.5 273,-1201.5 279,-1195.5 285,-1195.5 285,-1195.5 452,-1195.5 452,-1195.5 458,-1195.5 464,-1201.5 464,-1207.5 464,-1207.5 464,-1266.5 464,-1266.5 464,-1272.5 458,-1278.5 452,-1278.5\"/>\n<text text-anchor=\"middle\" x=\"368.5\" y=\"-1263.3\" font-family=\"Helvetica,sans-Serif\" font-size=\"14.00\" fill=\"#000000\">AVProductsInstalled &lt;= 1.5</text>\n<text text-anchor=\"middle\" x=\"368.5\" y=\"-1248.3\" font-family=\"Helvetica,sans-Serif\" font-size=\"14.00\" fill=\"#000000\">gini = 0.4965</text>\n<text text-anchor=\"middle\" x=\"368.5\" y=\"-1233.3\" font-family=\"Helvetica,sans-Serif\" font-size=\"14.00\" fill=\"#000000\">samples = 88.2%</text>\n<text text-anchor=\"middle\" x=\"368.5\" y=\"-1218.3\" font-family=\"Helvetica,sans-Serif\" font-size=\"14.00\" fill=\"#000000\">value = [0.542, 0.458]</text>\n<text text-anchor=\"middle\" x=\"368.5\" y=\"-1203.3\" font-family=\"Helvetica,sans-Serif\" font-size=\"14.00\" fill=\"#000000\">class = No Malware</text>\n</g>\n<!-- 0&#45;&gt;1 -->\n<g id=\"edge1\" class=\"edge\">\n<title>0&#45;&gt;1</title>\n<path fill=\"none\" stroke=\"#000000\" d=\"M172.1313,-1084.6179C211.676,-1115.3046 265.5521,-1157.1124 306.8694,-1189.1746\"/>\n<polygon fill=\"#000000\" stroke=\"#000000\" points=\"304.9113,-1192.0854 314.9574,-1195.451 309.2028,-1186.5552 304.9113,-1192.0854\"/>\n<text text-anchor=\"middle\" x=\"290.1539\" y=\"-1194.8793\" font-family=\"Helvetica,sans-Serif\" font-size=\"14.00\" fill=\"#000000\">True</text>\n</g>\n<!-- 32 -->\n<g id=\"node33\" class=\"node\">\n<title>32</title>\n<path fill=\"#69b5eb\" stroke=\"#000000\" d=\"M452,-705.5C452,-705.5 285,-705.5 285,-705.5 279,-705.5 273,-699.5 273,-693.5 273,-693.5 273,-634.5 273,-634.5 273,-628.5 279,-622.5 285,-622.5 285,-622.5 452,-622.5 452,-622.5 458,-622.5 464,-628.5 464,-634.5 464,-634.5 464,-693.5 464,-693.5 464,-699.5 458,-705.5 452,-705.5\"/>\n<text text-anchor=\"middle\" x=\"368.5\" y=\"-690.3\" font-family=\"Helvetica,sans-Serif\" font-size=\"14.00\" fill=\"#000000\">AVProductsInstalled &lt;= 1.5</text>\n<text text-anchor=\"middle\" x=\"368.5\" y=\"-675.3\" font-family=\"Helvetica,sans-Serif\" font-size=\"14.00\" fill=\"#000000\">gini = 0.3148</text>\n<text text-anchor=\"middle\" x=\"368.5\" y=\"-660.3\" font-family=\"Helvetica,sans-Serif\" font-size=\"14.00\" fill=\"#000000\">samples = 11.8%</text>\n<text text-anchor=\"middle\" x=\"368.5\" y=\"-645.3\" font-family=\"Helvetica,sans-Serif\" font-size=\"14.00\" fill=\"#000000\">value = [0.1957, 0.8043]</text>\n<text text-anchor=\"middle\" x=\"368.5\" y=\"-630.3\" font-family=\"Helvetica,sans-Serif\" font-size=\"14.00\" fill=\"#000000\">class = Malware</text>\n</g>\n<!-- 0&#45;&gt;32 -->\n<g id=\"edge32\" class=\"edge\">\n<title>0&#45;&gt;32</title>\n<path fill=\"none\" stroke=\"#000000\" d=\"M145.9695,-1001.3562C192.2587,-931.1818 285.6143,-789.6548 335.4252,-714.1414\"/>\n<polygon fill=\"#000000\" stroke=\"#000000\" points=\"338.4004,-715.9874 340.9851,-705.7126 332.5571,-712.1329 338.4004,-715.9874\"/>\n<text text-anchor=\"middle\" x=\"316.4948\" y=\"-707.0353\" font-family=\"Helvetica,sans-Serif\" font-size=\"14.00\" fill=\"#000000\">False</text>\n</g>\n<!-- 2 -->\n<g id=\"node3\" class=\"node\">\n<title>2</title>\n<path fill=\"#fbfdff\" stroke=\"#000000\" d=\"M750,-1812.5C750,-1812.5 512,-1812.5 512,-1812.5 506,-1812.5 500,-1806.5 500,-1800.5 500,-1800.5 500,-1741.5 500,-1741.5 500,-1735.5 506,-1729.5 512,-1729.5 512,-1729.5 750,-1729.5 750,-1729.5 756,-1729.5 762,-1735.5 762,-1741.5 762,-1741.5 762,-1800.5 762,-1800.5 762,-1806.5 756,-1812.5 750,-1812.5\"/>\n<text text-anchor=\"middle\" x=\"631\" y=\"-1797.3\" font-family=\"Helvetica,sans-Serif\" font-size=\"14.00\" fill=\"#000000\">Census_TotalPhysicalRAM &lt;= 4095.5</text>\n<text text-anchor=\"middle\" x=\"631\" y=\"-1782.3\" font-family=\"Helvetica,sans-Serif\" font-size=\"14.00\" fill=\"#000000\">gini = 0.5</text>\n<text text-anchor=\"middle\" x=\"631\" y=\"-1767.3\" font-family=\"Helvetica,sans-Serif\" font-size=\"14.00\" fill=\"#000000\">samples = 61.3%</text>\n<text text-anchor=\"middle\" x=\"631\" y=\"-1752.3\" font-family=\"Helvetica,sans-Serif\" font-size=\"14.00\" fill=\"#000000\">value = [0.4952, 0.5048]</text>\n<text text-anchor=\"middle\" x=\"631\" y=\"-1737.3\" font-family=\"Helvetica,sans-Serif\" font-size=\"14.00\" fill=\"#000000\">class = Malware</text>\n</g>\n<!-- 1&#45;&gt;2 -->\n<g id=\"edge2\" class=\"edge\">\n<title>1&#45;&gt;2</title>\n<path fill=\"none\" stroke=\"#000000\" d=\"M389.0979,-1278.9021C436.7308,-1375.8009 554.3599,-1615.0922 606.0056,-1720.1543\"/>\n<polygon fill=\"#000000\" stroke=\"#000000\" points=\"602.9451,-1721.8623 610.4977,-1729.2926 609.2272,-1718.7742 602.9451,-1721.8623\"/>\n</g>\n<!-- 17 -->\n<g id=\"node18\" class=\"node\">\n<title>17</title>\n<path fill=\"#f3c5a4\" stroke=\"#000000\" d=\"M739.5,-1278.5C739.5,-1278.5 522.5,-1278.5 522.5,-1278.5 516.5,-1278.5 510.5,-1272.5 510.5,-1266.5 510.5,-1266.5 510.5,-1207.5 510.5,-1207.5 510.5,-1201.5 516.5,-1195.5 522.5,-1195.5 522.5,-1195.5 739.5,-1195.5 739.5,-1195.5 745.5,-1195.5 751.5,-1201.5 751.5,-1207.5 751.5,-1207.5 751.5,-1266.5 751.5,-1266.5 751.5,-1272.5 745.5,-1278.5 739.5,-1278.5\"/>\n<text text-anchor=\"middle\" x=\"631\" y=\"-1263.3\" font-family=\"Helvetica,sans-Serif\" font-size=\"14.00\" fill=\"#000000\">EngineVersion_1.1.15100.1 &lt;= 0.5</text>\n<text text-anchor=\"middle\" x=\"631\" y=\"-1248.3\" font-family=\"Helvetica,sans-Serif\" font-size=\"14.00\" fill=\"#000000\">gini = 0.4559</text>\n<text text-anchor=\"middle\" x=\"631\" y=\"-1233.3\" font-family=\"Helvetica,sans-Serif\" font-size=\"14.00\" fill=\"#000000\">samples = 26.9%</text>\n<text text-anchor=\"middle\" x=\"631\" y=\"-1218.3\" font-family=\"Helvetica,sans-Serif\" font-size=\"14.00\" fill=\"#000000\">value = [0.6485, 0.3515]</text>\n<text text-anchor=\"middle\" x=\"631\" y=\"-1203.3\" font-family=\"Helvetica,sans-Serif\" font-size=\"14.00\" fill=\"#000000\">class = No Malware</text>\n</g>\n<!-- 1&#45;&gt;17 -->\n<g id=\"edge17\" class=\"edge\">\n<title>1&#45;&gt;17</title>\n<path fill=\"none\" stroke=\"#000000\" d=\"M464.0111,-1237C475.8072,-1237 488.0202,-1237 500.2277,-1237\"/>\n<polygon fill=\"#000000\" stroke=\"#000000\" points=\"500.4715,-1240.5001 510.4714,-1237 500.4714,-1233.5001 500.4715,-1240.5001\"/>\n</g>\n<!-- 3 -->\n<g id=\"node4\" class=\"node\">\n<title>3</title>\n<path fill=\"#f6d3ba\" stroke=\"#000000\" d=\"M1209,-2061.5C1209,-2061.5 810,-2061.5 810,-2061.5 804,-2061.5 798,-2055.5 798,-2049.5 798,-2049.5 798,-1990.5 798,-1990.5 798,-1984.5 804,-1978.5 810,-1978.5 810,-1978.5 1209,-1978.5 1209,-1978.5 1215,-1978.5 1221,-1984.5 1221,-1990.5 1221,-1990.5 1221,-2049.5 1221,-2049.5 1221,-2055.5 1215,-2061.5 1209,-2061.5\"/>\n<text text-anchor=\"middle\" x=\"1009.5\" y=\"-2046.3\" font-family=\"Helvetica,sans-Serif\" font-size=\"14.00\" fill=\"#000000\">Census_InternalPrimaryDiagonalDisplaySizeInInches &lt;= 11.35</text>\n<text text-anchor=\"middle\" x=\"1009.5\" y=\"-2031.3\" font-family=\"Helvetica,sans-Serif\" font-size=\"14.00\" fill=\"#000000\">gini = 0.4775</text>\n<text text-anchor=\"middle\" x=\"1009.5\" y=\"-2016.3\" font-family=\"Helvetica,sans-Serif\" font-size=\"14.00\" fill=\"#000000\">samples = 11.2%</text>\n<text text-anchor=\"middle\" x=\"1009.5\" y=\"-2001.3\" font-family=\"Helvetica,sans-Serif\" font-size=\"14.00\" fill=\"#000000\">value = [0.606, 0.394]</text>\n<text text-anchor=\"middle\" x=\"1009.5\" y=\"-1986.3\" font-family=\"Helvetica,sans-Serif\" font-size=\"14.00\" fill=\"#000000\">class = No Malware</text>\n</g>\n<!-- 2&#45;&gt;3 -->\n<g id=\"edge3\" class=\"edge\">\n<title>2&#45;&gt;3</title>\n<path fill=\"none\" stroke=\"#000000\" d=\"M694.3524,-1812.677C761.5932,-1856.912 867.6404,-1926.6762 937.8741,-1972.8802\"/>\n<polygon fill=\"#000000\" stroke=\"#000000\" points=\"935.9788,-1975.8228 946.2567,-1978.3948 939.826,-1969.9747 935.9788,-1975.8228\"/>\n</g>\n<!-- 10 -->\n<g id=\"node11\" class=\"node\">\n<title>10</title>\n<path fill=\"#e9f4fc\" stroke=\"#000000\" d=\"M1084,-1812.5C1084,-1812.5 935,-1812.5 935,-1812.5 929,-1812.5 923,-1806.5 923,-1800.5 923,-1800.5 923,-1741.5 923,-1741.5 923,-1735.5 929,-1729.5 935,-1729.5 935,-1729.5 1084,-1729.5 1084,-1729.5 1090,-1729.5 1096,-1735.5 1096,-1741.5 1096,-1741.5 1096,-1800.5 1096,-1800.5 1096,-1806.5 1090,-1812.5 1084,-1812.5\"/>\n<text text-anchor=\"middle\" x=\"1009.5\" y=\"-1797.3\" font-family=\"Helvetica,sans-Serif\" font-size=\"14.00\" fill=\"#000000\">Wdft_IsGamer &lt;= 0.5</text>\n<text text-anchor=\"middle\" x=\"1009.5\" y=\"-1782.3\" font-family=\"Helvetica,sans-Serif\" font-size=\"14.00\" fill=\"#000000\">gini = 0.4982</text>\n<text text-anchor=\"middle\" x=\"1009.5\" y=\"-1767.3\" font-family=\"Helvetica,sans-Serif\" font-size=\"14.00\" fill=\"#000000\">samples = 50.1%</text>\n<text text-anchor=\"middle\" x=\"1009.5\" y=\"-1752.3\" font-family=\"Helvetica,sans-Serif\" font-size=\"14.00\" fill=\"#000000\">value = [0.4703, 0.5297]</text>\n<text text-anchor=\"middle\" x=\"1009.5\" y=\"-1737.3\" font-family=\"Helvetica,sans-Serif\" font-size=\"14.00\" fill=\"#000000\">class = Malware</text>\n</g>\n<!-- 2&#45;&gt;10 -->\n<g id=\"edge10\" class=\"edge\">\n<title>2&#45;&gt;10</title>\n<path fill=\"none\" stroke=\"#000000\" d=\"M762.0534,-1771C811.4996,-1771 866.8174,-1771 912.5893,-1771\"/>\n<polygon fill=\"#000000\" stroke=\"#000000\" points=\"912.804,-1774.5001 922.804,-1771 912.804,-1767.5001 912.804,-1774.5001\"/>\n</g>\n<!-- 4 -->\n<g id=\"node5\" class=\"node\">\n<title>4</title>\n<path fill=\"#efb185\" stroke=\"#000000\" d=\"M1664,-2198.5C1664,-2198.5 1273,-2198.5 1273,-2198.5 1267,-2198.5 1261,-2192.5 1261,-2186.5 1261,-2186.5 1261,-2127.5 1261,-2127.5 1261,-2121.5 1267,-2115.5 1273,-2115.5 1273,-2115.5 1664,-2115.5 1664,-2115.5 1670,-2115.5 1676,-2121.5 1676,-2127.5 1676,-2127.5 1676,-2186.5 1676,-2186.5 1676,-2192.5 1670,-2198.5 1664,-2198.5\"/>\n<text text-anchor=\"middle\" x=\"1468.5\" y=\"-2183.3\" font-family=\"Helvetica,sans-Serif\" font-size=\"14.00\" fill=\"#000000\">Census_InternalPrimaryDiagonalDisplaySizeInInches &lt;= 8.05</text>\n<text text-anchor=\"middle\" x=\"1468.5\" y=\"-2168.3\" font-family=\"Helvetica,sans-Serif\" font-size=\"14.00\" fill=\"#000000\">gini = 0.3999</text>\n<text text-anchor=\"middle\" x=\"1468.5\" y=\"-2153.3\" font-family=\"Helvetica,sans-Serif\" font-size=\"14.00\" fill=\"#000000\">samples = 2.3%</text>\n<text text-anchor=\"middle\" x=\"1468.5\" y=\"-2138.3\" font-family=\"Helvetica,sans-Serif\" font-size=\"14.00\" fill=\"#000000\">value = [0.7238, 0.2762]</text>\n<text text-anchor=\"middle\" x=\"1468.5\" y=\"-2123.3\" font-family=\"Helvetica,sans-Serif\" font-size=\"14.00\" fill=\"#000000\">class = No Malware</text>\n</g>\n<!-- 3&#45;&gt;4 -->\n<g id=\"edge4\" class=\"edge\">\n<title>3&#45;&gt;4</title>\n<path fill=\"none\" stroke=\"#000000\" d=\"M1148.7726,-2061.5694C1202.7758,-2077.688 1264.7066,-2096.1728 1319.5929,-2112.555\"/>\n<polygon fill=\"#000000\" stroke=\"#000000\" points=\"1318.8165,-2115.9757 1329.3998,-2115.4821 1320.8186,-2109.2681 1318.8165,-2115.9757\"/>\n</g>\n<!-- 7 -->\n<g id=\"node8\" class=\"node\">\n<title>7</title>\n<path fill=\"#f8decb\" stroke=\"#000000\" d=\"M1577,-2061.5C1577,-2061.5 1360,-2061.5 1360,-2061.5 1354,-2061.5 1348,-2055.5 1348,-2049.5 1348,-2049.5 1348,-1990.5 1348,-1990.5 1348,-1984.5 1354,-1978.5 1360,-1978.5 1360,-1978.5 1577,-1978.5 1577,-1978.5 1583,-1978.5 1589,-1984.5 1589,-1990.5 1589,-1990.5 1589,-2049.5 1589,-2049.5 1589,-2055.5 1583,-2061.5 1577,-2061.5\"/>\n<text text-anchor=\"middle\" x=\"1468.5\" y=\"-2046.3\" font-family=\"Helvetica,sans-Serif\" font-size=\"14.00\" fill=\"#000000\">EngineVersion_1.1.15100.1 &lt;= 0.5</text>\n<text text-anchor=\"middle\" x=\"1468.5\" y=\"-2031.3\" font-family=\"Helvetica,sans-Serif\" font-size=\"14.00\" fill=\"#000000\">gini = 0.4883</text>\n<text text-anchor=\"middle\" x=\"1468.5\" y=\"-2016.3\" font-family=\"Helvetica,sans-Serif\" font-size=\"14.00\" fill=\"#000000\">samples = 9.0%</text>\n<text text-anchor=\"middle\" x=\"1468.5\" y=\"-2001.3\" font-family=\"Helvetica,sans-Serif\" font-size=\"14.00\" fill=\"#000000\">value = [0.5764, 0.4236]</text>\n<text text-anchor=\"middle\" x=\"1468.5\" y=\"-1986.3\" font-family=\"Helvetica,sans-Serif\" font-size=\"14.00\" fill=\"#000000\">class = No Malware</text>\n</g>\n<!-- 3&#45;&gt;7 -->\n<g id=\"edge7\" class=\"edge\">\n<title>3&#45;&gt;7</title>\n<path fill=\"none\" stroke=\"#000000\" d=\"M1221.1983,-2020C1260.9523,-2020 1301.423,-2020 1337.8005,-2020\"/>\n<polygon fill=\"#000000\" stroke=\"#000000\" points=\"1337.9483,-2023.5001 1347.9483,-2020 1337.9482,-2016.5001 1337.9483,-2023.5001\"/>\n</g>\n<!-- 5 -->\n<g id=\"node6\" class=\"node\">\n<title>5</title>\n<path fill=\"#eb9f68\" stroke=\"#000000\" d=\"M1877,-2277C1877,-2277 1728,-2277 1728,-2277 1722,-2277 1716,-2271 1716,-2265 1716,-2265 1716,-2221 1716,-2221 1716,-2215 1722,-2209 1728,-2209 1728,-2209 1877,-2209 1877,-2209 1883,-2209 1889,-2215 1889,-2221 1889,-2221 1889,-2265 1889,-2265 1889,-2271 1883,-2277 1877,-2277\"/>\n<text text-anchor=\"middle\" x=\"1802.5\" y=\"-2261.8\" font-family=\"Helvetica,sans-Serif\" font-size=\"14.00\" fill=\"#000000\">gini = 0.3085</text>\n<text text-anchor=\"middle\" x=\"1802.5\" y=\"-2246.8\" font-family=\"Helvetica,sans-Serif\" font-size=\"14.00\" fill=\"#000000\">samples = 0.4%</text>\n<text text-anchor=\"middle\" x=\"1802.5\" y=\"-2231.8\" font-family=\"Helvetica,sans-Serif\" font-size=\"14.00\" fill=\"#000000\">value = [0.8095, 0.1905]</text>\n<text text-anchor=\"middle\" x=\"1802.5\" y=\"-2216.8\" font-family=\"Helvetica,sans-Serif\" font-size=\"14.00\" fill=\"#000000\">class = No Malware</text>\n</g>\n<!-- 4&#45;&gt;5 -->\n<g id=\"edge5\" class=\"edge\">\n<title>4&#45;&gt;5</title>\n<path fill=\"none\" stroke=\"#000000\" d=\"M1630.119,-2198.6145C1656.1691,-2205.322 1682.3941,-2212.0745 1706.2548,-2218.2183\"/>\n<polygon fill=\"#000000\" stroke=\"#000000\" points=\"1705.419,-2221.6172 1715.9759,-2220.7213 1707.1645,-2214.8383 1705.419,-2221.6172\"/>\n</g>\n<!-- 6 -->\n<g id=\"node7\" class=\"node\">\n<title>6</title>\n<path fill=\"#f0b68c\" stroke=\"#000000\" d=\"M1877,-2191C1877,-2191 1728,-2191 1728,-2191 1722,-2191 1716,-2185 1716,-2179 1716,-2179 1716,-2135 1716,-2135 1716,-2129 1722,-2123 1728,-2123 1728,-2123 1877,-2123 1877,-2123 1883,-2123 1889,-2129 1889,-2135 1889,-2135 1889,-2179 1889,-2179 1889,-2185 1883,-2191 1877,-2191\"/>\n<text text-anchor=\"middle\" x=\"1802.5\" y=\"-2175.8\" font-family=\"Helvetica,sans-Serif\" font-size=\"14.00\" fill=\"#000000\">gini = 0.4153</text>\n<text text-anchor=\"middle\" x=\"1802.5\" y=\"-2160.8\" font-family=\"Helvetica,sans-Serif\" font-size=\"14.00\" fill=\"#000000\">samples = 1.9%</text>\n<text text-anchor=\"middle\" x=\"1802.5\" y=\"-2145.8\" font-family=\"Helvetica,sans-Serif\" font-size=\"14.00\" fill=\"#000000\">value = [0.7058, 0.2942]</text>\n<text text-anchor=\"middle\" x=\"1802.5\" y=\"-2130.8\" font-family=\"Helvetica,sans-Serif\" font-size=\"14.00\" fill=\"#000000\">class = No Malware</text>\n</g>\n<!-- 4&#45;&gt;6 -->\n<g id=\"edge6\" class=\"edge\">\n<title>4&#45;&gt;6</title>\n<path fill=\"none\" stroke=\"#000000\" d=\"M1676.2289,-2157C1686.2634,-2157 1696.089,-2157 1705.5483,-2157\"/>\n<polygon fill=\"#000000\" stroke=\"#000000\" points=\"1705.6616,-2160.5001 1715.6615,-2157 1705.6615,-2153.5001 1705.6616,-2160.5001\"/>\n</g>\n<!-- 8 -->\n<g id=\"node9\" class=\"node\">\n<title>8</title>\n<path fill=\"#f6d3b9\" stroke=\"#000000\" d=\"M1877,-2105C1877,-2105 1728,-2105 1728,-2105 1722,-2105 1716,-2099 1716,-2093 1716,-2093 1716,-2049 1716,-2049 1716,-2043 1722,-2037 1728,-2037 1728,-2037 1877,-2037 1877,-2037 1883,-2037 1889,-2043 1889,-2049 1889,-2049 1889,-2093 1889,-2093 1889,-2099 1883,-2105 1877,-2105\"/>\n<text text-anchor=\"middle\" x=\"1802.5\" y=\"-2089.8\" font-family=\"Helvetica,sans-Serif\" font-size=\"14.00\" fill=\"#000000\">gini = 0.4773</text>\n<text text-anchor=\"middle\" x=\"1802.5\" y=\"-2074.8\" font-family=\"Helvetica,sans-Serif\" font-size=\"14.00\" fill=\"#000000\">samples = 5.3%</text>\n<text text-anchor=\"middle\" x=\"1802.5\" y=\"-2059.8\" font-family=\"Helvetica,sans-Serif\" font-size=\"14.00\" fill=\"#000000\">value = [0.6065, 0.3935]</text>\n<text text-anchor=\"middle\" x=\"1802.5\" y=\"-2044.8\" font-family=\"Helvetica,sans-Serif\" font-size=\"14.00\" fill=\"#000000\">class = No Malware</text>\n</g>\n<!-- 7&#45;&gt;8 -->\n<g id=\"edge8\" class=\"edge\">\n<title>7&#45;&gt;8</title>\n<path fill=\"none\" stroke=\"#000000\" d=\"M1589.0817,-2038.4122C1627.4258,-2044.2671 1669.3165,-2050.6636 1705.7514,-2056.227\"/>\n<polygon fill=\"#000000\" stroke=\"#000000\" points=\"1705.4619,-2059.7233 1715.8757,-2057.7729 1706.5186,-2052.8035 1705.4619,-2059.7233\"/>\n</g>\n<!-- 9 -->\n<g id=\"node10\" class=\"node\">\n<title>9</title>\n<path fill=\"#fcf0e7\" stroke=\"#000000\" d=\"M1877,-2019C1877,-2019 1728,-2019 1728,-2019 1722,-2019 1716,-2013 1716,-2007 1716,-2007 1716,-1963 1716,-1963 1716,-1957 1722,-1951 1728,-1951 1728,-1951 1877,-1951 1877,-1951 1883,-1951 1889,-1957 1889,-1963 1889,-1963 1889,-2007 1889,-2007 1889,-2013 1883,-2019 1877,-2019\"/>\n<text text-anchor=\"middle\" x=\"1802.5\" y=\"-2003.8\" font-family=\"Helvetica,sans-Serif\" font-size=\"14.00\" fill=\"#000000\">gini = 0.498</text>\n<text text-anchor=\"middle\" x=\"1802.5\" y=\"-1988.8\" font-family=\"Helvetica,sans-Serif\" font-size=\"14.00\" fill=\"#000000\">samples = 3.6%</text>\n<text text-anchor=\"middle\" x=\"1802.5\" y=\"-1973.8\" font-family=\"Helvetica,sans-Serif\" font-size=\"14.00\" fill=\"#000000\">value = [0.5319, 0.4681]</text>\n<text text-anchor=\"middle\" x=\"1802.5\" y=\"-1958.8\" font-family=\"Helvetica,sans-Serif\" font-size=\"14.00\" fill=\"#000000\">class = No Malware</text>\n</g>\n<!-- 7&#45;&gt;9 -->\n<g id=\"edge9\" class=\"edge\">\n<title>7&#45;&gt;9</title>\n<path fill=\"none\" stroke=\"#000000\" d=\"M1589.0817,-2007.3642C1627.4258,-2003.3461 1669.3165,-1998.9564 1705.7514,-1995.1383\"/>\n<polygon fill=\"#000000\" stroke=\"#000000\" points=\"1706.295,-1998.6006 1715.8757,-1994.0774 1705.5654,-1991.6387 1706.295,-1998.6006\"/>\n</g>\n<!-- 11 -->\n<g id=\"node12\" class=\"node\">\n<title>11</title>\n<path fill=\"#fdfeff\" stroke=\"#000000\" d=\"M1577,-1862.5C1577,-1862.5 1360,-1862.5 1360,-1862.5 1354,-1862.5 1348,-1856.5 1348,-1850.5 1348,-1850.5 1348,-1791.5 1348,-1791.5 1348,-1785.5 1354,-1779.5 1360,-1779.5 1360,-1779.5 1577,-1779.5 1577,-1779.5 1583,-1779.5 1589,-1785.5 1589,-1791.5 1589,-1791.5 1589,-1850.5 1589,-1850.5 1589,-1856.5 1583,-1862.5 1577,-1862.5\"/>\n<text text-anchor=\"middle\" x=\"1468.5\" y=\"-1847.3\" font-family=\"Helvetica,sans-Serif\" font-size=\"14.00\" fill=\"#000000\">EngineVersion_1.1.15100.1 &lt;= 0.5</text>\n<text text-anchor=\"middle\" x=\"1468.5\" y=\"-1832.3\" font-family=\"Helvetica,sans-Serif\" font-size=\"14.00\" fill=\"#000000\">gini = 0.5</text>\n<text text-anchor=\"middle\" x=\"1468.5\" y=\"-1817.3\" font-family=\"Helvetica,sans-Serif\" font-size=\"14.00\" fill=\"#000000\">samples = 35.6%</text>\n<text text-anchor=\"middle\" x=\"1468.5\" y=\"-1802.3\" font-family=\"Helvetica,sans-Serif\" font-size=\"14.00\" fill=\"#000000\">value = [0.4971, 0.5029]</text>\n<text text-anchor=\"middle\" x=\"1468.5\" y=\"-1787.3\" font-family=\"Helvetica,sans-Serif\" font-size=\"14.00\" fill=\"#000000\">class = Malware</text>\n</g>\n<!-- 10&#45;&gt;11 -->\n<g id=\"edge11\" class=\"edge\">\n<title>10&#45;&gt;11</title>\n<path fill=\"none\" stroke=\"#000000\" d=\"M1096.1041,-1780.434C1164.105,-1787.8415 1259.9048,-1798.2772 1337.3083,-1806.709\"/>\n<polygon fill=\"#000000\" stroke=\"#000000\" points=\"1337.2984,-1810.2285 1347.6186,-1807.8321 1338.0565,-1803.2697 1337.2984,-1810.2285\"/>\n</g>\n<!-- 14 -->\n<g id=\"node15\" class=\"node\">\n<title>14</title>\n<path fill=\"#bfe0f7\" stroke=\"#000000\" d=\"M1577,-1761.5C1577,-1761.5 1360,-1761.5 1360,-1761.5 1354,-1761.5 1348,-1755.5 1348,-1749.5 1348,-1749.5 1348,-1690.5 1348,-1690.5 1348,-1684.5 1354,-1678.5 1360,-1678.5 1360,-1678.5 1577,-1678.5 1577,-1678.5 1583,-1678.5 1589,-1684.5 1589,-1690.5 1589,-1690.5 1589,-1749.5 1589,-1749.5 1589,-1755.5 1583,-1761.5 1577,-1761.5\"/>\n<text text-anchor=\"middle\" x=\"1468.5\" y=\"-1746.3\" font-family=\"Helvetica,sans-Serif\" font-size=\"14.00\" fill=\"#000000\">EngineVersion_1.1.15100.1 &lt;= 0.5</text>\n<text text-anchor=\"middle\" x=\"1468.5\" y=\"-1731.3\" font-family=\"Helvetica,sans-Serif\" font-size=\"14.00\" fill=\"#000000\">gini = 0.4817</text>\n<text text-anchor=\"middle\" x=\"1468.5\" y=\"-1716.3\" font-family=\"Helvetica,sans-Serif\" font-size=\"14.00\" fill=\"#000000\">samples = 14.4%</text>\n<text text-anchor=\"middle\" x=\"1468.5\" y=\"-1701.3\" font-family=\"Helvetica,sans-Serif\" font-size=\"14.00\" fill=\"#000000\">value = [0.4043, 0.5957]</text>\n<text text-anchor=\"middle\" x=\"1468.5\" y=\"-1686.3\" font-family=\"Helvetica,sans-Serif\" font-size=\"14.00\" fill=\"#000000\">class = Malware</text>\n</g>\n<!-- 10&#45;&gt;14 -->\n<g id=\"edge14\" class=\"edge\">\n<title>10&#45;&gt;14</title>\n<path fill=\"none\" stroke=\"#000000\" d=\"M1096.1041,-1761.3773C1164.105,-1753.8217 1259.9048,-1743.1772 1337.3083,-1734.5769\"/>\n<polygon fill=\"#000000\" stroke=\"#000000\" points=\"1338.0663,-1738.0143 1347.6186,-1733.4313 1337.2932,-1731.0571 1338.0663,-1738.0143\"/>\n</g>\n<!-- 12 -->\n<g id=\"node13\" class=\"node\">\n<title>12</title>\n<path fill=\"#fdf4ee\" stroke=\"#000000\" d=\"M1868.5,-1933C1868.5,-1933 1736.5,-1933 1736.5,-1933 1730.5,-1933 1724.5,-1927 1724.5,-1921 1724.5,-1921 1724.5,-1877 1724.5,-1877 1724.5,-1871 1730.5,-1865 1736.5,-1865 1736.5,-1865 1868.5,-1865 1868.5,-1865 1874.5,-1865 1880.5,-1871 1880.5,-1877 1880.5,-1877 1880.5,-1921 1880.5,-1921 1880.5,-1927 1874.5,-1933 1868.5,-1933\"/>\n<text text-anchor=\"middle\" x=\"1802.5\" y=\"-1917.8\" font-family=\"Helvetica,sans-Serif\" font-size=\"14.00\" fill=\"#000000\">gini = 0.4989</text>\n<text text-anchor=\"middle\" x=\"1802.5\" y=\"-1902.8\" font-family=\"Helvetica,sans-Serif\" font-size=\"14.00\" fill=\"#000000\">samples = 21.8%</text>\n<text text-anchor=\"middle\" x=\"1802.5\" y=\"-1887.8\" font-family=\"Helvetica,sans-Serif\" font-size=\"14.00\" fill=\"#000000\">value = [0.523, 0.477]</text>\n<text text-anchor=\"middle\" x=\"1802.5\" y=\"-1872.8\" font-family=\"Helvetica,sans-Serif\" font-size=\"14.00\" fill=\"#000000\">class = No Malware</text>\n</g>\n<!-- 11&#45;&gt;12 -->\n<g id=\"edge12\" class=\"edge\">\n<title>11&#45;&gt;12</title>\n<path fill=\"none\" stroke=\"#000000\" d=\"M1589.0817,-1849.1598C1630.4199,-1858.8136 1675.8801,-1869.4301 1714.1822,-1878.3749\"/>\n<polygon fill=\"#000000\" stroke=\"#000000\" points=\"1713.737,-1881.865 1724.2709,-1880.7309 1715.3289,-1875.0484 1713.737,-1881.865\"/>\n</g>\n<!-- 13 -->\n<g id=\"node14\" class=\"node\">\n<title>13</title>\n<path fill=\"#dfeffb\" stroke=\"#000000\" d=\"M1877,-1847C1877,-1847 1728,-1847 1728,-1847 1722,-1847 1716,-1841 1716,-1835 1716,-1835 1716,-1791 1716,-1791 1716,-1785 1722,-1779 1728,-1779 1728,-1779 1877,-1779 1877,-1779 1883,-1779 1889,-1785 1889,-1791 1889,-1791 1889,-1835 1889,-1835 1889,-1841 1883,-1847 1877,-1847\"/>\n<text text-anchor=\"middle\" x=\"1802.5\" y=\"-1831.8\" font-family=\"Helvetica,sans-Serif\" font-size=\"14.00\" fill=\"#000000\">gini = 0.4962</text>\n<text text-anchor=\"middle\" x=\"1802.5\" y=\"-1816.8\" font-family=\"Helvetica,sans-Serif\" font-size=\"14.00\" fill=\"#000000\">samples = 13.8%</text>\n<text text-anchor=\"middle\" x=\"1802.5\" y=\"-1801.8\" font-family=\"Helvetica,sans-Serif\" font-size=\"14.00\" fill=\"#000000\">value = [0.4562, 0.5438]</text>\n<text text-anchor=\"middle\" x=\"1802.5\" y=\"-1786.8\" font-family=\"Helvetica,sans-Serif\" font-size=\"14.00\" fill=\"#000000\">class = Malware</text>\n</g>\n<!-- 11&#45;&gt;13 -->\n<g id=\"edge13\" class=\"edge\">\n<title>11&#45;&gt;13</title>\n<path fill=\"none\" stroke=\"#000000\" d=\"M1589.0817,-1818.1118C1627.4258,-1817.1934 1669.3165,-1816.19 1705.7514,-1815.3173\"/>\n<polygon fill=\"#000000\" stroke=\"#000000\" points=\"1705.9624,-1818.8134 1715.8757,-1815.0748 1705.7947,-1811.8154 1705.9624,-1818.8134\"/>\n</g>\n<!-- 15 -->\n<g id=\"node16\" class=\"node\">\n<title>15</title>\n<path fill=\"#d0e8f9\" stroke=\"#000000\" d=\"M1877,-1761C1877,-1761 1728,-1761 1728,-1761 1722,-1761 1716,-1755 1716,-1749 1716,-1749 1716,-1705 1716,-1705 1716,-1699 1722,-1693 1728,-1693 1728,-1693 1877,-1693 1877,-1693 1883,-1693 1889,-1699 1889,-1705 1889,-1705 1889,-1749 1889,-1749 1889,-1755 1883,-1761 1877,-1761\"/>\n<text text-anchor=\"middle\" x=\"1802.5\" y=\"-1745.8\" font-family=\"Helvetica,sans-Serif\" font-size=\"14.00\" fill=\"#000000\">gini = 0.4911</text>\n<text text-anchor=\"middle\" x=\"1802.5\" y=\"-1730.8\" font-family=\"Helvetica,sans-Serif\" font-size=\"14.00\" fill=\"#000000\">samples = 7.6%</text>\n<text text-anchor=\"middle\" x=\"1802.5\" y=\"-1715.8\" font-family=\"Helvetica,sans-Serif\" font-size=\"14.00\" fill=\"#000000\">value = [0.4332, 0.5668]</text>\n<text text-anchor=\"middle\" x=\"1802.5\" y=\"-1700.8\" font-family=\"Helvetica,sans-Serif\" font-size=\"14.00\" fill=\"#000000\">class = Malware</text>\n</g>\n<!-- 14&#45;&gt;15 -->\n<g id=\"edge15\" class=\"edge\">\n<title>14&#45;&gt;15</title>\n<path fill=\"none\" stroke=\"#000000\" d=\"M1589.0817,-1722.5272C1627.4258,-1723.3308 1669.3165,-1724.2087 1705.7514,-1724.9723\"/>\n<polygon fill=\"#000000\" stroke=\"#000000\" points=\"1705.8045,-1728.4741 1715.8757,-1725.1845 1705.9513,-1721.4757 1705.8045,-1728.4741\"/>\n</g>\n<!-- 16 -->\n<g id=\"node17\" class=\"node\">\n<title>16</title>\n<path fill=\"#aed7f4\" stroke=\"#000000\" d=\"M1877,-1675C1877,-1675 1728,-1675 1728,-1675 1722,-1675 1716,-1669 1716,-1663 1716,-1663 1716,-1619 1716,-1619 1716,-1613 1722,-1607 1728,-1607 1728,-1607 1877,-1607 1877,-1607 1883,-1607 1889,-1613 1889,-1619 1889,-1619 1889,-1663 1889,-1663 1889,-1669 1883,-1675 1877,-1675\"/>\n<text text-anchor=\"middle\" x=\"1802.5\" y=\"-1659.8\" font-family=\"Helvetica,sans-Serif\" font-size=\"14.00\" fill=\"#000000\">gini = 0.4673</text>\n<text text-anchor=\"middle\" x=\"1802.5\" y=\"-1644.8\" font-family=\"Helvetica,sans-Serif\" font-size=\"14.00\" fill=\"#000000\">samples = 6.8%</text>\n<text text-anchor=\"middle\" x=\"1802.5\" y=\"-1629.8\" font-family=\"Helvetica,sans-Serif\" font-size=\"14.00\" fill=\"#000000\">value = [0.3722, 0.6278]</text>\n<text text-anchor=\"middle\" x=\"1802.5\" y=\"-1614.8\" font-family=\"Helvetica,sans-Serif\" font-size=\"14.00\" fill=\"#000000\">class = Malware</text>\n</g>\n<!-- 14&#45;&gt;16 -->\n<g id=\"edge16\" class=\"edge\">\n<title>14&#45;&gt;16</title>\n<path fill=\"none\" stroke=\"#000000\" d=\"M1589.0817,-1691.4792C1627.4258,-1682.4098 1669.3165,-1672.5015 1705.7514,-1663.8837\"/>\n<polygon fill=\"#000000\" stroke=\"#000000\" points=\"1706.9498,-1667.1968 1715.8757,-1661.489 1705.3386,-1660.3848 1706.9498,-1667.1968\"/>\n</g>\n<!-- 18 -->\n<g id=\"node19\" class=\"node\">\n<title>18</title>\n<path fill=\"#f1bd97\" stroke=\"#000000\" d=\"M1118,-1374.5C1118,-1374.5 901,-1374.5 901,-1374.5 895,-1374.5 889,-1368.5 889,-1362.5 889,-1362.5 889,-1303.5 889,-1303.5 889,-1297.5 895,-1291.5 901,-1291.5 901,-1291.5 1118,-1291.5 1118,-1291.5 1124,-1291.5 1130,-1297.5 1130,-1303.5 1130,-1303.5 1130,-1362.5 1130,-1362.5 1130,-1368.5 1124,-1374.5 1118,-1374.5\"/>\n<text text-anchor=\"middle\" x=\"1009.5\" y=\"-1359.3\" font-family=\"Helvetica,sans-Serif\" font-size=\"14.00\" fill=\"#000000\">EngineVersion_1.1.15200.1 &lt;= 0.5</text>\n<text text-anchor=\"middle\" x=\"1009.5\" y=\"-1344.3\" font-family=\"Helvetica,sans-Serif\" font-size=\"14.00\" fill=\"#000000\">gini = 0.4368</text>\n<text text-anchor=\"middle\" x=\"1009.5\" y=\"-1329.3\" font-family=\"Helvetica,sans-Serif\" font-size=\"14.00\" fill=\"#000000\">samples = 16.7%</text>\n<text text-anchor=\"middle\" x=\"1009.5\" y=\"-1314.3\" font-family=\"Helvetica,sans-Serif\" font-size=\"14.00\" fill=\"#000000\">value = [0.6777, 0.3223]</text>\n<text text-anchor=\"middle\" x=\"1009.5\" y=\"-1299.3\" font-family=\"Helvetica,sans-Serif\" font-size=\"14.00\" fill=\"#000000\">class = No Malware</text>\n</g>\n<!-- 17&#45;&gt;18 -->\n<g id=\"edge18\" class=\"edge\">\n<title>17&#45;&gt;18</title>\n<path fill=\"none\" stroke=\"#000000\" d=\"M751.5401,-1267.5729C792.1101,-1277.8628 837.5547,-1289.389 878.8651,-1299.8667\"/>\n<polygon fill=\"#000000\" stroke=\"#000000\" points=\"878.1625,-1303.2993 888.7161,-1302.3652 879.8835,-1296.5141 878.1625,-1303.2993\"/>\n</g>\n<!-- 25 -->\n<g id=\"node26\" class=\"node\">\n<title>25</title>\n<path fill=\"#f6d5bd\" stroke=\"#000000\" d=\"M1084,-1216.5C1084,-1216.5 935,-1216.5 935,-1216.5 929,-1216.5 923,-1210.5 923,-1204.5 923,-1204.5 923,-1145.5 923,-1145.5 923,-1139.5 929,-1133.5 935,-1133.5 935,-1133.5 1084,-1133.5 1084,-1133.5 1090,-1133.5 1096,-1139.5 1096,-1145.5 1096,-1145.5 1096,-1204.5 1096,-1204.5 1096,-1210.5 1090,-1216.5 1084,-1216.5\"/>\n<text text-anchor=\"middle\" x=\"1009.5\" y=\"-1201.3\" font-family=\"Helvetica,sans-Serif\" font-size=\"14.00\" fill=\"#000000\">Wdft_IsGamer &lt;= 0.5</text>\n<text text-anchor=\"middle\" x=\"1009.5\" y=\"-1186.3\" font-family=\"Helvetica,sans-Serif\" font-size=\"14.00\" fill=\"#000000\">gini = 0.4797</text>\n<text text-anchor=\"middle\" x=\"1009.5\" y=\"-1171.3\" font-family=\"Helvetica,sans-Serif\" font-size=\"14.00\" fill=\"#000000\">samples = 10.2%</text>\n<text text-anchor=\"middle\" x=\"1009.5\" y=\"-1156.3\" font-family=\"Helvetica,sans-Serif\" font-size=\"14.00\" fill=\"#000000\">value = [0.6008, 0.3992]</text>\n<text text-anchor=\"middle\" x=\"1009.5\" y=\"-1141.3\" font-family=\"Helvetica,sans-Serif\" font-size=\"14.00\" fill=\"#000000\">class = No Malware</text>\n</g>\n<!-- 17&#45;&gt;25 -->\n<g id=\"edge25\" class=\"edge\">\n<title>17&#45;&gt;25</title>\n<path fill=\"none\" stroke=\"#000000\" d=\"M751.5401,-1217.255C803.6733,-1208.7153 863.8558,-1198.8572 912.9716,-1190.8118\"/>\n<polygon fill=\"#000000\" stroke=\"#000000\" points=\"913.6563,-1194.2464 922.959,-1189.1758 912.5247,-1187.3384 913.6563,-1194.2464\"/>\n</g>\n<!-- 19 -->\n<g id=\"node20\" class=\"node\">\n<title>19</title>\n<path fill=\"#efb083\" stroke=\"#000000\" d=\"M1543,-1510.5C1543,-1510.5 1394,-1510.5 1394,-1510.5 1388,-1510.5 1382,-1504.5 1382,-1498.5 1382,-1498.5 1382,-1439.5 1382,-1439.5 1382,-1433.5 1388,-1427.5 1394,-1427.5 1394,-1427.5 1543,-1427.5 1543,-1427.5 1549,-1427.5 1555,-1433.5 1555,-1439.5 1555,-1439.5 1555,-1498.5 1555,-1498.5 1555,-1504.5 1549,-1510.5 1543,-1510.5\"/>\n<text text-anchor=\"middle\" x=\"1468.5\" y=\"-1495.3\" font-family=\"Helvetica,sans-Serif\" font-size=\"14.00\" fill=\"#000000\">IeVerIdentifier &lt;= 112.5</text>\n<text text-anchor=\"middle\" x=\"1468.5\" y=\"-1480.3\" font-family=\"Helvetica,sans-Serif\" font-size=\"14.00\" fill=\"#000000\">gini = 0.3964</text>\n<text text-anchor=\"middle\" x=\"1468.5\" y=\"-1465.3\" font-family=\"Helvetica,sans-Serif\" font-size=\"14.00\" fill=\"#000000\">samples = 5.6%</text>\n<text text-anchor=\"middle\" x=\"1468.5\" y=\"-1450.3\" font-family=\"Helvetica,sans-Serif\" font-size=\"14.00\" fill=\"#000000\">value = [0.7276, 0.2724]</text>\n<text text-anchor=\"middle\" x=\"1468.5\" y=\"-1435.3\" font-family=\"Helvetica,sans-Serif\" font-size=\"14.00\" fill=\"#000000\">class = No Malware</text>\n</g>\n<!-- 18&#45;&gt;19 -->\n<g id=\"edge19\" class=\"edge\">\n<title>18&#45;&gt;19</title>\n<path fill=\"none\" stroke=\"#000000\" d=\"M1130.0968,-1368.7324C1205.567,-1391.0939 1301.4912,-1419.5159 1371.9248,-1440.3851\"/>\n<polygon fill=\"#000000\" stroke=\"#000000\" points=\"1371.107,-1443.7931 1381.6893,-1443.2783 1373.0956,-1437.0816 1371.107,-1443.7931\"/>\n</g>\n<!-- 22 -->\n<g id=\"node23\" class=\"node\">\n<title>22</title>\n<path fill=\"#f3c4a3\" stroke=\"#000000\" d=\"M1641,-1374.5C1641,-1374.5 1296,-1374.5 1296,-1374.5 1290,-1374.5 1284,-1368.5 1284,-1362.5 1284,-1362.5 1284,-1303.5 1284,-1303.5 1284,-1297.5 1290,-1291.5 1296,-1291.5 1296,-1291.5 1641,-1291.5 1641,-1291.5 1647,-1291.5 1653,-1297.5 1653,-1303.5 1653,-1303.5 1653,-1362.5 1653,-1362.5 1653,-1368.5 1647,-1374.5 1641,-1374.5\"/>\n<text text-anchor=\"middle\" x=\"1468.5\" y=\"-1359.3\" font-family=\"Helvetica,sans-Serif\" font-size=\"14.00\" fill=\"#000000\">Census_IsAlwaysOnAlwaysConnectedCapable &lt;= 0.5</text>\n<text text-anchor=\"middle\" x=\"1468.5\" y=\"-1344.3\" font-family=\"Helvetica,sans-Serif\" font-size=\"14.00\" fill=\"#000000\">gini = 0.4536</text>\n<text text-anchor=\"middle\" x=\"1468.5\" y=\"-1329.3\" font-family=\"Helvetica,sans-Serif\" font-size=\"14.00\" fill=\"#000000\">samples = 11.1%</text>\n<text text-anchor=\"middle\" x=\"1468.5\" y=\"-1314.3\" font-family=\"Helvetica,sans-Serif\" font-size=\"14.00\" fill=\"#000000\">value = [0.6523, 0.3477]</text>\n<text text-anchor=\"middle\" x=\"1468.5\" y=\"-1299.3\" font-family=\"Helvetica,sans-Serif\" font-size=\"14.00\" fill=\"#000000\">class = No Malware</text>\n</g>\n<!-- 18&#45;&gt;22 -->\n<g id=\"edge22\" class=\"edge\">\n<title>18&#45;&gt;22</title>\n<path fill=\"none\" stroke=\"#000000\" d=\"M1130.0968,-1333C1174.0802,-1333 1225.0106,-1333 1273.7938,-1333\"/>\n<polygon fill=\"#000000\" stroke=\"#000000\" points=\"1273.8429,-1336.5001 1283.8428,-1333 1273.8428,-1329.5001 1273.8429,-1336.5001\"/>\n</g>\n<!-- 20 -->\n<g id=\"node21\" class=\"node\">\n<title>20</title>\n<path fill=\"#f0b68c\" stroke=\"#000000\" d=\"M1877,-1589C1877,-1589 1728,-1589 1728,-1589 1722,-1589 1716,-1583 1716,-1577 1716,-1577 1716,-1533 1716,-1533 1716,-1527 1722,-1521 1728,-1521 1728,-1521 1877,-1521 1877,-1521 1883,-1521 1889,-1527 1889,-1533 1889,-1533 1889,-1577 1889,-1577 1889,-1583 1883,-1589 1877,-1589\"/>\n<text text-anchor=\"middle\" x=\"1802.5\" y=\"-1573.8\" font-family=\"Helvetica,sans-Serif\" font-size=\"14.00\" fill=\"#000000\">gini = 0.4157</text>\n<text text-anchor=\"middle\" x=\"1802.5\" y=\"-1558.8\" font-family=\"Helvetica,sans-Serif\" font-size=\"14.00\" fill=\"#000000\">samples = 2.7%</text>\n<text text-anchor=\"middle\" x=\"1802.5\" y=\"-1543.8\" font-family=\"Helvetica,sans-Serif\" font-size=\"14.00\" fill=\"#000000\">value = [0.7053, 0.2947]</text>\n<text text-anchor=\"middle\" x=\"1802.5\" y=\"-1528.8\" font-family=\"Helvetica,sans-Serif\" font-size=\"14.00\" fill=\"#000000\">class = No Malware</text>\n</g>\n<!-- 19&#45;&gt;20 -->\n<g id=\"edge20\" class=\"edge\">\n<title>19&#45;&gt;20</title>\n<path fill=\"none\" stroke=\"#000000\" d=\"M1555.3827,-1491.371C1601.5844,-1503.2672 1658.5079,-1517.9242 1706.0719,-1530.1712\"/>\n<polygon fill=\"#000000\" stroke=\"#000000\" points=\"1705.2058,-1533.5623 1715.7627,-1532.6664 1706.9513,-1526.7834 1705.2058,-1533.5623\"/>\n</g>\n<!-- 21 -->\n<g id=\"node22\" class=\"node\">\n<title>21</title>\n<path fill=\"#eeab7c\" stroke=\"#000000\" d=\"M1877,-1503C1877,-1503 1728,-1503 1728,-1503 1722,-1503 1716,-1497 1716,-1491 1716,-1491 1716,-1447 1716,-1447 1716,-1441 1722,-1435 1728,-1435 1728,-1435 1877,-1435 1877,-1435 1883,-1435 1889,-1441 1889,-1447 1889,-1447 1889,-1491 1889,-1491 1889,-1497 1883,-1503 1877,-1503\"/>\n<text text-anchor=\"middle\" x=\"1802.5\" y=\"-1487.8\" font-family=\"Helvetica,sans-Serif\" font-size=\"14.00\" fill=\"#000000\">gini = 0.3771</text>\n<text text-anchor=\"middle\" x=\"1802.5\" y=\"-1472.8\" font-family=\"Helvetica,sans-Serif\" font-size=\"14.00\" fill=\"#000000\">samples = 2.9%</text>\n<text text-anchor=\"middle\" x=\"1802.5\" y=\"-1457.8\" font-family=\"Helvetica,sans-Serif\" font-size=\"14.00\" fill=\"#000000\">value = [0.7479, 0.2521]</text>\n<text text-anchor=\"middle\" x=\"1802.5\" y=\"-1442.8\" font-family=\"Helvetica,sans-Serif\" font-size=\"14.00\" fill=\"#000000\">class = No Malware</text>\n</g>\n<!-- 19&#45;&gt;21 -->\n<g id=\"edge21\" class=\"edge\">\n<title>19&#45;&gt;21</title>\n<path fill=\"none\" stroke=\"#000000\" d=\"M1555.3827,-1469C1601.3915,-1469 1658.0327,-1469 1705.4757,-1469\"/>\n<polygon fill=\"#000000\" stroke=\"#000000\" points=\"1705.7627,-1472.5001 1715.7627,-1469 1705.7627,-1465.5001 1705.7627,-1472.5001\"/>\n</g>\n<!-- 23 -->\n<g id=\"node24\" class=\"node\">\n<title>23</title>\n<path fill=\"#f3c6a5\" stroke=\"#000000\" d=\"M1877,-1417C1877,-1417 1728,-1417 1728,-1417 1722,-1417 1716,-1411 1716,-1405 1716,-1405 1716,-1361 1716,-1361 1716,-1355 1722,-1349 1728,-1349 1728,-1349 1877,-1349 1877,-1349 1883,-1349 1889,-1355 1889,-1361 1889,-1361 1889,-1405 1889,-1405 1889,-1411 1883,-1417 1877,-1417\"/>\n<text text-anchor=\"middle\" x=\"1802.5\" y=\"-1401.8\" font-family=\"Helvetica,sans-Serif\" font-size=\"14.00\" fill=\"#000000\">gini = 0.4564</text>\n<text text-anchor=\"middle\" x=\"1802.5\" y=\"-1386.8\" font-family=\"Helvetica,sans-Serif\" font-size=\"14.00\" fill=\"#000000\">samples = 10.7%</text>\n<text text-anchor=\"middle\" x=\"1802.5\" y=\"-1371.8\" font-family=\"Helvetica,sans-Serif\" font-size=\"14.00\" fill=\"#000000\">value = [0.6477, 0.3523]</text>\n<text text-anchor=\"middle\" x=\"1802.5\" y=\"-1356.8\" font-family=\"Helvetica,sans-Serif\" font-size=\"14.00\" fill=\"#000000\">class = No Malware</text>\n</g>\n<!-- 22&#45;&gt;23 -->\n<g id=\"edge23\" class=\"edge\">\n<title>22&#45;&gt;23</title>\n<path fill=\"none\" stroke=\"#000000\" d=\"M1653.0843,-1360.6324C1671.2004,-1363.3444 1689.0374,-1366.0146 1705.7297,-1368.5134\"/>\n<polygon fill=\"#000000\" stroke=\"#000000\" points=\"1705.5594,-1372.0269 1715.9674,-1370.046 1706.5958,-1365.104 1705.5594,-1372.0269\"/>\n</g>\n<!-- 24 -->\n<g id=\"node25\" class=\"node\">\n<title>24</title>\n<path fill=\"#eda673\" stroke=\"#000000\" d=\"M1877,-1331C1877,-1331 1728,-1331 1728,-1331 1722,-1331 1716,-1325 1716,-1319 1716,-1319 1716,-1275 1716,-1275 1716,-1269 1722,-1263 1728,-1263 1728,-1263 1877,-1263 1877,-1263 1883,-1263 1889,-1269 1889,-1275 1889,-1275 1889,-1319 1889,-1319 1889,-1325 1883,-1331 1877,-1331\"/>\n<text text-anchor=\"middle\" x=\"1802.5\" y=\"-1315.8\" font-family=\"Helvetica,sans-Serif\" font-size=\"14.00\" fill=\"#000000\">gini = 0.3504</text>\n<text text-anchor=\"middle\" x=\"1802.5\" y=\"-1300.8\" font-family=\"Helvetica,sans-Serif\" font-size=\"14.00\" fill=\"#000000\">samples = 0.4%</text>\n<text text-anchor=\"middle\" x=\"1802.5\" y=\"-1285.8\" font-family=\"Helvetica,sans-Serif\" font-size=\"14.00\" fill=\"#000000\">value = [0.7735, 0.2265]</text>\n<text text-anchor=\"middle\" x=\"1802.5\" y=\"-1270.8\" font-family=\"Helvetica,sans-Serif\" font-size=\"14.00\" fill=\"#000000\">class = No Malware</text>\n</g>\n<!-- 22&#45;&gt;24 -->\n<g id=\"edge24\" class=\"edge\">\n<title>22&#45;&gt;24</title>\n<path fill=\"none\" stroke=\"#000000\" d=\"M1653.0843,-1313.1047C1671.2004,-1311.1521 1689.0374,-1309.2295 1705.7297,-1307.4303\"/>\n<polygon fill=\"#000000\" stroke=\"#000000\" points=\"1706.4001,-1310.8784 1715.9674,-1306.3269 1705.6499,-1303.9187 1706.4001,-1310.8784\"/>\n</g>\n<!-- 26 -->\n<g id=\"node27\" class=\"node\">\n<title>26</title>\n<path fill=\"#f5ceb3\" stroke=\"#000000\" d=\"M1543,-1216.5C1543,-1216.5 1394,-1216.5 1394,-1216.5 1388,-1216.5 1382,-1210.5 1382,-1204.5 1382,-1204.5 1382,-1145.5 1382,-1145.5 1382,-1139.5 1388,-1133.5 1394,-1133.5 1394,-1133.5 1543,-1133.5 1543,-1133.5 1549,-1133.5 1555,-1139.5 1555,-1145.5 1555,-1145.5 1555,-1204.5 1555,-1204.5 1555,-1210.5 1549,-1216.5 1543,-1216.5\"/>\n<text text-anchor=\"middle\" x=\"1468.5\" y=\"-1201.3\" font-family=\"Helvetica,sans-Serif\" font-size=\"14.00\" fill=\"#000000\">RtpStateBitfield &lt;= 6.0</text>\n<text text-anchor=\"middle\" x=\"1468.5\" y=\"-1186.3\" font-family=\"Helvetica,sans-Serif\" font-size=\"14.00\" fill=\"#000000\">gini = 0.4715</text>\n<text text-anchor=\"middle\" x=\"1468.5\" y=\"-1171.3\" font-family=\"Helvetica,sans-Serif\" font-size=\"14.00\" fill=\"#000000\">samples = 7.0%</text>\n<text text-anchor=\"middle\" x=\"1468.5\" y=\"-1156.3\" font-family=\"Helvetica,sans-Serif\" font-size=\"14.00\" fill=\"#000000\">value = [0.6194, 0.3806]</text>\n<text text-anchor=\"middle\" x=\"1468.5\" y=\"-1141.3\" font-family=\"Helvetica,sans-Serif\" font-size=\"14.00\" fill=\"#000000\">class = No Malware</text>\n</g>\n<!-- 25&#45;&gt;26 -->\n<g id=\"edge26\" class=\"edge\">\n<title>25&#45;&gt;26</title>\n<path fill=\"none\" stroke=\"#000000\" d=\"M1096.1041,-1175C1174.5831,-1175 1290.0879,-1175 1371.6095,-1175\"/>\n<polygon fill=\"#000000\" stroke=\"#000000\" points=\"1371.8775,-1178.5001 1381.8775,-1175 1371.8775,-1171.5001 1371.8775,-1178.5001\"/>\n</g>\n<!-- 29 -->\n<g id=\"node30\" class=\"node\">\n<title>29</title>\n<path fill=\"#f9e4d4\" stroke=\"#000000\" d=\"M1552,-1080.5C1552,-1080.5 1385,-1080.5 1385,-1080.5 1379,-1080.5 1373,-1074.5 1373,-1068.5 1373,-1068.5 1373,-1009.5 1373,-1009.5 1373,-1003.5 1379,-997.5 1385,-997.5 1385,-997.5 1552,-997.5 1552,-997.5 1558,-997.5 1564,-1003.5 1564,-1009.5 1564,-1009.5 1564,-1068.5 1564,-1068.5 1564,-1074.5 1558,-1080.5 1552,-1080.5\"/>\n<text text-anchor=\"middle\" x=\"1468.5\" y=\"-1065.3\" font-family=\"Helvetica,sans-Serif\" font-size=\"14.00\" fill=\"#000000\">AVProductsInstalled &lt;= 2.5</text>\n<text text-anchor=\"middle\" x=\"1468.5\" y=\"-1050.3\" font-family=\"Helvetica,sans-Serif\" font-size=\"14.00\" fill=\"#000000\">gini = 0.4927</text>\n<text text-anchor=\"middle\" x=\"1468.5\" y=\"-1035.3\" font-family=\"Helvetica,sans-Serif\" font-size=\"14.00\" fill=\"#000000\">samples = 3.2%</text>\n<text text-anchor=\"middle\" x=\"1468.5\" y=\"-1020.3\" font-family=\"Helvetica,sans-Serif\" font-size=\"14.00\" fill=\"#000000\">value = [0.5606, 0.4394]</text>\n<text text-anchor=\"middle\" x=\"1468.5\" y=\"-1005.3\" font-family=\"Helvetica,sans-Serif\" font-size=\"14.00\" fill=\"#000000\">class = No Malware</text>\n</g>\n<!-- 25&#45;&gt;29 -->\n<g id=\"edge29\" class=\"edge\">\n<title>25&#45;&gt;29</title>\n<path fill=\"none\" stroke=\"#000000\" d=\"M1096.1041,-1149.3395C1171.872,-1126.8898 1282.1517,-1094.2143 1363.0422,-1070.2468\"/>\n<polygon fill=\"#000000\" stroke=\"#000000\" points=\"1364.1632,-1073.5651 1372.7569,-1067.3683 1362.1745,-1066.8535 1364.1632,-1073.5651\"/>\n</g>\n<!-- 27 -->\n<g id=\"node28\" class=\"node\">\n<title>27</title>\n<path fill=\"#eead7f\" stroke=\"#000000\" d=\"M1877,-1245C1877,-1245 1728,-1245 1728,-1245 1722,-1245 1716,-1239 1716,-1233 1716,-1233 1716,-1189 1716,-1189 1716,-1183 1722,-1177 1728,-1177 1728,-1177 1877,-1177 1877,-1177 1883,-1177 1889,-1183 1889,-1189 1889,-1189 1889,-1233 1889,-1233 1889,-1239 1883,-1245 1877,-1245\"/>\n<text text-anchor=\"middle\" x=\"1802.5\" y=\"-1229.8\" font-family=\"Helvetica,sans-Serif\" font-size=\"14.00\" fill=\"#000000\">gini = 0.3853</text>\n<text text-anchor=\"middle\" x=\"1802.5\" y=\"-1214.8\" font-family=\"Helvetica,sans-Serif\" font-size=\"14.00\" fill=\"#000000\">samples = 0.4%</text>\n<text text-anchor=\"middle\" x=\"1802.5\" y=\"-1199.8\" font-family=\"Helvetica,sans-Serif\" font-size=\"14.00\" fill=\"#000000\">value = [0.7395, 0.2605]</text>\n<text text-anchor=\"middle\" x=\"1802.5\" y=\"-1184.8\" font-family=\"Helvetica,sans-Serif\" font-size=\"14.00\" fill=\"#000000\">class = No Malware</text>\n</g>\n<!-- 26&#45;&gt;27 -->\n<g id=\"edge27\" class=\"edge\">\n<title>26&#45;&gt;27</title>\n<path fill=\"none\" stroke=\"#000000\" d=\"M1555.3827,-1184.3646C1601.4879,-1189.334 1658.2702,-1195.4543 1705.7739,-1200.5744\"/>\n<polygon fill=\"#000000\" stroke=\"#000000\" points=\"1705.4452,-1204.0592 1715.7627,-1201.6511 1706.1954,-1197.0995 1705.4452,-1204.0592\"/>\n</g>\n<!-- 28 -->\n<g id=\"node29\" class=\"node\">\n<title>28</title>\n<path fill=\"#f6d1b7\" stroke=\"#000000\" d=\"M1877,-1159C1877,-1159 1728,-1159 1728,-1159 1722,-1159 1716,-1153 1716,-1147 1716,-1147 1716,-1103 1716,-1103 1716,-1097 1722,-1091 1728,-1091 1728,-1091 1877,-1091 1877,-1091 1883,-1091 1889,-1097 1889,-1103 1889,-1103 1889,-1147 1889,-1147 1889,-1153 1883,-1159 1877,-1159\"/>\n<text text-anchor=\"middle\" x=\"1802.5\" y=\"-1143.8\" font-family=\"Helvetica,sans-Serif\" font-size=\"14.00\" fill=\"#000000\">gini = 0.4751</text>\n<text text-anchor=\"middle\" x=\"1802.5\" y=\"-1128.8\" font-family=\"Helvetica,sans-Serif\" font-size=\"14.00\" fill=\"#000000\">samples = 6.6%</text>\n<text text-anchor=\"middle\" x=\"1802.5\" y=\"-1113.8\" font-family=\"Helvetica,sans-Serif\" font-size=\"14.00\" fill=\"#000000\">value = [0.6117, 0.3883]</text>\n<text text-anchor=\"middle\" x=\"1802.5\" y=\"-1098.8\" font-family=\"Helvetica,sans-Serif\" font-size=\"14.00\" fill=\"#000000\">class = No Malware</text>\n</g>\n<!-- 26&#45;&gt;28 -->\n<g id=\"edge28\" class=\"edge\">\n<title>26&#45;&gt;28</title>\n<path fill=\"none\" stroke=\"#000000\" d=\"M1555.3827,-1161.9936C1601.4879,-1155.0916 1658.2702,-1146.5913 1705.7739,-1139.48\"/>\n<polygon fill=\"#000000\" stroke=\"#000000\" points=\"1706.3911,-1142.9266 1715.7627,-1137.9846 1705.3547,-1136.0038 1706.3911,-1142.9266\"/>\n</g>\n<!-- 30 -->\n<g id=\"node31\" class=\"node\">\n<title>30</title>\n<path fill=\"#fae8db\" stroke=\"#000000\" d=\"M1877,-1073C1877,-1073 1728,-1073 1728,-1073 1722,-1073 1716,-1067 1716,-1061 1716,-1061 1716,-1017 1716,-1017 1716,-1011 1722,-1005 1728,-1005 1728,-1005 1877,-1005 1877,-1005 1883,-1005 1889,-1011 1889,-1017 1889,-1017 1889,-1061 1889,-1061 1889,-1067 1883,-1073 1877,-1073\"/>\n<text text-anchor=\"middle\" x=\"1802.5\" y=\"-1057.8\" font-family=\"Helvetica,sans-Serif\" font-size=\"14.00\" fill=\"#000000\">gini = 0.4949</text>\n<text text-anchor=\"middle\" x=\"1802.5\" y=\"-1042.8\" font-family=\"Helvetica,sans-Serif\" font-size=\"14.00\" fill=\"#000000\">samples = 2.9%</text>\n<text text-anchor=\"middle\" x=\"1802.5\" y=\"-1027.8\" font-family=\"Helvetica,sans-Serif\" font-size=\"14.00\" fill=\"#000000\">value = [0.5504, 0.4496]</text>\n<text text-anchor=\"middle\" x=\"1802.5\" y=\"-1012.8\" font-family=\"Helvetica,sans-Serif\" font-size=\"14.00\" fill=\"#000000\">class = No Malware</text>\n</g>\n<!-- 29&#45;&gt;30 -->\n<g id=\"edge30\" class=\"edge\">\n<title>29&#45;&gt;30</title>\n<path fill=\"none\" stroke=\"#000000\" d=\"M1564.211,-1039C1608.5623,-1039 1661.172,-1039 1705.6618,-1039\"/>\n<polygon fill=\"#000000\" stroke=\"#000000\" points=\"1705.9029,-1042.5001 1715.9029,-1039 1705.9028,-1035.5001 1705.9029,-1042.5001\"/>\n</g>\n<!-- 31 -->\n<g id=\"node32\" class=\"node\">\n<title>31</title>\n<path fill=\"#f3c4a2\" stroke=\"#000000\" d=\"M1877,-987C1877,-987 1728,-987 1728,-987 1722,-987 1716,-981 1716,-975 1716,-975 1716,-931 1716,-931 1716,-925 1722,-919 1728,-919 1728,-919 1877,-919 1877,-919 1883,-919 1889,-925 1889,-931 1889,-931 1889,-975 1889,-975 1889,-981 1883,-987 1877,-987\"/>\n<text text-anchor=\"middle\" x=\"1802.5\" y=\"-971.8\" font-family=\"Helvetica,sans-Serif\" font-size=\"14.00\" fill=\"#000000\">gini = 0.4535</text>\n<text text-anchor=\"middle\" x=\"1802.5\" y=\"-956.8\" font-family=\"Helvetica,sans-Serif\" font-size=\"14.00\" fill=\"#000000\">samples = 0.3%</text>\n<text text-anchor=\"middle\" x=\"1802.5\" y=\"-941.8\" font-family=\"Helvetica,sans-Serif\" font-size=\"14.00\" fill=\"#000000\">value = [0.6525, 0.3475]</text>\n<text text-anchor=\"middle\" x=\"1802.5\" y=\"-926.8\" font-family=\"Helvetica,sans-Serif\" font-size=\"14.00\" fill=\"#000000\">class = No Malware</text>\n</g>\n<!-- 29&#45;&gt;31 -->\n<g id=\"edge31\" class=\"edge\">\n<title>29&#45;&gt;31</title>\n<path fill=\"none\" stroke=\"#000000\" d=\"M1564.211,-1014.3559C1608.6557,-1002.912 1661.3936,-989.3328 1705.9427,-977.8621\"/>\n<polygon fill=\"#000000\" stroke=\"#000000\" points=\"1707.0915,-981.1805 1715.9029,-975.2975 1705.346,-974.4016 1707.0915,-981.1805\"/>\n</g>\n<!-- 33 -->\n<g id=\"node34\" class=\"node\">\n<title>33</title>\n<path fill=\"#5fb0ea\" stroke=\"#000000\" d=\"M705.5,-705.5C705.5,-705.5 556.5,-705.5 556.5,-705.5 550.5,-705.5 544.5,-699.5 544.5,-693.5 544.5,-693.5 544.5,-634.5 544.5,-634.5 544.5,-628.5 550.5,-622.5 556.5,-622.5 556.5,-622.5 705.5,-622.5 705.5,-622.5 711.5,-622.5 717.5,-628.5 717.5,-634.5 717.5,-634.5 717.5,-693.5 717.5,-693.5 717.5,-699.5 711.5,-705.5 705.5,-705.5\"/>\n<text text-anchor=\"middle\" x=\"631\" y=\"-690.3\" font-family=\"Helvetica,sans-Serif\" font-size=\"14.00\" fill=\"#000000\">Processor &lt;= 0.5</text>\n<text text-anchor=\"middle\" x=\"631\" y=\"-675.3\" font-family=\"Helvetica,sans-Serif\" font-size=\"14.00\" fill=\"#000000\">gini = 0.2692</text>\n<text text-anchor=\"middle\" x=\"631\" y=\"-660.3\" font-family=\"Helvetica,sans-Serif\" font-size=\"14.00\" fill=\"#000000\">samples = 8.5%</text>\n<text text-anchor=\"middle\" x=\"631\" y=\"-645.3\" font-family=\"Helvetica,sans-Serif\" font-size=\"14.00\" fill=\"#000000\">value = [0.1603, 0.8397]</text>\n<text text-anchor=\"middle\" x=\"631\" y=\"-630.3\" font-family=\"Helvetica,sans-Serif\" font-size=\"14.00\" fill=\"#000000\">class = Malware</text>\n</g>\n<!-- 32&#45;&gt;33 -->\n<g id=\"edge33\" class=\"edge\">\n<title>32&#45;&gt;33</title>\n<path fill=\"none\" stroke=\"#000000\" d=\"M464.0111,-664C486.8686,-664 511.2915,-664 534.2064,-664\"/>\n<polygon fill=\"#000000\" stroke=\"#000000\" points=\"534.2704,-667.5001 544.2704,-664 534.2704,-660.5001 534.2704,-667.5001\"/>\n</g>\n<!-- 46 -->\n<g id=\"node47\" class=\"node\">\n<title>46</title>\n<path fill=\"#8ac5f0\" stroke=\"#000000\" d=\"M722.5,-352.5C722.5,-352.5 539.5,-352.5 539.5,-352.5 533.5,-352.5 527.5,-346.5 527.5,-340.5 527.5,-340.5 527.5,-281.5 527.5,-281.5 527.5,-275.5 533.5,-269.5 539.5,-269.5 539.5,-269.5 722.5,-269.5 722.5,-269.5 728.5,-269.5 734.5,-275.5 734.5,-281.5 734.5,-281.5 734.5,-340.5 734.5,-340.5 734.5,-346.5 728.5,-352.5 722.5,-352.5\"/>\n<text text-anchor=\"middle\" x=\"631\" y=\"-337.3\" font-family=\"Helvetica,sans-Serif\" font-size=\"14.00\" fill=\"#000000\">EngineVersion_Others &lt;= 0.5</text>\n<text text-anchor=\"middle\" x=\"631\" y=\"-322.3\" font-family=\"Helvetica,sans-Serif\" font-size=\"14.00\" fill=\"#000000\">gini = 0.4116</text>\n<text text-anchor=\"middle\" x=\"631\" y=\"-307.3\" font-family=\"Helvetica,sans-Serif\" font-size=\"14.00\" fill=\"#000000\">samples = 3.2%</text>\n<text text-anchor=\"middle\" x=\"631\" y=\"-292.3\" font-family=\"Helvetica,sans-Serif\" font-size=\"14.00\" fill=\"#000000\">value = [0.2897, 0.7103]</text>\n<text text-anchor=\"middle\" x=\"631\" y=\"-277.3\" font-family=\"Helvetica,sans-Serif\" font-size=\"14.00\" fill=\"#000000\">class = Malware</text>\n</g>\n<!-- 32&#45;&gt;46 -->\n<g id=\"edge46\" class=\"edge\">\n<title>32&#45;&gt;46</title>\n<path fill=\"none\" stroke=\"#000000\" d=\"M399.384,-622.4684C447.8957,-557.2317 541.783,-430.9756 593.8889,-360.9055\"/>\n<polygon fill=\"#000000\" stroke=\"#000000\" points=\"596.8717,-362.7598 600.0304,-352.6468 591.2545,-358.5828 596.8717,-362.7598\"/>\n</g>\n<!-- 34 -->\n<g id=\"node35\" class=\"node\">\n<title>34</title>\n<path fill=\"#aed7f4\" stroke=\"#000000\" d=\"M1118,-756.5C1118,-756.5 901,-756.5 901,-756.5 895,-756.5 889,-750.5 889,-744.5 889,-744.5 889,-685.5 889,-685.5 889,-679.5 895,-673.5 901,-673.5 901,-673.5 1118,-673.5 1118,-673.5 1124,-673.5 1130,-679.5 1130,-685.5 1130,-685.5 1130,-744.5 1130,-744.5 1130,-750.5 1124,-756.5 1118,-756.5\"/>\n<text text-anchor=\"middle\" x=\"1009.5\" y=\"-741.3\" font-family=\"Helvetica,sans-Serif\" font-size=\"14.00\" fill=\"#000000\">EngineVersion_1.1.14901.4 &lt;= 0.5</text>\n<text text-anchor=\"middle\" x=\"1009.5\" y=\"-726.3\" font-family=\"Helvetica,sans-Serif\" font-size=\"14.00\" fill=\"#000000\">gini = 0.4671</text>\n<text text-anchor=\"middle\" x=\"1009.5\" y=\"-711.3\" font-family=\"Helvetica,sans-Serif\" font-size=\"14.00\" fill=\"#000000\">samples = 0.4%</text>\n<text text-anchor=\"middle\" x=\"1009.5\" y=\"-696.3\" font-family=\"Helvetica,sans-Serif\" font-size=\"14.00\" fill=\"#000000\">value = [0.3717, 0.6283]</text>\n<text text-anchor=\"middle\" x=\"1009.5\" y=\"-681.3\" font-family=\"Helvetica,sans-Serif\" font-size=\"14.00\" fill=\"#000000\">class = Malware</text>\n</g>\n<!-- 33&#45;&gt;34 -->\n<g id=\"edge34\" class=\"edge\">\n<title>33&#45;&gt;34</title>\n<path fill=\"none\" stroke=\"#000000\" d=\"M717.8355,-675.7004C765.4047,-682.11 825.3275,-690.1842 878.4662,-697.3442\"/>\n<polygon fill=\"#000000\" stroke=\"#000000\" points=\"878.2729,-700.8497 888.6507,-698.7165 879.2077,-693.9124 878.2729,-700.8497\"/>\n</g>\n<!-- 39 -->\n<g id=\"node40\" class=\"node\">\n<title>39</title>\n<path fill=\"#5caeea\" stroke=\"#000000\" d=\"M1084,-655.5C1084,-655.5 935,-655.5 935,-655.5 929,-655.5 923,-649.5 923,-643.5 923,-643.5 923,-584.5 923,-584.5 923,-578.5 929,-572.5 935,-572.5 935,-572.5 1084,-572.5 1084,-572.5 1090,-572.5 1096,-578.5 1096,-584.5 1096,-584.5 1096,-643.5 1096,-643.5 1096,-649.5 1090,-655.5 1084,-655.5\"/>\n<text text-anchor=\"middle\" x=\"1009.5\" y=\"-640.3\" font-family=\"Helvetica,sans-Serif\" font-size=\"14.00\" fill=\"#000000\">OsBuild &lt;= 12489.5</text>\n<text text-anchor=\"middle\" x=\"1009.5\" y=\"-625.3\" font-family=\"Helvetica,sans-Serif\" font-size=\"14.00\" fill=\"#000000\">gini = 0.2533</text>\n<text text-anchor=\"middle\" x=\"1009.5\" y=\"-610.3\" font-family=\"Helvetica,sans-Serif\" font-size=\"14.00\" fill=\"#000000\">samples = 8.1%</text>\n<text text-anchor=\"middle\" x=\"1009.5\" y=\"-595.3\" font-family=\"Helvetica,sans-Serif\" font-size=\"14.00\" fill=\"#000000\">value = [0.1488, 0.8512]</text>\n<text text-anchor=\"middle\" x=\"1009.5\" y=\"-580.3\" font-family=\"Helvetica,sans-Serif\" font-size=\"14.00\" fill=\"#000000\">class = Malware</text>\n</g>\n<!-- 33&#45;&gt;39 -->\n<g id=\"edge39\" class=\"edge\">\n<title>33&#45;&gt;39</title>\n<path fill=\"none\" stroke=\"#000000\" d=\"M717.8355,-652.529C775.9142,-644.8568 852.4079,-634.7519 912.4862,-626.8156\"/>\n<polygon fill=\"#000000\" stroke=\"#000000\" points=\"913.2859,-630.2404 922.7414,-625.4608 912.3691,-623.3007 913.2859,-630.2404\"/>\n</g>\n<!-- 35 -->\n<g id=\"node36\" class=\"node\">\n<title>35</title>\n<path fill=\"#a7d4f3\" stroke=\"#000000\" d=\"M1668,-847.5C1668,-847.5 1269,-847.5 1269,-847.5 1263,-847.5 1257,-841.5 1257,-835.5 1257,-835.5 1257,-776.5 1257,-776.5 1257,-770.5 1263,-764.5 1269,-764.5 1269,-764.5 1668,-764.5 1668,-764.5 1674,-764.5 1680,-770.5 1680,-776.5 1680,-776.5 1680,-835.5 1680,-835.5 1680,-841.5 1674,-847.5 1668,-847.5\"/>\n<text text-anchor=\"middle\" x=\"1468.5\" y=\"-832.3\" font-family=\"Helvetica,sans-Serif\" font-size=\"14.00\" fill=\"#000000\">Census_InternalPrimaryDiagonalDisplaySizeInInches &lt;= 15.65</text>\n<text text-anchor=\"middle\" x=\"1468.5\" y=\"-817.3\" font-family=\"Helvetica,sans-Serif\" font-size=\"14.00\" fill=\"#000000\">gini = 0.4594</text>\n<text text-anchor=\"middle\" x=\"1468.5\" y=\"-802.3\" font-family=\"Helvetica,sans-Serif\" font-size=\"14.00\" fill=\"#000000\">samples = 0.4%</text>\n<text text-anchor=\"middle\" x=\"1468.5\" y=\"-787.3\" font-family=\"Helvetica,sans-Serif\" font-size=\"14.00\" fill=\"#000000\">value = [0.3575, 0.6425]</text>\n<text text-anchor=\"middle\" x=\"1468.5\" y=\"-772.3\" font-family=\"Helvetica,sans-Serif\" font-size=\"14.00\" fill=\"#000000\">class = Malware</text>\n</g>\n<!-- 34&#45;&gt;35 -->\n<g id=\"edge35\" class=\"edge\">\n<title>34&#45;&gt;35</title>\n<path fill=\"none\" stroke=\"#000000\" d=\"M1130.0968,-738.9092C1166.7359,-746.1731 1208.1957,-754.3928 1249.2192,-762.526\"/>\n<polygon fill=\"#000000\" stroke=\"#000000\" points=\"1248.5848,-765.9683 1259.0745,-764.4799 1249.9461,-759.1019 1248.5848,-765.9683\"/>\n</g>\n<!-- 38 -->\n<g id=\"node39\" class=\"node\">\n<title>38</title>\n<path fill=\"#f5cdb0\" stroke=\"#000000\" d=\"M1543,-746C1543,-746 1394,-746 1394,-746 1388,-746 1382,-740 1382,-734 1382,-734 1382,-690 1382,-690 1382,-684 1388,-678 1394,-678 1394,-678 1543,-678 1543,-678 1549,-678 1555,-684 1555,-690 1555,-690 1555,-734 1555,-734 1555,-740 1549,-746 1543,-746\"/>\n<text text-anchor=\"middle\" x=\"1468.5\" y=\"-730.8\" font-family=\"Helvetica,sans-Serif\" font-size=\"14.00\" fill=\"#000000\">gini = 0.4694</text>\n<text text-anchor=\"middle\" x=\"1468.5\" y=\"-715.8\" font-family=\"Helvetica,sans-Serif\" font-size=\"14.00\" fill=\"#000000\">samples = 0.0%</text>\n<text text-anchor=\"middle\" x=\"1468.5\" y=\"-700.8\" font-family=\"Helvetica,sans-Serif\" font-size=\"14.00\" fill=\"#000000\">value = [0.6238, 0.3762]</text>\n<text text-anchor=\"middle\" x=\"1468.5\" y=\"-685.8\" font-family=\"Helvetica,sans-Serif\" font-size=\"14.00\" fill=\"#000000\">class = No Malware</text>\n</g>\n<!-- 34&#45;&gt;38 -->\n<g id=\"edge38\" class=\"edge\">\n<title>34&#45;&gt;38</title>\n<path fill=\"none\" stroke=\"#000000\" d=\"M1130.0968,-714.2118C1205.4126,-713.7195 1301.099,-713.0941 1371.4923,-712.634\"/>\n<polygon fill=\"#000000\" stroke=\"#000000\" points=\"1371.7124,-716.1328 1381.6893,-712.5674 1371.6666,-709.1329 1371.7124,-716.1328\"/>\n</g>\n<!-- 36 -->\n<g id=\"node37\" class=\"node\">\n<title>36</title>\n<path fill=\"#b6dbf5\" stroke=\"#000000\" d=\"M1877,-901C1877,-901 1728,-901 1728,-901 1722,-901 1716,-895 1716,-889 1716,-889 1716,-845 1716,-845 1716,-839 1722,-833 1728,-833 1728,-833 1877,-833 1877,-833 1883,-833 1889,-839 1889,-845 1889,-845 1889,-889 1889,-889 1889,-895 1883,-901 1877,-901\"/>\n<text text-anchor=\"middle\" x=\"1802.5\" y=\"-885.8\" font-family=\"Helvetica,sans-Serif\" font-size=\"14.00\" fill=\"#000000\">gini = 0.4748</text>\n<text text-anchor=\"middle\" x=\"1802.5\" y=\"-870.8\" font-family=\"Helvetica,sans-Serif\" font-size=\"14.00\" fill=\"#000000\">samples = 0.3%</text>\n<text text-anchor=\"middle\" x=\"1802.5\" y=\"-855.8\" font-family=\"Helvetica,sans-Serif\" font-size=\"14.00\" fill=\"#000000\">value = [0.3878, 0.6122]</text>\n<text text-anchor=\"middle\" x=\"1802.5\" y=\"-840.8\" font-family=\"Helvetica,sans-Serif\" font-size=\"14.00\" fill=\"#000000\">class = Malware</text>\n</g>\n<!-- 35&#45;&gt;36 -->\n<g id=\"edge36\" class=\"edge\">\n<title>35&#45;&gt;36</title>\n<path fill=\"none\" stroke=\"#000000\" d=\"M1680.0273,-844.6322C1688.8631,-846.2459 1697.5194,-847.8269 1705.8872,-849.3552\"/>\n<polygon fill=\"#000000\" stroke=\"#000000\" points=\"1705.4775,-852.8381 1715.9436,-851.1918 1706.7352,-845.952 1705.4775,-852.8381\"/>\n</g>\n<!-- 37 -->\n<g id=\"node38\" class=\"node\">\n<title>37</title>\n<path fill=\"#80c0ee\" stroke=\"#000000\" d=\"M1877,-815C1877,-815 1728,-815 1728,-815 1722,-815 1716,-809 1716,-803 1716,-803 1716,-759 1716,-759 1716,-753 1722,-747 1728,-747 1728,-747 1877,-747 1877,-747 1883,-747 1889,-753 1889,-759 1889,-759 1889,-803 1889,-803 1889,-809 1883,-815 1877,-815\"/>\n<text text-anchor=\"middle\" x=\"1802.5\" y=\"-799.8\" font-family=\"Helvetica,sans-Serif\" font-size=\"14.00\" fill=\"#000000\">gini = 0.3898</text>\n<text text-anchor=\"middle\" x=\"1802.5\" y=\"-784.8\" font-family=\"Helvetica,sans-Serif\" font-size=\"14.00\" fill=\"#000000\">samples = 0.1%</text>\n<text text-anchor=\"middle\" x=\"1802.5\" y=\"-769.8\" font-family=\"Helvetica,sans-Serif\" font-size=\"14.00\" fill=\"#000000\">value = [0.2653, 0.7347]</text>\n<text text-anchor=\"middle\" x=\"1802.5\" y=\"-754.8\" font-family=\"Helvetica,sans-Serif\" font-size=\"14.00\" fill=\"#000000\">class = Malware</text>\n</g>\n<!-- 35&#45;&gt;37 -->\n<g id=\"edge37\" class=\"edge\">\n<title>35&#45;&gt;37</title>\n<path fill=\"none\" stroke=\"#000000\" d=\"M1680.0273,-790.1671C1688.8631,-789.5058 1697.5194,-788.8578 1705.8872,-788.2315\"/>\n<polygon fill=\"#000000\" stroke=\"#000000\" points=\"1706.2328,-791.7155 1715.9436,-787.4788 1705.7103,-784.735 1706.2328,-791.7155\"/>\n</g>\n<!-- 40 -->\n<g id=\"node41\" class=\"node\">\n<title>40</title>\n<path fill=\"#7dbfee\" stroke=\"#000000\" d=\"M1577,-657.5C1577,-657.5 1360,-657.5 1360,-657.5 1354,-657.5 1348,-651.5 1348,-645.5 1348,-645.5 1348,-586.5 1348,-586.5 1348,-580.5 1354,-574.5 1360,-574.5 1360,-574.5 1577,-574.5 1577,-574.5 1583,-574.5 1589,-580.5 1589,-586.5 1589,-586.5 1589,-645.5 1589,-645.5 1589,-651.5 1583,-657.5 1577,-657.5\"/>\n<text text-anchor=\"middle\" x=\"1468.5\" y=\"-642.3\" font-family=\"Helvetica,sans-Serif\" font-size=\"14.00\" fill=\"#000000\">EngineVersion_1.1.15100.1 &lt;= 0.5</text>\n<text text-anchor=\"middle\" x=\"1468.5\" y=\"-627.3\" font-family=\"Helvetica,sans-Serif\" font-size=\"14.00\" fill=\"#000000\">gini = 0.3815</text>\n<text text-anchor=\"middle\" x=\"1468.5\" y=\"-612.3\" font-family=\"Helvetica,sans-Serif\" font-size=\"14.00\" fill=\"#000000\">samples = 1.1%</text>\n<text text-anchor=\"middle\" x=\"1468.5\" y=\"-597.3\" font-family=\"Helvetica,sans-Serif\" font-size=\"14.00\" fill=\"#000000\">value = [0.2565, 0.7435]</text>\n<text text-anchor=\"middle\" x=\"1468.5\" y=\"-582.3\" font-family=\"Helvetica,sans-Serif\" font-size=\"14.00\" fill=\"#000000\">class = Malware</text>\n</g>\n<!-- 39&#45;&gt;40 -->\n<g id=\"edge40\" class=\"edge\">\n<title>39&#45;&gt;40</title>\n<path fill=\"none\" stroke=\"#000000\" d=\"M1096.1041,-614.3774C1164.105,-614.6737 1259.9048,-615.0911 1337.3083,-615.4284\"/>\n<polygon fill=\"#000000\" stroke=\"#000000\" points=\"1337.6034,-618.9296 1347.6186,-615.4733 1337.634,-611.9296 1337.6034,-618.9296\"/>\n</g>\n<!-- 43 -->\n<g id=\"node44\" class=\"node\">\n<title>43</title>\n<path fill=\"#57ace9\" stroke=\"#000000\" d=\"M1577,-556.5C1577,-556.5 1360,-556.5 1360,-556.5 1354,-556.5 1348,-550.5 1348,-544.5 1348,-544.5 1348,-485.5 1348,-485.5 1348,-479.5 1354,-473.5 1360,-473.5 1360,-473.5 1577,-473.5 1577,-473.5 1583,-473.5 1589,-479.5 1589,-485.5 1589,-485.5 1589,-544.5 1589,-544.5 1589,-550.5 1583,-556.5 1577,-556.5\"/>\n<text text-anchor=\"middle\" x=\"1468.5\" y=\"-541.3\" font-family=\"Helvetica,sans-Serif\" font-size=\"14.00\" fill=\"#000000\">EngineVersion_1.1.14901.4 &lt;= 0.5</text>\n<text text-anchor=\"middle\" x=\"1468.5\" y=\"-526.3\" font-family=\"Helvetica,sans-Serif\" font-size=\"14.00\" fill=\"#000000\">gini = 0.228</text>\n<text text-anchor=\"middle\" x=\"1468.5\" y=\"-511.3\" font-family=\"Helvetica,sans-Serif\" font-size=\"14.00\" fill=\"#000000\">samples = 7.0%</text>\n<text text-anchor=\"middle\" x=\"1468.5\" y=\"-496.3\" font-family=\"Helvetica,sans-Serif\" font-size=\"14.00\" fill=\"#000000\">value = [0.1312, 0.8688]</text>\n<text text-anchor=\"middle\" x=\"1468.5\" y=\"-481.3\" font-family=\"Helvetica,sans-Serif\" font-size=\"14.00\" fill=\"#000000\">class = Malware</text>\n</g>\n<!-- 39&#45;&gt;43 -->\n<g id=\"edge43\" class=\"edge\">\n<title>39&#45;&gt;43</title>\n<path fill=\"none\" stroke=\"#000000\" d=\"M1096.1041,-595.3207C1164.2438,-580.6239 1260.296,-559.9068 1337.7819,-543.1941\"/>\n<polygon fill=\"#000000\" stroke=\"#000000\" points=\"1338.5813,-546.6022 1347.6186,-541.0725 1337.1054,-539.7596 1338.5813,-546.6022\"/>\n</g>\n<!-- 41 -->\n<g id=\"node42\" class=\"node\">\n<title>41</title>\n<path fill=\"#92c9f1\" stroke=\"#000000\" d=\"M1877,-729C1877,-729 1728,-729 1728,-729 1722,-729 1716,-723 1716,-717 1716,-717 1716,-673 1716,-673 1716,-667 1722,-661 1728,-661 1728,-661 1877,-661 1877,-661 1883,-661 1889,-667 1889,-673 1889,-673 1889,-717 1889,-717 1889,-723 1883,-729 1877,-729\"/>\n<text text-anchor=\"middle\" x=\"1802.5\" y=\"-713.8\" font-family=\"Helvetica,sans-Serif\" font-size=\"14.00\" fill=\"#000000\">gini = 0.4281</text>\n<text text-anchor=\"middle\" x=\"1802.5\" y=\"-698.8\" font-family=\"Helvetica,sans-Serif\" font-size=\"14.00\" fill=\"#000000\">samples = 0.6%</text>\n<text text-anchor=\"middle\" x=\"1802.5\" y=\"-683.8\" font-family=\"Helvetica,sans-Serif\" font-size=\"14.00\" fill=\"#000000\">value = [0.3104, 0.6896]</text>\n<text text-anchor=\"middle\" x=\"1802.5\" y=\"-668.8\" font-family=\"Helvetica,sans-Serif\" font-size=\"14.00\" fill=\"#000000\">class = Malware</text>\n</g>\n<!-- 40&#45;&gt;41 -->\n<g id=\"edge41\" class=\"edge\">\n<title>40&#45;&gt;41</title>\n<path fill=\"none\" stroke=\"#000000\" d=\"M1589.0817,-644.5208C1627.4258,-653.5902 1669.3165,-663.4985 1705.7514,-672.1163\"/>\n<polygon fill=\"#000000\" stroke=\"#000000\" points=\"1705.3386,-675.6152 1715.8757,-674.511 1706.9498,-668.8032 1705.3386,-675.6152\"/>\n</g>\n<!-- 42 -->\n<g id=\"node43\" class=\"node\">\n<title>42</title>\n<path fill=\"#6bb6ec\" stroke=\"#000000\" d=\"M1877,-643C1877,-643 1728,-643 1728,-643 1722,-643 1716,-637 1716,-631 1716,-631 1716,-587 1716,-587 1716,-581 1722,-575 1728,-575 1728,-575 1877,-575 1877,-575 1883,-575 1889,-581 1889,-587 1889,-587 1889,-631 1889,-631 1889,-637 1883,-643 1877,-643\"/>\n<text text-anchor=\"middle\" x=\"1802.5\" y=\"-627.8\" font-family=\"Helvetica,sans-Serif\" font-size=\"14.00\" fill=\"#000000\">gini = 0.3206</text>\n<text text-anchor=\"middle\" x=\"1802.5\" y=\"-612.8\" font-family=\"Helvetica,sans-Serif\" font-size=\"14.00\" fill=\"#000000\">samples = 0.6%</text>\n<text text-anchor=\"middle\" x=\"1802.5\" y=\"-597.8\" font-family=\"Helvetica,sans-Serif\" font-size=\"14.00\" fill=\"#000000\">value = [0.2005, 0.7995]</text>\n<text text-anchor=\"middle\" x=\"1802.5\" y=\"-582.8\" font-family=\"Helvetica,sans-Serif\" font-size=\"14.00\" fill=\"#000000\">class = Malware</text>\n</g>\n<!-- 40&#45;&gt;42 -->\n<g id=\"edge42\" class=\"edge\">\n<title>40&#45;&gt;42</title>\n<path fill=\"none\" stroke=\"#000000\" d=\"M1589.0817,-613.4728C1627.4258,-612.6692 1669.3165,-611.7913 1705.7514,-611.0277\"/>\n<polygon fill=\"#000000\" stroke=\"#000000\" points=\"1705.9513,-614.5243 1715.8757,-610.8155 1705.8045,-607.5259 1705.9513,-614.5243\"/>\n</g>\n<!-- 44 -->\n<g id=\"node45\" class=\"node\">\n<title>44</title>\n<path fill=\"#56abe9\" stroke=\"#000000\" d=\"M1877,-557C1877,-557 1728,-557 1728,-557 1722,-557 1716,-551 1716,-545 1716,-545 1716,-501 1716,-501 1716,-495 1722,-489 1728,-489 1728,-489 1877,-489 1877,-489 1883,-489 1889,-495 1889,-501 1889,-501 1889,-545 1889,-545 1889,-551 1883,-557 1877,-557\"/>\n<text text-anchor=\"middle\" x=\"1802.5\" y=\"-541.8\" font-family=\"Helvetica,sans-Serif\" font-size=\"14.00\" fill=\"#000000\">gini = 0.2216</text>\n<text text-anchor=\"middle\" x=\"1802.5\" y=\"-526.8\" font-family=\"Helvetica,sans-Serif\" font-size=\"14.00\" fill=\"#000000\">samples = 6.8%</text>\n<text text-anchor=\"middle\" x=\"1802.5\" y=\"-511.8\" font-family=\"Helvetica,sans-Serif\" font-size=\"14.00\" fill=\"#000000\">value = [0.1269, 0.8731]</text>\n<text text-anchor=\"middle\" x=\"1802.5\" y=\"-496.8\" font-family=\"Helvetica,sans-Serif\" font-size=\"14.00\" fill=\"#000000\">class = Malware</text>\n</g>\n<!-- 43&#45;&gt;44 -->\n<g id=\"edge44\" class=\"edge\">\n<title>43&#45;&gt;44</title>\n<path fill=\"none\" stroke=\"#000000\" d=\"M1589.0817,-517.8882C1627.4258,-518.8066 1669.3165,-519.81 1705.7514,-520.6827\"/>\n<polygon fill=\"#000000\" stroke=\"#000000\" points=\"1705.7947,-524.1846 1715.8757,-520.9252 1705.9624,-517.1866 1705.7947,-524.1846\"/>\n</g>\n<!-- 45 -->\n<g id=\"node46\" class=\"node\">\n<title>45</title>\n<path fill=\"#aed7f4\" stroke=\"#000000\" d=\"M1877,-471C1877,-471 1728,-471 1728,-471 1722,-471 1716,-465 1716,-459 1716,-459 1716,-415 1716,-415 1716,-409 1722,-403 1728,-403 1728,-403 1877,-403 1877,-403 1883,-403 1889,-409 1889,-415 1889,-415 1889,-459 1889,-459 1889,-465 1883,-471 1877,-471\"/>\n<text text-anchor=\"middle\" x=\"1802.5\" y=\"-455.8\" font-family=\"Helvetica,sans-Serif\" font-size=\"14.00\" fill=\"#000000\">gini = 0.4673</text>\n<text text-anchor=\"middle\" x=\"1802.5\" y=\"-440.8\" font-family=\"Helvetica,sans-Serif\" font-size=\"14.00\" fill=\"#000000\">samples = 0.1%</text>\n<text text-anchor=\"middle\" x=\"1802.5\" y=\"-425.8\" font-family=\"Helvetica,sans-Serif\" font-size=\"14.00\" fill=\"#000000\">value = [0.3721, 0.6279]</text>\n<text text-anchor=\"middle\" x=\"1802.5\" y=\"-410.8\" font-family=\"Helvetica,sans-Serif\" font-size=\"14.00\" fill=\"#000000\">class = Malware</text>\n</g>\n<!-- 43&#45;&gt;45 -->\n<g id=\"edge45\" class=\"edge\">\n<title>43&#45;&gt;45</title>\n<path fill=\"none\" stroke=\"#000000\" d=\"M1589.0817,-486.8402C1627.4258,-477.8856 1669.3165,-468.1027 1705.7514,-459.594\"/>\n<polygon fill=\"#000000\" stroke=\"#000000\" points=\"1706.9337,-462.9121 1715.8757,-457.2296 1705.3417,-456.0955 1706.9337,-462.9121\"/>\n</g>\n<!-- 47 -->\n<g id=\"node48\" class=\"node\">\n<title>47</title>\n<path fill=\"#84c2ef\" stroke=\"#000000\" d=\"M1118,-352.5C1118,-352.5 901,-352.5 901,-352.5 895,-352.5 889,-346.5 889,-340.5 889,-340.5 889,-281.5 889,-281.5 889,-275.5 895,-269.5 901,-269.5 901,-269.5 1118,-269.5 1118,-269.5 1124,-269.5 1130,-275.5 1130,-281.5 1130,-281.5 1130,-340.5 1130,-340.5 1130,-346.5 1124,-352.5 1118,-352.5\"/>\n<text text-anchor=\"middle\" x=\"1009.5\" y=\"-337.3\" font-family=\"Helvetica,sans-Serif\" font-size=\"14.00\" fill=\"#000000\">EngineVersion_1.1.14600.4 &lt;= 0.5</text>\n<text text-anchor=\"middle\" x=\"1009.5\" y=\"-322.3\" font-family=\"Helvetica,sans-Serif\" font-size=\"14.00\" fill=\"#000000\">gini = 0.3993</text>\n<text text-anchor=\"middle\" x=\"1009.5\" y=\"-307.3\" font-family=\"Helvetica,sans-Serif\" font-size=\"14.00\" fill=\"#000000\">samples = 2.9%</text>\n<text text-anchor=\"middle\" x=\"1009.5\" y=\"-292.3\" font-family=\"Helvetica,sans-Serif\" font-size=\"14.00\" fill=\"#000000\">value = [0.2756, 0.7244]</text>\n<text text-anchor=\"middle\" x=\"1009.5\" y=\"-277.3\" font-family=\"Helvetica,sans-Serif\" font-size=\"14.00\" fill=\"#000000\">class = Malware</text>\n</g>\n<!-- 46&#45;&gt;47 -->\n<g id=\"edge47\" class=\"edge\">\n<title>46&#45;&gt;47</title>\n<path fill=\"none\" stroke=\"#000000\" d=\"M734.677,-311C779.1281,-311 831.5576,-311 878.6414,-311\"/>\n<polygon fill=\"#000000\" stroke=\"#000000\" points=\"878.9142,-314.5001 888.9142,-311 878.9141,-307.5001 878.9142,-314.5001\"/>\n</g>\n<!-- 52 -->\n<g id=\"node53\" class=\"node\">\n<title>52</title>\n<path fill=\"#d2e9f9\" stroke=\"#000000\" d=\"M1084,-212.5C1084,-212.5 935,-212.5 935,-212.5 929,-212.5 923,-206.5 923,-200.5 923,-200.5 923,-141.5 923,-141.5 923,-135.5 929,-129.5 935,-129.5 935,-129.5 1084,-129.5 1084,-129.5 1090,-129.5 1096,-135.5 1096,-141.5 1096,-141.5 1096,-200.5 1096,-200.5 1096,-206.5 1090,-212.5 1084,-212.5\"/>\n<text text-anchor=\"middle\" x=\"1009.5\" y=\"-197.3\" font-family=\"Helvetica,sans-Serif\" font-size=\"14.00\" fill=\"#000000\">RtpStateBitfield &lt;= &#45;1.0</text>\n<text text-anchor=\"middle\" x=\"1009.5\" y=\"-182.3\" font-family=\"Helvetica,sans-Serif\" font-size=\"14.00\" fill=\"#000000\">gini = 0.4918</text>\n<text text-anchor=\"middle\" x=\"1009.5\" y=\"-167.3\" font-family=\"Helvetica,sans-Serif\" font-size=\"14.00\" fill=\"#000000\">samples = 0.3%</text>\n<text text-anchor=\"middle\" x=\"1009.5\" y=\"-152.3\" font-family=\"Helvetica,sans-Serif\" font-size=\"14.00\" fill=\"#000000\">value = [0.4359, 0.5641]</text>\n<text text-anchor=\"middle\" x=\"1009.5\" y=\"-137.3\" font-family=\"Helvetica,sans-Serif\" font-size=\"14.00\" fill=\"#000000\">class = Malware</text>\n</g>\n<!-- 46&#45;&gt;52 -->\n<g id=\"edge52\" class=\"edge\">\n<title>46&#45;&gt;52</title>\n<path fill=\"none\" stroke=\"#000000\" d=\"M734.677,-272.6518C790.4236,-252.0322 858.7186,-226.7712 913.2808,-206.5897\"/>\n<polygon fill=\"#000000\" stroke=\"#000000\" points=\"914.7898,-209.7633 922.9546,-203.0115 912.3614,-203.198 914.7898,-209.7633\"/>\n</g>\n<!-- 48 -->\n<g id=\"node49\" class=\"node\">\n<title>48</title>\n<path fill=\"#82c1ef\" stroke=\"#000000\" d=\"M1577,-392.5C1577,-392.5 1360,-392.5 1360,-392.5 1354,-392.5 1348,-386.5 1348,-380.5 1348,-380.5 1348,-321.5 1348,-321.5 1348,-315.5 1354,-309.5 1360,-309.5 1360,-309.5 1577,-309.5 1577,-309.5 1583,-309.5 1589,-315.5 1589,-321.5 1589,-321.5 1589,-380.5 1589,-380.5 1589,-386.5 1583,-392.5 1577,-392.5\"/>\n<text text-anchor=\"middle\" x=\"1468.5\" y=\"-377.3\" font-family=\"Helvetica,sans-Serif\" font-size=\"14.00\" fill=\"#000000\">EngineVersion_1.1.14901.4 &lt;= 0.5</text>\n<text text-anchor=\"middle\" x=\"1468.5\" y=\"-362.3\" font-family=\"Helvetica,sans-Serif\" font-size=\"14.00\" fill=\"#000000\">gini = 0.3931</text>\n<text text-anchor=\"middle\" x=\"1468.5\" y=\"-347.3\" font-family=\"Helvetica,sans-Serif\" font-size=\"14.00\" fill=\"#000000\">samples = 2.9%</text>\n<text text-anchor=\"middle\" x=\"1468.5\" y=\"-332.3\" font-family=\"Helvetica,sans-Serif\" font-size=\"14.00\" fill=\"#000000\">value = [0.2689, 0.7311]</text>\n<text text-anchor=\"middle\" x=\"1468.5\" y=\"-317.3\" font-family=\"Helvetica,sans-Serif\" font-size=\"14.00\" fill=\"#000000\">class = Malware</text>\n</g>\n<!-- 47&#45;&gt;48 -->\n<g id=\"edge48\" class=\"edge\">\n<title>47&#45;&gt;48</title>\n<path fill=\"none\" stroke=\"#000000\" d=\"M1130.0968,-321.5095C1193.8844,-327.0684 1272.2838,-333.9005 1337.554,-339.5886\"/>\n<polygon fill=\"#000000\" stroke=\"#000000\" points=\"1337.6464,-343.1098 1347.9125,-340.4913 1338.2542,-336.1362 1337.6464,-343.1098\"/>\n</g>\n<!-- 51 -->\n<g id=\"node52\" class=\"node\">\n<title>51</title>\n<path fill=\"#fdf6f0\" stroke=\"#000000\" d=\"M1543,-291C1543,-291 1394,-291 1394,-291 1388,-291 1382,-285 1382,-279 1382,-279 1382,-235 1382,-235 1382,-229 1388,-223 1394,-223 1394,-223 1543,-223 1543,-223 1549,-223 1555,-229 1555,-235 1555,-235 1555,-279 1555,-279 1555,-285 1549,-291 1543,-291\"/>\n<text text-anchor=\"middle\" x=\"1468.5\" y=\"-275.8\" font-family=\"Helvetica,sans-Serif\" font-size=\"14.00\" fill=\"#000000\">gini = 0.4993</text>\n<text text-anchor=\"middle\" x=\"1468.5\" y=\"-260.8\" font-family=\"Helvetica,sans-Serif\" font-size=\"14.00\" fill=\"#000000\">samples = 0.1%</text>\n<text text-anchor=\"middle\" x=\"1468.5\" y=\"-245.8\" font-family=\"Helvetica,sans-Serif\" font-size=\"14.00\" fill=\"#000000\">value = [0.5192, 0.4808]</text>\n<text text-anchor=\"middle\" x=\"1468.5\" y=\"-230.8\" font-family=\"Helvetica,sans-Serif\" font-size=\"14.00\" fill=\"#000000\">class = No Malware</text>\n</g>\n<!-- 47&#45;&gt;51 -->\n<g id=\"edge51\" class=\"edge\">\n<title>47&#45;&gt;51</title>\n<path fill=\"none\" stroke=\"#000000\" d=\"M1130.0968,-296.8121C1205.4126,-287.9515 1301.099,-276.6942 1371.4923,-268.4127\"/>\n<polygon fill=\"#000000\" stroke=\"#000000\" points=\"1372.1668,-271.8576 1381.6893,-267.213 1371.3488,-264.9055 1372.1668,-271.8576\"/>\n</g>\n<!-- 49 -->\n<g id=\"node50\" class=\"node\">\n<title>49</title>\n<path fill=\"#7fc0ee\" stroke=\"#000000\" d=\"M1877,-385C1877,-385 1728,-385 1728,-385 1722,-385 1716,-379 1716,-373 1716,-373 1716,-329 1716,-329 1716,-323 1722,-317 1728,-317 1728,-317 1877,-317 1877,-317 1883,-317 1889,-323 1889,-329 1889,-329 1889,-373 1889,-373 1889,-379 1883,-385 1877,-385\"/>\n<text text-anchor=\"middle\" x=\"1802.5\" y=\"-369.8\" font-family=\"Helvetica,sans-Serif\" font-size=\"14.00\" fill=\"#000000\">gini = 0.3863</text>\n<text text-anchor=\"middle\" x=\"1802.5\" y=\"-354.8\" font-family=\"Helvetica,sans-Serif\" font-size=\"14.00\" fill=\"#000000\">samples = 2.8%</text>\n<text text-anchor=\"middle\" x=\"1802.5\" y=\"-339.8\" font-family=\"Helvetica,sans-Serif\" font-size=\"14.00\" fill=\"#000000\">value = [0.2616, 0.7384]</text>\n<text text-anchor=\"middle\" x=\"1802.5\" y=\"-324.8\" font-family=\"Helvetica,sans-Serif\" font-size=\"14.00\" fill=\"#000000\">class = Malware</text>\n</g>\n<!-- 48&#45;&gt;49 -->\n<g id=\"edge49\" class=\"edge\">\n<title>48&#45;&gt;49</title>\n<path fill=\"none\" stroke=\"#000000\" d=\"M1589.0817,-351C1627.4258,-351 1669.3165,-351 1705.7514,-351\"/>\n<polygon fill=\"#000000\" stroke=\"#000000\" points=\"1705.8757,-354.5001 1715.8757,-351 1705.8757,-347.5001 1705.8757,-354.5001\"/>\n</g>\n<!-- 50 -->\n<g id=\"node51\" class=\"node\">\n<title>50</title>\n<path fill=\"#fffdfc\" stroke=\"#000000\" d=\"M1877,-299C1877,-299 1728,-299 1728,-299 1722,-299 1716,-293 1716,-287 1716,-287 1716,-243 1716,-243 1716,-237 1722,-231 1728,-231 1728,-231 1877,-231 1877,-231 1883,-231 1889,-237 1889,-243 1889,-243 1889,-287 1889,-287 1889,-293 1883,-299 1877,-299\"/>\n<text text-anchor=\"middle\" x=\"1802.5\" y=\"-283.8\" font-family=\"Helvetica,sans-Serif\" font-size=\"14.00\" fill=\"#000000\">gini = 0.5</text>\n<text text-anchor=\"middle\" x=\"1802.5\" y=\"-268.8\" font-family=\"Helvetica,sans-Serif\" font-size=\"14.00\" fill=\"#000000\">samples = 0.1%</text>\n<text text-anchor=\"middle\" x=\"1802.5\" y=\"-253.8\" font-family=\"Helvetica,sans-Serif\" font-size=\"14.00\" fill=\"#000000\">value = [0.5041, 0.4959]</text>\n<text text-anchor=\"middle\" x=\"1802.5\" y=\"-238.8\" font-family=\"Helvetica,sans-Serif\" font-size=\"14.00\" fill=\"#000000\">class = No Malware</text>\n</g>\n<!-- 48&#45;&gt;50 -->\n<g id=\"edge50\" class=\"edge\">\n<title>48&#45;&gt;50</title>\n<path fill=\"none\" stroke=\"#000000\" d=\"M1589.2336,-322.8057C1618.9692,-315.6088 1650.6877,-307.718 1680,-300 1688.4697,-297.7699 1697.2501,-295.3923 1706.0424,-292.9662\"/>\n<polygon fill=\"#000000\" stroke=\"#000000\" points=\"1707.26,-296.2606 1715.9584,-290.2118 1705.3864,-289.516 1707.26,-296.2606\"/>\n</g>\n<!-- 53 -->\n<g id=\"node54\" class=\"node\">\n<title>53</title>\n<path fill=\"#eb9e67\" stroke=\"#000000\" d=\"M1543,-205C1543,-205 1394,-205 1394,-205 1388,-205 1382,-199 1382,-193 1382,-193 1382,-149 1382,-149 1382,-143 1388,-137 1394,-137 1394,-137 1543,-137 1543,-137 1549,-137 1555,-143 1555,-149 1555,-149 1555,-193 1555,-193 1555,-199 1549,-205 1543,-205\"/>\n<text text-anchor=\"middle\" x=\"1468.5\" y=\"-189.8\" font-family=\"Helvetica,sans-Serif\" font-size=\"14.00\" fill=\"#000000\">gini = 0.3047</text>\n<text text-anchor=\"middle\" x=\"1468.5\" y=\"-174.8\" font-family=\"Helvetica,sans-Serif\" font-size=\"14.00\" fill=\"#000000\">samples = 0.0%</text>\n<text text-anchor=\"middle\" x=\"1468.5\" y=\"-159.8\" font-family=\"Helvetica,sans-Serif\" font-size=\"14.00\" fill=\"#000000\">value = [0.8125, 0.1875]</text>\n<text text-anchor=\"middle\" x=\"1468.5\" y=\"-144.8\" font-family=\"Helvetica,sans-Serif\" font-size=\"14.00\" fill=\"#000000\">class = No Malware</text>\n</g>\n<!-- 52&#45;&gt;53 -->\n<g id=\"edge53\" class=\"edge\">\n<title>52&#45;&gt;53</title>\n<path fill=\"none\" stroke=\"#000000\" d=\"M1096.1041,-171C1174.5831,-171 1290.0879,-171 1371.6095,-171\"/>\n<polygon fill=\"#000000\" stroke=\"#000000\" points=\"1371.8775,-174.5001 1381.8775,-171 1371.8775,-167.5001 1371.8775,-174.5001\"/>\n</g>\n<!-- 54 -->\n<g id=\"node55\" class=\"node\">\n<title>54</title>\n<path fill=\"#cce6f8\" stroke=\"#000000\" d=\"M1543,-118.5C1543,-118.5 1394,-118.5 1394,-118.5 1388,-118.5 1382,-112.5 1382,-106.5 1382,-106.5 1382,-47.5 1382,-47.5 1382,-41.5 1388,-35.5 1394,-35.5 1394,-35.5 1543,-35.5 1543,-35.5 1549,-35.5 1555,-41.5 1555,-47.5 1555,-47.5 1555,-106.5 1555,-106.5 1555,-112.5 1549,-118.5 1543,-118.5\"/>\n<text text-anchor=\"middle\" x=\"1468.5\" y=\"-103.3\" font-family=\"Helvetica,sans-Serif\" font-size=\"14.00\" fill=\"#000000\">IeVerIdentifier &lt;= 109.5</text>\n<text text-anchor=\"middle\" x=\"1468.5\" y=\"-88.3\" font-family=\"Helvetica,sans-Serif\" font-size=\"14.00\" fill=\"#000000\">gini = 0.4889</text>\n<text text-anchor=\"middle\" x=\"1468.5\" y=\"-73.3\" font-family=\"Helvetica,sans-Serif\" font-size=\"14.00\" fill=\"#000000\">samples = 0.3%</text>\n<text text-anchor=\"middle\" x=\"1468.5\" y=\"-58.3\" font-family=\"Helvetica,sans-Serif\" font-size=\"14.00\" fill=\"#000000\">value = [0.4257, 0.5743]</text>\n<text text-anchor=\"middle\" x=\"1468.5\" y=\"-43.3\" font-family=\"Helvetica,sans-Serif\" font-size=\"14.00\" fill=\"#000000\">class = Malware</text>\n</g>\n<!-- 52&#45;&gt;54 -->\n<g id=\"edge54\" class=\"edge\">\n<title>52&#45;&gt;54</title>\n<path fill=\"none\" stroke=\"#000000\" d=\"M1096.1041,-153.2641C1174.5831,-137.1921 1290.0879,-113.5376 1371.6095,-96.8425\"/>\n<polygon fill=\"#000000\" stroke=\"#000000\" points=\"1372.7831,-100.1749 1381.8775,-94.7397 1371.3786,-93.3172 1372.7831,-100.1749\"/>\n</g>\n<!-- 55 -->\n<g id=\"node56\" class=\"node\">\n<title>55</title>\n<path fill=\"#b0d8f5\" stroke=\"#000000\" d=\"M1877,-154C1877,-154 1728,-154 1728,-154 1722,-154 1716,-148 1716,-142 1716,-142 1716,-98 1716,-98 1716,-92 1722,-86 1728,-86 1728,-86 1877,-86 1877,-86 1883,-86 1889,-92 1889,-98 1889,-98 1889,-142 1889,-142 1889,-148 1883,-154 1877,-154\"/>\n<text text-anchor=\"middle\" x=\"1802.5\" y=\"-138.8\" font-family=\"Helvetica,sans-Serif\" font-size=\"14.00\" fill=\"#000000\">gini = 0.4689</text>\n<text text-anchor=\"middle\" x=\"1802.5\" y=\"-123.8\" font-family=\"Helvetica,sans-Serif\" font-size=\"14.00\" fill=\"#000000\">samples = 0.2%</text>\n<text text-anchor=\"middle\" x=\"1802.5\" y=\"-108.8\" font-family=\"Helvetica,sans-Serif\" font-size=\"14.00\" fill=\"#000000\">value = [0.3754, 0.6246]</text>\n<text text-anchor=\"middle\" x=\"1802.5\" y=\"-93.8\" font-family=\"Helvetica,sans-Serif\" font-size=\"14.00\" fill=\"#000000\">class = Malware</text>\n</g>\n<!-- 54&#45;&gt;55 -->\n<g id=\"edge55\" class=\"edge\">\n<title>54&#45;&gt;55</title>\n<path fill=\"none\" stroke=\"#000000\" d=\"M1555.3827,-88.1855C1601.4879,-94.1212 1658.2702,-101.4315 1705.7739,-107.5472\"/>\n<polygon fill=\"#000000\" stroke=\"#000000\" points=\"1705.3976,-111.0276 1715.7627,-108.8332 1706.2915,-104.0849 1705.3976,-111.0276\"/>\n</g>\n<!-- 56 -->\n<g id=\"node57\" class=\"node\">\n<title>56</title>\n<path fill=\"#fbfdfe\" stroke=\"#000000\" d=\"M1877,-68C1877,-68 1728,-68 1728,-68 1722,-68 1716,-62 1716,-56 1716,-56 1716,-12 1716,-12 1716,-6 1722,0 1728,0 1728,0 1877,0 1877,0 1883,0 1889,-6 1889,-12 1889,-12 1889,-56 1889,-56 1889,-62 1883,-68 1877,-68\"/>\n<text text-anchor=\"middle\" x=\"1802.5\" y=\"-52.8\" font-family=\"Helvetica,sans-Serif\" font-size=\"14.00\" fill=\"#000000\">gini = 0.4999</text>\n<text text-anchor=\"middle\" x=\"1802.5\" y=\"-37.8\" font-family=\"Helvetica,sans-Serif\" font-size=\"14.00\" fill=\"#000000\">samples = 0.1%</text>\n<text text-anchor=\"middle\" x=\"1802.5\" y=\"-22.8\" font-family=\"Helvetica,sans-Serif\" font-size=\"14.00\" fill=\"#000000\">value = [0.4949, 0.5051]</text>\n<text text-anchor=\"middle\" x=\"1802.5\" y=\"-7.8\" font-family=\"Helvetica,sans-Serif\" font-size=\"14.00\" fill=\"#000000\">class = Malware</text>\n</g>\n<!-- 54&#45;&gt;56 -->\n<g id=\"edge56\" class=\"edge\">\n<title>54&#45;&gt;56</title>\n<path fill=\"none\" stroke=\"#000000\" d=\"M1555.3827,-65.8145C1601.4879,-59.8788 1658.2702,-52.5685 1705.7739,-46.4528\"/>\n<polygon fill=\"#000000\" stroke=\"#000000\" points=\"1706.2915,-49.9151 1715.7627,-45.1668 1705.3976,-42.9724 1706.2915,-49.9151\"/>\n</g>\n</g>\n</svg>\n"
          },
          "metadata": {},
          "execution_count": 715
        }
      ]
    },
    {
      "cell_type": "markdown",
      "source": [
        "De la lectura del árbol se ve que las variables SmartScreen_ExistsNotSet, AVProductsInstalled, EngineVersion y Census_TotalPhysicalRAM son importantes para reducir la entropia y a la vez crear divisiones con cantidades de observaciones lo mayores posible."
      ],
      "metadata": {
        "id": "P3e5UOzWlzzd"
      }
    },
    {
      "cell_type": "code",
      "source": [],
      "metadata": {
        "id": "bJz5QjKjpVxU"
      },
      "execution_count": null,
      "outputs": []
    },
    {
      "cell_type": "code",
      "source": [],
      "metadata": {
        "id": "RF70jb7EplSN"
      },
      "execution_count": null,
      "outputs": []
    },
    {
      "cell_type": "markdown",
      "source": [
        "### Model Evaluation"
      ],
      "metadata": {
        "id": "Y95-TKAEpmAc"
      }
    },
    {
      "cell_type": "markdown",
      "source": [
        "#### Usamos el propio modelo para tener una primera idea del resultado del modelo.\n",
        "- Calculamos la accuracy con un threshold a 0.5"
      ],
      "metadata": {
        "id": "3_e9VIJMqd1j"
      }
    },
    {
      "cell_type": "code",
      "source": [
        "dt.score(X_test, y_test)"
      ],
      "metadata": {
        "colab": {
          "base_uri": "https://localhost:8080/"
        },
        "id": "Da8t9czsqZKo",
        "outputId": "cd8aac82-b31f-4446-bac4-689bc9193151"
      },
      "execution_count": null,
      "outputs": [
        {
          "output_type": "execute_result",
          "data": {
            "text/plain": [
              "0.6123157894736843"
            ]
          },
          "metadata": {},
          "execution_count": 716
        }
      ]
    },
    {
      "cell_type": "markdown",
      "source": [
        "### Optimización de modelos"
      ],
      "metadata": {
        "id": "dEqk-JOFsGzp"
      }
    },
    {
      "cell_type": "markdown",
      "source": [
        "Nos centraremos en estudiar sólo la opción de un Decision Tree, dejando para un futuro la mejora de resultados mediante otros modelos más complejos y que dan mejores resultados como son los modelos de ensamble, entre ellos el SGBoost, que es el más usado actualmente.\n",
        "\n",
        "Para optimizar nuestro decision tree, probaremos distinos valores para la profundidad del árbol para luego probar diferentes niveles de poda."
      ],
      "metadata": {
        "id": "KZ5Cxes6CnSc"
      }
    },
    {
      "cell_type": "markdown",
      "source": [
        "#### Profundidad del arbol (número de preguntas)"
      ],
      "metadata": {
        "id": "GG0fDxWWC5Bf"
      }
    },
    {
      "cell_type": "markdown",
      "source": [
        "Probaremos profundidades desde el 1 hasta el 20, testeando con la partición del train y también con la del test, para ver en qué momento los resultados del test empiezan a empeorar.\n",
        "\n",
        "Dejamos los parámetros de poda que hay por defecto, que es sin ninguna poda."
      ],
      "metadata": {
        "id": "_ToFcW_EDOS_"
      }
    },
    {
      "cell_type": "code",
      "source": [
        "# probamos diferentes profundidades, desde 1 hasta 20\n",
        "\n",
        "for i in range(1, 20):\n",
        "    dt = DecisionTreeClassifier(max_depth=i, random_state=42)\n",
        "    dt.fit(X_train, y_train)\n",
        "    train_accuracy = dt.score(X_train, y_train)\n",
        "    test_accuracy = dt.score(X_test, y_test)\n",
        "    print('Profundidad del árbol: {}. Train: {} - Test: {}'.format(i, train_accuracy, test_accuracy))"
      ],
      "metadata": {
        "colab": {
          "base_uri": "https://localhost:8080/"
        },
        "id": "ye0C9EW6DHC-",
        "outputId": "72b79442-694f-4033-d840-b84eff4afc2b"
      },
      "execution_count": null,
      "outputs": [
        {
          "output_type": "stream",
          "name": "stdout",
          "text": [
            "Profundidad del árbol: 1. Train: 0.5727929824561403 - Test: 0.5702526315789473\n",
            "Profundidad del árbol: 2. Train: 0.5787391812865497 - Test: 0.5797894736842105\n",
            "Profundidad del árbol: 3. Train: 0.6025169590643275 - Test: 0.6026947368421053\n",
            "Profundidad del árbol: 4. Train: 0.6026526315789473 - Test: 0.6027368421052631\n",
            "Profundidad del árbol: 5. Train: 0.612727485380117 - Test: 0.6123578947368421\n",
            "Profundidad del árbol: 6. Train: 0.6153122807017544 - Test: 0.6153473684210526\n",
            "Profundidad del árbol: 7. Train: 0.6161286549707602 - Test: 0.6149894736842105\n",
            "Profundidad del árbol: 8. Train: 0.6180865497076024 - Test: 0.615621052631579\n",
            "Profundidad del árbol: 9. Train: 0.6203345029239766 - Test: 0.6161684210526316\n",
            "Profundidad del árbol: 10. Train: 0.6248304093567252 - Test: 0.6196631578947368\n",
            "Profundidad del árbol: 11. Train: 0.62846783625731 - Test: 0.6186947368421053\n",
            "Profundidad del árbol: 12. Train: 0.6339953216374269 - Test: 0.6204421052631579\n",
            "Profundidad del árbol: 13. Train: 0.6394830409356725 - Test: 0.6182947368421052\n",
            "Profundidad del árbol: 14. Train: 0.6463204678362573 - Test: 0.6173894736842105\n",
            "Profundidad del árbol: 15. Train: 0.6546105263157894 - Test: 0.6161894736842105\n",
            "Profundidad del árbol: 16. Train: 0.6640257309941521 - Test: 0.6142105263157894\n",
            "Profundidad del árbol: 17. Train: 0.6750573099415205 - Test: 0.6118526315789473\n",
            "Profundidad del árbol: 18. Train: 0.6862619883040936 - Test: 0.608757894736842\n",
            "Profundidad del árbol: 19. Train: 0.6990105263157895 - Test: 0.6028421052631578\n"
          ]
        }
      ]
    },
    {
      "cell_type": "markdown",
      "source": [
        "El algoritmos empieza a hacer overfiting a una profundidad de 13 (empieza a decrecer la accuracy. Pero es buena estrategia usar una profundidad que no sea exactamente la que da mejor resultado, sino que nos podemos quedar con una profundidad menor.\n",
        "\n",
        "**Profundidad elegida**: 10"
      ],
      "metadata": {
        "id": "o6EdmIdZEvUR"
      }
    },
    {
      "cell_type": "markdown",
      "source": [
        "#### Poda"
      ],
      "metadata": {
        "id": "wgfa5ZPSFlhk"
      }
    },
    {
      "cell_type": "code",
      "source": [
        "dt = DecisionTreeClassifier(max_depth=8, random_state=42, min_samples_split=500)\n",
        "dt.fit(X_train, y_train)"
      ],
      "metadata": {
        "colab": {
          "base_uri": "https://localhost:8080/"
        },
        "id": "SEpolAgRFuqN",
        "outputId": "4d0cb1c4-eb80-44fa-f34f-18045a65b9d4"
      },
      "execution_count": null,
      "outputs": [
        {
          "output_type": "execute_result",
          "data": {
            "text/plain": [
              "DecisionTreeClassifier(max_depth=8, min_samples_split=500, random_state=42)"
            ]
          },
          "metadata": {},
          "execution_count": 596
        }
      ]
    },
    {
      "cell_type": "code",
      "source": [
        "dt.score(X_train, y_train)"
      ],
      "metadata": {
        "colab": {
          "base_uri": "https://localhost:8080/"
        },
        "id": "KLMjEMVUEtUf",
        "outputId": "9ec19bb3-e239-4e79-c580-0ec470cf1b69"
      },
      "execution_count": null,
      "outputs": [
        {
          "output_type": "execute_result",
          "data": {
            "text/plain": [
              "0.6005286549707602"
            ]
          },
          "metadata": {},
          "execution_count": 597
        }
      ]
    },
    {
      "cell_type": "code",
      "source": [
        "dt.score(X_test, y_test)"
      ],
      "metadata": {
        "colab": {
          "base_uri": "https://localhost:8080/"
        },
        "id": "__ryCeflGd10",
        "outputId": "62f0df66-d258-46bd-ad1e-ece32f31cfd7"
      },
      "execution_count": null,
      "outputs": [
        {
          "output_type": "execute_result",
          "data": {
            "text/plain": [
              "0.5997894736842105"
            ]
          },
          "metadata": {},
          "execution_count": 598
        }
      ]
    },
    {
      "cell_type": "markdown",
      "source": [
        "Ha dado prácticamente el mismo resultado.\n",
        "\n",
        "Modelo escogido:\n",
        "- Profundidad = 8\n",
        "- Número mínimo de observaciones en cada nodo = 500"
      ],
      "metadata": {
        "id": "ljNKcRE0Ghgt"
      }
    },
    {
      "cell_type": "markdown",
      "source": [
        "### Evaluación del modelo"
      ],
      "metadata": {
        "id": "sIUCZ5-AGo6T"
      }
    },
    {
      "cell_type": "code",
      "source": [
        "dt = DecisionTreeClassifier(max_depth=8, random_state=42, min_samples_split=500)\n",
        "dt.fit(X_train, y_train)"
      ],
      "metadata": {
        "colab": {
          "base_uri": "https://localhost:8080/"
        },
        "id": "sapdW5YNHYnM",
        "outputId": "eaca2641-fcc8-4541-85be-4d586dbeeb5e"
      },
      "execution_count": null,
      "outputs": [
        {
          "output_type": "execute_result",
          "data": {
            "text/plain": [
              "DecisionTreeClassifier(max_depth=8, min_samples_split=500, random_state=42)"
            ]
          },
          "metadata": {},
          "execution_count": 600
        }
      ]
    },
    {
      "cell_type": "code",
      "source": [
        "dt.score(val_df_X, val_df_y)"
      ],
      "metadata": {
        "colab": {
          "base_uri": "https://localhost:8080/"
        },
        "id": "2nvDRWVRGxuc",
        "outputId": "d8bc8efd-78c9-41ba-9e98-b4fb7f83d69b"
      },
      "execution_count": null,
      "outputs": [
        {
          "output_type": "execute_result",
          "data": {
            "text/plain": [
              "0.6062"
            ]
          },
          "metadata": {},
          "execution_count": 601
        }
      ]
    },
    {
      "cell_type": "markdown",
      "source": [
        "El **accuracy** de nuestro modelo en el test de validación es de un **60%**."
      ],
      "metadata": {
        "id": "dNwhlvnnHdpV"
      }
    },
    {
      "cell_type": "markdown",
      "source": [
        "Conclusión:\n",
        "\n",
        "- Nuestros modelo ha sido capaz de encontrar variables que ayudan a mejorar la precisión a la hora de predecir si una máquina está o no infectada. Mejora en  10% la que sería una decisión arbitraria, que en nuestro dataset de validación  daría un resultado de un 50% de precisión.\n",
        "\n",
        "- No es una gran resultado pero tenemos margen de mejora con los modelos de ensamble.\n",
        "\n",
        "\n"
      ],
      "metadata": {
        "id": "sW1LWE--HxEZ"
      }
    }
  ]
}